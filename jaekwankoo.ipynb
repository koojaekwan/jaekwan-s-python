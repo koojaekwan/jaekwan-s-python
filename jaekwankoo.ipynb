{
  "nbformat": 4,
  "nbformat_minor": 0,
  "metadata": {
    "colab": {
      "name": "jaekwankoo.ipynb",
      "provenance": [],
      "collapsed_sections": [],
      "toc_visible": true,
      "authorship_tag": "ABX9TyN8L9XcEuQ1N/Dk206oe5oj",
      "include_colab_link": true
    },
    "kernelspec": {
      "name": "python3",
      "display_name": "Python 3"
    }
  },
  "cells": [
    {
      "cell_type": "markdown",
      "metadata": {
        "id": "view-in-github",
        "colab_type": "text"
      },
      "source": [
        "<a href=\"https://colab.research.google.com/github/koojaekwan/python_practice/blob/master/jaekwankoo.ipynb\" target=\"_parent\"><img src=\"https://colab.research.google.com/assets/colab-badge.svg\" alt=\"Open In Colab\"/></a>"
      ]
    },
    {
      "cell_type": "markdown",
      "metadata": {
        "id": "mqkBN567OhzB",
        "colab_type": "text"
      },
      "source": [
        "## 1.1 준비단계 - 구글드라이브 연동"
      ]
    },
    {
      "cell_type": "code",
      "metadata": {
        "id": "I9zMJUNZDgD6",
        "colab_type": "code",
        "colab": {
          "base_uri": "https://localhost:8080/",
          "height": 35
        },
        "outputId": "23f7fc3e-6b96-428a-a967-a429ce5c485d"
      },
      "source": [
        "from google.colab import drive \n",
        "drive.mount('/content/gdrive/')"
      ],
      "execution_count": 1,
      "outputs": [
        {
          "output_type": "stream",
          "text": [
            "Drive already mounted at /content/gdrive/; to attempt to forcibly remount, call drive.mount(\"/content/gdrive/\", force_remount=True).\n"
          ],
          "name": "stdout"
        }
      ]
    },
    {
      "cell_type": "markdown",
      "metadata": {
        "id": "OrqSd9a5OxvM",
        "colab_type": "text"
      },
      "source": [
        "## 1.2 라이브러리 및 데이터 불러오기"
      ]
    },
    {
      "cell_type": "code",
      "metadata": {
        "id": "wdSC8m9dElRA",
        "colab_type": "code",
        "colab": {
          "base_uri": "https://localhost:8080/",
          "height": 53
        },
        "outputId": "68b30c34-6962-4baa-b461-c54afb3eeec8"
      },
      "source": [
        "import os\n",
        "import numpy as np\n",
        "import pandas as pd\n",
        "import datetime\n",
        "import matplotlib.pyplot as plt\n",
        "import seaborn as sns\n",
        "import gc"
      ],
      "execution_count": 2,
      "outputs": [
        {
          "output_type": "stream",
          "text": [
            "/usr/local/lib/python3.6/dist-packages/statsmodels/tools/_testing.py:19: FutureWarning: pandas.util.testing is deprecated. Use the functions in the public API at pandas.testing instead.\n",
            "  import pandas.util.testing as tm\n"
          ],
          "name": "stderr"
        }
      ]
    },
    {
      "cell_type": "code",
      "metadata": {
        "id": "NhYIsNiQElWI",
        "colab_type": "code",
        "colab": {
          "base_uri": "https://localhost:8080/",
          "height": 35
        },
        "outputId": "bb420d6d-7cbf-4ec0-af86-7b837b18fef6"
      },
      "source": [
        "print(os.getcwd()) # 현재 경로"
      ],
      "execution_count": null,
      "outputs": [
        {
          "output_type": "stream",
          "text": [
            "/content\n"
          ],
          "name": "stdout"
        }
      ]
    },
    {
      "cell_type": "code",
      "metadata": {
        "id": "9fi-k1llElUp",
        "colab_type": "code",
        "colab": {}
      },
      "source": [
        "data = pd.read_csv(\"/content/gdrive/My Drive/coding_test/group_call_HMS.csv\")"
      ],
      "execution_count": 3,
      "outputs": []
    },
    {
      "cell_type": "code",
      "metadata": {
        "id": "ShV92J8kKHI-",
        "colab_type": "code",
        "colab": {
          "base_uri": "https://localhost:8080/",
          "height": 419
        },
        "outputId": "a9c8b9c6-49bb-4977-8150-07e2229f3ba9"
      },
      "source": [
        "data"
      ],
      "execution_count": null,
      "outputs": [
        {
          "output_type": "execute_result",
          "data": {
            "text/html": [
              "<div>\n",
              "<style scoped>\n",
              "    .dataframe tbody tr th:only-of-type {\n",
              "        vertical-align: middle;\n",
              "    }\n",
              "\n",
              "    .dataframe tbody tr th {\n",
              "        vertical-align: top;\n",
              "    }\n",
              "\n",
              "    .dataframe thead th {\n",
              "        text-align: right;\n",
              "    }\n",
              "</style>\n",
              "<table border=\"1\" class=\"dataframe\">\n",
              "  <thead>\n",
              "    <tr style=\"text-align: right;\">\n",
              "      <th></th>\n",
              "      <th>call_start_day</th>\n",
              "      <th>call_start_time</th>\n",
              "      <th>call_end_day</th>\n",
              "      <th>call_end_time</th>\n",
              "      <th>hashed</th>\n",
              "    </tr>\n",
              "  </thead>\n",
              "  <tbody>\n",
              "    <tr>\n",
              "      <th>0</th>\n",
              "      <td>1</td>\n",
              "      <td>09:14:58.558</td>\n",
              "      <td>1</td>\n",
              "      <td>09:41:30.200</td>\n",
              "      <td>967393e81d99ce8e577ee130b7ce8e4fd45e3e9cecb560...</td>\n",
              "    </tr>\n",
              "    <tr>\n",
              "      <th>1</th>\n",
              "      <td>17</td>\n",
              "      <td>11:05:05.176</td>\n",
              "      <td>17</td>\n",
              "      <td>13:07:42.515</td>\n",
              "      <td>02181a0c962f34f019bc9d5b582fb0ec79b1441f96aa4d...</td>\n",
              "    </tr>\n",
              "    <tr>\n",
              "      <th>2</th>\n",
              "      <td>20</td>\n",
              "      <td>02:18:43.172</td>\n",
              "      <td>20</td>\n",
              "      <td>02:28:58.177</td>\n",
              "      <td>86022904c5cf72a54978479c94041f4256d6c3c2a1f71c...</td>\n",
              "    </tr>\n",
              "    <tr>\n",
              "      <th>3</th>\n",
              "      <td>22</td>\n",
              "      <td>09:22:01.936</td>\n",
              "      <td>22</td>\n",
              "      <td>09:47:40.192</td>\n",
              "      <td>aafb40d212fe18ff4eafb82fdcf3b53f2161cb3ce59de4...</td>\n",
              "    </tr>\n",
              "    <tr>\n",
              "      <th>4</th>\n",
              "      <td>26</td>\n",
              "      <td>06:29:21.182</td>\n",
              "      <td>26</td>\n",
              "      <td>06:50:55.004</td>\n",
              "      <td>c87c2fad141edf323f3787335b54be22945a02fe052448...</td>\n",
              "    </tr>\n",
              "    <tr>\n",
              "      <th>...</th>\n",
              "      <td>...</td>\n",
              "      <td>...</td>\n",
              "      <td>...</td>\n",
              "      <td>...</td>\n",
              "      <td>...</td>\n",
              "    </tr>\n",
              "    <tr>\n",
              "      <th>6962336</th>\n",
              "      <td>55</td>\n",
              "      <td>08:09:30.086</td>\n",
              "      <td>55</td>\n",
              "      <td>08:29:51.324</td>\n",
              "      <td>a4b6aea6cb58e43911e7cb7d6c0497197db7c4ed16e1c9...</td>\n",
              "    </tr>\n",
              "    <tr>\n",
              "      <th>6962337</th>\n",
              "      <td>35</td>\n",
              "      <td>11:25:25.719</td>\n",
              "      <td>35</td>\n",
              "      <td>11:47:41.557</td>\n",
              "      <td>4ec597c569b92bd0e1bae4e2a06e13b9657fb81795e194...</td>\n",
              "    </tr>\n",
              "    <tr>\n",
              "      <th>6962338</th>\n",
              "      <td>47</td>\n",
              "      <td>16:29:59.882</td>\n",
              "      <td>47</td>\n",
              "      <td>16:30:27.386</td>\n",
              "      <td>8092e194a750aae539862ed4405f67a6dd5b492e7e57e3...</td>\n",
              "    </tr>\n",
              "    <tr>\n",
              "      <th>6962339</th>\n",
              "      <td>48</td>\n",
              "      <td>23:43:52.265</td>\n",
              "      <td>48</td>\n",
              "      <td>23:47:50.285</td>\n",
              "      <td>7176c1516207692857535c30a4650b8e8e586af1fed0fd...</td>\n",
              "    </tr>\n",
              "    <tr>\n",
              "      <th>6962340</th>\n",
              "      <td>40</td>\n",
              "      <td>23:07:31.761</td>\n",
              "      <td>40</td>\n",
              "      <td>23:11:01.968</td>\n",
              "      <td>11fc85879e5ac9d5c83bfba10d73c4c84c154b9f4d9e1d...</td>\n",
              "    </tr>\n",
              "  </tbody>\n",
              "</table>\n",
              "<p>6962341 rows × 5 columns</p>\n",
              "</div>"
            ],
            "text/plain": [
              "         call_start_day  ...                                             hashed\n",
              "0                     1  ...  967393e81d99ce8e577ee130b7ce8e4fd45e3e9cecb560...\n",
              "1                    17  ...  02181a0c962f34f019bc9d5b582fb0ec79b1441f96aa4d...\n",
              "2                    20  ...  86022904c5cf72a54978479c94041f4256d6c3c2a1f71c...\n",
              "3                    22  ...  aafb40d212fe18ff4eafb82fdcf3b53f2161cb3ce59de4...\n",
              "4                    26  ...  c87c2fad141edf323f3787335b54be22945a02fe052448...\n",
              "...                 ...  ...                                                ...\n",
              "6962336              55  ...  a4b6aea6cb58e43911e7cb7d6c0497197db7c4ed16e1c9...\n",
              "6962337              35  ...  4ec597c569b92bd0e1bae4e2a06e13b9657fb81795e194...\n",
              "6962338              47  ...  8092e194a750aae539862ed4405f67a6dd5b492e7e57e3...\n",
              "6962339              48  ...  7176c1516207692857535c30a4650b8e8e586af1fed0fd...\n",
              "6962340              40  ...  11fc85879e5ac9d5c83bfba10d73c4c84c154b9f4d9e1d...\n",
              "\n",
              "[6962341 rows x 5 columns]"
            ]
          },
          "metadata": {
            "tags": []
          },
          "execution_count": 5
        }
      ]
    },
    {
      "cell_type": "markdown",
      "metadata": {
        "id": "45NhcHcGQCXn",
        "colab_type": "text"
      },
      "source": [
        "### 1.2.1 데이터 정보"
      ]
    },
    {
      "cell_type": "code",
      "metadata": {
        "id": "KwLahE8JOAgJ",
        "colab_type": "code",
        "colab": {
          "base_uri": "https://localhost:8080/",
          "height": 125
        },
        "outputId": "1d4e1957-6f30-4151-a337-e1a8a834355b"
      },
      "source": [
        "data.isnull().sum()"
      ],
      "execution_count": null,
      "outputs": [
        {
          "output_type": "execute_result",
          "data": {
            "text/plain": [
              "call_start_day     0\n",
              "call_start_time    0\n",
              "call_end_day       0\n",
              "call_end_time      0\n",
              "hashed             0\n",
              "dtype: int64"
            ]
          },
          "metadata": {
            "tags": []
          },
          "execution_count": 6
        }
      ]
    },
    {
      "cell_type": "markdown",
      "metadata": {
        "id": "m57H7TPK2UEr",
        "colab_type": "text"
      },
      "source": [
        "모든 컬럼에 결측값은 존재하지 않는다."
      ]
    },
    {
      "cell_type": "code",
      "metadata": {
        "id": "r6F8nz3AP1Xi",
        "colab_type": "code",
        "colab": {
          "base_uri": "https://localhost:8080/",
          "height": 35
        },
        "outputId": "b9da96a5-66a5-4996-fb7e-ba2683882cd2"
      },
      "source": [
        "data.duplicated().sum()"
      ],
      "execution_count": null,
      "outputs": [
        {
          "output_type": "execute_result",
          "data": {
            "text/plain": [
              "0"
            ]
          },
          "metadata": {
            "tags": []
          },
          "execution_count": 7
        }
      ]
    },
    {
      "cell_type": "code",
      "metadata": {
        "id": "DT_aIPEhTRkM",
        "colab_type": "code",
        "colab": {
          "base_uri": "https://localhost:8080/",
          "height": 233
        },
        "outputId": "624f8f96-845e-414e-9bed-7e15011d6c51"
      },
      "source": [
        "data.info()"
      ],
      "execution_count": null,
      "outputs": [
        {
          "output_type": "stream",
          "text": [
            "<class 'pandas.core.frame.DataFrame'>\n",
            "RangeIndex: 6962341 entries, 0 to 6962340\n",
            "Data columns (total 5 columns):\n",
            " #   Column           Dtype \n",
            "---  ------           ----- \n",
            " 0   call_start_day   int64 \n",
            " 1   call_start_time  object\n",
            " 2   call_end_day     int64 \n",
            " 3   call_end_time    object\n",
            " 4   hashed           object\n",
            "dtypes: int64(2), object(3)\n",
            "memory usage: 265.6+ MB\n"
          ],
          "name": "stdout"
        }
      ]
    },
    {
      "cell_type": "code",
      "metadata": {
        "id": "Fw5wP7aoROYq",
        "colab_type": "code",
        "colab": {
          "base_uri": "https://localhost:8080/",
          "height": 297
        },
        "outputId": "3e0fcefc-d85a-4e03-e839-280e15ff20c7"
      },
      "source": [
        "pd.options.display.float_format = '{:.2f}'.format  # 과학적 표기법(Scientific notation)을 사용하지 않는 경우\n",
        "\n",
        "data.describe()"
      ],
      "execution_count": null,
      "outputs": [
        {
          "output_type": "execute_result",
          "data": {
            "text/html": [
              "<div>\n",
              "<style scoped>\n",
              "    .dataframe tbody tr th:only-of-type {\n",
              "        vertical-align: middle;\n",
              "    }\n",
              "\n",
              "    .dataframe tbody tr th {\n",
              "        vertical-align: top;\n",
              "    }\n",
              "\n",
              "    .dataframe thead th {\n",
              "        text-align: right;\n",
              "    }\n",
              "</style>\n",
              "<table border=\"1\" class=\"dataframe\">\n",
              "  <thead>\n",
              "    <tr style=\"text-align: right;\">\n",
              "      <th></th>\n",
              "      <th>call_start_day</th>\n",
              "      <th>call_end_day</th>\n",
              "    </tr>\n",
              "  </thead>\n",
              "  <tbody>\n",
              "    <tr>\n",
              "      <th>count</th>\n",
              "      <td>6962341.00</td>\n",
              "      <td>6962341.00</td>\n",
              "    </tr>\n",
              "    <tr>\n",
              "      <th>mean</th>\n",
              "      <td>35.83</td>\n",
              "      <td>35.86</td>\n",
              "    </tr>\n",
              "    <tr>\n",
              "      <th>std</th>\n",
              "      <td>16.26</td>\n",
              "      <td>16.25</td>\n",
              "    </tr>\n",
              "    <tr>\n",
              "      <th>min</th>\n",
              "      <td>1.00</td>\n",
              "      <td>1.00</td>\n",
              "    </tr>\n",
              "    <tr>\n",
              "      <th>25%</th>\n",
              "      <td>23.00</td>\n",
              "      <td>23.00</td>\n",
              "    </tr>\n",
              "    <tr>\n",
              "      <th>50%</th>\n",
              "      <td>41.00</td>\n",
              "      <td>41.00</td>\n",
              "    </tr>\n",
              "    <tr>\n",
              "      <th>75%</th>\n",
              "      <td>50.00</td>\n",
              "      <td>50.00</td>\n",
              "    </tr>\n",
              "    <tr>\n",
              "      <th>max</th>\n",
              "      <td>56.00</td>\n",
              "      <td>57.00</td>\n",
              "    </tr>\n",
              "  </tbody>\n",
              "</table>\n",
              "</div>"
            ],
            "text/plain": [
              "       call_start_day  call_end_day\n",
              "count      6962341.00    6962341.00\n",
              "mean            35.83         35.86\n",
              "std             16.26         16.25\n",
              "min              1.00          1.00\n",
              "25%             23.00         23.00\n",
              "50%             41.00         41.00\n",
              "75%             50.00         50.00\n",
              "max             56.00         57.00"
            ]
          },
          "metadata": {
            "tags": []
          },
          "execution_count": 9
        }
      ]
    },
    {
      "cell_type": "code",
      "metadata": {
        "id": "KPfY7DBma1aE",
        "colab_type": "code",
        "colab": {}
      },
      "source": [
        "# temp = pd.Timestamp(data.call_start_time[1])\n",
        "# print(data.call_start_time[1])\n",
        "# print(temp)\n",
        "# print(\"time : \",temp.time())"
      ],
      "execution_count": null,
      "outputs": []
    },
    {
      "cell_type": "markdown",
      "metadata": {
        "id": "s-MmZ_TFC54n",
        "colab_type": "text"
      },
      "source": [
        "## 2.1 통화 & 사람\n"
      ]
    },
    {
      "cell_type": "markdown",
      "metadata": {
        "id": "iVyldHp1BkQh",
        "colab_type": "text"
      },
      "source": [
        "### 2.1.1 약 100만 rows씩 작업 진행"
      ]
    },
    {
      "cell_type": "code",
      "metadata": {
        "id": "lEgzvc6wCzAt",
        "colab_type": "code",
        "colab": {}
      },
      "source": [
        "p = set(np.concatenate(data.loc[0:1000000,\"hashed\"].str.split(\",\").values))\n",
        "p2 = set(np.concatenate(data.loc[1000001:2000000,\"hashed\"].str.split(\",\").values))\n",
        "p3 = set(np.concatenate(data.loc[2000001:3000000,\"hashed\"].str.split(\",\").values))\n",
        "p4 = set(np.concatenate(data.loc[3000001:4000000,\"hashed\"].str.split(\",\").values))\n",
        "p5 = set(np.concatenate(data.loc[4000001:5000000,\"hashed\"].str.split(\",\").values))\n",
        "p6 = set(np.concatenate(data.loc[5000001:6000000,\"hashed\"].str.split(\",\").values))\n",
        "p7 = set(np.concatenate(data.loc[6000001:,\"hashed\"].str.split(\",\").values))"
      ],
      "execution_count": null,
      "outputs": []
    },
    {
      "cell_type": "markdown",
      "metadata": {
        "id": "wsQuK0QBzHrg",
        "colab_type": "text"
      },
      "source": [
        "한번에 약 700만 개의 행들을 처리하려고 했으나, 램이 부족한 문제로 행들을 구간별로 나눠서 처리하는 방향으로 생각했다.  "
      ]
    },
    {
      "cell_type": "markdown",
      "metadata": {
        "id": "a-LCH-GcwVsj",
        "colab_type": "text"
      },
      "source": [
        "### 2.1.2 데이터에서 온전히 통화에 참여한 인원수(중복이 없음)"
      ]
    },
    {
      "cell_type": "code",
      "metadata": {
        "id": "El6qju1pQTUL",
        "colab_type": "code",
        "colab": {
          "base_uri": "https://localhost:8080/",
          "height": 35
        },
        "outputId": "22e02fa6-8dca-4f7c-fb3f-cad2794c6ff7"
      },
      "source": [
        "print(\"총 통화한 인원수 : \", len(set(list(p)+list(p2)+list(p3)+list(p4)+list(p5)+list(p6)+list(p7))), \"명\") # 중복이 없는 데이터에서 순수 통화에 참여한 수"
      ],
      "execution_count": null,
      "outputs": [
        {
          "output_type": "stream",
          "text": [
            "총 통화한 인원수 :  268148 명\n"
          ],
          "name": "stdout"
        }
      ]
    },
    {
      "cell_type": "markdown",
      "metadata": {
        "id": "DmlfQaZQIj1c",
        "colab_type": "text"
      },
      "source": [
        "약 700만 건의 통화리스트에 참여한 사람들 중 unique한 사람들만 카운트한 것이다."
      ]
    },
    {
      "cell_type": "markdown",
      "metadata": {
        "id": "OsXr8T_wwbc5",
        "colab_type": "text"
      },
      "source": [
        "### 2.1.3 데이터에서 1회 통화에 참여한 평균인원 수"
      ]
    },
    {
      "cell_type": "code",
      "metadata": {
        "id": "fHe1WRYg2xW-",
        "colab_type": "code",
        "colab": {}
      },
      "source": [
        "data['p_num'] = data['hashed'].str.count(pat = \",\") + 1  # 각 통화 건수의 통화한 사람 수"
      ],
      "execution_count": 4,
      "outputs": []
    },
    {
      "cell_type": "markdown",
      "metadata": {
        "id": "GXFTcZ5c18i8",
        "colab_type": "text"
      },
      "source": [
        "사람들은 각 행별로 , 로 구분되어 있다. 따라서 통화가 일어나는 사건을 나타내는  각 행의 통화에 참여하는 사람수를 구하려면 , 갯수에 1을 더하면 된다."
      ]
    },
    {
      "cell_type": "code",
      "metadata": {
        "id": "bxIfrqboxurb",
        "colab_type": "code",
        "colab": {
          "base_uri": "https://localhost:8080/",
          "height": 35
        },
        "outputId": "e042bd8b-68d5-42cb-c485-72d74492c756"
      },
      "source": [
        "print(\"데이터의 총 통화한 사람 : \",data[\"p_num\"].sum(), \"명\")  # 전체 데이터의 총 통화한 사람 수(사람의 중복이 있음)"
      ],
      "execution_count": null,
      "outputs": [
        {
          "output_type": "stream",
          "text": [
            "데이터의 총 통화한 사람 :  34284282 명\n"
          ],
          "name": "stdout"
        }
      ]
    },
    {
      "cell_type": "code",
      "metadata": {
        "id": "JxihR2IEvw2p",
        "colab_type": "code",
        "colab": {
          "base_uri": "https://localhost:8080/",
          "height": 35
        },
        "outputId": "84ee7e15-2dfc-4c4f-9311-cdbda6e2dec8"
      },
      "source": [
        "print(\"1회 통화에 참여한 평균인원수 : \", data[\"p_num\"].sum() / len(data), \"명\") # 전체 총 통화한 사람수 / 전체 통화 건수 = 1회 통화 평균인원수"
      ],
      "execution_count": null,
      "outputs": [
        {
          "output_type": "stream",
          "text": [
            "1회 통화에 참여한 평균인원수 :  4.924246313129449 명\n"
          ],
          "name": "stdout"
        }
      ]
    },
    {
      "cell_type": "markdown",
      "metadata": {
        "id": "Xa_7doQtyvHI",
        "colab_type": "text"
      },
      "source": [
        "평균적으로 4.92명이 각 통화에 참여했다."
      ]
    },
    {
      "cell_type": "code",
      "metadata": {
        "id": "PyV2KMIvw54w",
        "colab_type": "code",
        "colab": {
          "base_uri": "https://localhost:8080/",
          "height": 35
        },
        "outputId": "4be56c7c-e629-4e6a-95ed-5afc9b20b251"
      },
      "source": [
        "print(\"max : \", data[\"p_num\"].max(), \",  min : \", data[\"p_num\"].min())"
      ],
      "execution_count": null,
      "outputs": [
        {
          "output_type": "stream",
          "text": [
            "max :  434 ,  min :  1\n"
          ],
          "name": "stdout"
        }
      ]
    },
    {
      "cell_type": "markdown",
      "metadata": {
        "id": "3DpKTy_zyews",
        "colab_type": "text"
      },
      "source": [
        "혼자 통화에 참여한 사람이 있고, 최대 434명이 함께 통화에 참여한 경우를 확인 가능하다."
      ]
    },
    {
      "cell_type": "markdown",
      "metadata": {
        "id": "4CN6ce8lP7GV",
        "colab_type": "text"
      },
      "source": [
        "### 2.1.4 datetime으로의 전처리"
      ]
    },
    {
      "cell_type": "code",
      "metadata": {
        "id": "UTpHiOEz-vYp",
        "colab_type": "code",
        "colab": {}
      },
      "source": [
        "temp = [x for x in data[\"hashed\"].str.split(\",\")]"
      ],
      "execution_count": null,
      "outputs": []
    },
    {
      "cell_type": "code",
      "metadata": {
        "id": "oZ2whpVy_EPF",
        "colab_type": "code",
        "colab": {
          "base_uri": "https://localhost:8080/",
          "height": 35
        },
        "outputId": "8a540df6-abc5-4f69-fb3e-de876ddf9fbc"
      },
      "source": [
        "len(temp)"
      ],
      "execution_count": null,
      "outputs": [
        {
          "output_type": "execute_result",
          "data": {
            "text/plain": [
              "6962341"
            ]
          },
          "metadata": {
            "tags": []
          },
          "execution_count": 18
        }
      ]
    },
    {
      "cell_type": "code",
      "metadata": {
        "id": "Nl_1fe_Z_MjA",
        "colab_type": "code",
        "colab": {
          "base_uri": "https://localhost:8080/",
          "height": 35
        },
        "outputId": "fbeb67a6-8326-4e32-a74e-7fd5886d4424"
      },
      "source": [
        "len(data['hashed'].unique())"
      ],
      "execution_count": null,
      "outputs": [
        {
          "output_type": "execute_result",
          "data": {
            "text/plain": [
              "3184944"
            ]
          },
          "metadata": {
            "tags": []
          },
          "execution_count": 19
        }
      ]
    },
    {
      "cell_type": "markdown",
      "metadata": {
        "id": "P7JP98PqCqqp",
        "colab_type": "text"
      },
      "source": [
        "통화리스트 중 duplicated로 중복된 데이터가 없음을 확인했다.  \n",
        "hashed에는 중복된 데이터가 있는 것으로 봐서 몇 그룹들은 한번을 초과하는 전화를 한 것으로 보인다."
      ]
    },
    {
      "cell_type": "code",
      "metadata": {
        "id": "Dpb4luNdgecF",
        "colab_type": "code",
        "colab": {}
      },
      "source": [
        "# temp = pd.Timestamp(data.call_start_time[1])\n",
        "# print(data.call_start_time[1])\n",
        "# print(temp)\n",
        "# print(\"time : \",temp.time())"
      ],
      "execution_count": null,
      "outputs": []
    },
    {
      "cell_type": "code",
      "metadata": {
        "id": "bCB8oCvwgPrD",
        "colab_type": "code",
        "colab": {
          "base_uri": "https://localhost:8080/",
          "height": 53
        },
        "outputId": "517f1a73-f235-485c-9bc8-b99c4efeb865"
      },
      "source": [
        "print(pd.Timestamp(\"08:09:30.086\"))  # example\n",
        "print(pd.Timestamp(\"08:29:51.324\"))"
      ],
      "execution_count": null,
      "outputs": [
        {
          "output_type": "stream",
          "text": [
            "2020-08-20 08:09:30.086000\n",
            "2020-08-20 08:29:51.324000\n"
          ],
          "name": "stdout"
        }
      ]
    },
    {
      "cell_type": "code",
      "metadata": {
        "id": "0Omj5b_3g7GX",
        "colab_type": "code",
        "colab": {
          "base_uri": "https://localhost:8080/",
          "height": 35
        },
        "outputId": "c6e49ea8-1adb-4016-f5e9-b060fc1e1131"
      },
      "source": [
        "pd.Timestamp(\"08:29:51.324\") - pd.Timestamp(\"08:09:30.086\")"
      ],
      "execution_count": null,
      "outputs": [
        {
          "output_type": "execute_result",
          "data": {
            "text/plain": [
              "Timedelta('0 days 00:20:21.238000')"
            ]
          },
          "metadata": {
            "tags": []
          },
          "execution_count": 22
        }
      ]
    },
    {
      "cell_type": "code",
      "metadata": {
        "id": "YMOxd5_3hFsS",
        "colab_type": "code",
        "colab": {}
      },
      "source": [
        "data['diff_day'] = data[\"call_end_day\"] - data[\"call_start_day\"]"
      ],
      "execution_count": 5,
      "outputs": []
    },
    {
      "cell_type": "markdown",
      "metadata": {
        "id": "Ay3EotXItkMt",
        "colab_type": "text"
      },
      "source": [
        "전화 시작 날과 끝난 날의 차이를 확인하였다.  \n",
        "자정을 기준으로 넘어가는 날짜가 있는 것에 대해 시간 계산을 용이하게 하기 위함이다."
      ]
    },
    {
      "cell_type": "code",
      "metadata": {
        "id": "tadMy3Rei-ig",
        "colab_type": "code",
        "colab": {}
      },
      "source": [
        "# data = data.drop([\"new_end_day\"], axis = 1)"
      ],
      "execution_count": null,
      "outputs": []
    },
    {
      "cell_type": "code",
      "metadata": {
        "id": "bpwQnCn7kIWx",
        "colab_type": "code",
        "colab": {}
      },
      "source": [
        "data['call_start_time'] = pd.to_datetime(data['call_start_time'], format='%H:%M:%S.%f', errors='raise')\n",
        "data['call_end_time'] = pd.to_datetime(data['call_end_time'], format='%H:%M:%S.%f', errors='raise')"
      ],
      "execution_count": 6,
      "outputs": []
    },
    {
      "cell_type": "code",
      "metadata": {
        "id": "ZqTtxaNzsxsx",
        "colab_type": "code",
        "colab": {}
      },
      "source": [
        "# datetime.timedelta(days = data['diff_day'])"
      ],
      "execution_count": null,
      "outputs": []
    },
    {
      "cell_type": "code",
      "metadata": {
        "id": "sfh4loSgrpWW",
        "colab_type": "code",
        "colab": {
          "base_uri": "https://localhost:8080/",
          "height": 419
        },
        "outputId": "e726372b-01fb-4d94-9de7-2eb925e584f6"
      },
      "source": [
        "data"
      ],
      "execution_count": null,
      "outputs": [
        {
          "output_type": "execute_result",
          "data": {
            "text/html": [
              "<div>\n",
              "<style scoped>\n",
              "    .dataframe tbody tr th:only-of-type {\n",
              "        vertical-align: middle;\n",
              "    }\n",
              "\n",
              "    .dataframe tbody tr th {\n",
              "        vertical-align: top;\n",
              "    }\n",
              "\n",
              "    .dataframe thead th {\n",
              "        text-align: right;\n",
              "    }\n",
              "</style>\n",
              "<table border=\"1\" class=\"dataframe\">\n",
              "  <thead>\n",
              "    <tr style=\"text-align: right;\">\n",
              "      <th></th>\n",
              "      <th>call_start_day</th>\n",
              "      <th>call_start_time</th>\n",
              "      <th>call_end_day</th>\n",
              "      <th>call_end_time</th>\n",
              "      <th>hashed</th>\n",
              "      <th>p_num</th>\n",
              "      <th>diff_day</th>\n",
              "    </tr>\n",
              "  </thead>\n",
              "  <tbody>\n",
              "    <tr>\n",
              "      <th>0</th>\n",
              "      <td>1</td>\n",
              "      <td>1900-01-01 09:14:58.558</td>\n",
              "      <td>1</td>\n",
              "      <td>1900-01-01 09:41:30.200</td>\n",
              "      <td>967393e81d99ce8e577ee130b7ce8e4fd45e3e9cecb560...</td>\n",
              "      <td>3</td>\n",
              "      <td>0</td>\n",
              "    </tr>\n",
              "    <tr>\n",
              "      <th>1</th>\n",
              "      <td>17</td>\n",
              "      <td>1900-01-01 11:05:05.176</td>\n",
              "      <td>17</td>\n",
              "      <td>1900-01-01 13:07:42.515</td>\n",
              "      <td>02181a0c962f34f019bc9d5b582fb0ec79b1441f96aa4d...</td>\n",
              "      <td>5</td>\n",
              "      <td>0</td>\n",
              "    </tr>\n",
              "    <tr>\n",
              "      <th>2</th>\n",
              "      <td>20</td>\n",
              "      <td>1900-01-01 02:18:43.172</td>\n",
              "      <td>20</td>\n",
              "      <td>1900-01-01 02:28:58.177</td>\n",
              "      <td>86022904c5cf72a54978479c94041f4256d6c3c2a1f71c...</td>\n",
              "      <td>3</td>\n",
              "      <td>0</td>\n",
              "    </tr>\n",
              "    <tr>\n",
              "      <th>3</th>\n",
              "      <td>22</td>\n",
              "      <td>1900-01-01 09:22:01.936</td>\n",
              "      <td>22</td>\n",
              "      <td>1900-01-01 09:47:40.192</td>\n",
              "      <td>aafb40d212fe18ff4eafb82fdcf3b53f2161cb3ce59de4...</td>\n",
              "      <td>6</td>\n",
              "      <td>0</td>\n",
              "    </tr>\n",
              "    <tr>\n",
              "      <th>4</th>\n",
              "      <td>26</td>\n",
              "      <td>1900-01-01 06:29:21.182</td>\n",
              "      <td>26</td>\n",
              "      <td>1900-01-01 06:50:55.004</td>\n",
              "      <td>c87c2fad141edf323f3787335b54be22945a02fe052448...</td>\n",
              "      <td>6</td>\n",
              "      <td>0</td>\n",
              "    </tr>\n",
              "    <tr>\n",
              "      <th>...</th>\n",
              "      <td>...</td>\n",
              "      <td>...</td>\n",
              "      <td>...</td>\n",
              "      <td>...</td>\n",
              "      <td>...</td>\n",
              "      <td>...</td>\n",
              "      <td>...</td>\n",
              "    </tr>\n",
              "    <tr>\n",
              "      <th>6962336</th>\n",
              "      <td>55</td>\n",
              "      <td>1900-01-01 08:09:30.086</td>\n",
              "      <td>55</td>\n",
              "      <td>1900-01-01 08:29:51.324</td>\n",
              "      <td>a4b6aea6cb58e43911e7cb7d6c0497197db7c4ed16e1c9...</td>\n",
              "      <td>6</td>\n",
              "      <td>0</td>\n",
              "    </tr>\n",
              "    <tr>\n",
              "      <th>6962337</th>\n",
              "      <td>35</td>\n",
              "      <td>1900-01-01 11:25:25.719</td>\n",
              "      <td>35</td>\n",
              "      <td>1900-01-01 11:47:41.557</td>\n",
              "      <td>4ec597c569b92bd0e1bae4e2a06e13b9657fb81795e194...</td>\n",
              "      <td>12</td>\n",
              "      <td>0</td>\n",
              "    </tr>\n",
              "    <tr>\n",
              "      <th>6962338</th>\n",
              "      <td>47</td>\n",
              "      <td>1900-01-01 16:29:59.882</td>\n",
              "      <td>47</td>\n",
              "      <td>1900-01-01 16:30:27.386</td>\n",
              "      <td>8092e194a750aae539862ed4405f67a6dd5b492e7e57e3...</td>\n",
              "      <td>6</td>\n",
              "      <td>0</td>\n",
              "    </tr>\n",
              "    <tr>\n",
              "      <th>6962339</th>\n",
              "      <td>48</td>\n",
              "      <td>1900-01-01 23:43:52.265</td>\n",
              "      <td>48</td>\n",
              "      <td>1900-01-01 23:47:50.285</td>\n",
              "      <td>7176c1516207692857535c30a4650b8e8e586af1fed0fd...</td>\n",
              "      <td>6</td>\n",
              "      <td>0</td>\n",
              "    </tr>\n",
              "    <tr>\n",
              "      <th>6962340</th>\n",
              "      <td>40</td>\n",
              "      <td>1900-01-01 23:07:31.761</td>\n",
              "      <td>40</td>\n",
              "      <td>1900-01-01 23:11:01.968</td>\n",
              "      <td>11fc85879e5ac9d5c83bfba10d73c4c84c154b9f4d9e1d...</td>\n",
              "      <td>6</td>\n",
              "      <td>0</td>\n",
              "    </tr>\n",
              "  </tbody>\n",
              "</table>\n",
              "<p>6962341 rows × 7 columns</p>\n",
              "</div>"
            ],
            "text/plain": [
              "         call_start_day         call_start_time  ...  p_num diff_day\n",
              "0                     1 1900-01-01 09:14:58.558  ...      3        0\n",
              "1                    17 1900-01-01 11:05:05.176  ...      5        0\n",
              "2                    20 1900-01-01 02:18:43.172  ...      3        0\n",
              "3                    22 1900-01-01 09:22:01.936  ...      6        0\n",
              "4                    26 1900-01-01 06:29:21.182  ...      6        0\n",
              "...                 ...                     ...  ...    ...      ...\n",
              "6962336              55 1900-01-01 08:09:30.086  ...      6        0\n",
              "6962337              35 1900-01-01 11:25:25.719  ...     12        0\n",
              "6962338              47 1900-01-01 16:29:59.882  ...      6        0\n",
              "6962339              48 1900-01-01 23:43:52.265  ...      6        0\n",
              "6962340              40 1900-01-01 23:07:31.761  ...      6        0\n",
              "\n",
              "[6962341 rows x 7 columns]"
            ]
          },
          "metadata": {
            "tags": []
          },
          "execution_count": 9
        }
      ]
    },
    {
      "cell_type": "code",
      "metadata": {
        "id": "Zszl6dTT2zZL",
        "colab_type": "code",
        "colab": {}
      },
      "source": [
        "data['new_end_time'] = data['call_end_time'] + pd.to_timedelta(data['diff_day'], unit='d')"
      ],
      "execution_count": 7,
      "outputs": []
    },
    {
      "cell_type": "markdown",
      "metadata": {
        "id": "fNL0jX3ct0by",
        "colab_type": "text"
      },
      "source": [
        "전화 시간에도 datetime타입을 적용시켜 날짜 차이와 계산이 가능하게 한다.  \n",
        "새로운 끝나는 날짜로 잡아 각 사건 별 통화 시간을 구할 수 있다."
      ]
    },
    {
      "cell_type": "markdown",
      "metadata": {
        "id": "wMhncbHz4LmH",
        "colab_type": "text"
      },
      "source": [
        "### 2.1.5 각 통화 별 통화시간\n",
        "\n",
        "날짜를 넘어가는 것에 대해서 계산을 하기 위해 시작날과 끝날의 차이를 end_time에 더한 뒤 start_time과의 연산을 통해 시간 차를 구할 수 있다."
      ]
    },
    {
      "cell_type": "code",
      "metadata": {
        "id": "-W4lODnY34xm",
        "colab_type": "code",
        "colab": {}
      },
      "source": [
        "data['call_duration'] = data['new_end_time'] - data['call_start_time']"
      ],
      "execution_count": 8,
      "outputs": []
    },
    {
      "cell_type": "code",
      "metadata": {
        "id": "EEeZBscZ4Spv",
        "colab_type": "code",
        "colab": {
          "base_uri": "https://localhost:8080/",
          "height": 419
        },
        "outputId": "3715bccf-bb99-4163-f783-544d09fd85e9"
      },
      "source": [
        "data[['call_duration']]"
      ],
      "execution_count": null,
      "outputs": [
        {
          "output_type": "execute_result",
          "data": {
            "text/html": [
              "<div>\n",
              "<style scoped>\n",
              "    .dataframe tbody tr th:only-of-type {\n",
              "        vertical-align: middle;\n",
              "    }\n",
              "\n",
              "    .dataframe tbody tr th {\n",
              "        vertical-align: top;\n",
              "    }\n",
              "\n",
              "    .dataframe thead th {\n",
              "        text-align: right;\n",
              "    }\n",
              "</style>\n",
              "<table border=\"1\" class=\"dataframe\">\n",
              "  <thead>\n",
              "    <tr style=\"text-align: right;\">\n",
              "      <th></th>\n",
              "      <th>call_duration</th>\n",
              "    </tr>\n",
              "  </thead>\n",
              "  <tbody>\n",
              "    <tr>\n",
              "      <th>0</th>\n",
              "      <td>00:26:31.642000</td>\n",
              "    </tr>\n",
              "    <tr>\n",
              "      <th>1</th>\n",
              "      <td>02:02:37.339000</td>\n",
              "    </tr>\n",
              "    <tr>\n",
              "      <th>2</th>\n",
              "      <td>00:10:15.005000</td>\n",
              "    </tr>\n",
              "    <tr>\n",
              "      <th>3</th>\n",
              "      <td>00:25:38.256000</td>\n",
              "    </tr>\n",
              "    <tr>\n",
              "      <th>4</th>\n",
              "      <td>00:21:33.822000</td>\n",
              "    </tr>\n",
              "    <tr>\n",
              "      <th>...</th>\n",
              "      <td>...</td>\n",
              "    </tr>\n",
              "    <tr>\n",
              "      <th>6962336</th>\n",
              "      <td>00:20:21.238000</td>\n",
              "    </tr>\n",
              "    <tr>\n",
              "      <th>6962337</th>\n",
              "      <td>00:22:15.838000</td>\n",
              "    </tr>\n",
              "    <tr>\n",
              "      <th>6962338</th>\n",
              "      <td>00:00:27.504000</td>\n",
              "    </tr>\n",
              "    <tr>\n",
              "      <th>6962339</th>\n",
              "      <td>00:03:58.020000</td>\n",
              "    </tr>\n",
              "    <tr>\n",
              "      <th>6962340</th>\n",
              "      <td>00:03:30.207000</td>\n",
              "    </tr>\n",
              "  </tbody>\n",
              "</table>\n",
              "<p>6962341 rows × 1 columns</p>\n",
              "</div>"
            ],
            "text/plain": [
              "          call_duration\n",
              "0       00:26:31.642000\n",
              "1       02:02:37.339000\n",
              "2       00:10:15.005000\n",
              "3       00:25:38.256000\n",
              "4       00:21:33.822000\n",
              "...                 ...\n",
              "6962336 00:20:21.238000\n",
              "6962337 00:22:15.838000\n",
              "6962338 00:00:27.504000\n",
              "6962339 00:03:58.020000\n",
              "6962340 00:03:30.207000\n",
              "\n",
              "[6962341 rows x 1 columns]"
            ]
          },
          "metadata": {
            "tags": []
          },
          "execution_count": 12
        }
      ]
    },
    {
      "cell_type": "markdown",
      "metadata": {
        "id": "uW9Bhlf68TzC",
        "colab_type": "text"
      },
      "source": [
        "### 2.1.6 총 통화시간\n"
      ]
    },
    {
      "cell_type": "code",
      "metadata": {
        "id": "qFBMC2ep9QKW",
        "colab_type": "code",
        "colab": {}
      },
      "source": [
        "data['call_duration'] = pd.to_timedelta(data['call_duration'])"
      ],
      "execution_count": null,
      "outputs": []
    },
    {
      "cell_type": "code",
      "metadata": {
        "id": "lc-S23ID9iRM",
        "colab_type": "code",
        "colab": {
          "base_uri": "https://localhost:8080/",
          "height": 197
        },
        "outputId": "19795148-eca7-42b2-ca43-23ad4b49e258"
      },
      "source": [
        "print (data.dtypes)"
      ],
      "execution_count": null,
      "outputs": [
        {
          "output_type": "stream",
          "text": [
            "call_start_day               int64\n",
            "call_start_time     datetime64[ns]\n",
            "call_end_day                 int64\n",
            "call_end_time       datetime64[ns]\n",
            "hashed                      object\n",
            "p_num                        int64\n",
            "diff_day                     int64\n",
            "new_end_time        datetime64[ns]\n",
            "call_duration      timedelta64[ns]\n",
            "dtype: object\n"
          ],
          "name": "stdout"
        }
      ]
    },
    {
      "cell_type": "code",
      "metadata": {
        "id": "6sXq8dH790UM",
        "colab_type": "code",
        "colab": {
          "base_uri": "https://localhost:8080/",
          "height": 53
        },
        "outputId": "d423fb2c-7e8a-4dd9-a197-b9dadbe4fd24"
      },
      "source": [
        "print(data.call_duration[0:5900000].sum())\n",
        "print(data.call_duration[5900001:].sum())"
      ],
      "execution_count": null,
      "outputs": [
        {
          "output_type": "stream",
          "text": [
            "106067 days 16:21:12.281008\n",
            "19106 days 01:06:28.455999\n"
          ],
          "name": "stdout"
        }
      ]
    },
    {
      "cell_type": "markdown",
      "metadata": {
        "id": "RJEC9m3nDhWh",
        "colab_type": "text"
      },
      "source": [
        "600만개의 행이 넘어가면 총 통화시간 계산에 에러가 난다. 따라서 초로 바꾼 뒤, 진행을 해보자"
      ]
    },
    {
      "cell_type": "code",
      "metadata": {
        "id": "AoYBRSxJBzRQ",
        "colab_type": "code",
        "colab": {
          "base_uri": "https://localhost:8080/",
          "height": 35
        },
        "outputId": "1f253c89-adb1-42fd-9c41-7bb922959982"
      },
      "source": [
        "data.call_duration.dt.total_seconds().sum() / (3600*24)"
      ],
      "execution_count": null,
      "outputs": [
        {
          "output_type": "execute_result",
          "data": {
            "text/plain": [
              "125173.73817542837"
            ]
          },
          "metadata": {
            "tags": []
          },
          "execution_count": 34
        }
      ]
    },
    {
      "cell_type": "markdown",
      "metadata": {
        "id": "8l1ZENiaD-eC",
        "colab_type": "text"
      },
      "source": [
        "약 125173.74일 정도 전체 통화량이 나타내고 있다."
      ]
    },
    {
      "cell_type": "code",
      "metadata": {
        "id": "n16DHmBZ5w5-",
        "colab_type": "code",
        "colab": {
          "base_uri": "https://localhost:8080/",
          "height": 297
        },
        "outputId": "bd189365-ea4a-48d2-b0c6-4620c9348591"
      },
      "source": [
        "data.describe()"
      ],
      "execution_count": null,
      "outputs": [
        {
          "output_type": "execute_result",
          "data": {
            "text/html": [
              "<div>\n",
              "<style scoped>\n",
              "    .dataframe tbody tr th:only-of-type {\n",
              "        vertical-align: middle;\n",
              "    }\n",
              "\n",
              "    .dataframe tbody tr th {\n",
              "        vertical-align: top;\n",
              "    }\n",
              "\n",
              "    .dataframe thead th {\n",
              "        text-align: right;\n",
              "    }\n",
              "</style>\n",
              "<table border=\"1\" class=\"dataframe\">\n",
              "  <thead>\n",
              "    <tr style=\"text-align: right;\">\n",
              "      <th></th>\n",
              "      <th>call_start_day</th>\n",
              "      <th>call_end_day</th>\n",
              "      <th>p_num</th>\n",
              "      <th>diff_day</th>\n",
              "      <th>call_duration</th>\n",
              "    </tr>\n",
              "  </thead>\n",
              "  <tbody>\n",
              "    <tr>\n",
              "      <th>count</th>\n",
              "      <td>6962341.00</td>\n",
              "      <td>6962341.00</td>\n",
              "      <td>6962341.00</td>\n",
              "      <td>6962341.00</td>\n",
              "      <td>6962341</td>\n",
              "    </tr>\n",
              "    <tr>\n",
              "      <th>mean</th>\n",
              "      <td>35.83</td>\n",
              "      <td>35.86</td>\n",
              "      <td>4.92</td>\n",
              "      <td>0.03</td>\n",
              "      <td>0 days 00:25:53.358414</td>\n",
              "    </tr>\n",
              "    <tr>\n",
              "      <th>std</th>\n",
              "      <td>16.26</td>\n",
              "      <td>16.25</td>\n",
              "      <td>2.37</td>\n",
              "      <td>0.20</td>\n",
              "      <td>0 days 03:18:07.730969</td>\n",
              "    </tr>\n",
              "    <tr>\n",
              "      <th>min</th>\n",
              "      <td>1.00</td>\n",
              "      <td>1.00</td>\n",
              "      <td>1.00</td>\n",
              "      <td>0.00</td>\n",
              "      <td>0 days 00:00:00</td>\n",
              "    </tr>\n",
              "    <tr>\n",
              "      <th>25%</th>\n",
              "      <td>23.00</td>\n",
              "      <td>23.00</td>\n",
              "      <td>3.00</td>\n",
              "      <td>0.00</td>\n",
              "      <td>0 days 00:01:38.387000</td>\n",
              "    </tr>\n",
              "    <tr>\n",
              "      <th>50%</th>\n",
              "      <td>41.00</td>\n",
              "      <td>41.00</td>\n",
              "      <td>6.00</td>\n",
              "      <td>0.00</td>\n",
              "      <td>0 days 00:09:31.063000</td>\n",
              "    </tr>\n",
              "    <tr>\n",
              "      <th>75%</th>\n",
              "      <td>50.00</td>\n",
              "      <td>50.00</td>\n",
              "      <td>6.00</td>\n",
              "      <td>0.00</td>\n",
              "      <td>0 days 00:18:48.020000</td>\n",
              "    </tr>\n",
              "    <tr>\n",
              "      <th>max</th>\n",
              "      <td>56.00</td>\n",
              "      <td>57.00</td>\n",
              "      <td>434.00</td>\n",
              "      <td>7.00</td>\n",
              "      <td>6 days 17:07:59.592000</td>\n",
              "    </tr>\n",
              "  </tbody>\n",
              "</table>\n",
              "</div>"
            ],
            "text/plain": [
              "       call_start_day  call_end_day  ...   diff_day           call_duration\n",
              "count      6962341.00    6962341.00  ... 6962341.00                 6962341\n",
              "mean            35.83         35.86  ...       0.03  0 days 00:25:53.358414\n",
              "std             16.26         16.25  ...       0.20  0 days 03:18:07.730969\n",
              "min              1.00          1.00  ...       0.00         0 days 00:00:00\n",
              "25%             23.00         23.00  ...       0.00  0 days 00:01:38.387000\n",
              "50%             41.00         41.00  ...       0.00  0 days 00:09:31.063000\n",
              "75%             50.00         50.00  ...       0.00  0 days 00:18:48.020000\n",
              "max             56.00         57.00  ...       7.00  6 days 17:07:59.592000\n",
              "\n",
              "[8 rows x 5 columns]"
            ]
          },
          "metadata": {
            "tags": []
          },
          "execution_count": 35
        }
      ]
    },
    {
      "cell_type": "markdown",
      "metadata": {
        "id": "Jc6vHWhn54uu",
        "colab_type": "text"
      },
      "source": [
        "전화를 시도했지만 안받은 건수도 존재한다."
      ]
    },
    {
      "cell_type": "markdown",
      "metadata": {
        "id": "Wm8R0uKDeIvs",
        "colab_type": "text"
      },
      "source": [
        "## 3.1 사람별\n",
        "\n",
        "각 hashed(사람)별로 데이터프레임의 구조를 변경하기 위해서는 ,로 구분된 **hashed**의 각 요소들을 구분해야 한다. "
      ]
    },
    {
      "cell_type": "code",
      "metadata": {
        "id": "carSMpxjeKzf",
        "colab_type": "code",
        "colab": {}
      },
      "source": [
        "temp = data.loc[0:1000000,[\"hashed\",\"p_num\",\"call_duration\"]]"
      ],
      "execution_count": null,
      "outputs": []
    },
    {
      "cell_type": "code",
      "metadata": {
        "id": "1oUSZWKLpHNF",
        "colab_type": "code",
        "colab": {
          "base_uri": "https://localhost:8080/",
          "height": 419
        },
        "outputId": "5f28e8c8-e5d9-431e-8690-ac524e2b02b2"
      },
      "source": [
        "temp"
      ],
      "execution_count": null,
      "outputs": [
        {
          "output_type": "execute_result",
          "data": {
            "text/html": [
              "<div>\n",
              "<style scoped>\n",
              "    .dataframe tbody tr th:only-of-type {\n",
              "        vertical-align: middle;\n",
              "    }\n",
              "\n",
              "    .dataframe tbody tr th {\n",
              "        vertical-align: top;\n",
              "    }\n",
              "\n",
              "    .dataframe thead th {\n",
              "        text-align: right;\n",
              "    }\n",
              "</style>\n",
              "<table border=\"1\" class=\"dataframe\">\n",
              "  <thead>\n",
              "    <tr style=\"text-align: right;\">\n",
              "      <th></th>\n",
              "      <th>hashed</th>\n",
              "      <th>p_num</th>\n",
              "      <th>call_duration</th>\n",
              "    </tr>\n",
              "  </thead>\n",
              "  <tbody>\n",
              "    <tr>\n",
              "      <th>0</th>\n",
              "      <td>967393e81d99ce8e577ee130b7ce8e4fd45e3e9cecb560...</td>\n",
              "      <td>3</td>\n",
              "      <td>00:26:31.642000</td>\n",
              "    </tr>\n",
              "    <tr>\n",
              "      <th>1</th>\n",
              "      <td>02181a0c962f34f019bc9d5b582fb0ec79b1441f96aa4d...</td>\n",
              "      <td>5</td>\n",
              "      <td>02:02:37.339000</td>\n",
              "    </tr>\n",
              "    <tr>\n",
              "      <th>2</th>\n",
              "      <td>86022904c5cf72a54978479c94041f4256d6c3c2a1f71c...</td>\n",
              "      <td>3</td>\n",
              "      <td>00:10:15.005000</td>\n",
              "    </tr>\n",
              "    <tr>\n",
              "      <th>3</th>\n",
              "      <td>aafb40d212fe18ff4eafb82fdcf3b53f2161cb3ce59de4...</td>\n",
              "      <td>6</td>\n",
              "      <td>00:25:38.256000</td>\n",
              "    </tr>\n",
              "    <tr>\n",
              "      <th>4</th>\n",
              "      <td>c87c2fad141edf323f3787335b54be22945a02fe052448...</td>\n",
              "      <td>6</td>\n",
              "      <td>00:21:33.822000</td>\n",
              "    </tr>\n",
              "    <tr>\n",
              "      <th>...</th>\n",
              "      <td>...</td>\n",
              "      <td>...</td>\n",
              "      <td>...</td>\n",
              "    </tr>\n",
              "    <tr>\n",
              "      <th>999996</th>\n",
              "      <td>b55a949e1f4069e85f1ed50ddb0b49502bd6f4f032c6c5...</td>\n",
              "      <td>6</td>\n",
              "      <td>00:00:18.704000</td>\n",
              "    </tr>\n",
              "    <tr>\n",
              "      <th>999997</th>\n",
              "      <td>831812f2b15948a0e9de791ffc6a2a213c3ee9c3ab8f92...</td>\n",
              "      <td>6</td>\n",
              "      <td>00:06:59.893000</td>\n",
              "    </tr>\n",
              "    <tr>\n",
              "      <th>999998</th>\n",
              "      <td>118a182418c18138d2149f57277a3773a361dcf74e4f63...</td>\n",
              "      <td>6</td>\n",
              "      <td>00:13:58.478000</td>\n",
              "    </tr>\n",
              "    <tr>\n",
              "      <th>999999</th>\n",
              "      <td>55416c668c410286872b5a0bc73749c16780c03d81d3fb...</td>\n",
              "      <td>2</td>\n",
              "      <td>00:01:00.404000</td>\n",
              "    </tr>\n",
              "    <tr>\n",
              "      <th>1000000</th>\n",
              "      <td>e1e563193943dadb9b6ed3b3c7124bf8692d81bdea9c33...</td>\n",
              "      <td>6</td>\n",
              "      <td>00:28:08.322000</td>\n",
              "    </tr>\n",
              "  </tbody>\n",
              "</table>\n",
              "<p>1000001 rows × 3 columns</p>\n",
              "</div>"
            ],
            "text/plain": [
              "                                                    hashed  ...   call_duration\n",
              "0        967393e81d99ce8e577ee130b7ce8e4fd45e3e9cecb560...  ... 00:26:31.642000\n",
              "1        02181a0c962f34f019bc9d5b582fb0ec79b1441f96aa4d...  ... 02:02:37.339000\n",
              "2        86022904c5cf72a54978479c94041f4256d6c3c2a1f71c...  ... 00:10:15.005000\n",
              "3        aafb40d212fe18ff4eafb82fdcf3b53f2161cb3ce59de4...  ... 00:25:38.256000\n",
              "4        c87c2fad141edf323f3787335b54be22945a02fe052448...  ... 00:21:33.822000\n",
              "...                                                    ...  ...             ...\n",
              "999996   b55a949e1f4069e85f1ed50ddb0b49502bd6f4f032c6c5...  ... 00:00:18.704000\n",
              "999997   831812f2b15948a0e9de791ffc6a2a213c3ee9c3ab8f92...  ... 00:06:59.893000\n",
              "999998   118a182418c18138d2149f57277a3773a361dcf74e4f63...  ... 00:13:58.478000\n",
              "999999   55416c668c410286872b5a0bc73749c16780c03d81d3fb...  ... 00:01:00.404000\n",
              "1000000  e1e563193943dadb9b6ed3b3c7124bf8692d81bdea9c33...  ... 00:28:08.322000\n",
              "\n",
              "[1000001 rows x 3 columns]"
            ]
          },
          "metadata": {
            "tags": []
          },
          "execution_count": 37
        }
      ]
    },
    {
      "cell_type": "code",
      "metadata": {
        "id": "mQHxwT-8zm71",
        "colab_type": "code",
        "colab": {}
      },
      "source": [
        "temp['call_num'] = 1"
      ],
      "execution_count": null,
      "outputs": []
    },
    {
      "cell_type": "markdown",
      "metadata": {
        "id": "kCG_rXGn1yAy",
        "colab_type": "text"
      },
      "source": [
        "사람별 총 통화건수를 확인하기 위해 **call_num**이라는 변수에 1이라는 값을 부여 "
      ]
    },
    {
      "cell_type": "code",
      "metadata": {
        "id": "P0rg_YbQztgo",
        "colab_type": "code",
        "colab": {
          "base_uri": "https://localhost:8080/",
          "height": 419
        },
        "outputId": "e847fc86-0eee-4b70-a301-c8a15e77f262"
      },
      "source": [
        "temp"
      ],
      "execution_count": null,
      "outputs": [
        {
          "output_type": "execute_result",
          "data": {
            "text/html": [
              "<div>\n",
              "<style scoped>\n",
              "    .dataframe tbody tr th:only-of-type {\n",
              "        vertical-align: middle;\n",
              "    }\n",
              "\n",
              "    .dataframe tbody tr th {\n",
              "        vertical-align: top;\n",
              "    }\n",
              "\n",
              "    .dataframe thead th {\n",
              "        text-align: right;\n",
              "    }\n",
              "</style>\n",
              "<table border=\"1\" class=\"dataframe\">\n",
              "  <thead>\n",
              "    <tr style=\"text-align: right;\">\n",
              "      <th></th>\n",
              "      <th>hashed</th>\n",
              "      <th>p_num</th>\n",
              "      <th>call_duration</th>\n",
              "      <th>call_num</th>\n",
              "    </tr>\n",
              "  </thead>\n",
              "  <tbody>\n",
              "    <tr>\n",
              "      <th>0</th>\n",
              "      <td>967393e81d99ce8e577ee130b7ce8e4fd45e3e9cecb560...</td>\n",
              "      <td>3</td>\n",
              "      <td>00:26:31.642000</td>\n",
              "      <td>1</td>\n",
              "    </tr>\n",
              "    <tr>\n",
              "      <th>1</th>\n",
              "      <td>02181a0c962f34f019bc9d5b582fb0ec79b1441f96aa4d...</td>\n",
              "      <td>5</td>\n",
              "      <td>02:02:37.339000</td>\n",
              "      <td>1</td>\n",
              "    </tr>\n",
              "    <tr>\n",
              "      <th>2</th>\n",
              "      <td>86022904c5cf72a54978479c94041f4256d6c3c2a1f71c...</td>\n",
              "      <td>3</td>\n",
              "      <td>00:10:15.005000</td>\n",
              "      <td>1</td>\n",
              "    </tr>\n",
              "    <tr>\n",
              "      <th>3</th>\n",
              "      <td>aafb40d212fe18ff4eafb82fdcf3b53f2161cb3ce59de4...</td>\n",
              "      <td>6</td>\n",
              "      <td>00:25:38.256000</td>\n",
              "      <td>1</td>\n",
              "    </tr>\n",
              "    <tr>\n",
              "      <th>4</th>\n",
              "      <td>c87c2fad141edf323f3787335b54be22945a02fe052448...</td>\n",
              "      <td>6</td>\n",
              "      <td>00:21:33.822000</td>\n",
              "      <td>1</td>\n",
              "    </tr>\n",
              "    <tr>\n",
              "      <th>...</th>\n",
              "      <td>...</td>\n",
              "      <td>...</td>\n",
              "      <td>...</td>\n",
              "      <td>...</td>\n",
              "    </tr>\n",
              "    <tr>\n",
              "      <th>999996</th>\n",
              "      <td>b55a949e1f4069e85f1ed50ddb0b49502bd6f4f032c6c5...</td>\n",
              "      <td>6</td>\n",
              "      <td>00:00:18.704000</td>\n",
              "      <td>1</td>\n",
              "    </tr>\n",
              "    <tr>\n",
              "      <th>999997</th>\n",
              "      <td>831812f2b15948a0e9de791ffc6a2a213c3ee9c3ab8f92...</td>\n",
              "      <td>6</td>\n",
              "      <td>00:06:59.893000</td>\n",
              "      <td>1</td>\n",
              "    </tr>\n",
              "    <tr>\n",
              "      <th>999998</th>\n",
              "      <td>118a182418c18138d2149f57277a3773a361dcf74e4f63...</td>\n",
              "      <td>6</td>\n",
              "      <td>00:13:58.478000</td>\n",
              "      <td>1</td>\n",
              "    </tr>\n",
              "    <tr>\n",
              "      <th>999999</th>\n",
              "      <td>55416c668c410286872b5a0bc73749c16780c03d81d3fb...</td>\n",
              "      <td>2</td>\n",
              "      <td>00:01:00.404000</td>\n",
              "      <td>1</td>\n",
              "    </tr>\n",
              "    <tr>\n",
              "      <th>1000000</th>\n",
              "      <td>e1e563193943dadb9b6ed3b3c7124bf8692d81bdea9c33...</td>\n",
              "      <td>6</td>\n",
              "      <td>00:28:08.322000</td>\n",
              "      <td>1</td>\n",
              "    </tr>\n",
              "  </tbody>\n",
              "</table>\n",
              "<p>1000001 rows × 4 columns</p>\n",
              "</div>"
            ],
            "text/plain": [
              "                                                    hashed  ...  call_num\n",
              "0        967393e81d99ce8e577ee130b7ce8e4fd45e3e9cecb560...  ...         1\n",
              "1        02181a0c962f34f019bc9d5b582fb0ec79b1441f96aa4d...  ...         1\n",
              "2        86022904c5cf72a54978479c94041f4256d6c3c2a1f71c...  ...         1\n",
              "3        aafb40d212fe18ff4eafb82fdcf3b53f2161cb3ce59de4...  ...         1\n",
              "4        c87c2fad141edf323f3787335b54be22945a02fe052448...  ...         1\n",
              "...                                                    ...  ...       ...\n",
              "999996   b55a949e1f4069e85f1ed50ddb0b49502bd6f4f032c6c5...  ...         1\n",
              "999997   831812f2b15948a0e9de791ffc6a2a213c3ee9c3ab8f92...  ...         1\n",
              "999998   118a182418c18138d2149f57277a3773a361dcf74e4f63...  ...         1\n",
              "999999   55416c668c410286872b5a0bc73749c16780c03d81d3fb...  ...         1\n",
              "1000000  e1e563193943dadb9b6ed3b3c7124bf8692d81bdea9c33...  ...         1\n",
              "\n",
              "[1000001 rows x 4 columns]"
            ]
          },
          "metadata": {
            "tags": []
          },
          "execution_count": 39
        }
      ]
    },
    {
      "cell_type": "code",
      "metadata": {
        "id": "j_K1WGnm5fie",
        "colab_type": "code",
        "colab": {
          "base_uri": "https://localhost:8080/",
          "height": 297
        },
        "outputId": "b8979ab3-9089-4040-ddc7-8cba5e1a9ec1"
      },
      "source": [
        "temp.describe()"
      ],
      "execution_count": null,
      "outputs": [
        {
          "output_type": "execute_result",
          "data": {
            "text/html": [
              "<div>\n",
              "<style scoped>\n",
              "    .dataframe tbody tr th:only-of-type {\n",
              "        vertical-align: middle;\n",
              "    }\n",
              "\n",
              "    .dataframe tbody tr th {\n",
              "        vertical-align: top;\n",
              "    }\n",
              "\n",
              "    .dataframe thead th {\n",
              "        text-align: right;\n",
              "    }\n",
              "</style>\n",
              "<table border=\"1\" class=\"dataframe\">\n",
              "  <thead>\n",
              "    <tr style=\"text-align: right;\">\n",
              "      <th></th>\n",
              "      <th>p_num</th>\n",
              "      <th>call_duration</th>\n",
              "      <th>call_num</th>\n",
              "    </tr>\n",
              "  </thead>\n",
              "  <tbody>\n",
              "    <tr>\n",
              "      <th>count</th>\n",
              "      <td>1000001.00</td>\n",
              "      <td>1000001</td>\n",
              "      <td>1000001.00</td>\n",
              "    </tr>\n",
              "    <tr>\n",
              "      <th>mean</th>\n",
              "      <td>4.94</td>\n",
              "      <td>0 days 00:26:00.871536</td>\n",
              "      <td>1.00</td>\n",
              "    </tr>\n",
              "    <tr>\n",
              "      <th>std</th>\n",
              "      <td>2.36</td>\n",
              "      <td>0 days 03:20:04.583967</td>\n",
              "      <td>0.00</td>\n",
              "    </tr>\n",
              "    <tr>\n",
              "      <th>min</th>\n",
              "      <td>1.00</td>\n",
              "      <td>0 days 00:00:00</td>\n",
              "      <td>1.00</td>\n",
              "    </tr>\n",
              "    <tr>\n",
              "      <th>25%</th>\n",
              "      <td>3.00</td>\n",
              "      <td>0 days 00:01:36.769000</td>\n",
              "      <td>1.00</td>\n",
              "    </tr>\n",
              "    <tr>\n",
              "      <th>50%</th>\n",
              "      <td>6.00</td>\n",
              "      <td>0 days 00:09:27.184000</td>\n",
              "      <td>1.00</td>\n",
              "    </tr>\n",
              "    <tr>\n",
              "      <th>75%</th>\n",
              "      <td>6.00</td>\n",
              "      <td>0 days 00:18:47.605000</td>\n",
              "      <td>1.00</td>\n",
              "    </tr>\n",
              "    <tr>\n",
              "      <th>max</th>\n",
              "      <td>177.00</td>\n",
              "      <td>6 days 17:07:59.592000</td>\n",
              "      <td>1.00</td>\n",
              "    </tr>\n",
              "  </tbody>\n",
              "</table>\n",
              "</div>"
            ],
            "text/plain": [
              "           p_num           call_duration   call_num\n",
              "count 1000001.00                 1000001 1000001.00\n",
              "mean        4.94  0 days 00:26:00.871536       1.00\n",
              "std         2.36  0 days 03:20:04.583967       0.00\n",
              "min         1.00         0 days 00:00:00       1.00\n",
              "25%         3.00  0 days 00:01:36.769000       1.00\n",
              "50%         6.00  0 days 00:09:27.184000       1.00\n",
              "75%         6.00  0 days 00:18:47.605000       1.00\n",
              "max       177.00  6 days 17:07:59.592000       1.00"
            ]
          },
          "metadata": {
            "tags": []
          },
          "execution_count": 40
        }
      ]
    },
    {
      "cell_type": "code",
      "metadata": {
        "id": "iUiAVBQ0-UUW",
        "colab_type": "code",
        "colab": {}
      },
      "source": [
        "temp['call_duration'] = temp['call_duration'].dt.total_seconds()"
      ],
      "execution_count": null,
      "outputs": []
    },
    {
      "cell_type": "markdown",
      "metadata": {
        "id": "0YVeabZYKmRJ",
        "colab_type": "text"
      },
      "source": [
        "초로 변경한 뒤에 시간으로 계산하도록 하자"
      ]
    },
    {
      "cell_type": "code",
      "metadata": {
        "id": "oF0bNxUi-T_B",
        "colab_type": "code",
        "colab": {
          "base_uri": "https://localhost:8080/",
          "height": 419
        },
        "outputId": "11108ed5-e40b-4ee6-b4c1-881162d41631"
      },
      "source": [
        "temp"
      ],
      "execution_count": null,
      "outputs": [
        {
          "output_type": "execute_result",
          "data": {
            "text/html": [
              "<div>\n",
              "<style scoped>\n",
              "    .dataframe tbody tr th:only-of-type {\n",
              "        vertical-align: middle;\n",
              "    }\n",
              "\n",
              "    .dataframe tbody tr th {\n",
              "        vertical-align: top;\n",
              "    }\n",
              "\n",
              "    .dataframe thead th {\n",
              "        text-align: right;\n",
              "    }\n",
              "</style>\n",
              "<table border=\"1\" class=\"dataframe\">\n",
              "  <thead>\n",
              "    <tr style=\"text-align: right;\">\n",
              "      <th></th>\n",
              "      <th>hashed</th>\n",
              "      <th>p_num</th>\n",
              "      <th>call_duration</th>\n",
              "      <th>call_num</th>\n",
              "    </tr>\n",
              "  </thead>\n",
              "  <tbody>\n",
              "    <tr>\n",
              "      <th>0</th>\n",
              "      <td>967393e81d99ce8e577ee130b7ce8e4fd45e3e9cecb560...</td>\n",
              "      <td>3</td>\n",
              "      <td>1591.64</td>\n",
              "      <td>1</td>\n",
              "    </tr>\n",
              "    <tr>\n",
              "      <th>1</th>\n",
              "      <td>02181a0c962f34f019bc9d5b582fb0ec79b1441f96aa4d...</td>\n",
              "      <td>5</td>\n",
              "      <td>7357.34</td>\n",
              "      <td>1</td>\n",
              "    </tr>\n",
              "    <tr>\n",
              "      <th>2</th>\n",
              "      <td>86022904c5cf72a54978479c94041f4256d6c3c2a1f71c...</td>\n",
              "      <td>3</td>\n",
              "      <td>615.00</td>\n",
              "      <td>1</td>\n",
              "    </tr>\n",
              "    <tr>\n",
              "      <th>3</th>\n",
              "      <td>aafb40d212fe18ff4eafb82fdcf3b53f2161cb3ce59de4...</td>\n",
              "      <td>6</td>\n",
              "      <td>1538.26</td>\n",
              "      <td>1</td>\n",
              "    </tr>\n",
              "    <tr>\n",
              "      <th>4</th>\n",
              "      <td>c87c2fad141edf323f3787335b54be22945a02fe052448...</td>\n",
              "      <td>6</td>\n",
              "      <td>1293.82</td>\n",
              "      <td>1</td>\n",
              "    </tr>\n",
              "    <tr>\n",
              "      <th>...</th>\n",
              "      <td>...</td>\n",
              "      <td>...</td>\n",
              "      <td>...</td>\n",
              "      <td>...</td>\n",
              "    </tr>\n",
              "    <tr>\n",
              "      <th>999996</th>\n",
              "      <td>b55a949e1f4069e85f1ed50ddb0b49502bd6f4f032c6c5...</td>\n",
              "      <td>6</td>\n",
              "      <td>18.70</td>\n",
              "      <td>1</td>\n",
              "    </tr>\n",
              "    <tr>\n",
              "      <th>999997</th>\n",
              "      <td>831812f2b15948a0e9de791ffc6a2a213c3ee9c3ab8f92...</td>\n",
              "      <td>6</td>\n",
              "      <td>419.89</td>\n",
              "      <td>1</td>\n",
              "    </tr>\n",
              "    <tr>\n",
              "      <th>999998</th>\n",
              "      <td>118a182418c18138d2149f57277a3773a361dcf74e4f63...</td>\n",
              "      <td>6</td>\n",
              "      <td>838.48</td>\n",
              "      <td>1</td>\n",
              "    </tr>\n",
              "    <tr>\n",
              "      <th>999999</th>\n",
              "      <td>55416c668c410286872b5a0bc73749c16780c03d81d3fb...</td>\n",
              "      <td>2</td>\n",
              "      <td>60.40</td>\n",
              "      <td>1</td>\n",
              "    </tr>\n",
              "    <tr>\n",
              "      <th>1000000</th>\n",
              "      <td>e1e563193943dadb9b6ed3b3c7124bf8692d81bdea9c33...</td>\n",
              "      <td>6</td>\n",
              "      <td>1688.32</td>\n",
              "      <td>1</td>\n",
              "    </tr>\n",
              "  </tbody>\n",
              "</table>\n",
              "<p>1000001 rows × 4 columns</p>\n",
              "</div>"
            ],
            "text/plain": [
              "                                                    hashed  ...  call_num\n",
              "0        967393e81d99ce8e577ee130b7ce8e4fd45e3e9cecb560...  ...         1\n",
              "1        02181a0c962f34f019bc9d5b582fb0ec79b1441f96aa4d...  ...         1\n",
              "2        86022904c5cf72a54978479c94041f4256d6c3c2a1f71c...  ...         1\n",
              "3        aafb40d212fe18ff4eafb82fdcf3b53f2161cb3ce59de4...  ...         1\n",
              "4        c87c2fad141edf323f3787335b54be22945a02fe052448...  ...         1\n",
              "...                                                    ...  ...       ...\n",
              "999996   b55a949e1f4069e85f1ed50ddb0b49502bd6f4f032c6c5...  ...         1\n",
              "999997   831812f2b15948a0e9de791ffc6a2a213c3ee9c3ab8f92...  ...         1\n",
              "999998   118a182418c18138d2149f57277a3773a361dcf74e4f63...  ...         1\n",
              "999999   55416c668c410286872b5a0bc73749c16780c03d81d3fb...  ...         1\n",
              "1000000  e1e563193943dadb9b6ed3b3c7124bf8692d81bdea9c33...  ...         1\n",
              "\n",
              "[1000001 rows x 4 columns]"
            ]
          },
          "metadata": {
            "tags": []
          },
          "execution_count": 42
        }
      ]
    },
    {
      "cell_type": "markdown",
      "metadata": {
        "id": "7TCZZgW_Ck30",
        "colab_type": "text"
      },
      "source": [
        "### 3.1.1 사람별 통계량 샘플테스트 100만개"
      ]
    },
    {
      "cell_type": "code",
      "metadata": {
        "id": "Ct-8ZTBCUSf0",
        "colab_type": "code",
        "colab": {}
      },
      "source": [
        "df1 = temp.copy()"
      ],
      "execution_count": null,
      "outputs": []
    },
    {
      "cell_type": "code",
      "metadata": {
        "id": "19j5AcI-UcYf",
        "colab_type": "code",
        "colab": {}
      },
      "source": [
        "long1 =  df1.set_index(df1.columns.drop('hashed', 1).tolist()).hashed\\\n",
        "        .str.split(',', expand = True)\\\n",
        "        .stack()\\\n",
        "        .reset_index()\\\n",
        "        .rename(columns = {0 : 'hashed'})\\\n",
        "        .loc[:, df1.columns]"
      ],
      "execution_count": null,
      "outputs": []
    },
    {
      "cell_type": "code",
      "metadata": {
        "id": "wV9tQSDdOLl_",
        "colab_type": "code",
        "colab": {
          "base_uri": "https://localhost:8080/",
          "height": 35
        },
        "outputId": "19b0803d-c4c9-4ad9-8c4a-a2594bb27dbf"
      },
      "source": [
        "gc.collect()"
      ],
      "execution_count": null,
      "outputs": [
        {
          "output_type": "execute_result",
          "data": {
            "text/plain": [
              "40"
            ]
          },
          "metadata": {
            "tags": []
          },
          "execution_count": 45
        }
      ]
    },
    {
      "cell_type": "code",
      "metadata": {
        "id": "JbqAaU7owDfA",
        "colab_type": "code",
        "colab": {
          "base_uri": "https://localhost:8080/",
          "height": 450
        },
        "outputId": "42e9d886-4e8f-44a3-9398-eedb43876792"
      },
      "source": [
        "long1.groupby(\"hashed\").sum()"
      ],
      "execution_count": null,
      "outputs": [
        {
          "output_type": "execute_result",
          "data": {
            "text/html": [
              "<div>\n",
              "<style scoped>\n",
              "    .dataframe tbody tr th:only-of-type {\n",
              "        vertical-align: middle;\n",
              "    }\n",
              "\n",
              "    .dataframe tbody tr th {\n",
              "        vertical-align: top;\n",
              "    }\n",
              "\n",
              "    .dataframe thead th {\n",
              "        text-align: right;\n",
              "    }\n",
              "</style>\n",
              "<table border=\"1\" class=\"dataframe\">\n",
              "  <thead>\n",
              "    <tr style=\"text-align: right;\">\n",
              "      <th></th>\n",
              "      <th>p_num</th>\n",
              "      <th>call_duration</th>\n",
              "      <th>call_num</th>\n",
              "    </tr>\n",
              "    <tr>\n",
              "      <th>hashed</th>\n",
              "      <th></th>\n",
              "      <th></th>\n",
              "      <th></th>\n",
              "    </tr>\n",
              "  </thead>\n",
              "  <tbody>\n",
              "    <tr>\n",
              "      <th>000020b4fa2af1e40c813436e5054bce70b703d0039dcdad4ccb5b287c3fadbc</th>\n",
              "      <td>871</td>\n",
              "      <td>518859.88</td>\n",
              "      <td>143</td>\n",
              "    </tr>\n",
              "    <tr>\n",
              "      <th>0000264b01392acfde44f9d8494f112a701dc5d3e5fda6ad090cb205727637e0</th>\n",
              "      <td>506</td>\n",
              "      <td>99407.99</td>\n",
              "      <td>113</td>\n",
              "    </tr>\n",
              "    <tr>\n",
              "      <th>0000988c5778e9d6a861fee8fbfd88ec2fdc9108c1acd6d9c0b4d51637787b37</th>\n",
              "      <td>24</td>\n",
              "      <td>4937.64</td>\n",
              "      <td>4</td>\n",
              "    </tr>\n",
              "    <tr>\n",
              "      <th>0000a2ff91f6891797708f346d8e3790fa75c1872d6fdc8cf9b4c98ad2112dd3</th>\n",
              "      <td>177</td>\n",
              "      <td>59343.36</td>\n",
              "      <td>38</td>\n",
              "    </tr>\n",
              "    <tr>\n",
              "      <th>0000d357f373870ecf00e72c10d24e852234de94cc49dc2eff60f161d02443f3</th>\n",
              "      <td>469</td>\n",
              "      <td>69912.78</td>\n",
              "      <td>80</td>\n",
              "    </tr>\n",
              "    <tr>\n",
              "      <th>...</th>\n",
              "      <td>...</td>\n",
              "      <td>...</td>\n",
              "      <td>...</td>\n",
              "    </tr>\n",
              "    <tr>\n",
              "      <th>fffd9c46a6762a7d4fdc43026abf75ab1a7b9352818f04992578cbf63bfbb471</th>\n",
              "      <td>12</td>\n",
              "      <td>1406.71</td>\n",
              "      <td>2</td>\n",
              "    </tr>\n",
              "    <tr>\n",
              "      <th>fffda90a56ec6dcad062a16dd8ee75f7ef85a83b2e2571aa1a523cfe926d2521</th>\n",
              "      <td>353</td>\n",
              "      <td>38324.36</td>\n",
              "      <td>59</td>\n",
              "    </tr>\n",
              "    <tr>\n",
              "      <th>fffec3d7fa3b91fbb1ec4283e90a757571c5f5efc8c6d008af60ac1fee3206ca</th>\n",
              "      <td>6</td>\n",
              "      <td>1407.90</td>\n",
              "      <td>1</td>\n",
              "    </tr>\n",
              "    <tr>\n",
              "      <th>ffff9a16d20fee70bc5d424a5334e61226cbcf8ef7c6a1edaed452eb4a0fd4df</th>\n",
              "      <td>36</td>\n",
              "      <td>5686.75</td>\n",
              "      <td>6</td>\n",
              "    </tr>\n",
              "    <tr>\n",
              "      <th>ffffea6ac1bc651cbfcf0b0e04dbbb35d8637ba7b68cdd74d3bb0f6454b3ce67</th>\n",
              "      <td>66</td>\n",
              "      <td>10715.55</td>\n",
              "      <td>11</td>\n",
              "    </tr>\n",
              "  </tbody>\n",
              "</table>\n",
              "<p>192487 rows × 3 columns</p>\n",
              "</div>"
            ],
            "text/plain": [
              "                                                    p_num  ...  call_num\n",
              "hashed                                                     ...          \n",
              "000020b4fa2af1e40c813436e5054bce70b703d0039dcda...    871  ...       143\n",
              "0000264b01392acfde44f9d8494f112a701dc5d3e5fda6a...    506  ...       113\n",
              "0000988c5778e9d6a861fee8fbfd88ec2fdc9108c1acd6d...     24  ...         4\n",
              "0000a2ff91f6891797708f346d8e3790fa75c1872d6fdc8...    177  ...        38\n",
              "0000d357f373870ecf00e72c10d24e852234de94cc49dc2...    469  ...        80\n",
              "...                                                   ...  ...       ...\n",
              "fffd9c46a6762a7d4fdc43026abf75ab1a7b9352818f049...     12  ...         2\n",
              "fffda90a56ec6dcad062a16dd8ee75f7ef85a83b2e2571a...    353  ...        59\n",
              "fffec3d7fa3b91fbb1ec4283e90a757571c5f5efc8c6d00...      6  ...         1\n",
              "ffff9a16d20fee70bc5d424a5334e61226cbcf8ef7c6a1e...     36  ...         6\n",
              "ffffea6ac1bc651cbfcf0b0e04dbbb35d8637ba7b68cdd7...     66  ...        11\n",
              "\n",
              "[192487 rows x 3 columns]"
            ]
          },
          "metadata": {
            "tags": []
          },
          "execution_count": 46
        }
      ]
    },
    {
      "cell_type": "markdown",
      "metadata": {
        "id": "4hT66QDH0KMo",
        "colab_type": "text"
      },
      "source": [
        "기존 call_num에 1을 부과하여 사람별 통화건수를 확인하려고 했다.  \n",
        "groupby로 묶으면 사람별로 통화건수를 파악할 수 있게 되었다.  \n",
        "p_num은 자신이 참여한 통화에서 자신을 포함한 통화 참여자의 총 인원수를 말한다. 어떤 사람이 참여한 총 통화 건수에서 자신을 포함한 참여했던 사람의 수이다."
      ]
    },
    {
      "cell_type": "code",
      "metadata": {
        "id": "7UnLChdkHb3E",
        "colab_type": "code",
        "colab": {
          "base_uri": "https://localhost:8080/",
          "height": 450
        },
        "outputId": "064b589e-d441-45ca-d92e-82db56672454"
      },
      "source": [
        "long1.groupby(\"hashed\").sum()[[\"call_duration\"]] / 3600"
      ],
      "execution_count": null,
      "outputs": [
        {
          "output_type": "execute_result",
          "data": {
            "text/html": [
              "<div>\n",
              "<style scoped>\n",
              "    .dataframe tbody tr th:only-of-type {\n",
              "        vertical-align: middle;\n",
              "    }\n",
              "\n",
              "    .dataframe tbody tr th {\n",
              "        vertical-align: top;\n",
              "    }\n",
              "\n",
              "    .dataframe thead th {\n",
              "        text-align: right;\n",
              "    }\n",
              "</style>\n",
              "<table border=\"1\" class=\"dataframe\">\n",
              "  <thead>\n",
              "    <tr style=\"text-align: right;\">\n",
              "      <th></th>\n",
              "      <th>call_duration</th>\n",
              "    </tr>\n",
              "    <tr>\n",
              "      <th>hashed</th>\n",
              "      <th></th>\n",
              "    </tr>\n",
              "  </thead>\n",
              "  <tbody>\n",
              "    <tr>\n",
              "      <th>000020b4fa2af1e40c813436e5054bce70b703d0039dcdad4ccb5b287c3fadbc</th>\n",
              "      <td>144.13</td>\n",
              "    </tr>\n",
              "    <tr>\n",
              "      <th>0000264b01392acfde44f9d8494f112a701dc5d3e5fda6ad090cb205727637e0</th>\n",
              "      <td>27.61</td>\n",
              "    </tr>\n",
              "    <tr>\n",
              "      <th>0000988c5778e9d6a861fee8fbfd88ec2fdc9108c1acd6d9c0b4d51637787b37</th>\n",
              "      <td>1.37</td>\n",
              "    </tr>\n",
              "    <tr>\n",
              "      <th>0000a2ff91f6891797708f346d8e3790fa75c1872d6fdc8cf9b4c98ad2112dd3</th>\n",
              "      <td>16.48</td>\n",
              "    </tr>\n",
              "    <tr>\n",
              "      <th>0000d357f373870ecf00e72c10d24e852234de94cc49dc2eff60f161d02443f3</th>\n",
              "      <td>19.42</td>\n",
              "    </tr>\n",
              "    <tr>\n",
              "      <th>...</th>\n",
              "      <td>...</td>\n",
              "    </tr>\n",
              "    <tr>\n",
              "      <th>fffd9c46a6762a7d4fdc43026abf75ab1a7b9352818f04992578cbf63bfbb471</th>\n",
              "      <td>0.39</td>\n",
              "    </tr>\n",
              "    <tr>\n",
              "      <th>fffda90a56ec6dcad062a16dd8ee75f7ef85a83b2e2571aa1a523cfe926d2521</th>\n",
              "      <td>10.65</td>\n",
              "    </tr>\n",
              "    <tr>\n",
              "      <th>fffec3d7fa3b91fbb1ec4283e90a757571c5f5efc8c6d008af60ac1fee3206ca</th>\n",
              "      <td>0.39</td>\n",
              "    </tr>\n",
              "    <tr>\n",
              "      <th>ffff9a16d20fee70bc5d424a5334e61226cbcf8ef7c6a1edaed452eb4a0fd4df</th>\n",
              "      <td>1.58</td>\n",
              "    </tr>\n",
              "    <tr>\n",
              "      <th>ffffea6ac1bc651cbfcf0b0e04dbbb35d8637ba7b68cdd74d3bb0f6454b3ce67</th>\n",
              "      <td>2.98</td>\n",
              "    </tr>\n",
              "  </tbody>\n",
              "</table>\n",
              "<p>192487 rows × 1 columns</p>\n",
              "</div>"
            ],
            "text/plain": [
              "                                                    call_duration\n",
              "hashed                                                           \n",
              "000020b4fa2af1e40c813436e5054bce70b703d0039dcda...         144.13\n",
              "0000264b01392acfde44f9d8494f112a701dc5d3e5fda6a...          27.61\n",
              "0000988c5778e9d6a861fee8fbfd88ec2fdc9108c1acd6d...           1.37\n",
              "0000a2ff91f6891797708f346d8e3790fa75c1872d6fdc8...          16.48\n",
              "0000d357f373870ecf00e72c10d24e852234de94cc49dc2...          19.42\n",
              "...                                                           ...\n",
              "fffd9c46a6762a7d4fdc43026abf75ab1a7b9352818f049...           0.39\n",
              "fffda90a56ec6dcad062a16dd8ee75f7ef85a83b2e2571a...          10.65\n",
              "fffec3d7fa3b91fbb1ec4283e90a757571c5f5efc8c6d00...           0.39\n",
              "ffff9a16d20fee70bc5d424a5334e61226cbcf8ef7c6a1e...           1.58\n",
              "ffffea6ac1bc651cbfcf0b0e04dbbb35d8637ba7b68cdd7...           2.98\n",
              "\n",
              "[192487 rows x 1 columns]"
            ]
          },
          "metadata": {
            "tags": []
          },
          "execution_count": 56
        }
      ]
    },
    {
      "cell_type": "markdown",
      "metadata": {
        "id": "jbGCDV6dKYL8",
        "colab_type": "text"
      },
      "source": [
        "각 사람별 총 통화시간(hour)"
      ]
    },
    {
      "cell_type": "code",
      "metadata": {
        "id": "bwnYaWx660Zf",
        "colab_type": "code",
        "colab": {
          "base_uri": "https://localhost:8080/",
          "height": 35
        },
        "outputId": "376cd72d-e2d2-45e4-ad85-b0b814c9e8a4"
      },
      "source": [
        "gc.collect()"
      ],
      "execution_count": null,
      "outputs": [
        {
          "output_type": "execute_result",
          "data": {
            "text/plain": [
              "0"
            ]
          },
          "metadata": {
            "tags": []
          },
          "execution_count": 58
        }
      ]
    },
    {
      "cell_type": "code",
      "metadata": {
        "id": "Hehuv_Vl60Xf",
        "colab_type": "code",
        "colab": {
          "base_uri": "https://localhost:8080/",
          "height": 297
        },
        "outputId": "7fe410c9-5bb5-442a-8f1a-e28d29cf1b09"
      },
      "source": [
        "long1.groupby(\"hashed\").sum().describe()"
      ],
      "execution_count": null,
      "outputs": [
        {
          "output_type": "execute_result",
          "data": {
            "text/html": [
              "<div>\n",
              "<style scoped>\n",
              "    .dataframe tbody tr th:only-of-type {\n",
              "        vertical-align: middle;\n",
              "    }\n",
              "\n",
              "    .dataframe tbody tr th {\n",
              "        vertical-align: top;\n",
              "    }\n",
              "\n",
              "    .dataframe thead th {\n",
              "        text-align: right;\n",
              "    }\n",
              "</style>\n",
              "<table border=\"1\" class=\"dataframe\">\n",
              "  <thead>\n",
              "    <tr style=\"text-align: right;\">\n",
              "      <th></th>\n",
              "      <th>p_num</th>\n",
              "      <th>call_duration</th>\n",
              "      <th>call_num</th>\n",
              "    </tr>\n",
              "  </thead>\n",
              "  <tbody>\n",
              "    <tr>\n",
              "      <th>count</th>\n",
              "      <td>192487.00</td>\n",
              "      <td>192487.00</td>\n",
              "      <td>192487.00</td>\n",
              "    </tr>\n",
              "    <tr>\n",
              "      <th>mean</th>\n",
              "      <td>155.77</td>\n",
              "      <td>40161.80</td>\n",
              "      <td>25.67</td>\n",
              "    </tr>\n",
              "    <tr>\n",
              "      <th>std</th>\n",
              "      <td>226.45</td>\n",
              "      <td>89587.01</td>\n",
              "      <td>41.06</td>\n",
              "    </tr>\n",
              "    <tr>\n",
              "      <th>min</th>\n",
              "      <td>1.00</td>\n",
              "      <td>0.00</td>\n",
              "      <td>1.00</td>\n",
              "    </tr>\n",
              "    <tr>\n",
              "      <th>25%</th>\n",
              "      <td>17.00</td>\n",
              "      <td>1743.92</td>\n",
              "      <td>2.00</td>\n",
              "    </tr>\n",
              "    <tr>\n",
              "      <th>50%</th>\n",
              "      <td>60.00</td>\n",
              "      <td>8901.84</td>\n",
              "      <td>10.00</td>\n",
              "    </tr>\n",
              "    <tr>\n",
              "      <th>75%</th>\n",
              "      <td>200.00</td>\n",
              "      <td>38394.18</td>\n",
              "      <td>33.00</td>\n",
              "    </tr>\n",
              "    <tr>\n",
              "      <th>max</th>\n",
              "      <td>12848.00</td>\n",
              "      <td>7645507.20</td>\n",
              "      <td>4285.00</td>\n",
              "    </tr>\n",
              "  </tbody>\n",
              "</table>\n",
              "</div>"
            ],
            "text/plain": [
              "          p_num  call_duration  call_num\n",
              "count 192487.00      192487.00 192487.00\n",
              "mean     155.77       40161.80     25.67\n",
              "std      226.45       89587.01     41.06\n",
              "min        1.00           0.00      1.00\n",
              "25%       17.00        1743.92      2.00\n",
              "50%       60.00        8901.84     10.00\n",
              "75%      200.00       38394.18     33.00\n",
              "max    12848.00     7645507.20   4285.00"
            ]
          },
          "metadata": {
            "tags": []
          },
          "execution_count": 59
        }
      ]
    },
    {
      "cell_type": "code",
      "metadata": {
        "id": "xXiLjFTg60T0",
        "colab_type": "code",
        "colab": {
          "base_uri": "https://localhost:8080/",
          "height": 215
        },
        "outputId": "7d5c9a7b-19bc-4e40-f5b8-bb6b0dd8f9af"
      },
      "source": [
        "temp.info()"
      ],
      "execution_count": null,
      "outputs": [
        {
          "output_type": "stream",
          "text": [
            "<class 'pandas.core.frame.DataFrame'>\n",
            "RangeIndex: 1000001 entries, 0 to 1000000\n",
            "Data columns (total 4 columns):\n",
            " #   Column         Non-Null Count    Dtype  \n",
            "---  ------         --------------    -----  \n",
            " 0   hashed         1000001 non-null  object \n",
            " 1   p_num          1000001 non-null  int64  \n",
            " 2   call_duration  1000001 non-null  float64\n",
            " 3   call_num       1000001 non-null  int64  \n",
            "dtypes: float64(1), int64(2), object(1)\n",
            "memory usage: 30.5+ MB\n"
          ],
          "name": "stdout"
        }
      ]
    },
    {
      "cell_type": "code",
      "metadata": {
        "id": "HHikTnX160RB",
        "colab_type": "code",
        "colab": {
          "base_uri": "https://localhost:8080/",
          "height": 35
        },
        "outputId": "cbab1c4a-d2c5-4247-c5ff-48c16f60c1c3"
      },
      "source": [
        ""
      ],
      "execution_count": null,
      "outputs": [
        {
          "output_type": "execute_result",
          "data": {
            "text/plain": [
              "array([1591, 7357,  615, ...,  838,   60, 1688])"
            ]
          },
          "metadata": {
            "tags": []
          },
          "execution_count": 50
        }
      ]
    },
    {
      "cell_type": "code",
      "metadata": {
        "id": "Ss8TcOqa-Ki0",
        "colab_type": "code",
        "colab": {}
      },
      "source": [
        ""
      ],
      "execution_count": null,
      "outputs": []
    },
    {
      "cell_type": "code",
      "metadata": {
        "id": "9p5HhxfmReIc",
        "colab_type": "code",
        "colab": {}
      },
      "source": [
        "# temp['call_duration'].values.astype(np.int64)\n",
        "# temp.to_excel('/content/koo.xlsx', index = False)"
      ],
      "execution_count": null,
      "outputs": []
    },
    {
      "cell_type": "markdown",
      "metadata": {
        "id": "Uml1_LOEK_dJ",
        "colab_type": "text"
      },
      "source": [
        "## 진행"
      ]
    },
    {
      "cell_type": "code",
      "metadata": {
        "id": "lsYyf66wK_bB",
        "colab_type": "code",
        "colab": {}
      },
      "source": [
        "data['call_num'] = 1"
      ],
      "execution_count": 9,
      "outputs": []
    },
    {
      "cell_type": "code",
      "metadata": {
        "id": "nkrO_yfXK_ZD",
        "colab_type": "code",
        "colab": {}
      },
      "source": [
        "data['call_duration'] = data['call_duration'].dt.total_seconds()"
      ],
      "execution_count": null,
      "outputs": []
    },
    {
      "cell_type": "code",
      "metadata": {
        "id": "sf_i93Cho7-b",
        "colab_type": "code",
        "colab": {}
      },
      "source": [
        "data['call_duration'] = data['call_duration'] / 3600"
      ],
      "execution_count": 40,
      "outputs": []
    },
    {
      "cell_type": "code",
      "metadata": {
        "id": "G6lON_dAqMfe",
        "colab_type": "code",
        "colab": {
          "base_uri": "https://localhost:8080/",
          "height": 589
        },
        "outputId": "2ba8267f-578b-437a-aee7-8c702ec7c353"
      },
      "source": [
        "data"
      ],
      "execution_count": 41,
      "outputs": [
        {
          "output_type": "execute_result",
          "data": {
            "text/html": [
              "<div>\n",
              "<style scoped>\n",
              "    .dataframe tbody tr th:only-of-type {\n",
              "        vertical-align: middle;\n",
              "    }\n",
              "\n",
              "    .dataframe tbody tr th {\n",
              "        vertical-align: top;\n",
              "    }\n",
              "\n",
              "    .dataframe thead th {\n",
              "        text-align: right;\n",
              "    }\n",
              "</style>\n",
              "<table border=\"1\" class=\"dataframe\">\n",
              "  <thead>\n",
              "    <tr style=\"text-align: right;\">\n",
              "      <th></th>\n",
              "      <th>call_start_day</th>\n",
              "      <th>call_start_time</th>\n",
              "      <th>call_end_day</th>\n",
              "      <th>call_end_time</th>\n",
              "      <th>hashed</th>\n",
              "      <th>p_num</th>\n",
              "      <th>diff_day</th>\n",
              "      <th>new_end_time</th>\n",
              "      <th>call_duration</th>\n",
              "      <th>call_num</th>\n",
              "    </tr>\n",
              "  </thead>\n",
              "  <tbody>\n",
              "    <tr>\n",
              "      <th>0</th>\n",
              "      <td>1</td>\n",
              "      <td>1900-01-01 09:14:58.558</td>\n",
              "      <td>1</td>\n",
              "      <td>1900-01-01 09:41:30.200</td>\n",
              "      <td>967393e81d99ce8e577ee130b7ce8e4fd45e3e9cecb560...</td>\n",
              "      <td>3</td>\n",
              "      <td>0</td>\n",
              "      <td>1900-01-01 09:41:30.200</td>\n",
              "      <td>0.442123</td>\n",
              "      <td>1</td>\n",
              "    </tr>\n",
              "    <tr>\n",
              "      <th>1</th>\n",
              "      <td>17</td>\n",
              "      <td>1900-01-01 11:05:05.176</td>\n",
              "      <td>17</td>\n",
              "      <td>1900-01-01 13:07:42.515</td>\n",
              "      <td>02181a0c962f34f019bc9d5b582fb0ec79b1441f96aa4d...</td>\n",
              "      <td>5</td>\n",
              "      <td>0</td>\n",
              "      <td>1900-01-01 13:07:42.515</td>\n",
              "      <td>2.043705</td>\n",
              "      <td>1</td>\n",
              "    </tr>\n",
              "    <tr>\n",
              "      <th>2</th>\n",
              "      <td>20</td>\n",
              "      <td>1900-01-01 02:18:43.172</td>\n",
              "      <td>20</td>\n",
              "      <td>1900-01-01 02:28:58.177</td>\n",
              "      <td>86022904c5cf72a54978479c94041f4256d6c3c2a1f71c...</td>\n",
              "      <td>3</td>\n",
              "      <td>0</td>\n",
              "      <td>1900-01-01 02:28:58.177</td>\n",
              "      <td>0.170835</td>\n",
              "      <td>1</td>\n",
              "    </tr>\n",
              "    <tr>\n",
              "      <th>3</th>\n",
              "      <td>22</td>\n",
              "      <td>1900-01-01 09:22:01.936</td>\n",
              "      <td>22</td>\n",
              "      <td>1900-01-01 09:47:40.192</td>\n",
              "      <td>aafb40d212fe18ff4eafb82fdcf3b53f2161cb3ce59de4...</td>\n",
              "      <td>6</td>\n",
              "      <td>0</td>\n",
              "      <td>1900-01-01 09:47:40.192</td>\n",
              "      <td>0.427293</td>\n",
              "      <td>1</td>\n",
              "    </tr>\n",
              "    <tr>\n",
              "      <th>4</th>\n",
              "      <td>26</td>\n",
              "      <td>1900-01-01 06:29:21.182</td>\n",
              "      <td>26</td>\n",
              "      <td>1900-01-01 06:50:55.004</td>\n",
              "      <td>c87c2fad141edf323f3787335b54be22945a02fe052448...</td>\n",
              "      <td>6</td>\n",
              "      <td>0</td>\n",
              "      <td>1900-01-01 06:50:55.004</td>\n",
              "      <td>0.359395</td>\n",
              "      <td>1</td>\n",
              "    </tr>\n",
              "    <tr>\n",
              "      <th>...</th>\n",
              "      <td>...</td>\n",
              "      <td>...</td>\n",
              "      <td>...</td>\n",
              "      <td>...</td>\n",
              "      <td>...</td>\n",
              "      <td>...</td>\n",
              "      <td>...</td>\n",
              "      <td>...</td>\n",
              "      <td>...</td>\n",
              "      <td>...</td>\n",
              "    </tr>\n",
              "    <tr>\n",
              "      <th>6962336</th>\n",
              "      <td>55</td>\n",
              "      <td>1900-01-01 08:09:30.086</td>\n",
              "      <td>55</td>\n",
              "      <td>1900-01-01 08:29:51.324</td>\n",
              "      <td>a4b6aea6cb58e43911e7cb7d6c0497197db7c4ed16e1c9...</td>\n",
              "      <td>6</td>\n",
              "      <td>0</td>\n",
              "      <td>1900-01-01 08:29:51.324</td>\n",
              "      <td>0.339233</td>\n",
              "      <td>1</td>\n",
              "    </tr>\n",
              "    <tr>\n",
              "      <th>6962337</th>\n",
              "      <td>35</td>\n",
              "      <td>1900-01-01 11:25:25.719</td>\n",
              "      <td>35</td>\n",
              "      <td>1900-01-01 11:47:41.557</td>\n",
              "      <td>4ec597c569b92bd0e1bae4e2a06e13b9657fb81795e194...</td>\n",
              "      <td>12</td>\n",
              "      <td>0</td>\n",
              "      <td>1900-01-01 11:47:41.557</td>\n",
              "      <td>0.371066</td>\n",
              "      <td>1</td>\n",
              "    </tr>\n",
              "    <tr>\n",
              "      <th>6962338</th>\n",
              "      <td>47</td>\n",
              "      <td>1900-01-01 16:29:59.882</td>\n",
              "      <td>47</td>\n",
              "      <td>1900-01-01 16:30:27.386</td>\n",
              "      <td>8092e194a750aae539862ed4405f67a6dd5b492e7e57e3...</td>\n",
              "      <td>6</td>\n",
              "      <td>0</td>\n",
              "      <td>1900-01-01 16:30:27.386</td>\n",
              "      <td>0.007640</td>\n",
              "      <td>1</td>\n",
              "    </tr>\n",
              "    <tr>\n",
              "      <th>6962339</th>\n",
              "      <td>48</td>\n",
              "      <td>1900-01-01 23:43:52.265</td>\n",
              "      <td>48</td>\n",
              "      <td>1900-01-01 23:47:50.285</td>\n",
              "      <td>7176c1516207692857535c30a4650b8e8e586af1fed0fd...</td>\n",
              "      <td>6</td>\n",
              "      <td>0</td>\n",
              "      <td>1900-01-01 23:47:50.285</td>\n",
              "      <td>0.066117</td>\n",
              "      <td>1</td>\n",
              "    </tr>\n",
              "    <tr>\n",
              "      <th>6962340</th>\n",
              "      <td>40</td>\n",
              "      <td>1900-01-01 23:07:31.761</td>\n",
              "      <td>40</td>\n",
              "      <td>1900-01-01 23:11:01.968</td>\n",
              "      <td>11fc85879e5ac9d5c83bfba10d73c4c84c154b9f4d9e1d...</td>\n",
              "      <td>6</td>\n",
              "      <td>0</td>\n",
              "      <td>1900-01-01 23:11:01.968</td>\n",
              "      <td>0.058391</td>\n",
              "      <td>1</td>\n",
              "    </tr>\n",
              "  </tbody>\n",
              "</table>\n",
              "<p>6962341 rows × 10 columns</p>\n",
              "</div>"
            ],
            "text/plain": [
              "         call_start_day         call_start_time  ...  call_duration call_num\n",
              "0                     1 1900-01-01 09:14:58.558  ...       0.442123        1\n",
              "1                    17 1900-01-01 11:05:05.176  ...       2.043705        1\n",
              "2                    20 1900-01-01 02:18:43.172  ...       0.170835        1\n",
              "3                    22 1900-01-01 09:22:01.936  ...       0.427293        1\n",
              "4                    26 1900-01-01 06:29:21.182  ...       0.359395        1\n",
              "...                 ...                     ...  ...            ...      ...\n",
              "6962336              55 1900-01-01 08:09:30.086  ...       0.339233        1\n",
              "6962337              35 1900-01-01 11:25:25.719  ...       0.371066        1\n",
              "6962338              47 1900-01-01 16:29:59.882  ...       0.007640        1\n",
              "6962339              48 1900-01-01 23:43:52.265  ...       0.066117        1\n",
              "6962340              40 1900-01-01 23:07:31.761  ...       0.058391        1\n",
              "\n",
              "[6962341 rows x 10 columns]"
            ]
          },
          "metadata": {
            "tags": []
          },
          "execution_count": 41
        }
      ]
    },
    {
      "cell_type": "code",
      "metadata": {
        "id": "6I1lL8x9K_LI",
        "colab_type": "code",
        "colab": {}
      },
      "source": [
        "temp1 = data.loc[0:1000000,[\"hashed\",\"p_num\",\"call_duration\",\"call_num\"]]\n",
        "temp2 = data.loc[1000001:1500000,[\"hashed\",\"p_num\",\"call_duration\",\"call_num\"]]\n",
        "temp3 = data.loc[1500001:2000000,[\"hashed\",\"p_num\",\"call_duration\",\"call_num\"]]\n",
        "temp4 = data.loc[2000001:3000000,[\"hashed\",\"p_num\",\"call_duration\",\"call_num\"]]\n",
        "temp5 = data.loc[3000001:4000000,[\"hashed\",\"p_num\",\"call_duration\",\"call_num\"]]\n",
        "temp6 = data.loc[4000001:5000000,[\"hashed\",\"p_num\",\"call_duration\",\"call_num\"]]\n",
        "temp7 = data.loc[5000001:6000000,[\"hashed\",\"p_num\",\"call_duration\",\"call_num\"]]\n",
        "temp8 = data.loc[6000001:,[\"hashed\",\"p_num\",\"call_duration\",\"call_num\"]]"
      ],
      "execution_count": 42,
      "outputs": []
    },
    {
      "cell_type": "code",
      "metadata": {
        "id": "_Is_fFz1Lqn-",
        "colab_type": "code",
        "colab": {}
      },
      "source": [
        "# temp2['call_duration'] = temp2['call_duration'].dt.total_seconds()\n",
        "# temp3['call_duration'] = temp3['call_duration'].dt.total_seconds()"
      ],
      "execution_count": 28,
      "outputs": []
    },
    {
      "cell_type": "code",
      "metadata": {
        "id": "aEyCn7sHikcV",
        "colab_type": "code",
        "colab": {}
      },
      "source": [
        "def longform(yourdata):\n",
        "    koo = yourdata.set_index(yourdata.columns.drop('hashed', 1).tolist()).hashed\\\n",
        "        .str.split(',', expand = True)\\\n",
        "        .stack()\\\n",
        "        .reset_index()\\\n",
        "        .rename(columns = {0 : 'hashed'})\\\n",
        "        .loc[:, yourdata.columns]\\\n",
        "        .groupby('hashed').sum()\n",
        "\n",
        "    return koo"
      ],
      "execution_count": 36,
      "outputs": []
    },
    {
      "cell_type": "code",
      "metadata": {
        "id": "KPk1Cdeqisgs",
        "colab_type": "code",
        "colab": {}
      },
      "source": [
        "long1 = longform(temp1)\n",
        "long2 = longform(temp2)\n",
        "long3 = longform(temp3)\n",
        "long4 = longform(temp4)\n",
        "long5 = longform(temp5)\n",
        "long6 = longform(temp6)\n",
        "long7 = longform(temp7)\n",
        "long8 = longform(temp8)"
      ],
      "execution_count": 45,
      "outputs": []
    },
    {
      "cell_type": "markdown",
      "metadata": {
        "id": "ulcjUHr4mEmA",
        "colab_type": "text"
      },
      "source": [
        "### 결합예시"
      ]
    },
    {
      "cell_type": "code",
      "metadata": {
        "id": "F2Kr9jV1mEON",
        "colab_type": "code",
        "colab": {
          "base_uri": "https://localhost:8080/",
          "height": 450
        },
        "outputId": "ac56fd7c-68bf-4cd5-cb36-e9d4063d2366"
      },
      "source": [
        "pd.concat([long1, long2, long3, long4, long5, long6, long7, long8], axis=0).groupby('hashed').sum()"
      ],
      "execution_count": 48,
      "outputs": [
        {
          "output_type": "execute_result",
          "data": {
            "text/html": [
              "<div>\n",
              "<style scoped>\n",
              "    .dataframe tbody tr th:only-of-type {\n",
              "        vertical-align: middle;\n",
              "    }\n",
              "\n",
              "    .dataframe tbody tr th {\n",
              "        vertical-align: top;\n",
              "    }\n",
              "\n",
              "    .dataframe thead th {\n",
              "        text-align: right;\n",
              "    }\n",
              "</style>\n",
              "<table border=\"1\" class=\"dataframe\">\n",
              "  <thead>\n",
              "    <tr style=\"text-align: right;\">\n",
              "      <th></th>\n",
              "      <th>p_num</th>\n",
              "      <th>call_duration</th>\n",
              "      <th>call_num</th>\n",
              "    </tr>\n",
              "    <tr>\n",
              "      <th>hashed</th>\n",
              "      <th></th>\n",
              "      <th></th>\n",
              "      <th></th>\n",
              "    </tr>\n",
              "  </thead>\n",
              "  <tbody>\n",
              "    <tr>\n",
              "      <th>000020b4fa2af1e40c813436e5054bce70b703d0039dcdad4ccb5b287c3fadbc</th>\n",
              "      <td>6370</td>\n",
              "      <td>476.383468</td>\n",
              "      <td>1049</td>\n",
              "    </tr>\n",
              "    <tr>\n",
              "      <th>0000264b01392acfde44f9d8494f112a701dc5d3e5fda6ad090cb205727637e0</th>\n",
              "      <td>3625</td>\n",
              "      <td>532.616013</td>\n",
              "      <td>777</td>\n",
              "    </tr>\n",
              "    <tr>\n",
              "      <th>00006916672106f94f68d18e4a0532b53a40f4549d3a62f0cbf677dd25803668</th>\n",
              "      <td>48</td>\n",
              "      <td>1.161509</td>\n",
              "      <td>9</td>\n",
              "    </tr>\n",
              "    <tr>\n",
              "      <th>0000988c5778e9d6a861fee8fbfd88ec2fdc9108c1acd6d9c0b4d51637787b37</th>\n",
              "      <td>224</td>\n",
              "      <td>14.592088</td>\n",
              "      <td>37</td>\n",
              "    </tr>\n",
              "    <tr>\n",
              "      <th>0000a2ff91f6891797708f346d8e3790fa75c1872d6fdc8cf9b4c98ad2112dd3</th>\n",
              "      <td>992</td>\n",
              "      <td>53.649001</td>\n",
              "      <td>222</td>\n",
              "    </tr>\n",
              "    <tr>\n",
              "      <th>...</th>\n",
              "      <td>...</td>\n",
              "      <td>...</td>\n",
              "      <td>...</td>\n",
              "    </tr>\n",
              "    <tr>\n",
              "      <th>fffdd5bc78ceb19e7abe25de14dc42fbd9c40fde9570b2d2c620a0c6b27d9427</th>\n",
              "      <td>18</td>\n",
              "      <td>0.028748</td>\n",
              "      <td>1</td>\n",
              "    </tr>\n",
              "    <tr>\n",
              "      <th>fffec3d7fa3b91fbb1ec4283e90a757571c5f5efc8c6d008af60ac1fee3206ca</th>\n",
              "      <td>63</td>\n",
              "      <td>4.578250</td>\n",
              "      <td>11</td>\n",
              "    </tr>\n",
              "    <tr>\n",
              "      <th>ffff969d1e4c9df210de38d5fd36a4b236db38eb1e73acc6fcc430c18509b7d2</th>\n",
              "      <td>79</td>\n",
              "      <td>2.775712</td>\n",
              "      <td>11</td>\n",
              "    </tr>\n",
              "    <tr>\n",
              "      <th>ffff9a16d20fee70bc5d424a5334e61226cbcf8ef7c6a1edaed452eb4a0fd4df</th>\n",
              "      <td>282</td>\n",
              "      <td>64.909105</td>\n",
              "      <td>47</td>\n",
              "    </tr>\n",
              "    <tr>\n",
              "      <th>ffffea6ac1bc651cbfcf0b0e04dbbb35d8637ba7b68cdd74d3bb0f6454b3ce67</th>\n",
              "      <td>282</td>\n",
              "      <td>13.487893</td>\n",
              "      <td>47</td>\n",
              "    </tr>\n",
              "  </tbody>\n",
              "</table>\n",
              "<p>268148 rows × 3 columns</p>\n",
              "</div>"
            ],
            "text/plain": [
              "                                                    p_num  ...  call_num\n",
              "hashed                                                     ...          \n",
              "000020b4fa2af1e40c813436e5054bce70b703d0039dcda...   6370  ...      1049\n",
              "0000264b01392acfde44f9d8494f112a701dc5d3e5fda6a...   3625  ...       777\n",
              "00006916672106f94f68d18e4a0532b53a40f4549d3a62f...     48  ...         9\n",
              "0000988c5778e9d6a861fee8fbfd88ec2fdc9108c1acd6d...    224  ...        37\n",
              "0000a2ff91f6891797708f346d8e3790fa75c1872d6fdc8...    992  ...       222\n",
              "...                                                   ...  ...       ...\n",
              "fffdd5bc78ceb19e7abe25de14dc42fbd9c40fde9570b2d...     18  ...         1\n",
              "fffec3d7fa3b91fbb1ec4283e90a757571c5f5efc8c6d00...     63  ...        11\n",
              "ffff969d1e4c9df210de38d5fd36a4b236db38eb1e73acc...     79  ...        11\n",
              "ffff9a16d20fee70bc5d424a5334e61226cbcf8ef7c6a1e...    282  ...        47\n",
              "ffffea6ac1bc651cbfcf0b0e04dbbb35d8637ba7b68cdd7...    282  ...        47\n",
              "\n",
              "[268148 rows x 3 columns]"
            ]
          },
          "metadata": {
            "tags": []
          },
          "execution_count": 48
        }
      ]
    }
  ]
}