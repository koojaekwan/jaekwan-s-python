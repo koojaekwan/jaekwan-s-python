{
  "nbformat": 4,
  "nbformat_minor": 0,
  "metadata": {
    "colab": {
      "name": "jaekwankoo.ipynb",
      "provenance": [],
      "collapsed_sections": [],
      "toc_visible": true,
      "authorship_tag": "ABX9TyOtio5tXhn8dg/z0G4TYjPR",
      "include_colab_link": true
    },
    "kernelspec": {
      "name": "python3",
      "display_name": "Python 3"
    }
  },
  "cells": [
    {
      "cell_type": "markdown",
      "metadata": {
        "id": "view-in-github",
        "colab_type": "text"
      },
      "source": [
        "<a href=\"https://colab.research.google.com/github/koojaekwan/python_practice/blob/master/jaekwankoo.ipynb\" target=\"_parent\"><img src=\"https://colab.research.google.com/assets/colab-badge.svg\" alt=\"Open In Colab\"/></a>"
      ]
    },
    {
      "cell_type": "markdown",
      "metadata": {
        "id": "mqkBN567OhzB",
        "colab_type": "text"
      },
      "source": [
        "## 1.1 준비단계 - 구글드라이브 연동"
      ]
    },
    {
      "cell_type": "code",
      "metadata": {
        "id": "I9zMJUNZDgD6",
        "colab_type": "code",
        "colab": {
          "base_uri": "https://localhost:8080/",
          "height": 127
        },
        "outputId": "76dca8ee-063b-4fcb-f5f7-d98b04d9eed0"
      },
      "source": [
        "from google.colab import drive \n",
        "drive.mount('/content/gdrive/')"
      ],
      "execution_count": 3,
      "outputs": [
        {
          "output_type": "stream",
          "text": [
            "Go to this URL in a browser: https://accounts.google.com/o/oauth2/auth?client_id=947318989803-6bn6qk8qdgf4n4g3pfee6491hc0brc4i.apps.googleusercontent.com&redirect_uri=urn%3aietf%3awg%3aoauth%3a2.0%3aoob&scope=email%20https%3a%2f%2fwww.googleapis.com%2fauth%2fdocs.test%20https%3a%2f%2fwww.googleapis.com%2fauth%2fdrive%20https%3a%2f%2fwww.googleapis.com%2fauth%2fdrive.photos.readonly%20https%3a%2f%2fwww.googleapis.com%2fauth%2fpeopleapi.readonly&response_type=code\n",
            "\n",
            "Enter your authorization code:\n",
            "··········\n",
            "Mounted at /content/gdrive/\n"
          ],
          "name": "stdout"
        }
      ]
    },
    {
      "cell_type": "markdown",
      "metadata": {
        "id": "OrqSd9a5OxvM",
        "colab_type": "text"
      },
      "source": [
        "## 1.2 라이브러리 및 데이터 불러오기"
      ]
    },
    {
      "cell_type": "code",
      "metadata": {
        "id": "wdSC8m9dElRA",
        "colab_type": "code",
        "colab": {}
      },
      "source": [
        "import os\n",
        "import numpy as np\n",
        "import pandas as pd\n",
        "import datetime\n",
        "from plotnine import *\n",
        "from plotnine.data import *\n",
        "import gc"
      ],
      "execution_count": 1,
      "outputs": []
    },
    {
      "cell_type": "code",
      "metadata": {
        "id": "NhYIsNiQElWI",
        "colab_type": "code",
        "colab": {
          "base_uri": "https://localhost:8080/",
          "height": 35
        },
        "outputId": "bb420d6d-7cbf-4ec0-af86-7b837b18fef6"
      },
      "source": [
        "print(os.getcwd()) # 현재 경로"
      ],
      "execution_count": null,
      "outputs": [
        {
          "output_type": "stream",
          "text": [
            "/content\n"
          ],
          "name": "stdout"
        }
      ]
    },
    {
      "cell_type": "code",
      "metadata": {
        "id": "9fi-k1llElUp",
        "colab_type": "code",
        "colab": {}
      },
      "source": [
        "data = pd.read_csv(\"/content/gdrive/My Drive/coding_test/group_call_HMS.csv\")"
      ],
      "execution_count": 4,
      "outputs": []
    },
    {
      "cell_type": "code",
      "metadata": {
        "id": "ShV92J8kKHI-",
        "colab_type": "code",
        "colab": {
          "base_uri": "https://localhost:8080/",
          "height": 419
        },
        "outputId": "a9c8b9c6-49bb-4977-8150-07e2229f3ba9"
      },
      "source": [
        "data"
      ],
      "execution_count": null,
      "outputs": [
        {
          "output_type": "execute_result",
          "data": {
            "text/html": [
              "<div>\n",
              "<style scoped>\n",
              "    .dataframe tbody tr th:only-of-type {\n",
              "        vertical-align: middle;\n",
              "    }\n",
              "\n",
              "    .dataframe tbody tr th {\n",
              "        vertical-align: top;\n",
              "    }\n",
              "\n",
              "    .dataframe thead th {\n",
              "        text-align: right;\n",
              "    }\n",
              "</style>\n",
              "<table border=\"1\" class=\"dataframe\">\n",
              "  <thead>\n",
              "    <tr style=\"text-align: right;\">\n",
              "      <th></th>\n",
              "      <th>call_start_day</th>\n",
              "      <th>call_start_time</th>\n",
              "      <th>call_end_day</th>\n",
              "      <th>call_end_time</th>\n",
              "      <th>hashed</th>\n",
              "    </tr>\n",
              "  </thead>\n",
              "  <tbody>\n",
              "    <tr>\n",
              "      <th>0</th>\n",
              "      <td>1</td>\n",
              "      <td>09:14:58.558</td>\n",
              "      <td>1</td>\n",
              "      <td>09:41:30.200</td>\n",
              "      <td>967393e81d99ce8e577ee130b7ce8e4fd45e3e9cecb560...</td>\n",
              "    </tr>\n",
              "    <tr>\n",
              "      <th>1</th>\n",
              "      <td>17</td>\n",
              "      <td>11:05:05.176</td>\n",
              "      <td>17</td>\n",
              "      <td>13:07:42.515</td>\n",
              "      <td>02181a0c962f34f019bc9d5b582fb0ec79b1441f96aa4d...</td>\n",
              "    </tr>\n",
              "    <tr>\n",
              "      <th>2</th>\n",
              "      <td>20</td>\n",
              "      <td>02:18:43.172</td>\n",
              "      <td>20</td>\n",
              "      <td>02:28:58.177</td>\n",
              "      <td>86022904c5cf72a54978479c94041f4256d6c3c2a1f71c...</td>\n",
              "    </tr>\n",
              "    <tr>\n",
              "      <th>3</th>\n",
              "      <td>22</td>\n",
              "      <td>09:22:01.936</td>\n",
              "      <td>22</td>\n",
              "      <td>09:47:40.192</td>\n",
              "      <td>aafb40d212fe18ff4eafb82fdcf3b53f2161cb3ce59de4...</td>\n",
              "    </tr>\n",
              "    <tr>\n",
              "      <th>4</th>\n",
              "      <td>26</td>\n",
              "      <td>06:29:21.182</td>\n",
              "      <td>26</td>\n",
              "      <td>06:50:55.004</td>\n",
              "      <td>c87c2fad141edf323f3787335b54be22945a02fe052448...</td>\n",
              "    </tr>\n",
              "    <tr>\n",
              "      <th>...</th>\n",
              "      <td>...</td>\n",
              "      <td>...</td>\n",
              "      <td>...</td>\n",
              "      <td>...</td>\n",
              "      <td>...</td>\n",
              "    </tr>\n",
              "    <tr>\n",
              "      <th>6962336</th>\n",
              "      <td>55</td>\n",
              "      <td>08:09:30.086</td>\n",
              "      <td>55</td>\n",
              "      <td>08:29:51.324</td>\n",
              "      <td>a4b6aea6cb58e43911e7cb7d6c0497197db7c4ed16e1c9...</td>\n",
              "    </tr>\n",
              "    <tr>\n",
              "      <th>6962337</th>\n",
              "      <td>35</td>\n",
              "      <td>11:25:25.719</td>\n",
              "      <td>35</td>\n",
              "      <td>11:47:41.557</td>\n",
              "      <td>4ec597c569b92bd0e1bae4e2a06e13b9657fb81795e194...</td>\n",
              "    </tr>\n",
              "    <tr>\n",
              "      <th>6962338</th>\n",
              "      <td>47</td>\n",
              "      <td>16:29:59.882</td>\n",
              "      <td>47</td>\n",
              "      <td>16:30:27.386</td>\n",
              "      <td>8092e194a750aae539862ed4405f67a6dd5b492e7e57e3...</td>\n",
              "    </tr>\n",
              "    <tr>\n",
              "      <th>6962339</th>\n",
              "      <td>48</td>\n",
              "      <td>23:43:52.265</td>\n",
              "      <td>48</td>\n",
              "      <td>23:47:50.285</td>\n",
              "      <td>7176c1516207692857535c30a4650b8e8e586af1fed0fd...</td>\n",
              "    </tr>\n",
              "    <tr>\n",
              "      <th>6962340</th>\n",
              "      <td>40</td>\n",
              "      <td>23:07:31.761</td>\n",
              "      <td>40</td>\n",
              "      <td>23:11:01.968</td>\n",
              "      <td>11fc85879e5ac9d5c83bfba10d73c4c84c154b9f4d9e1d...</td>\n",
              "    </tr>\n",
              "  </tbody>\n",
              "</table>\n",
              "<p>6962341 rows × 5 columns</p>\n",
              "</div>"
            ],
            "text/plain": [
              "         call_start_day  ...                                             hashed\n",
              "0                     1  ...  967393e81d99ce8e577ee130b7ce8e4fd45e3e9cecb560...\n",
              "1                    17  ...  02181a0c962f34f019bc9d5b582fb0ec79b1441f96aa4d...\n",
              "2                    20  ...  86022904c5cf72a54978479c94041f4256d6c3c2a1f71c...\n",
              "3                    22  ...  aafb40d212fe18ff4eafb82fdcf3b53f2161cb3ce59de4...\n",
              "4                    26  ...  c87c2fad141edf323f3787335b54be22945a02fe052448...\n",
              "...                 ...  ...                                                ...\n",
              "6962336              55  ...  a4b6aea6cb58e43911e7cb7d6c0497197db7c4ed16e1c9...\n",
              "6962337              35  ...  4ec597c569b92bd0e1bae4e2a06e13b9657fb81795e194...\n",
              "6962338              47  ...  8092e194a750aae539862ed4405f67a6dd5b492e7e57e3...\n",
              "6962339              48  ...  7176c1516207692857535c30a4650b8e8e586af1fed0fd...\n",
              "6962340              40  ...  11fc85879e5ac9d5c83bfba10d73c4c84c154b9f4d9e1d...\n",
              "\n",
              "[6962341 rows x 5 columns]"
            ]
          },
          "metadata": {
            "tags": []
          },
          "execution_count": 5
        }
      ]
    },
    {
      "cell_type": "markdown",
      "metadata": {
        "id": "45NhcHcGQCXn",
        "colab_type": "text"
      },
      "source": [
        "### 1.2.1 데이터 정보"
      ]
    },
    {
      "cell_type": "code",
      "metadata": {
        "id": "KwLahE8JOAgJ",
        "colab_type": "code",
        "colab": {
          "base_uri": "https://localhost:8080/",
          "height": 125
        },
        "outputId": "1d4e1957-6f30-4151-a337-e1a8a834355b"
      },
      "source": [
        "data.isnull().sum()"
      ],
      "execution_count": null,
      "outputs": [
        {
          "output_type": "execute_result",
          "data": {
            "text/plain": [
              "call_start_day     0\n",
              "call_start_time    0\n",
              "call_end_day       0\n",
              "call_end_time      0\n",
              "hashed             0\n",
              "dtype: int64"
            ]
          },
          "metadata": {
            "tags": []
          },
          "execution_count": 6
        }
      ]
    },
    {
      "cell_type": "markdown",
      "metadata": {
        "id": "m57H7TPK2UEr",
        "colab_type": "text"
      },
      "source": [
        "모든 컬럼에 결측값은 존재하지 않는다."
      ]
    },
    {
      "cell_type": "code",
      "metadata": {
        "id": "r6F8nz3AP1Xi",
        "colab_type": "code",
        "colab": {
          "base_uri": "https://localhost:8080/",
          "height": 35
        },
        "outputId": "b9da96a5-66a5-4996-fb7e-ba2683882cd2"
      },
      "source": [
        "data.duplicated().sum()"
      ],
      "execution_count": null,
      "outputs": [
        {
          "output_type": "execute_result",
          "data": {
            "text/plain": [
              "0"
            ]
          },
          "metadata": {
            "tags": []
          },
          "execution_count": 7
        }
      ]
    },
    {
      "cell_type": "markdown",
      "metadata": {
        "id": "-sDAExycki09",
        "colab_type": "text"
      },
      "source": [
        "각 row중 겹치는 데이터는 없다"
      ]
    },
    {
      "cell_type": "code",
      "metadata": {
        "id": "DT_aIPEhTRkM",
        "colab_type": "code",
        "colab": {
          "base_uri": "https://localhost:8080/",
          "height": 233
        },
        "outputId": "624f8f96-845e-414e-9bed-7e15011d6c51"
      },
      "source": [
        "data.info()"
      ],
      "execution_count": null,
      "outputs": [
        {
          "output_type": "stream",
          "text": [
            "<class 'pandas.core.frame.DataFrame'>\n",
            "RangeIndex: 6962341 entries, 0 to 6962340\n",
            "Data columns (total 5 columns):\n",
            " #   Column           Dtype \n",
            "---  ------           ----- \n",
            " 0   call_start_day   int64 \n",
            " 1   call_start_time  object\n",
            " 2   call_end_day     int64 \n",
            " 3   call_end_time    object\n",
            " 4   hashed           object\n",
            "dtypes: int64(2), object(3)\n",
            "memory usage: 265.6+ MB\n"
          ],
          "name": "stdout"
        }
      ]
    },
    {
      "cell_type": "code",
      "metadata": {
        "id": "Fw5wP7aoROYq",
        "colab_type": "code",
        "colab": {
          "base_uri": "https://localhost:8080/",
          "height": 297
        },
        "outputId": "3e0fcefc-d85a-4e03-e839-280e15ff20c7"
      },
      "source": [
        "pd.options.display.float_format = '{:.2f}'.format  # 과학적 표기법(Scientific notation)을 사용하지 않는 경우\n",
        "\n",
        "data.describe()"
      ],
      "execution_count": null,
      "outputs": [
        {
          "output_type": "execute_result",
          "data": {
            "text/html": [
              "<div>\n",
              "<style scoped>\n",
              "    .dataframe tbody tr th:only-of-type {\n",
              "        vertical-align: middle;\n",
              "    }\n",
              "\n",
              "    .dataframe tbody tr th {\n",
              "        vertical-align: top;\n",
              "    }\n",
              "\n",
              "    .dataframe thead th {\n",
              "        text-align: right;\n",
              "    }\n",
              "</style>\n",
              "<table border=\"1\" class=\"dataframe\">\n",
              "  <thead>\n",
              "    <tr style=\"text-align: right;\">\n",
              "      <th></th>\n",
              "      <th>call_start_day</th>\n",
              "      <th>call_end_day</th>\n",
              "    </tr>\n",
              "  </thead>\n",
              "  <tbody>\n",
              "    <tr>\n",
              "      <th>count</th>\n",
              "      <td>6962341.00</td>\n",
              "      <td>6962341.00</td>\n",
              "    </tr>\n",
              "    <tr>\n",
              "      <th>mean</th>\n",
              "      <td>35.83</td>\n",
              "      <td>35.86</td>\n",
              "    </tr>\n",
              "    <tr>\n",
              "      <th>std</th>\n",
              "      <td>16.26</td>\n",
              "      <td>16.25</td>\n",
              "    </tr>\n",
              "    <tr>\n",
              "      <th>min</th>\n",
              "      <td>1.00</td>\n",
              "      <td>1.00</td>\n",
              "    </tr>\n",
              "    <tr>\n",
              "      <th>25%</th>\n",
              "      <td>23.00</td>\n",
              "      <td>23.00</td>\n",
              "    </tr>\n",
              "    <tr>\n",
              "      <th>50%</th>\n",
              "      <td>41.00</td>\n",
              "      <td>41.00</td>\n",
              "    </tr>\n",
              "    <tr>\n",
              "      <th>75%</th>\n",
              "      <td>50.00</td>\n",
              "      <td>50.00</td>\n",
              "    </tr>\n",
              "    <tr>\n",
              "      <th>max</th>\n",
              "      <td>56.00</td>\n",
              "      <td>57.00</td>\n",
              "    </tr>\n",
              "  </tbody>\n",
              "</table>\n",
              "</div>"
            ],
            "text/plain": [
              "       call_start_day  call_end_day\n",
              "count      6962341.00    6962341.00\n",
              "mean            35.83         35.86\n",
              "std             16.26         16.25\n",
              "min              1.00          1.00\n",
              "25%             23.00         23.00\n",
              "50%             41.00         41.00\n",
              "75%             50.00         50.00\n",
              "max             56.00         57.00"
            ]
          },
          "metadata": {
            "tags": []
          },
          "execution_count": 9
        }
      ]
    },
    {
      "cell_type": "code",
      "metadata": {
        "id": "KPfY7DBma1aE",
        "colab_type": "code",
        "colab": {}
      },
      "source": [
        "# temp = pd.Timestamp(data.call_start_time[1])\n",
        "# print(data.call_start_time[1])\n",
        "# print(temp)\n",
        "# print(\"time : \",temp.time())"
      ],
      "execution_count": null,
      "outputs": []
    },
    {
      "cell_type": "markdown",
      "metadata": {
        "id": "s-MmZ_TFC54n",
        "colab_type": "text"
      },
      "source": [
        "## 2.1 통화 & 사람\n"
      ]
    },
    {
      "cell_type": "markdown",
      "metadata": {
        "id": "iVyldHp1BkQh",
        "colab_type": "text"
      },
      "source": [
        "약 100만 rows씩 작업 진행"
      ]
    },
    {
      "cell_type": "code",
      "metadata": {
        "id": "lEgzvc6wCzAt",
        "colab_type": "code",
        "colab": {}
      },
      "source": [
        "p = set(np.concatenate(data.loc[0:1000000,\"hashed\"].str.split(\",\").values))\n",
        "p2 = set(np.concatenate(data.loc[1000001:2000000,\"hashed\"].str.split(\",\").values))\n",
        "p3 = set(np.concatenate(data.loc[2000001:3000000,\"hashed\"].str.split(\",\").values))\n",
        "p4 = set(np.concatenate(data.loc[3000001:4000000,\"hashed\"].str.split(\",\").values))\n",
        "p5 = set(np.concatenate(data.loc[4000001:5000000,\"hashed\"].str.split(\",\").values))\n",
        "p6 = set(np.concatenate(data.loc[5000001:6000000,\"hashed\"].str.split(\",\").values))\n",
        "p7 = set(np.concatenate(data.loc[6000001:,\"hashed\"].str.split(\",\").values))"
      ],
      "execution_count": null,
      "outputs": []
    },
    {
      "cell_type": "markdown",
      "metadata": {
        "id": "wsQuK0QBzHrg",
        "colab_type": "text"
      },
      "source": [
        "한번에 약 700만 개의 행들을 처리하려고 했으나, 램이 부족한 문제로 행들을 구간별로 나눠서 처리하는 방향으로 생각했다.  "
      ]
    },
    {
      "cell_type": "markdown",
      "metadata": {
        "id": "a-LCH-GcwVsj",
        "colab_type": "text"
      },
      "source": [
        "### 2.1.1 데이터에서 온전히 통화에 참여한 인원수(중복이 없음)"
      ]
    },
    {
      "cell_type": "code",
      "metadata": {
        "id": "El6qju1pQTUL",
        "colab_type": "code",
        "colab": {
          "base_uri": "https://localhost:8080/",
          "height": 35
        },
        "outputId": "22e02fa6-8dca-4f7c-fb3f-cad2794c6ff7"
      },
      "source": [
        "print(\"총 통화한 인원수 : \", len(set(list(p)+list(p2)+list(p3)+list(p4)+list(p5)+list(p6)+list(p7))), \"명\") # 중복이 없는 데이터에서 순수 통화에 참여한 수"
      ],
      "execution_count": null,
      "outputs": [
        {
          "output_type": "stream",
          "text": [
            "총 통화한 인원수 :  268148 명\n"
          ],
          "name": "stdout"
        }
      ]
    },
    {
      "cell_type": "markdown",
      "metadata": {
        "id": "DmlfQaZQIj1c",
        "colab_type": "text"
      },
      "source": [
        "약 700만 건의 통화리스트에 참여한 사람들 중 unique한 사람들만 카운트한 것이다."
      ]
    },
    {
      "cell_type": "markdown",
      "metadata": {
        "id": "OsXr8T_wwbc5",
        "colab_type": "text"
      },
      "source": [
        "### 2.1.2 데이터에서 1회 통화에 참여한 평균인원 수"
      ]
    },
    {
      "cell_type": "code",
      "metadata": {
        "id": "fHe1WRYg2xW-",
        "colab_type": "code",
        "colab": {}
      },
      "source": [
        "data['p_num'] = data['hashed'].str.count(pat = \",\") + 1  # 각 통화 건수의 통화한 사람 수"
      ],
      "execution_count": 5,
      "outputs": []
    },
    {
      "cell_type": "markdown",
      "metadata": {
        "id": "GXFTcZ5c18i8",
        "colab_type": "text"
      },
      "source": [
        "사람들은 각 행별로 , 로 구분되어 있다. 따라서 통화가 일어나는 사건을 나타내는  각 행의 통화에 참여하는 사람수를 구하려면 **,** 갯수에 1을 더하면 된다."
      ]
    },
    {
      "cell_type": "code",
      "metadata": {
        "id": "JxihR2IEvw2p",
        "colab_type": "code",
        "colab": {
          "base_uri": "https://localhost:8080/",
          "height": 35
        },
        "outputId": "84ee7e15-2dfc-4c4f-9311-cdbda6e2dec8"
      },
      "source": [
        "print(\"1회 통화에 참여한 평균인원수 : \", data[\"p_num\"].sum() / len(data), \"명\") # 전체 총 통화한 사람수 / 전체 통화 건수 = 1회 통화 평균인원수"
      ],
      "execution_count": null,
      "outputs": [
        {
          "output_type": "stream",
          "text": [
            "1회 통화에 참여한 평균인원수 :  4.924246313129449 명\n"
          ],
          "name": "stdout"
        }
      ]
    },
    {
      "cell_type": "markdown",
      "metadata": {
        "id": "Xa_7doQtyvHI",
        "colab_type": "text"
      },
      "source": [
        "평균적으로 4.92명이 각 통화에 참여했다. 각 통화데이터에서의 평균적으로 참여한 사람의 수이므로 중복된 사람이 있을 수도 있다."
      ]
    },
    {
      "cell_type": "code",
      "metadata": {
        "id": "PyV2KMIvw54w",
        "colab_type": "code",
        "colab": {
          "base_uri": "https://localhost:8080/",
          "height": 35
        },
        "outputId": "4be56c7c-e629-4e6a-95ed-5afc9b20b251"
      },
      "source": [
        "print(\"max : \", data[\"p_num\"].max(), \",  min : \", data[\"p_num\"].min())"
      ],
      "execution_count": null,
      "outputs": [
        {
          "output_type": "stream",
          "text": [
            "max :  434 ,  min :  1\n"
          ],
          "name": "stdout"
        }
      ]
    },
    {
      "cell_type": "markdown",
      "metadata": {
        "id": "3DpKTy_zyews",
        "colab_type": "text"
      },
      "source": [
        "혼자 통화에 참여한 사람이 있고, 최대 434명이 함께 통화에 참여한 경우를 확인 가능하다."
      ]
    },
    {
      "cell_type": "markdown",
      "metadata": {
        "id": "4CN6ce8lP7GV",
        "colab_type": "text"
      },
      "source": [
        "### 2.1.3 datetime으로의 전처리"
      ]
    },
    {
      "cell_type": "code",
      "metadata": {
        "id": "UTpHiOEz-vYp",
        "colab_type": "code",
        "colab": {}
      },
      "source": [
        "temp = [x for x in data[\"hashed\"].str.split(\",\")]"
      ],
      "execution_count": null,
      "outputs": []
    },
    {
      "cell_type": "code",
      "metadata": {
        "id": "oZ2whpVy_EPF",
        "colab_type": "code",
        "colab": {
          "base_uri": "https://localhost:8080/",
          "height": 35
        },
        "outputId": "8a540df6-abc5-4f69-fb3e-de876ddf9fbc"
      },
      "source": [
        "len(temp)"
      ],
      "execution_count": null,
      "outputs": [
        {
          "output_type": "execute_result",
          "data": {
            "text/plain": [
              "6962341"
            ]
          },
          "metadata": {
            "tags": []
          },
          "execution_count": 18
        }
      ]
    },
    {
      "cell_type": "code",
      "metadata": {
        "id": "Nl_1fe_Z_MjA",
        "colab_type": "code",
        "colab": {
          "base_uri": "https://localhost:8080/",
          "height": 35
        },
        "outputId": "fbeb67a6-8326-4e32-a74e-7fd5886d4424"
      },
      "source": [
        "len(data['hashed'].unique())"
      ],
      "execution_count": null,
      "outputs": [
        {
          "output_type": "execute_result",
          "data": {
            "text/plain": [
              "3184944"
            ]
          },
          "metadata": {
            "tags": []
          },
          "execution_count": 19
        }
      ]
    },
    {
      "cell_type": "markdown",
      "metadata": {
        "id": "P7JP98PqCqqp",
        "colab_type": "text"
      },
      "source": [
        "통화리스트 중 duplicated로 중복된 데이터가 없음을 확인했다.  \n",
        "hashed에는 중복된 데이터가 있는 것으로 봐서 몇 그룹들은 한번을 초과하는 전화를 한 것으로 보인다."
      ]
    },
    {
      "cell_type": "code",
      "metadata": {
        "id": "Dpb4luNdgecF",
        "colab_type": "code",
        "colab": {}
      },
      "source": [
        "# temp = pd.Timestamp(data.call_start_time[1])\n",
        "# print(data.call_start_time[1])\n",
        "# print(temp)\n",
        "# print(\"time : \",temp.time())"
      ],
      "execution_count": null,
      "outputs": []
    },
    {
      "cell_type": "code",
      "metadata": {
        "id": "bCB8oCvwgPrD",
        "colab_type": "code",
        "colab": {
          "base_uri": "https://localhost:8080/",
          "height": 53
        },
        "outputId": "517f1a73-f235-485c-9bc8-b99c4efeb865"
      },
      "source": [
        "print(pd.Timestamp(\"08:09:30.086\"))  # example\n",
        "print(pd.Timestamp(\"08:29:51.324\"))"
      ],
      "execution_count": null,
      "outputs": [
        {
          "output_type": "stream",
          "text": [
            "2020-08-20 08:09:30.086000\n",
            "2020-08-20 08:29:51.324000\n"
          ],
          "name": "stdout"
        }
      ]
    },
    {
      "cell_type": "code",
      "metadata": {
        "id": "0Omj5b_3g7GX",
        "colab_type": "code",
        "colab": {
          "base_uri": "https://localhost:8080/",
          "height": 35
        },
        "outputId": "c6e49ea8-1adb-4016-f5e9-b060fc1e1131"
      },
      "source": [
        "pd.Timestamp(\"08:29:51.324\") - pd.Timestamp(\"08:09:30.086\")"
      ],
      "execution_count": null,
      "outputs": [
        {
          "output_type": "execute_result",
          "data": {
            "text/plain": [
              "Timedelta('0 days 00:20:21.238000')"
            ]
          },
          "metadata": {
            "tags": []
          },
          "execution_count": 22
        }
      ]
    },
    {
      "cell_type": "code",
      "metadata": {
        "id": "YMOxd5_3hFsS",
        "colab_type": "code",
        "colab": {}
      },
      "source": [
        "data['diff_day'] = data[\"call_end_day\"] - data[\"call_start_day\"]"
      ],
      "execution_count": 6,
      "outputs": []
    },
    {
      "cell_type": "markdown",
      "metadata": {
        "id": "Ay3EotXItkMt",
        "colab_type": "text"
      },
      "source": [
        "전화 시작 날과 끝난 날의 차이를 확인하였다.  \n",
        "자정을 기준으로 넘어가는 날짜가 있는 것에 대해 시간 계산을 용이하게 하기 위함이다."
      ]
    },
    {
      "cell_type": "code",
      "metadata": {
        "id": "tadMy3Rei-ig",
        "colab_type": "code",
        "colab": {}
      },
      "source": [
        "# data = data.drop([\"new_end_day\"], axis = 1)"
      ],
      "execution_count": null,
      "outputs": []
    },
    {
      "cell_type": "code",
      "metadata": {
        "id": "bpwQnCn7kIWx",
        "colab_type": "code",
        "colab": {}
      },
      "source": [
        "data['call_start_time'] = pd.to_datetime(data['call_start_time'], format='%H:%M:%S.%f', errors='raise')\n",
        "data['call_end_time'] = pd.to_datetime(data['call_end_time'], format='%H:%M:%S.%f', errors='raise')"
      ],
      "execution_count": 7,
      "outputs": []
    },
    {
      "cell_type": "code",
      "metadata": {
        "id": "ZqTtxaNzsxsx",
        "colab_type": "code",
        "colab": {}
      },
      "source": [
        "# datetime.timedelta(days = data['diff_day'])"
      ],
      "execution_count": null,
      "outputs": []
    },
    {
      "cell_type": "code",
      "metadata": {
        "id": "sfh4loSgrpWW",
        "colab_type": "code",
        "colab": {
          "base_uri": "https://localhost:8080/",
          "height": 419
        },
        "outputId": "271ac782-91db-4b7f-afde-dd81d8c6b931"
      },
      "source": [
        "data"
      ],
      "execution_count": 48,
      "outputs": [
        {
          "output_type": "execute_result",
          "data": {
            "text/html": [
              "<div>\n",
              "<style scoped>\n",
              "    .dataframe tbody tr th:only-of-type {\n",
              "        vertical-align: middle;\n",
              "    }\n",
              "\n",
              "    .dataframe tbody tr th {\n",
              "        vertical-align: top;\n",
              "    }\n",
              "\n",
              "    .dataframe thead th {\n",
              "        text-align: right;\n",
              "    }\n",
              "</style>\n",
              "<table border=\"1\" class=\"dataframe\">\n",
              "  <thead>\n",
              "    <tr style=\"text-align: right;\">\n",
              "      <th></th>\n",
              "      <th>call_start_day</th>\n",
              "      <th>call_start_time</th>\n",
              "      <th>call_end_day</th>\n",
              "      <th>call_end_time</th>\n",
              "      <th>hashed</th>\n",
              "      <th>p_num</th>\n",
              "      <th>diff_day</th>\n",
              "    </tr>\n",
              "  </thead>\n",
              "  <tbody>\n",
              "    <tr>\n",
              "      <th>0</th>\n",
              "      <td>1</td>\n",
              "      <td>1900-01-01 09:14:58.558</td>\n",
              "      <td>1</td>\n",
              "      <td>1900-01-01 09:41:30.200</td>\n",
              "      <td>967393e81d99ce8e577ee130b7ce8e4fd45e3e9cecb560...</td>\n",
              "      <td>3</td>\n",
              "      <td>0</td>\n",
              "    </tr>\n",
              "    <tr>\n",
              "      <th>1</th>\n",
              "      <td>17</td>\n",
              "      <td>1900-01-01 11:05:05.176</td>\n",
              "      <td>17</td>\n",
              "      <td>1900-01-01 13:07:42.515</td>\n",
              "      <td>02181a0c962f34f019bc9d5b582fb0ec79b1441f96aa4d...</td>\n",
              "      <td>5</td>\n",
              "      <td>0</td>\n",
              "    </tr>\n",
              "    <tr>\n",
              "      <th>2</th>\n",
              "      <td>20</td>\n",
              "      <td>1900-01-01 02:18:43.172</td>\n",
              "      <td>20</td>\n",
              "      <td>1900-01-01 02:28:58.177</td>\n",
              "      <td>86022904c5cf72a54978479c94041f4256d6c3c2a1f71c...</td>\n",
              "      <td>3</td>\n",
              "      <td>0</td>\n",
              "    </tr>\n",
              "    <tr>\n",
              "      <th>3</th>\n",
              "      <td>22</td>\n",
              "      <td>1900-01-01 09:22:01.936</td>\n",
              "      <td>22</td>\n",
              "      <td>1900-01-01 09:47:40.192</td>\n",
              "      <td>aafb40d212fe18ff4eafb82fdcf3b53f2161cb3ce59de4...</td>\n",
              "      <td>6</td>\n",
              "      <td>0</td>\n",
              "    </tr>\n",
              "    <tr>\n",
              "      <th>4</th>\n",
              "      <td>26</td>\n",
              "      <td>1900-01-01 06:29:21.182</td>\n",
              "      <td>26</td>\n",
              "      <td>1900-01-01 06:50:55.004</td>\n",
              "      <td>c87c2fad141edf323f3787335b54be22945a02fe052448...</td>\n",
              "      <td>6</td>\n",
              "      <td>0</td>\n",
              "    </tr>\n",
              "    <tr>\n",
              "      <th>...</th>\n",
              "      <td>...</td>\n",
              "      <td>...</td>\n",
              "      <td>...</td>\n",
              "      <td>...</td>\n",
              "      <td>...</td>\n",
              "      <td>...</td>\n",
              "      <td>...</td>\n",
              "    </tr>\n",
              "    <tr>\n",
              "      <th>6962336</th>\n",
              "      <td>55</td>\n",
              "      <td>1900-01-01 08:09:30.086</td>\n",
              "      <td>55</td>\n",
              "      <td>1900-01-01 08:29:51.324</td>\n",
              "      <td>a4b6aea6cb58e43911e7cb7d6c0497197db7c4ed16e1c9...</td>\n",
              "      <td>6</td>\n",
              "      <td>0</td>\n",
              "    </tr>\n",
              "    <tr>\n",
              "      <th>6962337</th>\n",
              "      <td>35</td>\n",
              "      <td>1900-01-01 11:25:25.719</td>\n",
              "      <td>35</td>\n",
              "      <td>1900-01-01 11:47:41.557</td>\n",
              "      <td>4ec597c569b92bd0e1bae4e2a06e13b9657fb81795e194...</td>\n",
              "      <td>12</td>\n",
              "      <td>0</td>\n",
              "    </tr>\n",
              "    <tr>\n",
              "      <th>6962338</th>\n",
              "      <td>47</td>\n",
              "      <td>1900-01-01 16:29:59.882</td>\n",
              "      <td>47</td>\n",
              "      <td>1900-01-01 16:30:27.386</td>\n",
              "      <td>8092e194a750aae539862ed4405f67a6dd5b492e7e57e3...</td>\n",
              "      <td>6</td>\n",
              "      <td>0</td>\n",
              "    </tr>\n",
              "    <tr>\n",
              "      <th>6962339</th>\n",
              "      <td>48</td>\n",
              "      <td>1900-01-01 23:43:52.265</td>\n",
              "      <td>48</td>\n",
              "      <td>1900-01-01 23:47:50.285</td>\n",
              "      <td>7176c1516207692857535c30a4650b8e8e586af1fed0fd...</td>\n",
              "      <td>6</td>\n",
              "      <td>0</td>\n",
              "    </tr>\n",
              "    <tr>\n",
              "      <th>6962340</th>\n",
              "      <td>40</td>\n",
              "      <td>1900-01-01 23:07:31.761</td>\n",
              "      <td>40</td>\n",
              "      <td>1900-01-01 23:11:01.968</td>\n",
              "      <td>11fc85879e5ac9d5c83bfba10d73c4c84c154b9f4d9e1d...</td>\n",
              "      <td>6</td>\n",
              "      <td>0</td>\n",
              "    </tr>\n",
              "  </tbody>\n",
              "</table>\n",
              "<p>6962341 rows × 7 columns</p>\n",
              "</div>"
            ],
            "text/plain": [
              "         call_start_day         call_start_time  ...  p_num diff_day\n",
              "0                     1 1900-01-01 09:14:58.558  ...      3        0\n",
              "1                    17 1900-01-01 11:05:05.176  ...      5        0\n",
              "2                    20 1900-01-01 02:18:43.172  ...      3        0\n",
              "3                    22 1900-01-01 09:22:01.936  ...      6        0\n",
              "4                    26 1900-01-01 06:29:21.182  ...      6        0\n",
              "...                 ...                     ...  ...    ...      ...\n",
              "6962336              55 1900-01-01 08:09:30.086  ...      6        0\n",
              "6962337              35 1900-01-01 11:25:25.719  ...     12        0\n",
              "6962338              47 1900-01-01 16:29:59.882  ...      6        0\n",
              "6962339              48 1900-01-01 23:43:52.265  ...      6        0\n",
              "6962340              40 1900-01-01 23:07:31.761  ...      6        0\n",
              "\n",
              "[6962341 rows x 7 columns]"
            ]
          },
          "metadata": {
            "tags": []
          },
          "execution_count": 48
        }
      ]
    },
    {
      "cell_type": "code",
      "metadata": {
        "id": "Zszl6dTT2zZL",
        "colab_type": "code",
        "colab": {}
      },
      "source": [
        "data['new_end_time'] = data['call_end_time'] + pd.to_timedelta(data['diff_day'], unit='d')"
      ],
      "execution_count": 8,
      "outputs": []
    },
    {
      "cell_type": "markdown",
      "metadata": {
        "id": "fNL0jX3ct0by",
        "colab_type": "text"
      },
      "source": [
        "전화 시간에도 datetime타입을 적용시켜 날짜 차이와 계산이 가능하게 한다.  \n",
        "새로운 끝나는 날짜로 잡아 각 사건 별 통화 시간을 구할 수 있다."
      ]
    },
    {
      "cell_type": "markdown",
      "metadata": {
        "id": "wMhncbHz4LmH",
        "colab_type": "text"
      },
      "source": [
        "### 2.1.4 각 통화 별 통화시간\n",
        "\n",
        "날짜를 넘어가는 것에 대해서 계산을 하기 위해 시작날과 끝날의 차이를 end_time에 더한 뒤 start_time과의 연산을 통해 시간 차를 구할 수 있다."
      ]
    },
    {
      "cell_type": "code",
      "metadata": {
        "id": "-W4lODnY34xm",
        "colab_type": "code",
        "colab": {}
      },
      "source": [
        "data['call_duration'] = data['new_end_time'] - data['call_start_time']"
      ],
      "execution_count": 9,
      "outputs": []
    },
    {
      "cell_type": "code",
      "metadata": {
        "id": "EEeZBscZ4Spv",
        "colab_type": "code",
        "colab": {
          "base_uri": "https://localhost:8080/",
          "height": 419
        },
        "outputId": "3715bccf-bb99-4163-f783-544d09fd85e9"
      },
      "source": [
        "data[['call_duration']]"
      ],
      "execution_count": null,
      "outputs": [
        {
          "output_type": "execute_result",
          "data": {
            "text/html": [
              "<div>\n",
              "<style scoped>\n",
              "    .dataframe tbody tr th:only-of-type {\n",
              "        vertical-align: middle;\n",
              "    }\n",
              "\n",
              "    .dataframe tbody tr th {\n",
              "        vertical-align: top;\n",
              "    }\n",
              "\n",
              "    .dataframe thead th {\n",
              "        text-align: right;\n",
              "    }\n",
              "</style>\n",
              "<table border=\"1\" class=\"dataframe\">\n",
              "  <thead>\n",
              "    <tr style=\"text-align: right;\">\n",
              "      <th></th>\n",
              "      <th>call_duration</th>\n",
              "    </tr>\n",
              "  </thead>\n",
              "  <tbody>\n",
              "    <tr>\n",
              "      <th>0</th>\n",
              "      <td>00:26:31.642000</td>\n",
              "    </tr>\n",
              "    <tr>\n",
              "      <th>1</th>\n",
              "      <td>02:02:37.339000</td>\n",
              "    </tr>\n",
              "    <tr>\n",
              "      <th>2</th>\n",
              "      <td>00:10:15.005000</td>\n",
              "    </tr>\n",
              "    <tr>\n",
              "      <th>3</th>\n",
              "      <td>00:25:38.256000</td>\n",
              "    </tr>\n",
              "    <tr>\n",
              "      <th>4</th>\n",
              "      <td>00:21:33.822000</td>\n",
              "    </tr>\n",
              "    <tr>\n",
              "      <th>...</th>\n",
              "      <td>...</td>\n",
              "    </tr>\n",
              "    <tr>\n",
              "      <th>6962336</th>\n",
              "      <td>00:20:21.238000</td>\n",
              "    </tr>\n",
              "    <tr>\n",
              "      <th>6962337</th>\n",
              "      <td>00:22:15.838000</td>\n",
              "    </tr>\n",
              "    <tr>\n",
              "      <th>6962338</th>\n",
              "      <td>00:00:27.504000</td>\n",
              "    </tr>\n",
              "    <tr>\n",
              "      <th>6962339</th>\n",
              "      <td>00:03:58.020000</td>\n",
              "    </tr>\n",
              "    <tr>\n",
              "      <th>6962340</th>\n",
              "      <td>00:03:30.207000</td>\n",
              "    </tr>\n",
              "  </tbody>\n",
              "</table>\n",
              "<p>6962341 rows × 1 columns</p>\n",
              "</div>"
            ],
            "text/plain": [
              "          call_duration\n",
              "0       00:26:31.642000\n",
              "1       02:02:37.339000\n",
              "2       00:10:15.005000\n",
              "3       00:25:38.256000\n",
              "4       00:21:33.822000\n",
              "...                 ...\n",
              "6962336 00:20:21.238000\n",
              "6962337 00:22:15.838000\n",
              "6962338 00:00:27.504000\n",
              "6962339 00:03:58.020000\n",
              "6962340 00:03:30.207000\n",
              "\n",
              "[6962341 rows x 1 columns]"
            ]
          },
          "metadata": {
            "tags": []
          },
          "execution_count": 12
        }
      ]
    },
    {
      "cell_type": "markdown",
      "metadata": {
        "id": "uW9Bhlf68TzC",
        "colab_type": "text"
      },
      "source": [
        "### 2.1.5 총 통화시간\n"
      ]
    },
    {
      "cell_type": "code",
      "metadata": {
        "id": "qFBMC2ep9QKW",
        "colab_type": "code",
        "colab": {}
      },
      "source": [
        "data['call_duration'] = pd.to_timedelta(data['call_duration'])"
      ],
      "execution_count": 10,
      "outputs": []
    },
    {
      "cell_type": "code",
      "metadata": {
        "id": "lc-S23ID9iRM",
        "colab_type": "code",
        "colab": {
          "base_uri": "https://localhost:8080/",
          "height": 197
        },
        "outputId": "19795148-eca7-42b2-ca43-23ad4b49e258"
      },
      "source": [
        "print (data.dtypes)"
      ],
      "execution_count": null,
      "outputs": [
        {
          "output_type": "stream",
          "text": [
            "call_start_day               int64\n",
            "call_start_time     datetime64[ns]\n",
            "call_end_day                 int64\n",
            "call_end_time       datetime64[ns]\n",
            "hashed                      object\n",
            "p_num                        int64\n",
            "diff_day                     int64\n",
            "new_end_time        datetime64[ns]\n",
            "call_duration      timedelta64[ns]\n",
            "dtype: object\n"
          ],
          "name": "stdout"
        }
      ]
    },
    {
      "cell_type": "code",
      "metadata": {
        "id": "6sXq8dH790UM",
        "colab_type": "code",
        "colab": {
          "base_uri": "https://localhost:8080/",
          "height": 53
        },
        "outputId": "d423fb2c-7e8a-4dd9-a197-b9dadbe4fd24"
      },
      "source": [
        "print(data.call_duration[0:5900000].sum())\n",
        "print(data.call_duration[5900001:].sum())"
      ],
      "execution_count": null,
      "outputs": [
        {
          "output_type": "stream",
          "text": [
            "106067 days 16:21:12.281008\n",
            "19106 days 01:06:28.455999\n"
          ],
          "name": "stdout"
        }
      ]
    },
    {
      "cell_type": "markdown",
      "metadata": {
        "id": "RJEC9m3nDhWh",
        "colab_type": "text"
      },
      "source": [
        "600만개의 행이 넘어가면 총 통화시간 계산에 에러가 난다. 따라서 초로 바꾼 뒤, 진행을 해보자"
      ]
    },
    {
      "cell_type": "code",
      "metadata": {
        "id": "AoYBRSxJBzRQ",
        "colab_type": "code",
        "colab": {
          "base_uri": "https://localhost:8080/",
          "height": 35
        },
        "outputId": "1f253c89-adb1-42fd-9c41-7bb922959982"
      },
      "source": [
        "data.call_duration.dt.total_seconds().sum() / (3600*24)"
      ],
      "execution_count": null,
      "outputs": [
        {
          "output_type": "execute_result",
          "data": {
            "text/plain": [
              "125173.73817542837"
            ]
          },
          "metadata": {
            "tags": []
          },
          "execution_count": 34
        }
      ]
    },
    {
      "cell_type": "markdown",
      "metadata": {
        "id": "8l1ZENiaD-eC",
        "colab_type": "text"
      },
      "source": [
        "약 125173.74일 정도 전체 통화량이 나타내고 있다."
      ]
    },
    {
      "cell_type": "code",
      "metadata": {
        "id": "n16DHmBZ5w5-",
        "colab_type": "code",
        "colab": {
          "base_uri": "https://localhost:8080/",
          "height": 297
        },
        "outputId": "bd189365-ea4a-48d2-b0c6-4620c9348591"
      },
      "source": [
        "data.describe()"
      ],
      "execution_count": null,
      "outputs": [
        {
          "output_type": "execute_result",
          "data": {
            "text/html": [
              "<div>\n",
              "<style scoped>\n",
              "    .dataframe tbody tr th:only-of-type {\n",
              "        vertical-align: middle;\n",
              "    }\n",
              "\n",
              "    .dataframe tbody tr th {\n",
              "        vertical-align: top;\n",
              "    }\n",
              "\n",
              "    .dataframe thead th {\n",
              "        text-align: right;\n",
              "    }\n",
              "</style>\n",
              "<table border=\"1\" class=\"dataframe\">\n",
              "  <thead>\n",
              "    <tr style=\"text-align: right;\">\n",
              "      <th></th>\n",
              "      <th>call_start_day</th>\n",
              "      <th>call_end_day</th>\n",
              "      <th>p_num</th>\n",
              "      <th>diff_day</th>\n",
              "      <th>call_duration</th>\n",
              "    </tr>\n",
              "  </thead>\n",
              "  <tbody>\n",
              "    <tr>\n",
              "      <th>count</th>\n",
              "      <td>6962341.00</td>\n",
              "      <td>6962341.00</td>\n",
              "      <td>6962341.00</td>\n",
              "      <td>6962341.00</td>\n",
              "      <td>6962341</td>\n",
              "    </tr>\n",
              "    <tr>\n",
              "      <th>mean</th>\n",
              "      <td>35.83</td>\n",
              "      <td>35.86</td>\n",
              "      <td>4.92</td>\n",
              "      <td>0.03</td>\n",
              "      <td>0 days 00:25:53.358414</td>\n",
              "    </tr>\n",
              "    <tr>\n",
              "      <th>std</th>\n",
              "      <td>16.26</td>\n",
              "      <td>16.25</td>\n",
              "      <td>2.37</td>\n",
              "      <td>0.20</td>\n",
              "      <td>0 days 03:18:07.730969</td>\n",
              "    </tr>\n",
              "    <tr>\n",
              "      <th>min</th>\n",
              "      <td>1.00</td>\n",
              "      <td>1.00</td>\n",
              "      <td>1.00</td>\n",
              "      <td>0.00</td>\n",
              "      <td>0 days 00:00:00</td>\n",
              "    </tr>\n",
              "    <tr>\n",
              "      <th>25%</th>\n",
              "      <td>23.00</td>\n",
              "      <td>23.00</td>\n",
              "      <td>3.00</td>\n",
              "      <td>0.00</td>\n",
              "      <td>0 days 00:01:38.387000</td>\n",
              "    </tr>\n",
              "    <tr>\n",
              "      <th>50%</th>\n",
              "      <td>41.00</td>\n",
              "      <td>41.00</td>\n",
              "      <td>6.00</td>\n",
              "      <td>0.00</td>\n",
              "      <td>0 days 00:09:31.063000</td>\n",
              "    </tr>\n",
              "    <tr>\n",
              "      <th>75%</th>\n",
              "      <td>50.00</td>\n",
              "      <td>50.00</td>\n",
              "      <td>6.00</td>\n",
              "      <td>0.00</td>\n",
              "      <td>0 days 00:18:48.020000</td>\n",
              "    </tr>\n",
              "    <tr>\n",
              "      <th>max</th>\n",
              "      <td>56.00</td>\n",
              "      <td>57.00</td>\n",
              "      <td>434.00</td>\n",
              "      <td>7.00</td>\n",
              "      <td>6 days 17:07:59.592000</td>\n",
              "    </tr>\n",
              "  </tbody>\n",
              "</table>\n",
              "</div>"
            ],
            "text/plain": [
              "       call_start_day  call_end_day  ...   diff_day           call_duration\n",
              "count      6962341.00    6962341.00  ... 6962341.00                 6962341\n",
              "mean            35.83         35.86  ...       0.03  0 days 00:25:53.358414\n",
              "std             16.26         16.25  ...       0.20  0 days 03:18:07.730969\n",
              "min              1.00          1.00  ...       0.00         0 days 00:00:00\n",
              "25%             23.00         23.00  ...       0.00  0 days 00:01:38.387000\n",
              "50%             41.00         41.00  ...       0.00  0 days 00:09:31.063000\n",
              "75%             50.00         50.00  ...       0.00  0 days 00:18:48.020000\n",
              "max             56.00         57.00  ...       7.00  6 days 17:07:59.592000\n",
              "\n",
              "[8 rows x 5 columns]"
            ]
          },
          "metadata": {
            "tags": []
          },
          "execution_count": 35
        }
      ]
    },
    {
      "cell_type": "markdown",
      "metadata": {
        "id": "Jc6vHWhn54uu",
        "colab_type": "text"
      },
      "source": [
        "전화를 시도했지만 안받은 건수도 존재한다."
      ]
    },
    {
      "cell_type": "markdown",
      "metadata": {
        "id": "uXlrt2WtnoSb",
        "colab_type": "text"
      },
      "source": [
        "## 3.1 사람별 통계량 "
      ]
    },
    {
      "cell_type": "markdown",
      "metadata": {
        "id": "JM4lvrFHqHFb",
        "colab_type": "text"
      },
      "source": [
        "### 3.1.1 데이터 전처리"
      ]
    },
    {
      "cell_type": "code",
      "metadata": {
        "id": "lsYyf66wK_bB",
        "colab_type": "code",
        "colab": {}
      },
      "source": [
        "data['call_num'] = 1"
      ],
      "execution_count": 11,
      "outputs": []
    },
    {
      "cell_type": "code",
      "metadata": {
        "id": "nkrO_yfXK_ZD",
        "colab_type": "code",
        "colab": {}
      },
      "source": [
        "data['call_duration'] = data['call_duration'].dt.total_seconds()"
      ],
      "execution_count": 12,
      "outputs": []
    },
    {
      "cell_type": "markdown",
      "metadata": {
        "id": "Wm8R0uKDeIvs",
        "colab_type": "text"
      },
      "source": [
        "각 hashed(사람)별로 데이터프레임의 구조를 변경하기 위해서는 ,로 구분된 **hashed**의 각 요소들을 구분해야 한다.  \n",
        "사람별 총 통화건수를 확인하기 위해 **call_num**이라는 변수에 1이라는 값을 부여 "
      ]
    },
    {
      "cell_type": "code",
      "metadata": {
        "id": "sf_i93Cho7-b",
        "colab_type": "code",
        "colab": {}
      },
      "source": [
        "data['call_duration'] = data['call_duration'] / 3600"
      ],
      "execution_count": 13,
      "outputs": []
    },
    {
      "cell_type": "code",
      "metadata": {
        "id": "G6lON_dAqMfe",
        "colab_type": "code",
        "colab": {
          "base_uri": "https://localhost:8080/",
          "height": 589
        },
        "outputId": "01cca83a-bdc4-4b70-adb3-aeeb5cc1946f"
      },
      "source": [
        "data"
      ],
      "execution_count": 55,
      "outputs": [
        {
          "output_type": "execute_result",
          "data": {
            "text/html": [
              "<div>\n",
              "<style scoped>\n",
              "    .dataframe tbody tr th:only-of-type {\n",
              "        vertical-align: middle;\n",
              "    }\n",
              "\n",
              "    .dataframe tbody tr th {\n",
              "        vertical-align: top;\n",
              "    }\n",
              "\n",
              "    .dataframe thead th {\n",
              "        text-align: right;\n",
              "    }\n",
              "</style>\n",
              "<table border=\"1\" class=\"dataframe\">\n",
              "  <thead>\n",
              "    <tr style=\"text-align: right;\">\n",
              "      <th></th>\n",
              "      <th>call_start_day</th>\n",
              "      <th>call_start_time</th>\n",
              "      <th>call_end_day</th>\n",
              "      <th>call_end_time</th>\n",
              "      <th>hashed</th>\n",
              "      <th>p_num</th>\n",
              "      <th>diff_day</th>\n",
              "      <th>new_end_time</th>\n",
              "      <th>call_duration</th>\n",
              "      <th>call_num</th>\n",
              "    </tr>\n",
              "  </thead>\n",
              "  <tbody>\n",
              "    <tr>\n",
              "      <th>0</th>\n",
              "      <td>1</td>\n",
              "      <td>1900-01-01 09:14:58.558</td>\n",
              "      <td>1</td>\n",
              "      <td>1900-01-01 09:41:30.200</td>\n",
              "      <td>967393e81d99ce8e577ee130b7ce8e4fd45e3e9cecb560...</td>\n",
              "      <td>3</td>\n",
              "      <td>0</td>\n",
              "      <td>1900-01-01 09:41:30.200</td>\n",
              "      <td>0.442123</td>\n",
              "      <td>1</td>\n",
              "    </tr>\n",
              "    <tr>\n",
              "      <th>1</th>\n",
              "      <td>17</td>\n",
              "      <td>1900-01-01 11:05:05.176</td>\n",
              "      <td>17</td>\n",
              "      <td>1900-01-01 13:07:42.515</td>\n",
              "      <td>02181a0c962f34f019bc9d5b582fb0ec79b1441f96aa4d...</td>\n",
              "      <td>5</td>\n",
              "      <td>0</td>\n",
              "      <td>1900-01-01 13:07:42.515</td>\n",
              "      <td>2.043705</td>\n",
              "      <td>1</td>\n",
              "    </tr>\n",
              "    <tr>\n",
              "      <th>2</th>\n",
              "      <td>20</td>\n",
              "      <td>1900-01-01 02:18:43.172</td>\n",
              "      <td>20</td>\n",
              "      <td>1900-01-01 02:28:58.177</td>\n",
              "      <td>86022904c5cf72a54978479c94041f4256d6c3c2a1f71c...</td>\n",
              "      <td>3</td>\n",
              "      <td>0</td>\n",
              "      <td>1900-01-01 02:28:58.177</td>\n",
              "      <td>0.170835</td>\n",
              "      <td>1</td>\n",
              "    </tr>\n",
              "    <tr>\n",
              "      <th>3</th>\n",
              "      <td>22</td>\n",
              "      <td>1900-01-01 09:22:01.936</td>\n",
              "      <td>22</td>\n",
              "      <td>1900-01-01 09:47:40.192</td>\n",
              "      <td>aafb40d212fe18ff4eafb82fdcf3b53f2161cb3ce59de4...</td>\n",
              "      <td>6</td>\n",
              "      <td>0</td>\n",
              "      <td>1900-01-01 09:47:40.192</td>\n",
              "      <td>0.427293</td>\n",
              "      <td>1</td>\n",
              "    </tr>\n",
              "    <tr>\n",
              "      <th>4</th>\n",
              "      <td>26</td>\n",
              "      <td>1900-01-01 06:29:21.182</td>\n",
              "      <td>26</td>\n",
              "      <td>1900-01-01 06:50:55.004</td>\n",
              "      <td>c87c2fad141edf323f3787335b54be22945a02fe052448...</td>\n",
              "      <td>6</td>\n",
              "      <td>0</td>\n",
              "      <td>1900-01-01 06:50:55.004</td>\n",
              "      <td>0.359395</td>\n",
              "      <td>1</td>\n",
              "    </tr>\n",
              "    <tr>\n",
              "      <th>...</th>\n",
              "      <td>...</td>\n",
              "      <td>...</td>\n",
              "      <td>...</td>\n",
              "      <td>...</td>\n",
              "      <td>...</td>\n",
              "      <td>...</td>\n",
              "      <td>...</td>\n",
              "      <td>...</td>\n",
              "      <td>...</td>\n",
              "      <td>...</td>\n",
              "    </tr>\n",
              "    <tr>\n",
              "      <th>6962336</th>\n",
              "      <td>55</td>\n",
              "      <td>1900-01-01 08:09:30.086</td>\n",
              "      <td>55</td>\n",
              "      <td>1900-01-01 08:29:51.324</td>\n",
              "      <td>a4b6aea6cb58e43911e7cb7d6c0497197db7c4ed16e1c9...</td>\n",
              "      <td>6</td>\n",
              "      <td>0</td>\n",
              "      <td>1900-01-01 08:29:51.324</td>\n",
              "      <td>0.339233</td>\n",
              "      <td>1</td>\n",
              "    </tr>\n",
              "    <tr>\n",
              "      <th>6962337</th>\n",
              "      <td>35</td>\n",
              "      <td>1900-01-01 11:25:25.719</td>\n",
              "      <td>35</td>\n",
              "      <td>1900-01-01 11:47:41.557</td>\n",
              "      <td>4ec597c569b92bd0e1bae4e2a06e13b9657fb81795e194...</td>\n",
              "      <td>12</td>\n",
              "      <td>0</td>\n",
              "      <td>1900-01-01 11:47:41.557</td>\n",
              "      <td>0.371066</td>\n",
              "      <td>1</td>\n",
              "    </tr>\n",
              "    <tr>\n",
              "      <th>6962338</th>\n",
              "      <td>47</td>\n",
              "      <td>1900-01-01 16:29:59.882</td>\n",
              "      <td>47</td>\n",
              "      <td>1900-01-01 16:30:27.386</td>\n",
              "      <td>8092e194a750aae539862ed4405f67a6dd5b492e7e57e3...</td>\n",
              "      <td>6</td>\n",
              "      <td>0</td>\n",
              "      <td>1900-01-01 16:30:27.386</td>\n",
              "      <td>0.007640</td>\n",
              "      <td>1</td>\n",
              "    </tr>\n",
              "    <tr>\n",
              "      <th>6962339</th>\n",
              "      <td>48</td>\n",
              "      <td>1900-01-01 23:43:52.265</td>\n",
              "      <td>48</td>\n",
              "      <td>1900-01-01 23:47:50.285</td>\n",
              "      <td>7176c1516207692857535c30a4650b8e8e586af1fed0fd...</td>\n",
              "      <td>6</td>\n",
              "      <td>0</td>\n",
              "      <td>1900-01-01 23:47:50.285</td>\n",
              "      <td>0.066117</td>\n",
              "      <td>1</td>\n",
              "    </tr>\n",
              "    <tr>\n",
              "      <th>6962340</th>\n",
              "      <td>40</td>\n",
              "      <td>1900-01-01 23:07:31.761</td>\n",
              "      <td>40</td>\n",
              "      <td>1900-01-01 23:11:01.968</td>\n",
              "      <td>11fc85879e5ac9d5c83bfba10d73c4c84c154b9f4d9e1d...</td>\n",
              "      <td>6</td>\n",
              "      <td>0</td>\n",
              "      <td>1900-01-01 23:11:01.968</td>\n",
              "      <td>0.058391</td>\n",
              "      <td>1</td>\n",
              "    </tr>\n",
              "  </tbody>\n",
              "</table>\n",
              "<p>6962341 rows × 10 columns</p>\n",
              "</div>"
            ],
            "text/plain": [
              "         call_start_day         call_start_time  ...  call_duration call_num\n",
              "0                     1 1900-01-01 09:14:58.558  ...       0.442123        1\n",
              "1                    17 1900-01-01 11:05:05.176  ...       2.043705        1\n",
              "2                    20 1900-01-01 02:18:43.172  ...       0.170835        1\n",
              "3                    22 1900-01-01 09:22:01.936  ...       0.427293        1\n",
              "4                    26 1900-01-01 06:29:21.182  ...       0.359395        1\n",
              "...                 ...                     ...  ...            ...      ...\n",
              "6962336              55 1900-01-01 08:09:30.086  ...       0.339233        1\n",
              "6962337              35 1900-01-01 11:25:25.719  ...       0.371066        1\n",
              "6962338              47 1900-01-01 16:29:59.882  ...       0.007640        1\n",
              "6962339              48 1900-01-01 23:43:52.265  ...       0.066117        1\n",
              "6962340              40 1900-01-01 23:07:31.761  ...       0.058391        1\n",
              "\n",
              "[6962341 rows x 10 columns]"
            ]
          },
          "metadata": {
            "tags": []
          },
          "execution_count": 55
        }
      ]
    },
    {
      "cell_type": "code",
      "metadata": {
        "id": "6I1lL8x9K_LI",
        "colab_type": "code",
        "colab": {}
      },
      "source": [
        "temp1 = data.loc[0:1000000,[\"hashed\",\"p_num\",\"call_duration\",\"call_num\"]]\n",
        "temp2 = data.loc[1000001:1500000,[\"hashed\",\"p_num\",\"call_duration\",\"call_num\"]]\n",
        "temp3 = data.loc[1500001:2000000,[\"hashed\",\"p_num\",\"call_duration\",\"call_num\"]]\n",
        "temp4 = data.loc[2000001:3000000,[\"hashed\",\"p_num\",\"call_duration\",\"call_num\"]]\n",
        "temp5 = data.loc[3000001:4000000,[\"hashed\",\"p_num\",\"call_duration\",\"call_num\"]]\n",
        "temp6 = data.loc[4000001:5000000,[\"hashed\",\"p_num\",\"call_duration\",\"call_num\"]]\n",
        "temp7 = data.loc[5000001:6000000,[\"hashed\",\"p_num\",\"call_duration\",\"call_num\"]]\n",
        "temp8 = data.loc[6000001:,[\"hashed\",\"p_num\",\"call_duration\",\"call_num\"]]"
      ],
      "execution_count": 12,
      "outputs": []
    },
    {
      "cell_type": "code",
      "metadata": {
        "id": "aEyCn7sHikcV",
        "colab_type": "code",
        "colab": {}
      },
      "source": [
        "def longform(yourdata):\n",
        "    koo = yourdata.set_index(yourdata.columns.drop('hashed', 1).tolist()).hashed\\\n",
        "        .str.split(',', expand = True)\\\n",
        "        .stack()\\\n",
        "        .reset_index()\\\n",
        "        .rename(columns = {0 : 'hashed'})\\\n",
        "        .loc[:, yourdata.columns]\\\n",
        "        .groupby('hashed').sum()\n",
        "\n",
        "    return koo"
      ],
      "execution_count": 13,
      "outputs": []
    },
    {
      "cell_type": "code",
      "metadata": {
        "id": "KPk1Cdeqisgs",
        "colab_type": "code",
        "colab": {}
      },
      "source": [
        "long1 = longform(temp1)\n",
        "long2 = longform(temp2)\n",
        "long3 = longform(temp3)\n",
        "long4 = longform(temp4)\n",
        "long5 = longform(temp5)\n",
        "long6 = longform(temp6)\n",
        "long7 = longform(temp7)\n",
        "long8 = longform(temp8)"
      ],
      "execution_count": 14,
      "outputs": []
    },
    {
      "cell_type": "code",
      "metadata": {
        "id": "F2Kr9jV1mEON",
        "colab_type": "code",
        "colab": {}
      },
      "source": [
        "p_data = pd.concat([long1, long2, long3, long4, long5, long6, long7, long8], axis=0).groupby('hashed').sum()"
      ],
      "execution_count": 15,
      "outputs": []
    },
    {
      "cell_type": "markdown",
      "metadata": {
        "id": "ulcjUHr4mEmA",
        "colab_type": "text"
      },
      "source": [
        "### 3.1.2 파생변수"
      ]
    },
    {
      "cell_type": "code",
      "metadata": {
        "id": "5TsMvKlHpv49",
        "colab_type": "code",
        "colab": {
          "base_uri": "https://localhost:8080/",
          "height": 297
        },
        "outputId": "490bbbc1-aa87-4381-ec64-8311d9d042dd"
      },
      "source": [
        "p_data.describe()"
      ],
      "execution_count": null,
      "outputs": [
        {
          "output_type": "execute_result",
          "data": {
            "text/html": [
              "<div>\n",
              "<style scoped>\n",
              "    .dataframe tbody tr th:only-of-type {\n",
              "        vertical-align: middle;\n",
              "    }\n",
              "\n",
              "    .dataframe tbody tr th {\n",
              "        vertical-align: top;\n",
              "    }\n",
              "\n",
              "    .dataframe thead th {\n",
              "        text-align: right;\n",
              "    }\n",
              "</style>\n",
              "<table border=\"1\" class=\"dataframe\">\n",
              "  <thead>\n",
              "    <tr style=\"text-align: right;\">\n",
              "      <th></th>\n",
              "      <th>p_num</th>\n",
              "      <th>call_duration</th>\n",
              "      <th>call_num</th>\n",
              "    </tr>\n",
              "  </thead>\n",
              "  <tbody>\n",
              "    <tr>\n",
              "      <th>count</th>\n",
              "      <td>268148.000000</td>\n",
              "      <td>268148.000000</td>\n",
              "      <td>268148.000000</td>\n",
              "    </tr>\n",
              "    <tr>\n",
              "      <th>mean</th>\n",
              "      <td>775.856691</td>\n",
              "      <td>55.175152</td>\n",
              "      <td>127.855818</td>\n",
              "    </tr>\n",
              "    <tr>\n",
              "      <th>std</th>\n",
              "      <td>1405.315175</td>\n",
              "      <td>117.862558</td>\n",
              "      <td>257.100419</td>\n",
              "    </tr>\n",
              "    <tr>\n",
              "      <th>min</th>\n",
              "      <td>1.000000</td>\n",
              "      <td>0.000000</td>\n",
              "      <td>1.000000</td>\n",
              "    </tr>\n",
              "    <tr>\n",
              "      <th>25%</th>\n",
              "      <td>25.000000</td>\n",
              "      <td>0.592366</td>\n",
              "      <td>3.000000</td>\n",
              "    </tr>\n",
              "    <tr>\n",
              "      <th>50%</th>\n",
              "      <td>156.000000</td>\n",
              "      <td>7.244065</td>\n",
              "      <td>24.000000</td>\n",
              "    </tr>\n",
              "    <tr>\n",
              "      <th>75%</th>\n",
              "      <td>856.000000</td>\n",
              "      <td>57.718960</td>\n",
              "      <td>143.000000</td>\n",
              "    </tr>\n",
              "    <tr>\n",
              "      <th>max</th>\n",
              "      <td>94441.000000</td>\n",
              "      <td>14273.206788</td>\n",
              "      <td>31498.000000</td>\n",
              "    </tr>\n",
              "  </tbody>\n",
              "</table>\n",
              "</div>"
            ],
            "text/plain": [
              "               p_num  call_duration       call_num\n",
              "count  268148.000000  268148.000000  268148.000000\n",
              "mean      775.856691      55.175152     127.855818\n",
              "std      1405.315175     117.862558     257.100419\n",
              "min         1.000000       0.000000       1.000000\n",
              "25%        25.000000       0.592366       3.000000\n",
              "50%       156.000000       7.244065      24.000000\n",
              "75%       856.000000      57.718960     143.000000\n",
              "max     94441.000000   14273.206788   31498.000000"
            ]
          },
          "metadata": {
            "tags": []
          },
          "execution_count": 18
        }
      ]
    },
    {
      "cell_type": "code",
      "metadata": {
        "id": "N7Vpg-VPp1oU",
        "colab_type": "code",
        "colab": {
          "base_uri": "https://localhost:8080/",
          "height": 450
        },
        "outputId": "fafadcf4-ee5c-4d8f-a369-f4c7c101b496"
      },
      "source": [
        "p_data"
      ],
      "execution_count": null,
      "outputs": [
        {
          "output_type": "execute_result",
          "data": {
            "text/html": [
              "<div>\n",
              "<style scoped>\n",
              "    .dataframe tbody tr th:only-of-type {\n",
              "        vertical-align: middle;\n",
              "    }\n",
              "\n",
              "    .dataframe tbody tr th {\n",
              "        vertical-align: top;\n",
              "    }\n",
              "\n",
              "    .dataframe thead th {\n",
              "        text-align: right;\n",
              "    }\n",
              "</style>\n",
              "<table border=\"1\" class=\"dataframe\">\n",
              "  <thead>\n",
              "    <tr style=\"text-align: right;\">\n",
              "      <th></th>\n",
              "      <th>p_num</th>\n",
              "      <th>call_duration</th>\n",
              "      <th>call_num</th>\n",
              "    </tr>\n",
              "    <tr>\n",
              "      <th>hashed</th>\n",
              "      <th></th>\n",
              "      <th></th>\n",
              "      <th></th>\n",
              "    </tr>\n",
              "  </thead>\n",
              "  <tbody>\n",
              "    <tr>\n",
              "      <th>000020b4fa2af1e40c813436e5054bce70b703d0039dcdad4ccb5b287c3fadbc</th>\n",
              "      <td>6370</td>\n",
              "      <td>476.383468</td>\n",
              "      <td>1049</td>\n",
              "    </tr>\n",
              "    <tr>\n",
              "      <th>0000264b01392acfde44f9d8494f112a701dc5d3e5fda6ad090cb205727637e0</th>\n",
              "      <td>3625</td>\n",
              "      <td>532.616013</td>\n",
              "      <td>777</td>\n",
              "    </tr>\n",
              "    <tr>\n",
              "      <th>00006916672106f94f68d18e4a0532b53a40f4549d3a62f0cbf677dd25803668</th>\n",
              "      <td>48</td>\n",
              "      <td>1.161509</td>\n",
              "      <td>9</td>\n",
              "    </tr>\n",
              "    <tr>\n",
              "      <th>0000988c5778e9d6a861fee8fbfd88ec2fdc9108c1acd6d9c0b4d51637787b37</th>\n",
              "      <td>224</td>\n",
              "      <td>14.592088</td>\n",
              "      <td>37</td>\n",
              "    </tr>\n",
              "    <tr>\n",
              "      <th>0000a2ff91f6891797708f346d8e3790fa75c1872d6fdc8cf9b4c98ad2112dd3</th>\n",
              "      <td>992</td>\n",
              "      <td>53.649001</td>\n",
              "      <td>222</td>\n",
              "    </tr>\n",
              "    <tr>\n",
              "      <th>...</th>\n",
              "      <td>...</td>\n",
              "      <td>...</td>\n",
              "      <td>...</td>\n",
              "    </tr>\n",
              "    <tr>\n",
              "      <th>fffdd5bc78ceb19e7abe25de14dc42fbd9c40fde9570b2d2c620a0c6b27d9427</th>\n",
              "      <td>18</td>\n",
              "      <td>0.028748</td>\n",
              "      <td>1</td>\n",
              "    </tr>\n",
              "    <tr>\n",
              "      <th>fffec3d7fa3b91fbb1ec4283e90a757571c5f5efc8c6d008af60ac1fee3206ca</th>\n",
              "      <td>63</td>\n",
              "      <td>4.578250</td>\n",
              "      <td>11</td>\n",
              "    </tr>\n",
              "    <tr>\n",
              "      <th>ffff969d1e4c9df210de38d5fd36a4b236db38eb1e73acc6fcc430c18509b7d2</th>\n",
              "      <td>79</td>\n",
              "      <td>2.775712</td>\n",
              "      <td>11</td>\n",
              "    </tr>\n",
              "    <tr>\n",
              "      <th>ffff9a16d20fee70bc5d424a5334e61226cbcf8ef7c6a1edaed452eb4a0fd4df</th>\n",
              "      <td>282</td>\n",
              "      <td>64.909105</td>\n",
              "      <td>47</td>\n",
              "    </tr>\n",
              "    <tr>\n",
              "      <th>ffffea6ac1bc651cbfcf0b0e04dbbb35d8637ba7b68cdd74d3bb0f6454b3ce67</th>\n",
              "      <td>282</td>\n",
              "      <td>13.487893</td>\n",
              "      <td>47</td>\n",
              "    </tr>\n",
              "  </tbody>\n",
              "</table>\n",
              "<p>268148 rows × 3 columns</p>\n",
              "</div>"
            ],
            "text/plain": [
              "                                                    p_num  ...  call_num\n",
              "hashed                                                     ...          \n",
              "000020b4fa2af1e40c813436e5054bce70b703d0039dcda...   6370  ...      1049\n",
              "0000264b01392acfde44f9d8494f112a701dc5d3e5fda6a...   3625  ...       777\n",
              "00006916672106f94f68d18e4a0532b53a40f4549d3a62f...     48  ...         9\n",
              "0000988c5778e9d6a861fee8fbfd88ec2fdc9108c1acd6d...    224  ...        37\n",
              "0000a2ff91f6891797708f346d8e3790fa75c1872d6fdc8...    992  ...       222\n",
              "...                                                   ...  ...       ...\n",
              "fffdd5bc78ceb19e7abe25de14dc42fbd9c40fde9570b2d...     18  ...         1\n",
              "fffec3d7fa3b91fbb1ec4283e90a757571c5f5efc8c6d00...     63  ...        11\n",
              "ffff969d1e4c9df210de38d5fd36a4b236db38eb1e73acc...     79  ...        11\n",
              "ffff9a16d20fee70bc5d424a5334e61226cbcf8ef7c6a1e...    282  ...        47\n",
              "ffffea6ac1bc651cbfcf0b0e04dbbb35d8637ba7b68cdd7...    282  ...        47\n",
              "\n",
              "[268148 rows x 3 columns]"
            ]
          },
          "metadata": {
            "tags": []
          },
          "execution_count": 20
        }
      ]
    },
    {
      "cell_type": "code",
      "metadata": {
        "id": "QCPPRZ9Wp7cY",
        "colab_type": "code",
        "colab": {}
      },
      "source": [
        "p_data['mean_duration'] = p_data['call_duration'] / p_data['call_num']\n",
        "p_data['mean_join_person'] = p_data['p_num'] / p_data['call_num']"
      ],
      "execution_count": 16,
      "outputs": []
    },
    {
      "cell_type": "code",
      "metadata": {
        "id": "1f2fis_DsgRN",
        "colab_type": "code",
        "colab": {}
      },
      "source": [
        "p_data = p_data.drop('p_num', axis = 1)"
      ],
      "execution_count": 17,
      "outputs": []
    },
    {
      "cell_type": "code",
      "metadata": {
        "id": "anzVXwx7wVLg",
        "colab_type": "code",
        "colab": {
          "base_uri": "https://localhost:8080/",
          "height": 450
        },
        "outputId": "8b3cecf6-e0e3-45a6-d8d3-ffe594599829"
      },
      "source": [
        "p_data"
      ],
      "execution_count": 18,
      "outputs": [
        {
          "output_type": "execute_result",
          "data": {
            "text/html": [
              "<div>\n",
              "<style scoped>\n",
              "    .dataframe tbody tr th:only-of-type {\n",
              "        vertical-align: middle;\n",
              "    }\n",
              "\n",
              "    .dataframe tbody tr th {\n",
              "        vertical-align: top;\n",
              "    }\n",
              "\n",
              "    .dataframe thead th {\n",
              "        text-align: right;\n",
              "    }\n",
              "</style>\n",
              "<table border=\"1\" class=\"dataframe\">\n",
              "  <thead>\n",
              "    <tr style=\"text-align: right;\">\n",
              "      <th></th>\n",
              "      <th>call_duration</th>\n",
              "      <th>call_num</th>\n",
              "      <th>mean_duration</th>\n",
              "      <th>mean_join_person</th>\n",
              "    </tr>\n",
              "    <tr>\n",
              "      <th>hashed</th>\n",
              "      <th></th>\n",
              "      <th></th>\n",
              "      <th></th>\n",
              "      <th></th>\n",
              "    </tr>\n",
              "  </thead>\n",
              "  <tbody>\n",
              "    <tr>\n",
              "      <th>000020b4fa2af1e40c813436e5054bce70b703d0039dcdad4ccb5b287c3fadbc</th>\n",
              "      <td>476.383468</td>\n",
              "      <td>1049</td>\n",
              "      <td>0.454131</td>\n",
              "      <td>6.072450</td>\n",
              "    </tr>\n",
              "    <tr>\n",
              "      <th>0000264b01392acfde44f9d8494f112a701dc5d3e5fda6ad090cb205727637e0</th>\n",
              "      <td>532.616013</td>\n",
              "      <td>777</td>\n",
              "      <td>0.685477</td>\n",
              "      <td>4.665380</td>\n",
              "    </tr>\n",
              "    <tr>\n",
              "      <th>00006916672106f94f68d18e4a0532b53a40f4549d3a62f0cbf677dd25803668</th>\n",
              "      <td>1.161509</td>\n",
              "      <td>9</td>\n",
              "      <td>0.129057</td>\n",
              "      <td>5.333333</td>\n",
              "    </tr>\n",
              "    <tr>\n",
              "      <th>0000988c5778e9d6a861fee8fbfd88ec2fdc9108c1acd6d9c0b4d51637787b37</th>\n",
              "      <td>14.592088</td>\n",
              "      <td>37</td>\n",
              "      <td>0.394381</td>\n",
              "      <td>6.054054</td>\n",
              "    </tr>\n",
              "    <tr>\n",
              "      <th>0000a2ff91f6891797708f346d8e3790fa75c1872d6fdc8cf9b4c98ad2112dd3</th>\n",
              "      <td>53.649001</td>\n",
              "      <td>222</td>\n",
              "      <td>0.241662</td>\n",
              "      <td>4.468468</td>\n",
              "    </tr>\n",
              "    <tr>\n",
              "      <th>...</th>\n",
              "      <td>...</td>\n",
              "      <td>...</td>\n",
              "      <td>...</td>\n",
              "      <td>...</td>\n",
              "    </tr>\n",
              "    <tr>\n",
              "      <th>fffdd5bc78ceb19e7abe25de14dc42fbd9c40fde9570b2d2c620a0c6b27d9427</th>\n",
              "      <td>0.028748</td>\n",
              "      <td>1</td>\n",
              "      <td>0.028748</td>\n",
              "      <td>18.000000</td>\n",
              "    </tr>\n",
              "    <tr>\n",
              "      <th>fffec3d7fa3b91fbb1ec4283e90a757571c5f5efc8c6d008af60ac1fee3206ca</th>\n",
              "      <td>4.578250</td>\n",
              "      <td>11</td>\n",
              "      <td>0.416205</td>\n",
              "      <td>5.727273</td>\n",
              "    </tr>\n",
              "    <tr>\n",
              "      <th>ffff969d1e4c9df210de38d5fd36a4b236db38eb1e73acc6fcc430c18509b7d2</th>\n",
              "      <td>2.775712</td>\n",
              "      <td>11</td>\n",
              "      <td>0.252337</td>\n",
              "      <td>7.181818</td>\n",
              "    </tr>\n",
              "    <tr>\n",
              "      <th>ffff9a16d20fee70bc5d424a5334e61226cbcf8ef7c6a1edaed452eb4a0fd4df</th>\n",
              "      <td>64.909105</td>\n",
              "      <td>47</td>\n",
              "      <td>1.381045</td>\n",
              "      <td>6.000000</td>\n",
              "    </tr>\n",
              "    <tr>\n",
              "      <th>ffffea6ac1bc651cbfcf0b0e04dbbb35d8637ba7b68cdd74d3bb0f6454b3ce67</th>\n",
              "      <td>13.487893</td>\n",
              "      <td>47</td>\n",
              "      <td>0.286976</td>\n",
              "      <td>6.000000</td>\n",
              "    </tr>\n",
              "  </tbody>\n",
              "</table>\n",
              "<p>268148 rows × 4 columns</p>\n",
              "</div>"
            ],
            "text/plain": [
              "                                                    call_duration  ...  mean_join_person\n",
              "hashed                                                             ...                  \n",
              "000020b4fa2af1e40c813436e5054bce70b703d0039dcda...     476.383468  ...          6.072450\n",
              "0000264b01392acfde44f9d8494f112a701dc5d3e5fda6a...     532.616013  ...          4.665380\n",
              "00006916672106f94f68d18e4a0532b53a40f4549d3a62f...       1.161509  ...          5.333333\n",
              "0000988c5778e9d6a861fee8fbfd88ec2fdc9108c1acd6d...      14.592088  ...          6.054054\n",
              "0000a2ff91f6891797708f346d8e3790fa75c1872d6fdc8...      53.649001  ...          4.468468\n",
              "...                                                           ...  ...               ...\n",
              "fffdd5bc78ceb19e7abe25de14dc42fbd9c40fde9570b2d...       0.028748  ...         18.000000\n",
              "fffec3d7fa3b91fbb1ec4283e90a757571c5f5efc8c6d00...       4.578250  ...          5.727273\n",
              "ffff969d1e4c9df210de38d5fd36a4b236db38eb1e73acc...       2.775712  ...          7.181818\n",
              "ffff9a16d20fee70bc5d424a5334e61226cbcf8ef7c6a1e...      64.909105  ...          6.000000\n",
              "ffffea6ac1bc651cbfcf0b0e04dbbb35d8637ba7b68cdd7...      13.487893  ...          6.000000\n",
              "\n",
              "[268148 rows x 4 columns]"
            ]
          },
          "metadata": {
            "tags": []
          },
          "execution_count": 18
        }
      ]
    },
    {
      "cell_type": "markdown",
      "metadata": {
        "id": "nFFkzNlhuuFm",
        "colab_type": "text"
      },
      "source": [
        "* call_duration : 사람별 총 통화 시간(hour)  \n",
        "* call_num : 사람별 총 통화 횟수(회)  \n",
        "* mean_duration : 사람별 평균 통화 시간(hour)  \n",
        "* mean_join_person : 사람별 통화 건수마다 참여한 평균 사람 수(명)\n",
        "\n"
      ]
    },
    {
      "cell_type": "code",
      "metadata": {
        "id": "sG1BU399oV5x",
        "colab_type": "code",
        "colab": {}
      },
      "source": [
        "# p_data.to_pickle(\"./gdrive/My Drive/coding_test/p_data.pickle\")"
      ],
      "execution_count": 19,
      "outputs": []
    },
    {
      "cell_type": "markdown",
      "metadata": {
        "id": "HlzR_joIBBTK",
        "colab_type": "text"
      },
      "source": [
        "### 3.1.3 사람별로 몇 명의 사람과 통화를 했을까?(중복없음)"
      ]
    },
    {
      "cell_type": "code",
      "metadata": {
        "id": "g0ktppziC7E2",
        "colab_type": "code",
        "colab": {}
      },
      "source": [
        "def longform2(yourdata):\n",
        "    koo = yourdata.set_index(yourdata.columns.drop('hashed', 1).tolist()).hashed\\\n",
        "        .str.split(',', expand = True)\\\n",
        "        .stack()\\\n",
        "        .reset_index()\\\n",
        "        .rename(columns = {0 : 'hashed'})\\\n",
        "        .loc[:, yourdata.columns].loc[:,[\"hashed\"]]\n",
        "    \n",
        "    list_hashed = [x for x in yourdata.hashed.str.split(\",\")]\n",
        "    repeat_list = pd.DataFrame(np.repeat(list_hashed, yourdata.p_num))\n",
        "    repeat_list.columns = ['list_hashed']\n",
        "    \n",
        "    result = pd.concat([koo.reset_index(drop=True), repeat_list.reset_index(drop=True)], axis=1).groupby('hashed').sum()\n",
        "\n",
        "    return result"
      ],
      "execution_count": 4,
      "outputs": []
    },
    {
      "cell_type": "code",
      "metadata": {
        "id": "kdDXwNAAD_Fc",
        "colab_type": "code",
        "colab": {}
      },
      "source": [
        "temp1 = data.loc[0:1000000,[\"hashed\",\"p_num\"]]\n",
        "temp2 = data.loc[1000001:1500000,[\"hashed\",\"p_num\"]]\n",
        "temp3 = data.loc[1500001:2000000,[\"hashed\",\"p_num\"]]\n",
        "temp4 = data.loc[2000001:3000000,[\"hashed\",\"p_num\"]]\n",
        "temp5 = data.loc[3000001:4000000,[\"hashed\",\"p_num\"]]\n",
        "temp6 = data.loc[4000001:5000000,[\"hashed\",\"p_num\"]]\n",
        "temp7 = data.loc[5000001:6000000,[\"hashed\",\"p_num\"]]\n",
        "temp8 = data.loc[6000001:,[\"hashed\",\"p_num\"]]"
      ],
      "execution_count": 5,
      "outputs": []
    },
    {
      "cell_type": "markdown",
      "metadata": {
        "id": "d3tXvXpkl-HU",
        "colab_type": "text"
      },
      "source": [
        "#### 분리하여 진행  \n",
        "\n",
        "전체 데이터를 분리하여 작업을 진행한다. 또한, 빠른 작업을 위해 중간 데이터들은 저장하여 후에 불러들이기 편하도록 한다.  \n",
        "pickle파일은 csv파일보다 읽기, 쓰기면에서 훨씬 빠르며 저장용량도 작을뿐더러 저장된 컬럼의 타입이 유지된다.  "
      ]
    },
    {
      "cell_type": "markdown",
      "metadata": {
        "id": "zetvzf-H2ek8",
        "colab_type": "text"
      },
      "source": [
        "##### 1분할"
      ]
    },
    {
      "cell_type": "code",
      "metadata": {
        "id": "i2sudHTIFliK",
        "colab_type": "code",
        "colab": {}
      },
      "source": [
        "count_person1 = longform2(temp1)\n",
        "count_person2 = longform2(temp2)"
      ],
      "execution_count": null,
      "outputs": []
    },
    {
      "cell_type": "code",
      "metadata": {
        "id": "42MEpVcog4zp",
        "colab_type": "code",
        "colab": {}
      },
      "source": [
        "person = pd.concat([count_person1, count_person2], axis = 0).groupby(\"hashed\").sum()\n",
        "person = person.apply(lambda x : list(set(x.list_hashed)), axis = 1)\n",
        "person = person.to_frame()\n",
        "person.columns = ['list_hashed']"
      ],
      "execution_count": null,
      "outputs": []
    },
    {
      "cell_type": "code",
      "metadata": {
        "id": "NEYZYsK_Mjr0",
        "colab_type": "code",
        "colab": {
          "base_uri": "https://localhost:8080/",
          "height": 450
        },
        "outputId": "868e4ec3-8943-4faa-a066-38c05c49c499"
      },
      "source": [
        "person"
      ],
      "execution_count": null,
      "outputs": [
        {
          "output_type": "execute_result",
          "data": {
            "text/html": [
              "<div>\n",
              "<style scoped>\n",
              "    .dataframe tbody tr th:only-of-type {\n",
              "        vertical-align: middle;\n",
              "    }\n",
              "\n",
              "    .dataframe tbody tr th {\n",
              "        vertical-align: top;\n",
              "    }\n",
              "\n",
              "    .dataframe thead th {\n",
              "        text-align: right;\n",
              "    }\n",
              "</style>\n",
              "<table border=\"1\" class=\"dataframe\">\n",
              "  <thead>\n",
              "    <tr style=\"text-align: right;\">\n",
              "      <th></th>\n",
              "      <th>list_hashed</th>\n",
              "    </tr>\n",
              "    <tr>\n",
              "      <th>hashed</th>\n",
              "      <th></th>\n",
              "    </tr>\n",
              "  </thead>\n",
              "  <tbody>\n",
              "    <tr>\n",
              "      <th>000020b4fa2af1e40c813436e5054bce70b703d0039dcdad4ccb5b287c3fadbc</th>\n",
              "      <td>[f79e6538917412350d522962ac5b018faf79ae6cad17e...</td>\n",
              "    </tr>\n",
              "    <tr>\n",
              "      <th>0000264b01392acfde44f9d8494f112a701dc5d3e5fda6ad090cb205727637e0</th>\n",
              "      <td>[d7e4439493ecce45a2fcdc85e8bc9ca8abbab51e3a6f2...</td>\n",
              "    </tr>\n",
              "    <tr>\n",
              "      <th>0000988c5778e9d6a861fee8fbfd88ec2fdc9108c1acd6d9c0b4d51637787b37</th>\n",
              "      <td>[8ca20caa0079470bb63f4b4e58be4cbc38d338a24bda3...</td>\n",
              "    </tr>\n",
              "    <tr>\n",
              "      <th>0000a2ff91f6891797708f346d8e3790fa75c1872d6fdc8cf9b4c98ad2112dd3</th>\n",
              "      <td>[5ed92b00dd7507851ded766b762cb4193fec2d3c579da...</td>\n",
              "    </tr>\n",
              "    <tr>\n",
              "      <th>0000d357f373870ecf00e72c10d24e852234de94cc49dc2eff60f161d02443f3</th>\n",
              "      <td>[bad373873775ec988aa91f010f8018b44ea092e75b634...</td>\n",
              "    </tr>\n",
              "    <tr>\n",
              "      <th>...</th>\n",
              "      <td>...</td>\n",
              "    </tr>\n",
              "    <tr>\n",
              "      <th>fffd9c46a6762a7d4fdc43026abf75ab1a7b9352818f04992578cbf63bfbb471</th>\n",
              "      <td>[6208185bc99539a24aaf468e42aba5f42e8f73448700d...</td>\n",
              "    </tr>\n",
              "    <tr>\n",
              "      <th>fffda90a56ec6dcad062a16dd8ee75f7ef85a83b2e2571aa1a523cfe926d2521</th>\n",
              "      <td>[41112949303a3f83d0fe1b753a91b68220fd3274c8ac4...</td>\n",
              "    </tr>\n",
              "    <tr>\n",
              "      <th>fffec3d7fa3b91fbb1ec4283e90a757571c5f5efc8c6d008af60ac1fee3206ca</th>\n",
              "      <td>[888b330168e6789bae8b0bc1f9e3fba792745bf222824...</td>\n",
              "    </tr>\n",
              "    <tr>\n",
              "      <th>ffff9a16d20fee70bc5d424a5334e61226cbcf8ef7c6a1edaed452eb4a0fd4df</th>\n",
              "      <td>[f356544c6ab91dd793d467f4e18f18ab934b8041ea332...</td>\n",
              "    </tr>\n",
              "    <tr>\n",
              "      <th>ffffea6ac1bc651cbfcf0b0e04dbbb35d8637ba7b68cdd74d3bb0f6454b3ce67</th>\n",
              "      <td>[d4df4b505dd8d46bd81c0b907b598171ea10bb67b8c94...</td>\n",
              "    </tr>\n",
              "  </tbody>\n",
              "</table>\n",
              "<p>206725 rows × 1 columns</p>\n",
              "</div>"
            ],
            "text/plain": [
              "                                                                                          list_hashed\n",
              "hashed                                                                                               \n",
              "000020b4fa2af1e40c813436e5054bce70b703d0039dcda...  [f79e6538917412350d522962ac5b018faf79ae6cad17e...\n",
              "0000264b01392acfde44f9d8494f112a701dc5d3e5fda6a...  [d7e4439493ecce45a2fcdc85e8bc9ca8abbab51e3a6f2...\n",
              "0000988c5778e9d6a861fee8fbfd88ec2fdc9108c1acd6d...  [8ca20caa0079470bb63f4b4e58be4cbc38d338a24bda3...\n",
              "0000a2ff91f6891797708f346d8e3790fa75c1872d6fdc8...  [5ed92b00dd7507851ded766b762cb4193fec2d3c579da...\n",
              "0000d357f373870ecf00e72c10d24e852234de94cc49dc2...  [bad373873775ec988aa91f010f8018b44ea092e75b634...\n",
              "...                                                                                               ...\n",
              "fffd9c46a6762a7d4fdc43026abf75ab1a7b9352818f049...  [6208185bc99539a24aaf468e42aba5f42e8f73448700d...\n",
              "fffda90a56ec6dcad062a16dd8ee75f7ef85a83b2e2571a...  [41112949303a3f83d0fe1b753a91b68220fd3274c8ac4...\n",
              "fffec3d7fa3b91fbb1ec4283e90a757571c5f5efc8c6d00...  [888b330168e6789bae8b0bc1f9e3fba792745bf222824...\n",
              "ffff9a16d20fee70bc5d424a5334e61226cbcf8ef7c6a1e...  [f356544c6ab91dd793d467f4e18f18ab934b8041ea332...\n",
              "ffffea6ac1bc651cbfcf0b0e04dbbb35d8637ba7b68cdd7...  [d4df4b505dd8d46bd81c0b907b598171ea10bb67b8c94...\n",
              "\n",
              "[206725 rows x 1 columns]"
            ]
          },
          "metadata": {
            "tags": []
          },
          "execution_count": 12
        }
      ]
    },
    {
      "cell_type": "code",
      "metadata": {
        "id": "T4YSEpv9jrxC",
        "colab_type": "code",
        "colab": {}
      },
      "source": [
        "# person.to_pickle(\"./gdrive/My Drive/coding_test/first.pickle\")"
      ],
      "execution_count": null,
      "outputs": []
    },
    {
      "cell_type": "markdown",
      "metadata": {
        "id": "GEFqkM5o2hND",
        "colab_type": "text"
      },
      "source": [
        "##### 2분할"
      ]
    },
    {
      "cell_type": "code",
      "metadata": {
        "id": "5CGjkyPy-Hlo",
        "colab_type": "code",
        "colab": {
          "base_uri": "https://localhost:8080/",
          "height": 35
        },
        "outputId": "4002ebab-8cfe-4576-b757-8f3f32449ebe"
      },
      "source": [
        "del count_person1, count_person2, person\n",
        "gc.collect()"
      ],
      "execution_count": null,
      "outputs": [
        {
          "output_type": "execute_result",
          "data": {
            "text/plain": [
              "0"
            ]
          },
          "metadata": {
            "tags": []
          },
          "execution_count": 14
        }
      ]
    },
    {
      "cell_type": "code",
      "metadata": {
        "id": "M_mx9m_BKvGr",
        "colab_type": "code",
        "colab": {}
      },
      "source": [
        "count_person1 = longform2(temp3)\n",
        "count_person2 = longform2(temp4)"
      ],
      "execution_count": 14,
      "outputs": []
    },
    {
      "cell_type": "code",
      "metadata": {
        "id": "9TabBBGDzO5v",
        "colab_type": "code",
        "colab": {}
      },
      "source": [
        "person = pd.concat([count_person1, count_person2], axis = 0).groupby(\"hashed\").sum()\n",
        "person = person.apply(lambda x : list(set(x.list_hashed)), axis = 1)\n",
        "person = person.to_frame()\n",
        "person.columns = ['list_hashed']"
      ],
      "execution_count": 15,
      "outputs": []
    },
    {
      "cell_type": "code",
      "metadata": {
        "id": "6eMZm0E11bIL",
        "colab_type": "code",
        "colab": {}
      },
      "source": [
        "# person.to_pickle(\"./gdrive/My Drive/coding_test/first2.pickle\")"
      ],
      "execution_count": 16,
      "outputs": []
    },
    {
      "cell_type": "markdown",
      "metadata": {
        "id": "g7GTWIjS2i2h",
        "colab_type": "text"
      },
      "source": [
        "##### 3분할"
      ]
    },
    {
      "cell_type": "code",
      "metadata": {
        "id": "3cvgDdm0Ku6Y",
        "colab_type": "code",
        "colab": {
          "base_uri": "https://localhost:8080/",
          "height": 35
        },
        "outputId": "e6620c40-1124-436e-a9b7-c024b72dee87"
      },
      "source": [
        "del count_person1, count_person2, person\n",
        "gc.collect()"
      ],
      "execution_count": 17,
      "outputs": [
        {
          "output_type": "execute_result",
          "data": {
            "text/plain": [
              "0"
            ]
          },
          "metadata": {
            "tags": []
          },
          "execution_count": 17
        }
      ]
    },
    {
      "cell_type": "code",
      "metadata": {
        "id": "GBKHNKxPFuCF",
        "colab_type": "code",
        "colab": {}
      },
      "source": [
        "count_person1 = longform2(temp3)\n",
        "count_person2 = longform2(temp4)"
      ],
      "execution_count": 18,
      "outputs": []
    },
    {
      "cell_type": "code",
      "metadata": {
        "id": "m2z7BZu7giBn",
        "colab_type": "code",
        "colab": {}
      },
      "source": [
        "person = pd.concat([count_person1, count_person2], axis = 0).groupby(\"hashed\").sum()\n",
        "person = person.apply(lambda x : list(set(x.list_hashed)), axis = 1)\n",
        "person = person.to_frame()\n",
        "person.columns = ['list_hashed']"
      ],
      "execution_count": 19,
      "outputs": []
    },
    {
      "cell_type": "code",
      "metadata": {
        "id": "dTr4qVEZgiLX",
        "colab_type": "code",
        "colab": {}
      },
      "source": [
        "# person.to_pickle(\"./gdrive/My Drive/coding_test/first3.pickle\")"
      ],
      "execution_count": 20,
      "outputs": []
    },
    {
      "cell_type": "markdown",
      "metadata": {
        "id": "Nd2TnHN42lKR",
        "colab_type": "text"
      },
      "source": [
        "##### 4분할"
      ]
    },
    {
      "cell_type": "code",
      "metadata": {
        "id": "DuypHabu4Zwk",
        "colab_type": "code",
        "colab": {
          "base_uri": "https://localhost:8080/",
          "height": 35
        },
        "outputId": "831f5cd7-134b-4229-b69c-5aa086e87bbb"
      },
      "source": [
        "del count_person1, count_person2, person\n",
        "gc.collect()"
      ],
      "execution_count": 21,
      "outputs": [
        {
          "output_type": "execute_result",
          "data": {
            "text/plain": [
              "0"
            ]
          },
          "metadata": {
            "tags": []
          },
          "execution_count": 21
        }
      ]
    },
    {
      "cell_type": "code",
      "metadata": {
        "id": "J4FFMBRpgiHb",
        "colab_type": "code",
        "colab": {}
      },
      "source": [
        "count_person1 = longform2(temp5)\n",
        "count_person2 = longform2(temp6)"
      ],
      "execution_count": 22,
      "outputs": []
    },
    {
      "cell_type": "code",
      "metadata": {
        "id": "VmrRy_pp4dGj",
        "colab_type": "code",
        "colab": {}
      },
      "source": [
        "person = pd.concat([count_person1, count_person2], axis = 0).groupby(\"hashed\").sum()\n",
        "person = person.apply(lambda x : list(set(x.list_hashed)), axis = 1)\n",
        "person = person.to_frame()\n",
        "person.columns = ['list_hashed']"
      ],
      "execution_count": 23,
      "outputs": []
    },
    {
      "cell_type": "code",
      "metadata": {
        "id": "3OBj_TzC4eRv",
        "colab_type": "code",
        "colab": {}
      },
      "source": [
        "# person.to_pickle(\"./gdrive/My Drive/coding_test/first4.pickle\")"
      ],
      "execution_count": 24,
      "outputs": []
    },
    {
      "cell_type": "markdown",
      "metadata": {
        "id": "oQmTcqsF2maV",
        "colab_type": "text"
      },
      "source": [
        "##### 5분할"
      ]
    },
    {
      "cell_type": "code",
      "metadata": {
        "id": "1OfmfilI4hGT",
        "colab_type": "code",
        "colab": {
          "base_uri": "https://localhost:8080/",
          "height": 35
        },
        "outputId": "afdf9e5f-340f-4cba-9e6e-5aae30aa7e55"
      },
      "source": [
        "del count_person1, count_person2, person\n",
        "gc.collect()"
      ],
      "execution_count": 25,
      "outputs": [
        {
          "output_type": "execute_result",
          "data": {
            "text/plain": [
              "0"
            ]
          },
          "metadata": {
            "tags": []
          },
          "execution_count": 25
        }
      ]
    },
    {
      "cell_type": "code",
      "metadata": {
        "id": "GaYkGRflghnj",
        "colab_type": "code",
        "colab": {}
      },
      "source": [
        "count_person1 = longform2(temp7)\n",
        "count_person2 = longform2(temp8)"
      ],
      "execution_count": 6,
      "outputs": []
    },
    {
      "cell_type": "code",
      "metadata": {
        "id": "yV4KLgeO4hqW",
        "colab_type": "code",
        "colab": {}
      },
      "source": [
        "person = pd.concat([count_person1, count_person2], axis = 0).groupby(\"hashed\").sum()\n",
        "person = person.apply(lambda x : list(set(x.list_hashed)), axis = 1)\n",
        "person = person.to_frame()\n",
        "person.columns = ['list_hashed']"
      ],
      "execution_count": 7,
      "outputs": []
    },
    {
      "cell_type": "code",
      "metadata": {
        "id": "sOMj2VQM4mDl",
        "colab_type": "code",
        "colab": {}
      },
      "source": [
        "# person.to_pickle(\"./gdrive/My Drive/coding_test/first5.pickle\")"
      ],
      "execution_count": 8,
      "outputs": []
    },
    {
      "cell_type": "code",
      "metadata": {
        "id": "mbHuVDLd-J4a",
        "colab_type": "code",
        "colab": {
          "base_uri": "https://localhost:8080/",
          "height": 35
        },
        "outputId": "8c63c96e-a24b-4778-8e12-6093a2db30d0"
      },
      "source": [
        "del count_person1, count_person2, person\n",
        "gc.collect()"
      ],
      "execution_count": 9,
      "outputs": [
        {
          "output_type": "execute_result",
          "data": {
            "text/plain": [
              "0"
            ]
          },
          "metadata": {
            "tags": []
          },
          "execution_count": 9
        }
      ]
    },
    {
      "cell_type": "markdown",
      "metadata": {
        "id": "50jxl0wTPh0P",
        "colab_type": "text"
      },
      "source": [
        "#### 분리된 데이터 결합 및 도출"
      ]
    },
    {
      "cell_type": "code",
      "metadata": {
        "id": "l8raUOyN-Q4e",
        "colab_type": "code",
        "colab": {}
      },
      "source": [
        "data1 = pd.read_pickle('./gdrive/My Drive/coding_test/first.pickle')\n",
        "data2 = pd.read_pickle('./gdrive/My Drive/coding_test/first2.pickle')\n",
        "data3 = pd.read_pickle('./gdrive/My Drive/coding_test/first3.pickle')\n",
        "data4 = pd.read_pickle('./gdrive/My Drive/coding_test/first4.pickle')\n",
        "data5 = pd.read_pickle('./gdrive/My Drive/coding_test/first5.pickle')"
      ],
      "execution_count": 20,
      "outputs": []
    },
    {
      "cell_type": "code",
      "metadata": {
        "id": "LTZIc984_2UR",
        "colab_type": "code",
        "colab": {}
      },
      "source": [
        "result = pd.concat([data1, data2, data3, data4, data5], axis=0).groupby(\"hashed\").sum()"
      ],
      "execution_count": 21,
      "outputs": []
    },
    {
      "cell_type": "code",
      "metadata": {
        "id": "cJ16NaSO-mQA",
        "colab_type": "code",
        "colab": {
          "base_uri": "https://localhost:8080/",
          "height": 450
        },
        "outputId": "bf763efe-07b8-4a00-e3fa-919fc82282e6"
      },
      "source": [
        "result"
      ],
      "execution_count": 14,
      "outputs": [
        {
          "output_type": "execute_result",
          "data": {
            "text/html": [
              "<div>\n",
              "<style scoped>\n",
              "    .dataframe tbody tr th:only-of-type {\n",
              "        vertical-align: middle;\n",
              "    }\n",
              "\n",
              "    .dataframe tbody tr th {\n",
              "        vertical-align: top;\n",
              "    }\n",
              "\n",
              "    .dataframe thead th {\n",
              "        text-align: right;\n",
              "    }\n",
              "</style>\n",
              "<table border=\"1\" class=\"dataframe\">\n",
              "  <thead>\n",
              "    <tr style=\"text-align: right;\">\n",
              "      <th></th>\n",
              "      <th>list_hashed</th>\n",
              "    </tr>\n",
              "    <tr>\n",
              "      <th>hashed</th>\n",
              "      <th></th>\n",
              "    </tr>\n",
              "  </thead>\n",
              "  <tbody>\n",
              "    <tr>\n",
              "      <th>000020b4fa2af1e40c813436e5054bce70b703d0039dcdad4ccb5b287c3fadbc</th>\n",
              "      <td>[dc0a4f3f865d5f2d2ee8926a23aaa38fdc7297abfaba0...</td>\n",
              "    </tr>\n",
              "    <tr>\n",
              "      <th>0000264b01392acfde44f9d8494f112a701dc5d3e5fda6ad090cb205727637e0</th>\n",
              "      <td>[b6808e11375e3323cc5164ce753fec03341abc592e410...</td>\n",
              "    </tr>\n",
              "    <tr>\n",
              "      <th>00006916672106f94f68d18e4a0532b53a40f4549d3a62f0cbf677dd25803668</th>\n",
              "      <td>[00006916672106f94f68d18e4a0532b53a40f4549d3a6...</td>\n",
              "    </tr>\n",
              "    <tr>\n",
              "      <th>0000988c5778e9d6a861fee8fbfd88ec2fdc9108c1acd6d9c0b4d51637787b37</th>\n",
              "      <td>[fa6e296049258b13bb56617120e80f4a0c5372803d611...</td>\n",
              "    </tr>\n",
              "    <tr>\n",
              "      <th>0000a2ff91f6891797708f346d8e3790fa75c1872d6fdc8cf9b4c98ad2112dd3</th>\n",
              "      <td>[267609469b70814411904a114b2399af471ff665c8a19...</td>\n",
              "    </tr>\n",
              "    <tr>\n",
              "      <th>...</th>\n",
              "      <td>...</td>\n",
              "    </tr>\n",
              "    <tr>\n",
              "      <th>fffdd5bc78ceb19e7abe25de14dc42fbd9c40fde9570b2d2c620a0c6b27d9427</th>\n",
              "      <td>[b235b57b2430cdf65cd04d0c5f8eafa792b57db50abcb...</td>\n",
              "    </tr>\n",
              "    <tr>\n",
              "      <th>fffec3d7fa3b91fbb1ec4283e90a757571c5f5efc8c6d008af60ac1fee3206ca</th>\n",
              "      <td>[888b330168e6789bae8b0bc1f9e3fba792745bf222824...</td>\n",
              "    </tr>\n",
              "    <tr>\n",
              "      <th>ffff969d1e4c9df210de38d5fd36a4b236db38eb1e73acc6fcc430c18509b7d2</th>\n",
              "      <td>[e941c011659a2615e382b541d9f22e9a63169480894f7...</td>\n",
              "    </tr>\n",
              "    <tr>\n",
              "      <th>ffff9a16d20fee70bc5d424a5334e61226cbcf8ef7c6a1edaed452eb4a0fd4df</th>\n",
              "      <td>[cd74fb089ace92dc81fb533d1d1219c7a7608a9a54293...</td>\n",
              "    </tr>\n",
              "    <tr>\n",
              "      <th>ffffea6ac1bc651cbfcf0b0e04dbbb35d8637ba7b68cdd74d3bb0f6454b3ce67</th>\n",
              "      <td>[d4df4b505dd8d46bd81c0b907b598171ea10bb67b8c94...</td>\n",
              "    </tr>\n",
              "  </tbody>\n",
              "</table>\n",
              "<p>268148 rows × 1 columns</p>\n",
              "</div>"
            ],
            "text/plain": [
              "                                                                                          list_hashed\n",
              "hashed                                                                                               \n",
              "000020b4fa2af1e40c813436e5054bce70b703d0039dcda...  [dc0a4f3f865d5f2d2ee8926a23aaa38fdc7297abfaba0...\n",
              "0000264b01392acfde44f9d8494f112a701dc5d3e5fda6a...  [b6808e11375e3323cc5164ce753fec03341abc592e410...\n",
              "00006916672106f94f68d18e4a0532b53a40f4549d3a62f...  [00006916672106f94f68d18e4a0532b53a40f4549d3a6...\n",
              "0000988c5778e9d6a861fee8fbfd88ec2fdc9108c1acd6d...  [fa6e296049258b13bb56617120e80f4a0c5372803d611...\n",
              "0000a2ff91f6891797708f346d8e3790fa75c1872d6fdc8...  [267609469b70814411904a114b2399af471ff665c8a19...\n",
              "...                                                                                               ...\n",
              "fffdd5bc78ceb19e7abe25de14dc42fbd9c40fde9570b2d...  [b235b57b2430cdf65cd04d0c5f8eafa792b57db50abcb...\n",
              "fffec3d7fa3b91fbb1ec4283e90a757571c5f5efc8c6d00...  [888b330168e6789bae8b0bc1f9e3fba792745bf222824...\n",
              "ffff969d1e4c9df210de38d5fd36a4b236db38eb1e73acc...  [e941c011659a2615e382b541d9f22e9a63169480894f7...\n",
              "ffff9a16d20fee70bc5d424a5334e61226cbcf8ef7c6a1e...  [cd74fb089ace92dc81fb533d1d1219c7a7608a9a54293...\n",
              "ffffea6ac1bc651cbfcf0b0e04dbbb35d8637ba7b68cdd7...  [d4df4b505dd8d46bd81c0b907b598171ea10bb67b8c94...\n",
              "\n",
              "[268148 rows x 1 columns]"
            ]
          },
          "metadata": {
            "tags": []
          },
          "execution_count": 14
        }
      ]
    },
    {
      "cell_type": "code",
      "metadata": {
        "id": "HPAPjf0m-355",
        "colab_type": "code",
        "colab": {}
      },
      "source": [
        "result['unique_person'] = result.apply(lambda x : list(set(x.list_hashed)), axis = 1)\n",
        "result['people_len'] = result.apply(lambda x : len(x.unique_person)-1, axis = 1)\n",
        "result = result.drop('list_hashed', axis = 1)"
      ],
      "execution_count": 22,
      "outputs": []
    },
    {
      "cell_type": "code",
      "metadata": {
        "id": "EHvpXeYa_bPd",
        "colab_type": "code",
        "colab": {
          "base_uri": "https://localhost:8080/",
          "height": 450
        },
        "outputId": "b5f125d6-3288-49d4-d16f-3331edf3773a"
      },
      "source": [
        "result"
      ],
      "execution_count": 23,
      "outputs": [
        {
          "output_type": "execute_result",
          "data": {
            "text/html": [
              "<div>\n",
              "<style scoped>\n",
              "    .dataframe tbody tr th:only-of-type {\n",
              "        vertical-align: middle;\n",
              "    }\n",
              "\n",
              "    .dataframe tbody tr th {\n",
              "        vertical-align: top;\n",
              "    }\n",
              "\n",
              "    .dataframe thead th {\n",
              "        text-align: right;\n",
              "    }\n",
              "</style>\n",
              "<table border=\"1\" class=\"dataframe\">\n",
              "  <thead>\n",
              "    <tr style=\"text-align: right;\">\n",
              "      <th></th>\n",
              "      <th>unique_person</th>\n",
              "      <th>people_len</th>\n",
              "    </tr>\n",
              "    <tr>\n",
              "      <th>hashed</th>\n",
              "      <th></th>\n",
              "      <th></th>\n",
              "    </tr>\n",
              "  </thead>\n",
              "  <tbody>\n",
              "    <tr>\n",
              "      <th>000020b4fa2af1e40c813436e5054bce70b703d0039dcdad4ccb5b287c3fadbc</th>\n",
              "      <td>[3965253ae86be073599a9955218f070b5264c669d16fd...</td>\n",
              "      <td>86</td>\n",
              "    </tr>\n",
              "    <tr>\n",
              "      <th>0000264b01392acfde44f9d8494f112a701dc5d3e5fda6ad090cb205727637e0</th>\n",
              "      <td>[245eaf305726e67bfe1358a750c553d060aa9ea9a99ba...</td>\n",
              "      <td>613</td>\n",
              "    </tr>\n",
              "    <tr>\n",
              "      <th>00006916672106f94f68d18e4a0532b53a40f4549d3a62f0cbf677dd25803668</th>\n",
              "      <td>[02db66d82cf06a178f1ebd08ef29b7c377c6a7fd5129b...</td>\n",
              "      <td>34</td>\n",
              "    </tr>\n",
              "    <tr>\n",
              "      <th>0000988c5778e9d6a861fee8fbfd88ec2fdc9108c1acd6d9c0b4d51637787b37</th>\n",
              "      <td>[f60ec609426cb858c81b19ce09fd99555a56eb5180567...</td>\n",
              "      <td>17</td>\n",
              "    </tr>\n",
              "    <tr>\n",
              "      <th>0000a2ff91f6891797708f346d8e3790fa75c1872d6fdc8cf9b4c98ad2112dd3</th>\n",
              "      <td>[4119c150dc532c566ee8a0ee3453108cdad8ca99527c1...</td>\n",
              "      <td>154</td>\n",
              "    </tr>\n",
              "    <tr>\n",
              "      <th>...</th>\n",
              "      <td>...</td>\n",
              "      <td>...</td>\n",
              "    </tr>\n",
              "    <tr>\n",
              "      <th>fffdd5bc78ceb19e7abe25de14dc42fbd9c40fde9570b2d2c620a0c6b27d9427</th>\n",
              "      <td>[3e6d17ec5b3ca88b5c9df03b452951d87fd3365807596...</td>\n",
              "      <td>17</td>\n",
              "    </tr>\n",
              "    <tr>\n",
              "      <th>fffec3d7fa3b91fbb1ec4283e90a757571c5f5efc8c6d008af60ac1fee3206ca</th>\n",
              "      <td>[34388663dfbc371d6772baf8b0979ac445cbe76a7c2ac...</td>\n",
              "      <td>9</td>\n",
              "    </tr>\n",
              "    <tr>\n",
              "      <th>ffff969d1e4c9df210de38d5fd36a4b236db38eb1e73acc6fcc430c18509b7d2</th>\n",
              "      <td>[e6230332c61b5cc81e1deb9591b024ed4d8a7321db1b0...</td>\n",
              "      <td>53</td>\n",
              "    </tr>\n",
              "    <tr>\n",
              "      <th>ffff9a16d20fee70bc5d424a5334e61226cbcf8ef7c6a1edaed452eb4a0fd4df</th>\n",
              "      <td>[47803dccb542bba2b2cdb96e52ae676d90d7227ed67eb...</td>\n",
              "      <td>164</td>\n",
              "    </tr>\n",
              "    <tr>\n",
              "      <th>ffffea6ac1bc651cbfcf0b0e04dbbb35d8637ba7b68cdd74d3bb0f6454b3ce67</th>\n",
              "      <td>[ec43303406877d4fce94ed204202619eb6545a46a4267...</td>\n",
              "      <td>8</td>\n",
              "    </tr>\n",
              "  </tbody>\n",
              "</table>\n",
              "<p>268148 rows × 2 columns</p>\n",
              "</div>"
            ],
            "text/plain": [
              "                                                                                        unique_person  people_len\n",
              "hashed                                                                                                           \n",
              "000020b4fa2af1e40c813436e5054bce70b703d0039dcda...  [3965253ae86be073599a9955218f070b5264c669d16fd...          86\n",
              "0000264b01392acfde44f9d8494f112a701dc5d3e5fda6a...  [245eaf305726e67bfe1358a750c553d060aa9ea9a99ba...         613\n",
              "00006916672106f94f68d18e4a0532b53a40f4549d3a62f...  [02db66d82cf06a178f1ebd08ef29b7c377c6a7fd5129b...          34\n",
              "0000988c5778e9d6a861fee8fbfd88ec2fdc9108c1acd6d...  [f60ec609426cb858c81b19ce09fd99555a56eb5180567...          17\n",
              "0000a2ff91f6891797708f346d8e3790fa75c1872d6fdc8...  [4119c150dc532c566ee8a0ee3453108cdad8ca99527c1...         154\n",
              "...                                                                                               ...         ...\n",
              "fffdd5bc78ceb19e7abe25de14dc42fbd9c40fde9570b2d...  [3e6d17ec5b3ca88b5c9df03b452951d87fd3365807596...          17\n",
              "fffec3d7fa3b91fbb1ec4283e90a757571c5f5efc8c6d00...  [34388663dfbc371d6772baf8b0979ac445cbe76a7c2ac...           9\n",
              "ffff969d1e4c9df210de38d5fd36a4b236db38eb1e73acc...  [e6230332c61b5cc81e1deb9591b024ed4d8a7321db1b0...          53\n",
              "ffff9a16d20fee70bc5d424a5334e61226cbcf8ef7c6a1e...  [47803dccb542bba2b2cdb96e52ae676d90d7227ed67eb...         164\n",
              "ffffea6ac1bc651cbfcf0b0e04dbbb35d8637ba7b68cdd7...  [ec43303406877d4fce94ed204202619eb6545a46a4267...           8\n",
              "\n",
              "[268148 rows x 2 columns]"
            ]
          },
          "metadata": {
            "tags": []
          },
          "execution_count": 23
        }
      ]
    },
    {
      "cell_type": "markdown",
      "metadata": {
        "id": "KE_k_AB5_mH1",
        "colab_type": "text"
      },
      "source": [
        "unique_person :  자신과 통화했던 unique한 사람들의 목록(본인을 포함)  \n",
        "people_len : 자신을 제외하고 총 통화리스트에서 본인과 통화한 unique한 사람의 수  "
      ]
    },
    {
      "cell_type": "code",
      "metadata": {
        "id": "diz19gIaCrJ4",
        "colab_type": "code",
        "colab": {
          "base_uri": "https://localhost:8080/",
          "height": 700
        },
        "outputId": "8c6e5fbb-08fa-49dc-b3f8-cf31fb67d466"
      },
      "source": [
        "result.head(20)"
      ],
      "execution_count": 25,
      "outputs": [
        {
          "output_type": "execute_result",
          "data": {
            "text/html": [
              "<div>\n",
              "<style scoped>\n",
              "    .dataframe tbody tr th:only-of-type {\n",
              "        vertical-align: middle;\n",
              "    }\n",
              "\n",
              "    .dataframe tbody tr th {\n",
              "        vertical-align: top;\n",
              "    }\n",
              "\n",
              "    .dataframe thead th {\n",
              "        text-align: right;\n",
              "    }\n",
              "</style>\n",
              "<table border=\"1\" class=\"dataframe\">\n",
              "  <thead>\n",
              "    <tr style=\"text-align: right;\">\n",
              "      <th></th>\n",
              "      <th>unique_person</th>\n",
              "      <th>people_len</th>\n",
              "    </tr>\n",
              "    <tr>\n",
              "      <th>hashed</th>\n",
              "      <th></th>\n",
              "      <th></th>\n",
              "    </tr>\n",
              "  </thead>\n",
              "  <tbody>\n",
              "    <tr>\n",
              "      <th>000020b4fa2af1e40c813436e5054bce70b703d0039dcdad4ccb5b287c3fadbc</th>\n",
              "      <td>[3965253ae86be073599a9955218f070b5264c669d16fd...</td>\n",
              "      <td>86</td>\n",
              "    </tr>\n",
              "    <tr>\n",
              "      <th>0000264b01392acfde44f9d8494f112a701dc5d3e5fda6ad090cb205727637e0</th>\n",
              "      <td>[245eaf305726e67bfe1358a750c553d060aa9ea9a99ba...</td>\n",
              "      <td>613</td>\n",
              "    </tr>\n",
              "    <tr>\n",
              "      <th>00006916672106f94f68d18e4a0532b53a40f4549d3a62f0cbf677dd25803668</th>\n",
              "      <td>[02db66d82cf06a178f1ebd08ef29b7c377c6a7fd5129b...</td>\n",
              "      <td>34</td>\n",
              "    </tr>\n",
              "    <tr>\n",
              "      <th>0000988c5778e9d6a861fee8fbfd88ec2fdc9108c1acd6d9c0b4d51637787b37</th>\n",
              "      <td>[f60ec609426cb858c81b19ce09fd99555a56eb5180567...</td>\n",
              "      <td>17</td>\n",
              "    </tr>\n",
              "    <tr>\n",
              "      <th>0000a2ff91f6891797708f346d8e3790fa75c1872d6fdc8cf9b4c98ad2112dd3</th>\n",
              "      <td>[4119c150dc532c566ee8a0ee3453108cdad8ca99527c1...</td>\n",
              "      <td>154</td>\n",
              "    </tr>\n",
              "    <tr>\n",
              "      <th>0000d357f373870ecf00e72c10d24e852234de94cc49dc2eff60f161d02443f3</th>\n",
              "      <td>[7a175b1e54c02629c9f6e61478dfea2c0a938f4d89e3a...</td>\n",
              "      <td>76</td>\n",
              "    </tr>\n",
              "    <tr>\n",
              "      <th>0000d57170ee9d25dfa6cc8c7fbe88d2ffb561637020a4dec2791f1ee9a56b88</th>\n",
              "      <td>[e0d8f9bf8e0888c2eac0239784c6328fc2c4ae19d69cd...</td>\n",
              "      <td>204</td>\n",
              "    </tr>\n",
              "    <tr>\n",
              "      <th>0001aac9fb5b4bd256238e3a0d514c073720973ded700b842eb468aaae534bc8</th>\n",
              "      <td>[0001aac9fb5b4bd256238e3a0d514c073720973ded700...</td>\n",
              "      <td>7</td>\n",
              "    </tr>\n",
              "    <tr>\n",
              "      <th>0001d9445b1667721dd2155200332ce22c186be5252049bd5bddbeea6d7aa1c0</th>\n",
              "      <td>[44780e84a7304571196f13f0377dfbe81d2fc79c55e71...</td>\n",
              "      <td>139</td>\n",
              "    </tr>\n",
              "    <tr>\n",
              "      <th>0002197f7725485b947b23335ee16f800c3e1dc6a3264ce23f01727e7eb1c392</th>\n",
              "      <td>[ac98181d915afd762748167cc692b98e5c9950eedf745...</td>\n",
              "      <td>60</td>\n",
              "    </tr>\n",
              "    <tr>\n",
              "      <th>00027152625b3c992d2e423b2d811d34c26a23eb3705d84dcde39cfb1b3bffd8</th>\n",
              "      <td>[a5fd4a692680927b39949fd6094c3e221f25731f60bc0...</td>\n",
              "      <td>5</td>\n",
              "    </tr>\n",
              "    <tr>\n",
              "      <th>000291b3c6e9c6012afed9dd99bbc834082622667fe3b76648e0a482217cc527</th>\n",
              "      <td>[d12083e35667086bfb0fe7b4a015c14a99149d8e2618f...</td>\n",
              "      <td>46</td>\n",
              "    </tr>\n",
              "    <tr>\n",
              "      <th>0002aefe9c2c16891114afcb478706854820f8152d8619c1f5ff5cb5b442c439</th>\n",
              "      <td>[0002aefe9c2c16891114afcb478706854820f8152d861...</td>\n",
              "      <td>1</td>\n",
              "    </tr>\n",
              "    <tr>\n",
              "      <th>0002cb165b57f8ab2bea2e387a3bebcd1ee57b44229150642b7b88915cfffe28</th>\n",
              "      <td>[828dacc5a3e4020278340c578a4bd01b4cf971bb3c124...</td>\n",
              "      <td>526</td>\n",
              "    </tr>\n",
              "    <tr>\n",
              "      <th>00036e5b6a197c196fa10fc0ad4e2853b22294dff64d2735a2795ab3858d5b7a</th>\n",
              "      <td>[00036e5b6a197c196fa10fc0ad4e2853b22294dff64d2...</td>\n",
              "      <td>13</td>\n",
              "    </tr>\n",
              "    <tr>\n",
              "      <th>00038d64fb50e6967fa4488c077614ba9509ed0869f0ad6faa0d3407f8aad907</th>\n",
              "      <td>[218389d11c0606df2c83766ef3e6fd3a92a2cc45af0e1...</td>\n",
              "      <td>26</td>\n",
              "    </tr>\n",
              "    <tr>\n",
              "      <th>0003b127aa1c0c34490db8817574482464aad9f99cffde4d3e51790dff2cb6ca</th>\n",
              "      <td>[16987556948dc6d089bf2522508331b1bae345918afc8...</td>\n",
              "      <td>13</td>\n",
              "    </tr>\n",
              "    <tr>\n",
              "      <th>0003e32046e0cd5eb7f71b95233189148a640b0a1f45022dd41592767a1ce0f6</th>\n",
              "      <td>[7e90f6e0326217af7ff29fda9ecc985446c6ef2da0e37...</td>\n",
              "      <td>14</td>\n",
              "    </tr>\n",
              "    <tr>\n",
              "      <th>0004788822873725de28052e042b1f88b29a8ed6326be68a484e029530fef0b4</th>\n",
              "      <td>[5bb6242128510bd5b9b6e944f411497b9697d57062ed8...</td>\n",
              "      <td>394</td>\n",
              "    </tr>\n",
              "    <tr>\n",
              "      <th>000495974d8996aae7b4a5ef87134a47363e1122d3ce7cdc18631fbb2c6d4426</th>\n",
              "      <td>[361c8fe5fb993b4feda99b70acde294f4c92f659ba2e5...</td>\n",
              "      <td>6</td>\n",
              "    </tr>\n",
              "  </tbody>\n",
              "</table>\n",
              "</div>"
            ],
            "text/plain": [
              "                                                                                        unique_person  people_len\n",
              "hashed                                                                                                           \n",
              "000020b4fa2af1e40c813436e5054bce70b703d0039dcda...  [3965253ae86be073599a9955218f070b5264c669d16fd...          86\n",
              "0000264b01392acfde44f9d8494f112a701dc5d3e5fda6a...  [245eaf305726e67bfe1358a750c553d060aa9ea9a99ba...         613\n",
              "00006916672106f94f68d18e4a0532b53a40f4549d3a62f...  [02db66d82cf06a178f1ebd08ef29b7c377c6a7fd5129b...          34\n",
              "0000988c5778e9d6a861fee8fbfd88ec2fdc9108c1acd6d...  [f60ec609426cb858c81b19ce09fd99555a56eb5180567...          17\n",
              "0000a2ff91f6891797708f346d8e3790fa75c1872d6fdc8...  [4119c150dc532c566ee8a0ee3453108cdad8ca99527c1...         154\n",
              "0000d357f373870ecf00e72c10d24e852234de94cc49dc2...  [7a175b1e54c02629c9f6e61478dfea2c0a938f4d89e3a...          76\n",
              "0000d57170ee9d25dfa6cc8c7fbe88d2ffb561637020a4d...  [e0d8f9bf8e0888c2eac0239784c6328fc2c4ae19d69cd...         204\n",
              "0001aac9fb5b4bd256238e3a0d514c073720973ded700b8...  [0001aac9fb5b4bd256238e3a0d514c073720973ded700...           7\n",
              "0001d9445b1667721dd2155200332ce22c186be5252049b...  [44780e84a7304571196f13f0377dfbe81d2fc79c55e71...         139\n",
              "0002197f7725485b947b23335ee16f800c3e1dc6a3264ce...  [ac98181d915afd762748167cc692b98e5c9950eedf745...          60\n",
              "00027152625b3c992d2e423b2d811d34c26a23eb3705d84...  [a5fd4a692680927b39949fd6094c3e221f25731f60bc0...           5\n",
              "000291b3c6e9c6012afed9dd99bbc834082622667fe3b76...  [d12083e35667086bfb0fe7b4a015c14a99149d8e2618f...          46\n",
              "0002aefe9c2c16891114afcb478706854820f8152d8619c...  [0002aefe9c2c16891114afcb478706854820f8152d861...           1\n",
              "0002cb165b57f8ab2bea2e387a3bebcd1ee57b442291506...  [828dacc5a3e4020278340c578a4bd01b4cf971bb3c124...         526\n",
              "00036e5b6a197c196fa10fc0ad4e2853b22294dff64d273...  [00036e5b6a197c196fa10fc0ad4e2853b22294dff64d2...          13\n",
              "00038d64fb50e6967fa4488c077614ba9509ed0869f0ad6...  [218389d11c0606df2c83766ef3e6fd3a92a2cc45af0e1...          26\n",
              "0003b127aa1c0c34490db8817574482464aad9f99cffde4...  [16987556948dc6d089bf2522508331b1bae345918afc8...          13\n",
              "0003e32046e0cd5eb7f71b95233189148a640b0a1f45022...  [7e90f6e0326217af7ff29fda9ecc985446c6ef2da0e37...          14\n",
              "0004788822873725de28052e042b1f88b29a8ed6326be68...  [5bb6242128510bd5b9b6e944f411497b9697d57062ed8...         394\n",
              "000495974d8996aae7b4a5ef87134a47363e1122d3ce7cd...  [361c8fe5fb993b4feda99b70acde294f4c92f659ba2e5...           6"
            ]
          },
          "metadata": {
            "tags": []
          },
          "execution_count": 25
        }
      ]
    },
    {
      "cell_type": "code",
      "metadata": {
        "id": "umWbr3HdkK5B",
        "colab_type": "code",
        "colab": {
          "base_uri": "https://localhost:8080/",
          "height": 111
        },
        "outputId": "a37e92af-1f1b-433d-fcf1-022bcd5b852c"
      },
      "source": [
        "result[result['people_len'] == max(result['people_len'])]"
      ],
      "execution_count": 44,
      "outputs": [
        {
          "output_type": "execute_result",
          "data": {
            "text/html": [
              "<div>\n",
              "<style scoped>\n",
              "    .dataframe tbody tr th:only-of-type {\n",
              "        vertical-align: middle;\n",
              "    }\n",
              "\n",
              "    .dataframe tbody tr th {\n",
              "        vertical-align: top;\n",
              "    }\n",
              "\n",
              "    .dataframe thead th {\n",
              "        text-align: right;\n",
              "    }\n",
              "</style>\n",
              "<table border=\"1\" class=\"dataframe\">\n",
              "  <thead>\n",
              "    <tr style=\"text-align: right;\">\n",
              "      <th></th>\n",
              "      <th>unique_person</th>\n",
              "      <th>people_len</th>\n",
              "    </tr>\n",
              "    <tr>\n",
              "      <th>hashed</th>\n",
              "      <th></th>\n",
              "      <th></th>\n",
              "    </tr>\n",
              "  </thead>\n",
              "  <tbody>\n",
              "    <tr>\n",
              "      <th>1f8eaf40ae57c75b371a182b2523be7cbf1650cf25e045104384efa510ad99e7</th>\n",
              "      <td>[49057d7650674423c6684bbb3fd98cb9f81f822141ac4...</td>\n",
              "      <td>8356</td>\n",
              "    </tr>\n",
              "  </tbody>\n",
              "</table>\n",
              "</div>"
            ],
            "text/plain": [
              "                                                                                        unique_person  people_len\n",
              "hashed                                                                                                           \n",
              "1f8eaf40ae57c75b371a182b2523be7cbf1650cf25e0451...  [49057d7650674423c6684bbb3fd98cb9f81f822141ac4...        8356"
            ]
          },
          "metadata": {
            "tags": []
          },
          "execution_count": 44
        }
      ]
    },
    {
      "cell_type": "markdown",
      "metadata": {
        "id": "m98sg6CHhudE",
        "colab_type": "text"
      },
      "source": [
        "각 사람별로 확인했을 때, 한 사람이 가장 많이 통화로 인해 접촉한 unique한 사람의 수는 8356명이다. "
      ]
    },
    {
      "cell_type": "code",
      "metadata": {
        "id": "411wWTbvlew5",
        "colab_type": "code",
        "colab": {
          "base_uri": "https://localhost:8080/",
          "height": 450
        },
        "outputId": "e3951f08-cd22-4d2c-afed-ddb32fb1ab4a"
      },
      "source": [
        "result[result['people_len'] == min(result['people_len'])]"
      ],
      "execution_count": 45,
      "outputs": [
        {
          "output_type": "execute_result",
          "data": {
            "text/html": [
              "<div>\n",
              "<style scoped>\n",
              "    .dataframe tbody tr th:only-of-type {\n",
              "        vertical-align: middle;\n",
              "    }\n",
              "\n",
              "    .dataframe tbody tr th {\n",
              "        vertical-align: top;\n",
              "    }\n",
              "\n",
              "    .dataframe thead th {\n",
              "        text-align: right;\n",
              "    }\n",
              "</style>\n",
              "<table border=\"1\" class=\"dataframe\">\n",
              "  <thead>\n",
              "    <tr style=\"text-align: right;\">\n",
              "      <th></th>\n",
              "      <th>unique_person</th>\n",
              "      <th>people_len</th>\n",
              "    </tr>\n",
              "    <tr>\n",
              "      <th>hashed</th>\n",
              "      <th></th>\n",
              "      <th></th>\n",
              "    </tr>\n",
              "  </thead>\n",
              "  <tbody>\n",
              "    <tr>\n",
              "      <th>00bc9aadd794ceed218bcd2bfd5493127dc546b2a55cb481808f7e9a75c710f6</th>\n",
              "      <td>[00bc9aadd794ceed218bcd2bfd5493127dc546b2a55cb...</td>\n",
              "      <td>0</td>\n",
              "    </tr>\n",
              "    <tr>\n",
              "      <th>00cef05a6a988cc460a2ca933c6f636a580eb1cd4874cb7fe76dd830fcc550a7</th>\n",
              "      <td>[00cef05a6a988cc460a2ca933c6f636a580eb1cd4874c...</td>\n",
              "      <td>0</td>\n",
              "    </tr>\n",
              "    <tr>\n",
              "      <th>030c40d408bdb354033e229609c55bde9fb35e666cd3c02195a3602b8b1fa537</th>\n",
              "      <td>[030c40d408bdb354033e229609c55bde9fb35e666cd3c...</td>\n",
              "      <td>0</td>\n",
              "    </tr>\n",
              "    <tr>\n",
              "      <th>037b964acc204caf31b70f5ca66b321692d2496cdc0c2c4d0e263515151a1837</th>\n",
              "      <td>[037b964acc204caf31b70f5ca66b321692d2496cdc0c2...</td>\n",
              "      <td>0</td>\n",
              "    </tr>\n",
              "    <tr>\n",
              "      <th>03a35f2d3df818c29d18b5d4d35d96f401c8b50cb6dd63a5665a766b61648df6</th>\n",
              "      <td>[03a35f2d3df818c29d18b5d4d35d96f401c8b50cb6dd6...</td>\n",
              "      <td>0</td>\n",
              "    </tr>\n",
              "    <tr>\n",
              "      <th>...</th>\n",
              "      <td>...</td>\n",
              "      <td>...</td>\n",
              "    </tr>\n",
              "    <tr>\n",
              "      <th>fd7240f9d8b63afac9ee062529433ec7347e20ef64302171ef9cc0348037467c</th>\n",
              "      <td>[fd7240f9d8b63afac9ee062529433ec7347e20ef64302...</td>\n",
              "      <td>0</td>\n",
              "    </tr>\n",
              "    <tr>\n",
              "      <th>fdbdd29a7f45082f67e9cb12cc1cc184b21e6a9b9ab95ecbdec4f85124198ee9</th>\n",
              "      <td>[fdbdd29a7f45082f67e9cb12cc1cc184b21e6a9b9ab95...</td>\n",
              "      <td>0</td>\n",
              "    </tr>\n",
              "    <tr>\n",
              "      <th>fdec854f6d908a2062a8e3cf8a9a002765c624ebf6b611d4c0b951a43e2f9fd9</th>\n",
              "      <td>[fdec854f6d908a2062a8e3cf8a9a002765c624ebf6b61...</td>\n",
              "      <td>0</td>\n",
              "    </tr>\n",
              "    <tr>\n",
              "      <th>fee5648740ceb1250bcef3d01a7ea4cae9b04b7d55084cfee262dc362dca2f0d</th>\n",
              "      <td>[fee5648740ceb1250bcef3d01a7ea4cae9b04b7d55084...</td>\n",
              "      <td>0</td>\n",
              "    </tr>\n",
              "    <tr>\n",
              "      <th>ff53386fc7ea16f932e636d46085fb2d781e12da4109bbe5885426ab275cc0c0</th>\n",
              "      <td>[ff53386fc7ea16f932e636d46085fb2d781e12da4109b...</td>\n",
              "      <td>0</td>\n",
              "    </tr>\n",
              "  </tbody>\n",
              "</table>\n",
              "<p>325 rows × 2 columns</p>\n",
              "</div>"
            ],
            "text/plain": [
              "                                                                                        unique_person  people_len\n",
              "hashed                                                                                                           \n",
              "00bc9aadd794ceed218bcd2bfd5493127dc546b2a55cb48...  [00bc9aadd794ceed218bcd2bfd5493127dc546b2a55cb...           0\n",
              "00cef05a6a988cc460a2ca933c6f636a580eb1cd4874cb7...  [00cef05a6a988cc460a2ca933c6f636a580eb1cd4874c...           0\n",
              "030c40d408bdb354033e229609c55bde9fb35e666cd3c02...  [030c40d408bdb354033e229609c55bde9fb35e666cd3c...           0\n",
              "037b964acc204caf31b70f5ca66b321692d2496cdc0c2c4...  [037b964acc204caf31b70f5ca66b321692d2496cdc0c2...           0\n",
              "03a35f2d3df818c29d18b5d4d35d96f401c8b50cb6dd63a...  [03a35f2d3df818c29d18b5d4d35d96f401c8b50cb6dd6...           0\n",
              "...                                                                                               ...         ...\n",
              "fd7240f9d8b63afac9ee062529433ec7347e20ef6430217...  [fd7240f9d8b63afac9ee062529433ec7347e20ef64302...           0\n",
              "fdbdd29a7f45082f67e9cb12cc1cc184b21e6a9b9ab95ec...  [fdbdd29a7f45082f67e9cb12cc1cc184b21e6a9b9ab95...           0\n",
              "fdec854f6d908a2062a8e3cf8a9a002765c624ebf6b611d...  [fdec854f6d908a2062a8e3cf8a9a002765c624ebf6b61...           0\n",
              "fee5648740ceb1250bcef3d01a7ea4cae9b04b7d55084cf...  [fee5648740ceb1250bcef3d01a7ea4cae9b04b7d55084...           0\n",
              "ff53386fc7ea16f932e636d46085fb2d781e12da4109bbe...  [ff53386fc7ea16f932e636d46085fb2d781e12da4109b...           0\n",
              "\n",
              "[325 rows x 2 columns]"
            ]
          },
          "metadata": {
            "tags": []
          },
          "execution_count": 45
        }
      ]
    },
    {
      "cell_type": "markdown",
      "metadata": {
        "id": "KdDMf_zKiC9Q",
        "colab_type": "text"
      },
      "source": [
        "통화로 어떤 한 사람과도 접촉하지 못한 사람은 325명이다."
      ]
    },
    {
      "cell_type": "markdown",
      "metadata": {
        "id": "W-bKlZEiR4Ae",
        "colab_type": "text"
      },
      "source": [
        "## 4.1 통합"
      ]
    },
    {
      "cell_type": "code",
      "metadata": {
        "id": "6nejubvrpZbY",
        "colab_type": "code",
        "colab": {}
      },
      "source": [
        "final_dat = pd.merge(result, p_data, left_on='hashed', right_on='hashed', how='left')"
      ],
      "execution_count": 27,
      "outputs": []
    },
    {
      "cell_type": "code",
      "metadata": {
        "id": "3R0TDKyrqYP9",
        "colab_type": "code",
        "colab": {}
      },
      "source": [
        "# final_dat.to_pickle(\"./gdrive/My Drive/coding_test/final_dat.pickle\")"
      ],
      "execution_count": 28,
      "outputs": []
    },
    {
      "cell_type": "code",
      "metadata": {
        "id": "O9C7KJrZqrxq",
        "colab_type": "code",
        "colab": {
          "base_uri": "https://localhost:8080/",
          "height": 450
        },
        "outputId": "e68e4f4b-4d02-4810-952b-82794c17f0fb"
      },
      "source": [
        "final_dat"
      ],
      "execution_count": 29,
      "outputs": [
        {
          "output_type": "execute_result",
          "data": {
            "text/html": [
              "<div>\n",
              "<style scoped>\n",
              "    .dataframe tbody tr th:only-of-type {\n",
              "        vertical-align: middle;\n",
              "    }\n",
              "\n",
              "    .dataframe tbody tr th {\n",
              "        vertical-align: top;\n",
              "    }\n",
              "\n",
              "    .dataframe thead th {\n",
              "        text-align: right;\n",
              "    }\n",
              "</style>\n",
              "<table border=\"1\" class=\"dataframe\">\n",
              "  <thead>\n",
              "    <tr style=\"text-align: right;\">\n",
              "      <th></th>\n",
              "      <th>unique_person</th>\n",
              "      <th>people_len</th>\n",
              "      <th>call_duration</th>\n",
              "      <th>call_num</th>\n",
              "      <th>mean_duration</th>\n",
              "      <th>mean_join_person</th>\n",
              "    </tr>\n",
              "    <tr>\n",
              "      <th>hashed</th>\n",
              "      <th></th>\n",
              "      <th></th>\n",
              "      <th></th>\n",
              "      <th></th>\n",
              "      <th></th>\n",
              "      <th></th>\n",
              "    </tr>\n",
              "  </thead>\n",
              "  <tbody>\n",
              "    <tr>\n",
              "      <th>000020b4fa2af1e40c813436e5054bce70b703d0039dcdad4ccb5b287c3fadbc</th>\n",
              "      <td>[0f030738c371b824d491c0c5e4dc030e13966089d17aa...</td>\n",
              "      <td>86</td>\n",
              "      <td>476.383468</td>\n",
              "      <td>1049</td>\n",
              "      <td>0.454131</td>\n",
              "      <td>6.072450</td>\n",
              "    </tr>\n",
              "    <tr>\n",
              "      <th>0000264b01392acfde44f9d8494f112a701dc5d3e5fda6ad090cb205727637e0</th>\n",
              "      <td>[4e792bab0834c2d3853b36f5c14b0a2ee3b4f72a8e1de...</td>\n",
              "      <td>613</td>\n",
              "      <td>532.616013</td>\n",
              "      <td>777</td>\n",
              "      <td>0.685477</td>\n",
              "      <td>4.665380</td>\n",
              "    </tr>\n",
              "    <tr>\n",
              "      <th>00006916672106f94f68d18e4a0532b53a40f4549d3a62f0cbf677dd25803668</th>\n",
              "      <td>[a2f0388c7cc0210a56781eb2fc1e98969e7356665ac2e...</td>\n",
              "      <td>34</td>\n",
              "      <td>1.161509</td>\n",
              "      <td>9</td>\n",
              "      <td>0.129057</td>\n",
              "      <td>5.333333</td>\n",
              "    </tr>\n",
              "    <tr>\n",
              "      <th>0000988c5778e9d6a861fee8fbfd88ec2fdc9108c1acd6d9c0b4d51637787b37</th>\n",
              "      <td>[0e7a8b8e287304812fe5a3f4610a7bd90a01da419da1d...</td>\n",
              "      <td>17</td>\n",
              "      <td>14.592088</td>\n",
              "      <td>37</td>\n",
              "      <td>0.394381</td>\n",
              "      <td>6.054054</td>\n",
              "    </tr>\n",
              "    <tr>\n",
              "      <th>0000a2ff91f6891797708f346d8e3790fa75c1872d6fdc8cf9b4c98ad2112dd3</th>\n",
              "      <td>[3b878800d2fb2a9cfb537126086b52fcc31e13d34917c...</td>\n",
              "      <td>154</td>\n",
              "      <td>53.649001</td>\n",
              "      <td>222</td>\n",
              "      <td>0.241662</td>\n",
              "      <td>4.468468</td>\n",
              "    </tr>\n",
              "    <tr>\n",
              "      <th>...</th>\n",
              "      <td>...</td>\n",
              "      <td>...</td>\n",
              "      <td>...</td>\n",
              "      <td>...</td>\n",
              "      <td>...</td>\n",
              "      <td>...</td>\n",
              "    </tr>\n",
              "    <tr>\n",
              "      <th>fffdd5bc78ceb19e7abe25de14dc42fbd9c40fde9570b2d2c620a0c6b27d9427</th>\n",
              "      <td>[ecbb877e7d82cdc176a8e16c62c07be8a43cd5191028c...</td>\n",
              "      <td>17</td>\n",
              "      <td>0.028748</td>\n",
              "      <td>1</td>\n",
              "      <td>0.028748</td>\n",
              "      <td>18.000000</td>\n",
              "    </tr>\n",
              "    <tr>\n",
              "      <th>fffec3d7fa3b91fbb1ec4283e90a757571c5f5efc8c6d008af60ac1fee3206ca</th>\n",
              "      <td>[dd43636bf1ee2322973bd4db29125f5ce3325eb4b844b...</td>\n",
              "      <td>9</td>\n",
              "      <td>4.578250</td>\n",
              "      <td>11</td>\n",
              "      <td>0.416205</td>\n",
              "      <td>5.727273</td>\n",
              "    </tr>\n",
              "    <tr>\n",
              "      <th>ffff969d1e4c9df210de38d5fd36a4b236db38eb1e73acc6fcc430c18509b7d2</th>\n",
              "      <td>[94e59616f192494822891ea5a80d92a749018b16b66ee...</td>\n",
              "      <td>53</td>\n",
              "      <td>2.775712</td>\n",
              "      <td>11</td>\n",
              "      <td>0.252337</td>\n",
              "      <td>7.181818</td>\n",
              "    </tr>\n",
              "    <tr>\n",
              "      <th>ffff9a16d20fee70bc5d424a5334e61226cbcf8ef7c6a1edaed452eb4a0fd4df</th>\n",
              "      <td>[8f3d8bbd3e7de891d37aa2c3900a68dcf4bb76a9b8df5...</td>\n",
              "      <td>164</td>\n",
              "      <td>64.909105</td>\n",
              "      <td>47</td>\n",
              "      <td>1.381045</td>\n",
              "      <td>6.000000</td>\n",
              "    </tr>\n",
              "    <tr>\n",
              "      <th>ffffea6ac1bc651cbfcf0b0e04dbbb35d8637ba7b68cdd74d3bb0f6454b3ce67</th>\n",
              "      <td>[6c064e4150d0218c0d37f875a78a4d49deee2fe3a2bf2...</td>\n",
              "      <td>8</td>\n",
              "      <td>13.487893</td>\n",
              "      <td>47</td>\n",
              "      <td>0.286976</td>\n",
              "      <td>6.000000</td>\n",
              "    </tr>\n",
              "  </tbody>\n",
              "</table>\n",
              "<p>268148 rows × 6 columns</p>\n",
              "</div>"
            ],
            "text/plain": [
              "                                                                                        unique_person  ...  mean_join_person\n",
              "hashed                                                                                                 ...                  \n",
              "000020b4fa2af1e40c813436e5054bce70b703d0039dcda...  [0f030738c371b824d491c0c5e4dc030e13966089d17aa...  ...          6.072450\n",
              "0000264b01392acfde44f9d8494f112a701dc5d3e5fda6a...  [4e792bab0834c2d3853b36f5c14b0a2ee3b4f72a8e1de...  ...          4.665380\n",
              "00006916672106f94f68d18e4a0532b53a40f4549d3a62f...  [a2f0388c7cc0210a56781eb2fc1e98969e7356665ac2e...  ...          5.333333\n",
              "0000988c5778e9d6a861fee8fbfd88ec2fdc9108c1acd6d...  [0e7a8b8e287304812fe5a3f4610a7bd90a01da419da1d...  ...          6.054054\n",
              "0000a2ff91f6891797708f346d8e3790fa75c1872d6fdc8...  [3b878800d2fb2a9cfb537126086b52fcc31e13d34917c...  ...          4.468468\n",
              "...                                                                                               ...  ...               ...\n",
              "fffdd5bc78ceb19e7abe25de14dc42fbd9c40fde9570b2d...  [ecbb877e7d82cdc176a8e16c62c07be8a43cd5191028c...  ...         18.000000\n",
              "fffec3d7fa3b91fbb1ec4283e90a757571c5f5efc8c6d00...  [dd43636bf1ee2322973bd4db29125f5ce3325eb4b844b...  ...          5.727273\n",
              "ffff969d1e4c9df210de38d5fd36a4b236db38eb1e73acc...  [94e59616f192494822891ea5a80d92a749018b16b66ee...  ...          7.181818\n",
              "ffff9a16d20fee70bc5d424a5334e61226cbcf8ef7c6a1e...  [8f3d8bbd3e7de891d37aa2c3900a68dcf4bb76a9b8df5...  ...          6.000000\n",
              "ffffea6ac1bc651cbfcf0b0e04dbbb35d8637ba7b68cdd7...  [6c064e4150d0218c0d37f875a78a4d49deee2fe3a2bf2...  ...          6.000000\n",
              "\n",
              "[268148 rows x 6 columns]"
            ]
          },
          "metadata": {
            "tags": []
          },
          "execution_count": 29
        }
      ]
    },
    {
      "cell_type": "code",
      "metadata": {
        "id": "a4K6N2XPqlOw",
        "colab_type": "code",
        "colab": {
          "base_uri": "https://localhost:8080/",
          "height": 111
        },
        "outputId": "08d132cc-ffe4-4a5a-b349-f1cf0855d3b5"
      },
      "source": [
        "final_dat[final_dat['people_len'] == max(final_dat['people_len'])]"
      ],
      "execution_count": 30,
      "outputs": [
        {
          "output_type": "execute_result",
          "data": {
            "text/html": [
              "<div>\n",
              "<style scoped>\n",
              "    .dataframe tbody tr th:only-of-type {\n",
              "        vertical-align: middle;\n",
              "    }\n",
              "\n",
              "    .dataframe tbody tr th {\n",
              "        vertical-align: top;\n",
              "    }\n",
              "\n",
              "    .dataframe thead th {\n",
              "        text-align: right;\n",
              "    }\n",
              "</style>\n",
              "<table border=\"1\" class=\"dataframe\">\n",
              "  <thead>\n",
              "    <tr style=\"text-align: right;\">\n",
              "      <th></th>\n",
              "      <th>unique_person</th>\n",
              "      <th>people_len</th>\n",
              "      <th>call_duration</th>\n",
              "      <th>call_num</th>\n",
              "      <th>mean_duration</th>\n",
              "      <th>mean_join_person</th>\n",
              "    </tr>\n",
              "    <tr>\n",
              "      <th>hashed</th>\n",
              "      <th></th>\n",
              "      <th></th>\n",
              "      <th></th>\n",
              "      <th></th>\n",
              "      <th></th>\n",
              "      <th></th>\n",
              "    </tr>\n",
              "  </thead>\n",
              "  <tbody>\n",
              "    <tr>\n",
              "      <th>1f8eaf40ae57c75b371a182b2523be7cbf1650cf25e045104384efa510ad99e7</th>\n",
              "      <td>[b9d849e199d5efaa0b86b9949a8a3e6a1b6446fc3b58b...</td>\n",
              "      <td>8356</td>\n",
              "      <td>1248.108499</td>\n",
              "      <td>2426</td>\n",
              "      <td>0.514472</td>\n",
              "      <td>6.4662</td>\n",
              "    </tr>\n",
              "  </tbody>\n",
              "</table>\n",
              "</div>"
            ],
            "text/plain": [
              "                                                                                        unique_person  ...  mean_join_person\n",
              "hashed                                                                                                 ...                  \n",
              "1f8eaf40ae57c75b371a182b2523be7cbf1650cf25e0451...  [b9d849e199d5efaa0b86b9949a8a3e6a1b6446fc3b58b...  ...            6.4662\n",
              "\n",
              "[1 rows x 6 columns]"
            ]
          },
          "metadata": {
            "tags": []
          },
          "execution_count": 30
        }
      ]
    },
    {
      "cell_type": "code",
      "metadata": {
        "id": "RUi0zDFkrAXH",
        "colab_type": "code",
        "colab": {
          "base_uri": "https://localhost:8080/",
          "height": 450
        },
        "outputId": "f621077d-707f-49ab-91c5-66b7b57e54cc"
      },
      "source": [
        "final_dat[final_dat['people_len'] == min(final_dat['people_len'])]"
      ],
      "execution_count": 39,
      "outputs": [
        {
          "output_type": "execute_result",
          "data": {
            "text/html": [
              "<div>\n",
              "<style scoped>\n",
              "    .dataframe tbody tr th:only-of-type {\n",
              "        vertical-align: middle;\n",
              "    }\n",
              "\n",
              "    .dataframe tbody tr th {\n",
              "        vertical-align: top;\n",
              "    }\n",
              "\n",
              "    .dataframe thead th {\n",
              "        text-align: right;\n",
              "    }\n",
              "</style>\n",
              "<table border=\"1\" class=\"dataframe\">\n",
              "  <thead>\n",
              "    <tr style=\"text-align: right;\">\n",
              "      <th></th>\n",
              "      <th>unique_person</th>\n",
              "      <th>people_len</th>\n",
              "      <th>call_duration</th>\n",
              "      <th>call_num</th>\n",
              "      <th>mean_duration</th>\n",
              "      <th>mean_join_person</th>\n",
              "    </tr>\n",
              "    <tr>\n",
              "      <th>hashed</th>\n",
              "      <th></th>\n",
              "      <th></th>\n",
              "      <th></th>\n",
              "      <th></th>\n",
              "      <th></th>\n",
              "      <th></th>\n",
              "    </tr>\n",
              "  </thead>\n",
              "  <tbody>\n",
              "    <tr>\n",
              "      <th>00bc9aadd794ceed218bcd2bfd5493127dc546b2a55cb481808f7e9a75c710f6</th>\n",
              "      <td>[00bc9aadd794ceed218bcd2bfd5493127dc546b2a55cb...</td>\n",
              "      <td>0</td>\n",
              "      <td>0.033770</td>\n",
              "      <td>1</td>\n",
              "      <td>0.033770</td>\n",
              "      <td>1.0</td>\n",
              "    </tr>\n",
              "    <tr>\n",
              "      <th>00cef05a6a988cc460a2ca933c6f636a580eb1cd4874cb7fe76dd830fcc550a7</th>\n",
              "      <td>[00cef05a6a988cc460a2ca933c6f636a580eb1cd4874c...</td>\n",
              "      <td>0</td>\n",
              "      <td>0.013026</td>\n",
              "      <td>1</td>\n",
              "      <td>0.013026</td>\n",
              "      <td>1.0</td>\n",
              "    </tr>\n",
              "    <tr>\n",
              "      <th>030c40d408bdb354033e229609c55bde9fb35e666cd3c02195a3602b8b1fa537</th>\n",
              "      <td>[030c40d408bdb354033e229609c55bde9fb35e666cd3c...</td>\n",
              "      <td>0</td>\n",
              "      <td>0.003584</td>\n",
              "      <td>1</td>\n",
              "      <td>0.003584</td>\n",
              "      <td>1.0</td>\n",
              "    </tr>\n",
              "    <tr>\n",
              "      <th>037b964acc204caf31b70f5ca66b321692d2496cdc0c2c4d0e263515151a1837</th>\n",
              "      <td>[037b964acc204caf31b70f5ca66b321692d2496cdc0c2...</td>\n",
              "      <td>0</td>\n",
              "      <td>0.024467</td>\n",
              "      <td>1</td>\n",
              "      <td>0.024467</td>\n",
              "      <td>1.0</td>\n",
              "    </tr>\n",
              "    <tr>\n",
              "      <th>03a35f2d3df818c29d18b5d4d35d96f401c8b50cb6dd63a5665a766b61648df6</th>\n",
              "      <td>[03a35f2d3df818c29d18b5d4d35d96f401c8b50cb6dd6...</td>\n",
              "      <td>0</td>\n",
              "      <td>0.176282</td>\n",
              "      <td>1</td>\n",
              "      <td>0.176282</td>\n",
              "      <td>1.0</td>\n",
              "    </tr>\n",
              "    <tr>\n",
              "      <th>...</th>\n",
              "      <td>...</td>\n",
              "      <td>...</td>\n",
              "      <td>...</td>\n",
              "      <td>...</td>\n",
              "      <td>...</td>\n",
              "      <td>...</td>\n",
              "    </tr>\n",
              "    <tr>\n",
              "      <th>fd7240f9d8b63afac9ee062529433ec7347e20ef64302171ef9cc0348037467c</th>\n",
              "      <td>[fd7240f9d8b63afac9ee062529433ec7347e20ef64302...</td>\n",
              "      <td>0</td>\n",
              "      <td>1.245996</td>\n",
              "      <td>1</td>\n",
              "      <td>1.245996</td>\n",
              "      <td>1.0</td>\n",
              "    </tr>\n",
              "    <tr>\n",
              "      <th>fdbdd29a7f45082f67e9cb12cc1cc184b21e6a9b9ab95ecbdec4f85124198ee9</th>\n",
              "      <td>[fdbdd29a7f45082f67e9cb12cc1cc184b21e6a9b9ab95...</td>\n",
              "      <td>0</td>\n",
              "      <td>0.047696</td>\n",
              "      <td>1</td>\n",
              "      <td>0.047696</td>\n",
              "      <td>1.0</td>\n",
              "    </tr>\n",
              "    <tr>\n",
              "      <th>fdec854f6d908a2062a8e3cf8a9a002765c624ebf6b611d4c0b951a43e2f9fd9</th>\n",
              "      <td>[fdec854f6d908a2062a8e3cf8a9a002765c624ebf6b61...</td>\n",
              "      <td>0</td>\n",
              "      <td>0.028781</td>\n",
              "      <td>1</td>\n",
              "      <td>0.028781</td>\n",
              "      <td>1.0</td>\n",
              "    </tr>\n",
              "    <tr>\n",
              "      <th>fee5648740ceb1250bcef3d01a7ea4cae9b04b7d55084cfee262dc362dca2f0d</th>\n",
              "      <td>[fee5648740ceb1250bcef3d01a7ea4cae9b04b7d55084...</td>\n",
              "      <td>0</td>\n",
              "      <td>0.091504</td>\n",
              "      <td>1</td>\n",
              "      <td>0.091504</td>\n",
              "      <td>1.0</td>\n",
              "    </tr>\n",
              "    <tr>\n",
              "      <th>ff53386fc7ea16f932e636d46085fb2d781e12da4109bbe5885426ab275cc0c0</th>\n",
              "      <td>[ff53386fc7ea16f932e636d46085fb2d781e12da4109b...</td>\n",
              "      <td>0</td>\n",
              "      <td>0.129470</td>\n",
              "      <td>1</td>\n",
              "      <td>0.129470</td>\n",
              "      <td>1.0</td>\n",
              "    </tr>\n",
              "  </tbody>\n",
              "</table>\n",
              "<p>325 rows × 6 columns</p>\n",
              "</div>"
            ],
            "text/plain": [
              "                                                                                        unique_person  ...  mean_join_person\n",
              "hashed                                                                                                 ...                  \n",
              "00bc9aadd794ceed218bcd2bfd5493127dc546b2a55cb48...  [00bc9aadd794ceed218bcd2bfd5493127dc546b2a55cb...  ...               1.0\n",
              "00cef05a6a988cc460a2ca933c6f636a580eb1cd4874cb7...  [00cef05a6a988cc460a2ca933c6f636a580eb1cd4874c...  ...               1.0\n",
              "030c40d408bdb354033e229609c55bde9fb35e666cd3c02...  [030c40d408bdb354033e229609c55bde9fb35e666cd3c...  ...               1.0\n",
              "037b964acc204caf31b70f5ca66b321692d2496cdc0c2c4...  [037b964acc204caf31b70f5ca66b321692d2496cdc0c2...  ...               1.0\n",
              "03a35f2d3df818c29d18b5d4d35d96f401c8b50cb6dd63a...  [03a35f2d3df818c29d18b5d4d35d96f401c8b50cb6dd6...  ...               1.0\n",
              "...                                                                                               ...  ...               ...\n",
              "fd7240f9d8b63afac9ee062529433ec7347e20ef6430217...  [fd7240f9d8b63afac9ee062529433ec7347e20ef64302...  ...               1.0\n",
              "fdbdd29a7f45082f67e9cb12cc1cc184b21e6a9b9ab95ec...  [fdbdd29a7f45082f67e9cb12cc1cc184b21e6a9b9ab95...  ...               1.0\n",
              "fdec854f6d908a2062a8e3cf8a9a002765c624ebf6b611d...  [fdec854f6d908a2062a8e3cf8a9a002765c624ebf6b61...  ...               1.0\n",
              "fee5648740ceb1250bcef3d01a7ea4cae9b04b7d55084cf...  [fee5648740ceb1250bcef3d01a7ea4cae9b04b7d55084...  ...               1.0\n",
              "ff53386fc7ea16f932e636d46085fb2d781e12da4109bbe...  [ff53386fc7ea16f932e636d46085fb2d781e12da4109b...  ...               1.0\n",
              "\n",
              "[325 rows x 6 columns]"
            ]
          },
          "metadata": {
            "tags": []
          },
          "execution_count": 39
        }
      ]
    },
    {
      "cell_type": "markdown",
      "metadata": {
        "id": "wSCHiKdVDZX2",
        "colab_type": "text"
      },
      "source": [
        "## 4.2 추가적인 정보"
      ]
    },
    {
      "cell_type": "code",
      "metadata": {
        "id": "VRqPMAAhPdfH",
        "colab_type": "code",
        "colab": {
          "base_uri": "https://localhost:8080/",
          "height": 297
        },
        "outputId": "f98df41d-425d-4841-80d1-93541afe21fb"
      },
      "source": [
        "final_dat.describe()"
      ],
      "execution_count": 94,
      "outputs": [
        {
          "output_type": "execute_result",
          "data": {
            "text/html": [
              "<div>\n",
              "<style scoped>\n",
              "    .dataframe tbody tr th:only-of-type {\n",
              "        vertical-align: middle;\n",
              "    }\n",
              "\n",
              "    .dataframe tbody tr th {\n",
              "        vertical-align: top;\n",
              "    }\n",
              "\n",
              "    .dataframe thead th {\n",
              "        text-align: right;\n",
              "    }\n",
              "</style>\n",
              "<table border=\"1\" class=\"dataframe\">\n",
              "  <thead>\n",
              "    <tr style=\"text-align: right;\">\n",
              "      <th></th>\n",
              "      <th>people_len</th>\n",
              "      <th>call_duration</th>\n",
              "      <th>call_num</th>\n",
              "      <th>mean_duration</th>\n",
              "      <th>mean_join_person</th>\n",
              "    </tr>\n",
              "  </thead>\n",
              "  <tbody>\n",
              "    <tr>\n",
              "      <th>count</th>\n",
              "      <td>268148.000000</td>\n",
              "      <td>268148.000000</td>\n",
              "      <td>268148.000000</td>\n",
              "      <td>268148.000000</td>\n",
              "      <td>268148.000000</td>\n",
              "    </tr>\n",
              "    <tr>\n",
              "      <th>mean</th>\n",
              "      <td>215.388293</td>\n",
              "      <td>55.175152</td>\n",
              "      <td>127.855818</td>\n",
              "      <td>0.440048</td>\n",
              "      <td>8.216959</td>\n",
              "    </tr>\n",
              "    <tr>\n",
              "      <th>std</th>\n",
              "      <td>510.908693</td>\n",
              "      <td>117.862558</td>\n",
              "      <td>257.100419</td>\n",
              "      <td>1.625686</td>\n",
              "      <td>7.958346</td>\n",
              "    </tr>\n",
              "    <tr>\n",
              "      <th>min</th>\n",
              "      <td>0.000000</td>\n",
              "      <td>0.000000</td>\n",
              "      <td>1.000000</td>\n",
              "      <td>0.000000</td>\n",
              "      <td>1.000000</td>\n",
              "    </tr>\n",
              "    <tr>\n",
              "      <th>25%</th>\n",
              "      <td>11.000000</td>\n",
              "      <td>0.592366</td>\n",
              "      <td>3.000000</td>\n",
              "      <td>0.184124</td>\n",
              "      <td>5.270068</td>\n",
              "    </tr>\n",
              "    <tr>\n",
              "      <th>50%</th>\n",
              "      <td>36.000000</td>\n",
              "      <td>7.244065</td>\n",
              "      <td>24.000000</td>\n",
              "      <td>0.269788</td>\n",
              "      <td>6.058766</td>\n",
              "    </tr>\n",
              "    <tr>\n",
              "      <th>75%</th>\n",
              "      <td>148.000000</td>\n",
              "      <td>57.718960</td>\n",
              "      <td>143.000000</td>\n",
              "      <td>0.408504</td>\n",
              "      <td>7.500000</td>\n",
              "    </tr>\n",
              "    <tr>\n",
              "      <th>max</th>\n",
              "      <td>8356.000000</td>\n",
              "      <td>14273.206788</td>\n",
              "      <td>31498.000000</td>\n",
              "      <td>156.490907</td>\n",
              "      <td>221.500000</td>\n",
              "    </tr>\n",
              "  </tbody>\n",
              "</table>\n",
              "</div>"
            ],
            "text/plain": [
              "          people_len  call_duration  ...  mean_duration  mean_join_person\n",
              "count  268148.000000  268148.000000  ...  268148.000000     268148.000000\n",
              "mean      215.388293      55.175152  ...       0.440048          8.216959\n",
              "std       510.908693     117.862558  ...       1.625686          7.958346\n",
              "min         0.000000       0.000000  ...       0.000000          1.000000\n",
              "25%        11.000000       0.592366  ...       0.184124          5.270068\n",
              "50%        36.000000       7.244065  ...       0.269788          6.058766\n",
              "75%       148.000000      57.718960  ...       0.408504          7.500000\n",
              "max      8356.000000   14273.206788  ...     156.490907        221.500000\n",
              "\n",
              "[8 rows x 5 columns]"
            ]
          },
          "metadata": {
            "tags": []
          },
          "execution_count": 94
        }
      ]
    },
    {
      "cell_type": "markdown",
      "metadata": {
        "id": "7WgL-yX4o8v2",
        "colab_type": "text"
      },
      "source": [
        "### 4.2.1 Boxplot"
      ]
    },
    {
      "cell_type": "code",
      "metadata": {
        "id": "jvQXbYayrjUh",
        "colab_type": "code",
        "colab": {
          "base_uri": "https://localhost:8080/",
          "height": 450
        },
        "outputId": "d306606e-8c2d-4ca6-b422-d5390681615f"
      },
      "source": [
        "ggplot(data=final_dat) +\\\n",
        "geom_boxplot(aes(x=1,y=\"people_len\")) +\\\n",
        "ggtitle(\"The number of unique people who called\")+\\\n",
        "xlab(\"\") +\\\n",
        "ylab(\"Num\") +\\\n",
        "theme_bw() +\\\n",
        "theme(axis_ticks_minor_x=element_blank(),\n",
        "      axis_ticks_major_x=element_blank(),\n",
        "      axis_text_x=element_blank())"
      ],
      "execution_count": 91,
      "outputs": [
        {
          "output_type": "display_data",
          "data": {
            "image/png": "[encoded data removed]",
            "text/plain": [
              "<Figure size 640x480 with 1 Axes>"
            ]
          },
          "metadata": {
            "tags": []
          }
        },
        {
          "output_type": "execute_result",
          "data": {
            "text/plain": [
              "<ggplot: (8784502696754)>"
            ]
          },
          "metadata": {
            "tags": []
          },
          "execution_count": 91
        }
      ]
    },
    {
      "cell_type": "markdown",
      "metadata": {
        "id": "D9z_ByfMD76i",
        "colab_type": "text"
      },
      "source": [
        "사람별로 통화를 했던 유니크한 사람들의 수에 대한 boxplot "
      ]
    },
    {
      "cell_type": "code",
      "metadata": {
        "id": "fbvnLleYOZTe",
        "colab_type": "code",
        "colab": {
          "base_uri": "https://localhost:8080/",
          "height": 450
        },
        "outputId": "76c5aec7-7ddb-4dc8-d609-b42f60da9d3d"
      },
      "source": [
        "ggplot(data=final_dat) +\\\n",
        "geom_boxplot(aes(x=1,y=\"mean_duration\")) +\\\n",
        "ggtitle(\"Mean calling time per person\")+\\\n",
        "xlab(\"\") +\\\n",
        "ylab(\"\") +\\\n",
        "theme_bw() +\\\n",
        "theme(axis_ticks_minor_x=element_blank(),\n",
        "      axis_ticks_major_x=element_blank(),\n",
        "      axis_text_x=element_blank())"
      ],
      "execution_count": 92,
      "outputs": [
        {
          "output_type": "display_data",
          "data": {
            "image/png": "[encoded data removed]",
            "text/plain": [
              "<Figure size 640x480 with 1 Axes>"
            ]
          },
          "metadata": {
            "tags": []
          }
        },
        {
          "output_type": "execute_result",
          "data": {
            "text/plain": [
              "<ggplot: (-9223363252352801378)>"
            ]
          },
          "metadata": {
            "tags": []
          },
          "execution_count": 92
        }
      ]
    },
    {
      "cell_type": "markdown",
      "metadata": {
        "id": "cEB-_ipqPf2x",
        "colab_type": "text"
      },
      "source": [
        "한 사람 당 평균 통화 시간은 대부분이 1시간이 되지 않았지만, 훨씬 초과하는 사람의 경우도 있었다."
      ]
    },
    {
      "cell_type": "markdown",
      "metadata": {
        "id": "pDKqRsY9onKQ",
        "colab_type": "text"
      },
      "source": [
        "### 4.2.2 통화 시작, 통화 끝"
      ]
    },
    {
      "cell_type": "code",
      "metadata": {
        "id": "DveB5xIMQ3G2",
        "colab_type": "code",
        "colab": {}
      },
      "source": [
        "data[\"start_hour\"] = data['call_start_time'].dt.hour\n",
        "data[\"end_hour\"] = data['call_end_time'].dt.hour"
      ],
      "execution_count": 14,
      "outputs": []
    },
    {
      "cell_type": "code",
      "metadata": {
        "id": "lXNcbP0kXY7z",
        "colab_type": "code",
        "colab": {
          "base_uri": "https://localhost:8080/",
          "height": 493
        },
        "outputId": "2ca10cbd-c47e-4c51-f151-8ed74b180aca"
      },
      "source": [
        "ggplot(data.loc[:,['start_hour','call_num']].groupby('start_hour').count().reset_index()) +\\\n",
        "geom_bar(aes(x = 'start_hour', y = 'call_num'), stat = \"identity\") +\\\n",
        "theme_bw() +\\\n",
        "ggtitle(\"Call start time with bar chart\")"
      ],
      "execution_count": 31,
      "outputs": [
        {
          "output_type": "display_data",
          "data": {
            "image/png": "[encoded data removed]",
            "text/plain": [
              "<Figure size 640x480 with 1 Axes>"
            ]
          },
          "metadata": {
            "tags": []
          }
        },
        {
          "output_type": "execute_result",
          "data": {
            "text/plain": [
              "<ggplot: (-9223363293614737762)>"
            ]
          },
          "metadata": {
            "tags": []
          },
          "execution_count": 31
        }
      ]
    },
    {
      "cell_type": "code",
      "metadata": {
        "id": "jDXJI41uZQrf",
        "colab_type": "code",
        "colab": {
          "base_uri": "https://localhost:8080/",
          "height": 493
        },
        "outputId": "a71c2d48-e5b9-424c-cb6e-baa075ae3621"
      },
      "source": [
        "ggplot(data.loc[:,['end_hour','call_num']].groupby('end_hour').count().reset_index()) +\\\n",
        "geom_bar(aes(x = 'end_hour', y = 'call_num'), stat = \"identity\") +\\\n",
        "theme_bw() +\\\n",
        "ggtitle(\"Call end time with bar chart\")"
      ],
      "execution_count": 39,
      "outputs": [
        {
          "output_type": "display_data",
          "data": {
            "image/png": "[encoded data removed]",
            "text/plain": [
              "<Figure size 640x480 with 1 Axes>"
            ]
          },
          "metadata": {
            "tags": []
          }
        },
        {
          "output_type": "execute_result",
          "data": {
            "text/plain": [
              "<ggplot: (-9223363293543158349)>"
            ]
          },
          "metadata": {
            "tags": []
          },
          "execution_count": 39
        }
      ]
    },
    {
      "cell_type": "markdown",
      "metadata": {
        "id": "PsMeawAJartu",
        "colab_type": "text"
      },
      "source": [
        "통화 시작 시간대와 끝 시간대의 빈도 막대그래프이다.  \n",
        "저녁 시간대에 통화 빈도가 높다. 취침 시간대에는 상대적으로 통화 빈도가 낮다."
      ]
    },
    {
      "cell_type": "markdown",
      "metadata": {
        "id": "Q2NgZyEsos4a",
        "colab_type": "text"
      },
      "source": [
        "### 4.2.3 통화에 참여하는 사람들"
      ]
    },
    {
      "cell_type": "code",
      "metadata": {
        "id": "VWkNrAB_oAB3",
        "colab_type": "code",
        "colab": {
          "base_uri": "https://localhost:8080/",
          "height": 493
        },
        "outputId": "dddb65ed-1f88-4dbc-ca82-9636c1545ea6"
      },
      "source": [
        "ggplot(data.loc[:,[\"start_hour\",\"p_num\",\"call_num\"]].groupby('start_hour').sum().reset_index()) +\\\n",
        "geom_bar(aes(x = \"start_hour\", y = \"p_num\"), stat = \"identity\") +\\\n",
        "theme_bw() +\\\n",
        "ggtitle(\"People participating in the call\")"
      ],
      "execution_count": 158,
      "outputs": [
        {
          "output_type": "display_data",
          "data": {
            "image/png": "[encoded data removed]",
            "text/plain": [
              "<Figure size 640x480 with 1 Axes>"
            ]
          },
          "metadata": {
            "tags": []
          }
        },
        {
          "output_type": "execute_result",
          "data": {
            "text/plain": [
              "<ggplot: (-9223363247913280077)>"
            ]
          },
          "metadata": {
            "tags": []
          },
          "execution_count": 158
        }
      ]
    },
    {
      "cell_type": "markdown",
      "metadata": {
        "id": "yRnFYy_noFBv",
        "colab_type": "text"
      },
      "source": [
        "시간대별 통화에 참여하는 사람들의 분포이다. 통화 시작 시간대의 분포와 비슷해보인다."
      ]
    },
    {
      "cell_type": "code",
      "metadata": {
        "id": "9Usua9AZa4mg",
        "colab_type": "code",
        "colab": {
          "base_uri": "https://localhost:8080/",
          "height": 493
        },
        "outputId": "d900d978-bd31-4309-fc88-8325eb9acd4c"
      },
      "source": [
        "ggplot(data.loc[:,[\"start_hour\",\"p_num\",\"call_num\"]].groupby('start_hour').sum().reset_index()) +\\\n",
        "geom_bar(aes(x = \"start_hour\", y = \"p_num/call_num\"), stat = \"identity\") +\\\n",
        "theme_bw() +\\\n",
        "ggtitle(\"Ratio : p_num / call_num\")"
      ],
      "execution_count": 159,
      "outputs": [
        {
          "output_type": "display_data",
          "data": {
            "image/png": "[encoded data removed]",
            "text/plain": [
              "<Figure size 640x480 with 1 Axes>"
            ]
          },
          "metadata": {
            "tags": []
          }
        },
        {
          "output_type": "execute_result",
          "data": {
            "text/plain": [
              "<ggplot: (8788788826288)>"
            ]
          },
          "metadata": {
            "tags": []
          },
          "execution_count": 159
        }
      ]
    },
    {
      "cell_type": "markdown",
      "metadata": {
        "id": "oZ5jeE9IoPEu",
        "colab_type": "text"
      },
      "source": [
        "시간대별 통화에 참여하는 사람 수와 통화 수의 비율을 보니 시각별로 거의 일정한 uniform 형태를 보이고 있다.  \n",
        "시간대별로 통화 수 대비 참여자 수의 차이는 없어보인다."
      ]
    },
    {
      "cell_type": "markdown",
      "metadata": {
        "id": "glI3ChB3px8o",
        "colab_type": "text"
      },
      "source": [
        "### 4.2.4 참여인원 수와 통화길이"
      ]
    },
    {
      "cell_type": "code",
      "metadata": {
        "id": "2dXspaT8qAk9",
        "colab_type": "code",
        "colab": {
          "base_uri": "https://localhost:8080/",
          "height": 419
        },
        "outputId": "3cc3a4de-3742-4ba3-9c55-803759c1ffe3"
      },
      "source": [
        "data.loc[:,['p_num','call_duration']]"
      ],
      "execution_count": 51,
      "outputs": [
        {
          "output_type": "execute_result",
          "data": {
            "text/html": [
              "<div>\n",
              "<style scoped>\n",
              "    .dataframe tbody tr th:only-of-type {\n",
              "        vertical-align: middle;\n",
              "    }\n",
              "\n",
              "    .dataframe tbody tr th {\n",
              "        vertical-align: top;\n",
              "    }\n",
              "\n",
              "    .dataframe thead th {\n",
              "        text-align: right;\n",
              "    }\n",
              "</style>\n",
              "<table border=\"1\" class=\"dataframe\">\n",
              "  <thead>\n",
              "    <tr style=\"text-align: right;\">\n",
              "      <th></th>\n",
              "      <th>p_num</th>\n",
              "      <th>call_duration</th>\n",
              "    </tr>\n",
              "  </thead>\n",
              "  <tbody>\n",
              "    <tr>\n",
              "      <th>0</th>\n",
              "      <td>3</td>\n",
              "      <td>0.442123</td>\n",
              "    </tr>\n",
              "    <tr>\n",
              "      <th>1</th>\n",
              "      <td>5</td>\n",
              "      <td>2.043705</td>\n",
              "    </tr>\n",
              "    <tr>\n",
              "      <th>2</th>\n",
              "      <td>3</td>\n",
              "      <td>0.170835</td>\n",
              "    </tr>\n",
              "    <tr>\n",
              "      <th>3</th>\n",
              "      <td>6</td>\n",
              "      <td>0.427293</td>\n",
              "    </tr>\n",
              "    <tr>\n",
              "      <th>4</th>\n",
              "      <td>6</td>\n",
              "      <td>0.359395</td>\n",
              "    </tr>\n",
              "    <tr>\n",
              "      <th>...</th>\n",
              "      <td>...</td>\n",
              "      <td>...</td>\n",
              "    </tr>\n",
              "    <tr>\n",
              "      <th>6962336</th>\n",
              "      <td>6</td>\n",
              "      <td>0.339233</td>\n",
              "    </tr>\n",
              "    <tr>\n",
              "      <th>6962337</th>\n",
              "      <td>12</td>\n",
              "      <td>0.371066</td>\n",
              "    </tr>\n",
              "    <tr>\n",
              "      <th>6962338</th>\n",
              "      <td>6</td>\n",
              "      <td>0.007640</td>\n",
              "    </tr>\n",
              "    <tr>\n",
              "      <th>6962339</th>\n",
              "      <td>6</td>\n",
              "      <td>0.066117</td>\n",
              "    </tr>\n",
              "    <tr>\n",
              "      <th>6962340</th>\n",
              "      <td>6</td>\n",
              "      <td>0.058391</td>\n",
              "    </tr>\n",
              "  </tbody>\n",
              "</table>\n",
              "<p>6962341 rows × 2 columns</p>\n",
              "</div>"
            ],
            "text/plain": [
              "         p_num  call_duration\n",
              "0            3       0.442123\n",
              "1            5       2.043705\n",
              "2            3       0.170835\n",
              "3            6       0.427293\n",
              "4            6       0.359395\n",
              "...        ...            ...\n",
              "6962336      6       0.339233\n",
              "6962337     12       0.371066\n",
              "6962338      6       0.007640\n",
              "6962339      6       0.066117\n",
              "6962340      6       0.058391\n",
              "\n",
              "[6962341 rows x 2 columns]"
            ]
          },
          "metadata": {
            "tags": []
          },
          "execution_count": 51
        }
      ]
    },
    {
      "cell_type": "code",
      "metadata": {
        "id": "lAe9Y4BQqJGg",
        "colab_type": "code",
        "colab": {
          "base_uri": "https://localhost:8080/",
          "height": 606
        },
        "outputId": "f074577c-fef2-42d1-f6f4-c96d73e976e9"
      },
      "source": [
        "import matplotlib.pyplot as plt\n",
        "%matplotlib inline\n",
        "\n",
        "# 산점도\n",
        "plt.figure(figsize=(10, 10))         # 사이즈 지정\n",
        "plt.scatter(data.loc[:,['p_num','call_duration']].p_num, data.loc[:,['p_num','call_duration']].call_duration) # 산점도\n",
        "plt.xlabel(\"p_num\")                  # x축 레이블\n",
        "plt.ylabel(\"call_duration\")          # y축 레이블\n",
        "plt.grid()                           # 격자\n",
        "plt.show()                           "
      ],
      "execution_count": 18,
      "outputs": [
        {
          "output_type": "display_data",
          "data": {
            "image/png": "[encoded data removed]",
            "text/plain": [
              "<Figure size 720x720 with 1 Axes>"
            ]
          },
          "metadata": {
            "tags": [],
            "needs_background": "light"
          }
        }
      ]
    },
    {
      "cell_type": "code",
      "metadata": {
        "id": "we1yxJ3YqpOO",
        "colab_type": "code",
        "colab": {
          "base_uri": "https://localhost:8080/",
          "height": 35
        },
        "outputId": "a493393d-2f54-4f59-b21d-4e033594576d"
      },
      "source": [
        "import scipy.stats as stats\n",
        "\n",
        "# 피어슨 상관계수 검정\n",
        "stats.pearsonr(data.loc[:,['p_num','call_duration']].p_num, data.loc[:,['p_num','call_duration']].call_duration)"
      ],
      "execution_count": 54,
      "outputs": [
        {
          "output_type": "execute_result",
          "data": {
            "text/plain": [
              "(3.363073089978583e-05, 0.9292551508473222)"
            ]
          },
          "metadata": {
            "tags": []
          },
          "execution_count": 54
        }
      ]
    },
    {
      "cell_type": "markdown",
      "metadata": {
        "id": "GrCkWLjRrASh",
        "colab_type": "text"
      },
      "source": [
        "* 한 통화당 참여인원이 많을수록 통화 기간이 길것이라고 생각했지만, 산점도를 보더라도 그렇게 보이지 않는다.  \n",
        "* 피어슨 상관계수 검정을 통해 확인했을 때, 상관계수가 거의 0이고 p-value또한 약 0.93으로 상관관계가 없다는 귀무가설을 기각하지 못한다. 즉, 참여인원과 통화 길이는 상관 관계가 없다  \n",
        "* 오히려 전화 참여자 수가 훨씬 많은 경우 통화 연결시간은 의외로 짧다"
      ]
    },
    {
      "cell_type": "markdown",
      "metadata": {
        "id": "eyv1-UJzrVsu",
        "colab_type": "text"
      },
      "source": [
        "### 4.2.5 시간대별 평균 통화 길이"
      ]
    },
    {
      "cell_type": "code",
      "metadata": {
        "id": "QVc2YfaOQ3UD",
        "colab_type": "code",
        "colab": {
          "base_uri": "https://localhost:8080/",
          "height": 53
        },
        "outputId": "ea96db63-feb6-4b7e-a2ab-93b3c52590f9"
      },
      "source": [
        "print(max(data.call_duration))\n",
        "print(min(data.call_duration))"
      ],
      "execution_count": 26,
      "outputs": [
        {
          "output_type": "stream",
          "text": [
            "161.13322000000002\n",
            "0.0\n"
          ],
          "name": "stdout"
        }
      ]
    },
    {
      "cell_type": "code",
      "metadata": {
        "id": "WwfzsO8pRBGF",
        "colab_type": "code",
        "colab": {}
      },
      "source": [
        "import math\n",
        "call_dat = data['call_duration'].apply(lambda x : math.trunc(x)).to_frame()"
      ],
      "execution_count": 67,
      "outputs": []
    },
    {
      "cell_type": "code",
      "metadata": {
        "id": "kScNqvSIo8ef",
        "colab_type": "code",
        "colab": {
          "base_uri": "https://localhost:8080/",
          "height": 419
        },
        "outputId": "5e4f7dd3-cbf9-4699-beae-f69a2515a775"
      },
      "source": [
        "call_dat.groupby('call_duration').apply(lambda x : len(x)).to_frame().reset_index()"
      ],
      "execution_count": 90,
      "outputs": [
        {
          "output_type": "execute_result",
          "data": {
            "text/html": [
              "<div>\n",
              "<style scoped>\n",
              "    .dataframe tbody tr th:only-of-type {\n",
              "        vertical-align: middle;\n",
              "    }\n",
              "\n",
              "    .dataframe tbody tr th {\n",
              "        vertical-align: top;\n",
              "    }\n",
              "\n",
              "    .dataframe thead th {\n",
              "        text-align: right;\n",
              "    }\n",
              "</style>\n",
              "<table border=\"1\" class=\"dataframe\">\n",
              "  <thead>\n",
              "    <tr style=\"text-align: right;\">\n",
              "      <th></th>\n",
              "      <th>call_duration</th>\n",
              "      <th>0</th>\n",
              "    </tr>\n",
              "  </thead>\n",
              "  <tbody>\n",
              "    <tr>\n",
              "      <th>0</th>\n",
              "      <td>0</td>\n",
              "      <td>6700006</td>\n",
              "    </tr>\n",
              "    <tr>\n",
              "      <th>1</th>\n",
              "      <td>1</td>\n",
              "      <td>133048</td>\n",
              "    </tr>\n",
              "    <tr>\n",
              "      <th>2</th>\n",
              "      <td>2</td>\n",
              "      <td>43007</td>\n",
              "    </tr>\n",
              "    <tr>\n",
              "      <th>3</th>\n",
              "      <td>3</td>\n",
              "      <td>22792</td>\n",
              "    </tr>\n",
              "    <tr>\n",
              "      <th>4</th>\n",
              "      <td>4</td>\n",
              "      <td>11743</td>\n",
              "    </tr>\n",
              "    <tr>\n",
              "      <th>...</th>\n",
              "      <td>...</td>\n",
              "      <td>...</td>\n",
              "    </tr>\n",
              "    <tr>\n",
              "      <th>157</th>\n",
              "      <td>157</td>\n",
              "      <td>6</td>\n",
              "    </tr>\n",
              "    <tr>\n",
              "      <th>158</th>\n",
              "      <td>158</td>\n",
              "      <td>5</td>\n",
              "    </tr>\n",
              "    <tr>\n",
              "      <th>159</th>\n",
              "      <td>159</td>\n",
              "      <td>1</td>\n",
              "    </tr>\n",
              "    <tr>\n",
              "      <th>160</th>\n",
              "      <td>160</td>\n",
              "      <td>3</td>\n",
              "    </tr>\n",
              "    <tr>\n",
              "      <th>161</th>\n",
              "      <td>161</td>\n",
              "      <td>2</td>\n",
              "    </tr>\n",
              "  </tbody>\n",
              "</table>\n",
              "<p>162 rows × 2 columns</p>\n",
              "</div>"
            ],
            "text/plain": [
              "     call_duration        0\n",
              "0                0  6700006\n",
              "1                1   133048\n",
              "2                2    43007\n",
              "3                3    22792\n",
              "4                4    11743\n",
              "..             ...      ...\n",
              "157            157        6\n",
              "158            158        5\n",
              "159            159        1\n",
              "160            160        3\n",
              "161            161        2\n",
              "\n",
              "[162 rows x 2 columns]"
            ]
          },
          "metadata": {
            "tags": []
          },
          "execution_count": 90
        }
      ]
    },
    {
      "cell_type": "code",
      "metadata": {
        "id": "txxmRn8Ruiet",
        "colab_type": "code",
        "colab": {
          "base_uri": "https://localhost:8080/",
          "height": 624
        },
        "outputId": "168ec4f3-0e60-4195-b99a-749c6a5bf311"
      },
      "source": [
        "import seaborn as sns\n",
        "\n",
        "plt.figure(figsize=(10, 10))    \n",
        "sns.distplot(call_dat['call_duration'], hist=True, kde=True, \n",
        "             bins=int(180/5), color = 'darkblue', \n",
        "             hist_kws={'edgecolor':'black'},\n",
        "             kde_kws={'linewidth': 4})"
      ],
      "execution_count": 74,
      "outputs": [
        {
          "output_type": "execute_result",
          "data": {
            "text/plain": [
              "<matplotlib.axes._subplots.AxesSubplot at 0x7fe57484e550>"
            ]
          },
          "metadata": {
            "tags": []
          },
          "execution_count": 74
        },
        {
          "output_type": "display_data",
          "data": {
            "image/png": "[encoded data removed]",
            "text/plain": [
              "<Figure size 720x720 with 1 Axes>"
            ]
          },
          "metadata": {
            "tags": [],
            "needs_background": "light"
          }
        }
      ]
    },
    {
      "cell_type": "markdown",
      "metadata": {
        "id": "lJPRIKmBu3MC",
        "colab_type": "text"
      },
      "source": [
        "각 통화마다 통화 연결 시간(hour)에 대한 분포는 1시간을 대부분 넘지 않았고, 최대 161시간까지 존재했다.  \n",
        "매우 치우친 skewed right 형태의 분포를 띈다"
      ]
    },
    {
      "cell_type": "code",
      "metadata": {
        "id": "L0_kB0CovGEL",
        "colab_type": "code",
        "colab": {
          "base_uri": "https://localhost:8080/",
          "height": 35
        },
        "outputId": "628549d4-a84a-4af9-f177-f74291adc05b"
      },
      "source": [
        "len(data[data['call_duration'] == 0])"
      ],
      "execution_count": 145,
      "outputs": [
        {
          "output_type": "execute_result",
          "data": {
            "text/plain": [
              "297067"
            ]
          },
          "metadata": {
            "tags": []
          },
          "execution_count": 145
        }
      ]
    },
    {
      "cell_type": "markdown",
      "metadata": {
        "id": "CjM0QUdhyYh9",
        "colab_type": "text"
      },
      "source": [
        "통화 참여 인원수 상관없이 통화 연결 시간이 0분인 경우 297067건수"
      ]
    },
    {
      "cell_type": "code",
      "metadata": {
        "id": "uySq-0TWwhhd",
        "colab_type": "code",
        "colab": {
          "base_uri": "https://localhost:8080/",
          "height": 35
        },
        "outputId": "f5d16448-120b-4031-c290-80e78c073295"
      },
      "source": [
        "len(data[data['p_num'] == 1])"
      ],
      "execution_count": 144,
      "outputs": [
        {
          "output_type": "execute_result",
          "data": {
            "text/plain": [
              "599266"
            ]
          },
          "metadata": {
            "tags": []
          },
          "execution_count": 144
        }
      ]
    },
    {
      "cell_type": "markdown",
      "metadata": {
        "id": "nXHYGG6nyIKl",
        "colab_type": "text"
      },
      "source": [
        "혼자 통화를 한 사람 -> 부재중 응답을 남긴 사람들의 목록, 599266건수"
      ]
    },
    {
      "cell_type": "code",
      "metadata": {
        "id": "sUQSLWvKxG7W",
        "colab_type": "code",
        "colab": {
          "base_uri": "https://localhost:8080/",
          "height": 35
        },
        "outputId": "12e4ca78-11e7-41a4-fb46-c450ac5c0d1c"
      },
      "source": [
        "len(data[(data['call_duration'] == 0) & (data['p_num'] == 1)])"
      ],
      "execution_count": 143,
      "outputs": [
        {
          "output_type": "execute_result",
          "data": {
            "text/plain": [
              "25001"
            ]
          },
          "metadata": {
            "tags": []
          },
          "execution_count": 143
        }
      ]
    },
    {
      "cell_type": "markdown",
      "metadata": {
        "id": "oEeb6vLpyA8K",
        "colab_type": "text"
      },
      "source": [
        "통화 연결을 시도했지만, 연결된 통화가 아닌 건수는 25001건"
      ]
    },
    {
      "cell_type": "markdown",
      "metadata": {
        "id": "MVxpZfXP05tn",
        "colab_type": "text"
      },
      "source": [
        "### 4.2.6 통화 참여 인원 그룹 크기에 따른 비교  "
      ]
    },
    {
      "cell_type": "code",
      "metadata": {
        "id": "_U3WpQ9X07gF",
        "colab_type": "code",
        "colab": {
          "base_uri": "https://localhost:8080/",
          "height": 609
        },
        "outputId": "6df3efd8-dc9a-4966-8677-4c42b75e8926"
      },
      "source": [
        "data"
      ],
      "execution_count": 117,
      "outputs": [
        {
          "output_type": "execute_result",
          "data": {
            "text/html": [
              "<div>\n",
              "<style scoped>\n",
              "    .dataframe tbody tr th:only-of-type {\n",
              "        vertical-align: middle;\n",
              "    }\n",
              "\n",
              "    .dataframe tbody tr th {\n",
              "        vertical-align: top;\n",
              "    }\n",
              "\n",
              "    .dataframe thead th {\n",
              "        text-align: right;\n",
              "    }\n",
              "</style>\n",
              "<table border=\"1\" class=\"dataframe\">\n",
              "  <thead>\n",
              "    <tr style=\"text-align: right;\">\n",
              "      <th></th>\n",
              "      <th>call_start_day</th>\n",
              "      <th>call_start_time</th>\n",
              "      <th>call_end_day</th>\n",
              "      <th>call_end_time</th>\n",
              "      <th>hashed</th>\n",
              "      <th>p_num</th>\n",
              "      <th>diff_day</th>\n",
              "      <th>new_end_time</th>\n",
              "      <th>call_duration</th>\n",
              "      <th>call_num</th>\n",
              "      <th>start_hour</th>\n",
              "      <th>end_hour</th>\n",
              "    </tr>\n",
              "  </thead>\n",
              "  <tbody>\n",
              "    <tr>\n",
              "      <th>0</th>\n",
              "      <td>1</td>\n",
              "      <td>1900-01-01 09:14:58.558</td>\n",
              "      <td>1</td>\n",
              "      <td>1900-01-01 09:41:30.200</td>\n",
              "      <td>967393e81d99ce8e577ee130b7ce8e4fd45e3e9cecb560...</td>\n",
              "      <td>3</td>\n",
              "      <td>0</td>\n",
              "      <td>1900-01-01 09:41:30.200</td>\n",
              "      <td>0.442123</td>\n",
              "      <td>1</td>\n",
              "      <td>9</td>\n",
              "      <td>9</td>\n",
              "    </tr>\n",
              "    <tr>\n",
              "      <th>1</th>\n",
              "      <td>17</td>\n",
              "      <td>1900-01-01 11:05:05.176</td>\n",
              "      <td>17</td>\n",
              "      <td>1900-01-01 13:07:42.515</td>\n",
              "      <td>02181a0c962f34f019bc9d5b582fb0ec79b1441f96aa4d...</td>\n",
              "      <td>5</td>\n",
              "      <td>0</td>\n",
              "      <td>1900-01-01 13:07:42.515</td>\n",
              "      <td>2.043705</td>\n",
              "      <td>1</td>\n",
              "      <td>11</td>\n",
              "      <td>13</td>\n",
              "    </tr>\n",
              "    <tr>\n",
              "      <th>2</th>\n",
              "      <td>20</td>\n",
              "      <td>1900-01-01 02:18:43.172</td>\n",
              "      <td>20</td>\n",
              "      <td>1900-01-01 02:28:58.177</td>\n",
              "      <td>86022904c5cf72a54978479c94041f4256d6c3c2a1f71c...</td>\n",
              "      <td>3</td>\n",
              "      <td>0</td>\n",
              "      <td>1900-01-01 02:28:58.177</td>\n",
              "      <td>0.170835</td>\n",
              "      <td>1</td>\n",
              "      <td>2</td>\n",
              "      <td>2</td>\n",
              "    </tr>\n",
              "    <tr>\n",
              "      <th>3</th>\n",
              "      <td>22</td>\n",
              "      <td>1900-01-01 09:22:01.936</td>\n",
              "      <td>22</td>\n",
              "      <td>1900-01-01 09:47:40.192</td>\n",
              "      <td>aafb40d212fe18ff4eafb82fdcf3b53f2161cb3ce59de4...</td>\n",
              "      <td>6</td>\n",
              "      <td>0</td>\n",
              "      <td>1900-01-01 09:47:40.192</td>\n",
              "      <td>0.427293</td>\n",
              "      <td>1</td>\n",
              "      <td>9</td>\n",
              "      <td>9</td>\n",
              "    </tr>\n",
              "    <tr>\n",
              "      <th>4</th>\n",
              "      <td>26</td>\n",
              "      <td>1900-01-01 06:29:21.182</td>\n",
              "      <td>26</td>\n",
              "      <td>1900-01-01 06:50:55.004</td>\n",
              "      <td>c87c2fad141edf323f3787335b54be22945a02fe052448...</td>\n",
              "      <td>6</td>\n",
              "      <td>0</td>\n",
              "      <td>1900-01-01 06:50:55.004</td>\n",
              "      <td>0.359395</td>\n",
              "      <td>1</td>\n",
              "      <td>6</td>\n",
              "      <td>6</td>\n",
              "    </tr>\n",
              "    <tr>\n",
              "      <th>...</th>\n",
              "      <td>...</td>\n",
              "      <td>...</td>\n",
              "      <td>...</td>\n",
              "      <td>...</td>\n",
              "      <td>...</td>\n",
              "      <td>...</td>\n",
              "      <td>...</td>\n",
              "      <td>...</td>\n",
              "      <td>...</td>\n",
              "      <td>...</td>\n",
              "      <td>...</td>\n",
              "      <td>...</td>\n",
              "    </tr>\n",
              "    <tr>\n",
              "      <th>6962336</th>\n",
              "      <td>55</td>\n",
              "      <td>1900-01-01 08:09:30.086</td>\n",
              "      <td>55</td>\n",
              "      <td>1900-01-01 08:29:51.324</td>\n",
              "      <td>a4b6aea6cb58e43911e7cb7d6c0497197db7c4ed16e1c9...</td>\n",
              "      <td>6</td>\n",
              "      <td>0</td>\n",
              "      <td>1900-01-01 08:29:51.324</td>\n",
              "      <td>0.339233</td>\n",
              "      <td>1</td>\n",
              "      <td>8</td>\n",
              "      <td>8</td>\n",
              "    </tr>\n",
              "    <tr>\n",
              "      <th>6962337</th>\n",
              "      <td>35</td>\n",
              "      <td>1900-01-01 11:25:25.719</td>\n",
              "      <td>35</td>\n",
              "      <td>1900-01-01 11:47:41.557</td>\n",
              "      <td>4ec597c569b92bd0e1bae4e2a06e13b9657fb81795e194...</td>\n",
              "      <td>12</td>\n",
              "      <td>0</td>\n",
              "      <td>1900-01-01 11:47:41.557</td>\n",
              "      <td>0.371066</td>\n",
              "      <td>1</td>\n",
              "      <td>11</td>\n",
              "      <td>11</td>\n",
              "    </tr>\n",
              "    <tr>\n",
              "      <th>6962338</th>\n",
              "      <td>47</td>\n",
              "      <td>1900-01-01 16:29:59.882</td>\n",
              "      <td>47</td>\n",
              "      <td>1900-01-01 16:30:27.386</td>\n",
              "      <td>8092e194a750aae539862ed4405f67a6dd5b492e7e57e3...</td>\n",
              "      <td>6</td>\n",
              "      <td>0</td>\n",
              "      <td>1900-01-01 16:30:27.386</td>\n",
              "      <td>0.007640</td>\n",
              "      <td>1</td>\n",
              "      <td>16</td>\n",
              "      <td>16</td>\n",
              "    </tr>\n",
              "    <tr>\n",
              "      <th>6962339</th>\n",
              "      <td>48</td>\n",
              "      <td>1900-01-01 23:43:52.265</td>\n",
              "      <td>48</td>\n",
              "      <td>1900-01-01 23:47:50.285</td>\n",
              "      <td>7176c1516207692857535c30a4650b8e8e586af1fed0fd...</td>\n",
              "      <td>6</td>\n",
              "      <td>0</td>\n",
              "      <td>1900-01-01 23:47:50.285</td>\n",
              "      <td>0.066117</td>\n",
              "      <td>1</td>\n",
              "      <td>23</td>\n",
              "      <td>23</td>\n",
              "    </tr>\n",
              "    <tr>\n",
              "      <th>6962340</th>\n",
              "      <td>40</td>\n",
              "      <td>1900-01-01 23:07:31.761</td>\n",
              "      <td>40</td>\n",
              "      <td>1900-01-01 23:11:01.968</td>\n",
              "      <td>11fc85879e5ac9d5c83bfba10d73c4c84c154b9f4d9e1d...</td>\n",
              "      <td>6</td>\n",
              "      <td>0</td>\n",
              "      <td>1900-01-01 23:11:01.968</td>\n",
              "      <td>0.058391</td>\n",
              "      <td>1</td>\n",
              "      <td>23</td>\n",
              "      <td>23</td>\n",
              "    </tr>\n",
              "  </tbody>\n",
              "</table>\n",
              "<p>6962341 rows × 12 columns</p>\n",
              "</div>"
            ],
            "text/plain": [
              "         call_start_day         call_start_time  ...  start_hour end_hour\n",
              "0                     1 1900-01-01 09:14:58.558  ...           9        9\n",
              "1                    17 1900-01-01 11:05:05.176  ...          11       13\n",
              "2                    20 1900-01-01 02:18:43.172  ...           2        2\n",
              "3                    22 1900-01-01 09:22:01.936  ...           9        9\n",
              "4                    26 1900-01-01 06:29:21.182  ...           6        6\n",
              "...                 ...                     ...  ...         ...      ...\n",
              "6962336              55 1900-01-01 08:09:30.086  ...           8        8\n",
              "6962337              35 1900-01-01 11:25:25.719  ...          11       11\n",
              "6962338              47 1900-01-01 16:29:59.882  ...          16       16\n",
              "6962339              48 1900-01-01 23:43:52.265  ...          23       23\n",
              "6962340              40 1900-01-01 23:07:31.761  ...          23       23\n",
              "\n",
              "[6962341 rows x 12 columns]"
            ]
          },
          "metadata": {
            "tags": []
          },
          "execution_count": 117
        }
      ]
    },
    {
      "cell_type": "code",
      "metadata": {
        "id": "NQ_H-1-mXQ2I",
        "colab_type": "code",
        "colab": {}
      },
      "source": [
        "conditions = [\n",
        "    (data[\"p_num\"].lt(7)),\n",
        "    (data[\"p_num\"].ge(7) & data[\"p_num\"].lt(20)),\n",
        "    (data[\"p_num\"].ge(20))\n",
        "]\n",
        "choices = [\"small\", \"medium\", \"large\"]\n",
        "\n",
        "data[\"group_size\"] = np.select(conditions, choices)"
      ],
      "execution_count": 134,
      "outputs": []
    },
    {
      "cell_type": "markdown",
      "metadata": {
        "id": "crRDGaKRbm9m",
        "colab_type": "text"
      },
      "source": [
        "* Small : 통화 참여인원이 0~6명  \n",
        "* Medium : 통화 참여인원이 7~20명  \n",
        "* Large : 통화 참여인원이 21명 이상"
      ]
    },
    {
      "cell_type": "code",
      "metadata": {
        "id": "ezf-_drBX30z",
        "colab_type": "code",
        "colab": {
          "base_uri": "https://localhost:8080/",
          "height": 419
        },
        "outputId": "4a05c9ae-05e0-47b7-eaf4-cfc3e2a1d506"
      },
      "source": [
        "data[['p_num','group_size','call_duration','start_hour']]"
      ],
      "execution_count": 135,
      "outputs": [
        {
          "output_type": "execute_result",
          "data": {
            "text/html": [
              "<div>\n",
              "<style scoped>\n",
              "    .dataframe tbody tr th:only-of-type {\n",
              "        vertical-align: middle;\n",
              "    }\n",
              "\n",
              "    .dataframe tbody tr th {\n",
              "        vertical-align: top;\n",
              "    }\n",
              "\n",
              "    .dataframe thead th {\n",
              "        text-align: right;\n",
              "    }\n",
              "</style>\n",
              "<table border=\"1\" class=\"dataframe\">\n",
              "  <thead>\n",
              "    <tr style=\"text-align: right;\">\n",
              "      <th></th>\n",
              "      <th>p_num</th>\n",
              "      <th>group_size</th>\n",
              "      <th>call_duration</th>\n",
              "      <th>start_hour</th>\n",
              "    </tr>\n",
              "  </thead>\n",
              "  <tbody>\n",
              "    <tr>\n",
              "      <th>0</th>\n",
              "      <td>3</td>\n",
              "      <td>small</td>\n",
              "      <td>0.442123</td>\n",
              "      <td>9</td>\n",
              "    </tr>\n",
              "    <tr>\n",
              "      <th>1</th>\n",
              "      <td>5</td>\n",
              "      <td>small</td>\n",
              "      <td>2.043705</td>\n",
              "      <td>11</td>\n",
              "    </tr>\n",
              "    <tr>\n",
              "      <th>2</th>\n",
              "      <td>3</td>\n",
              "      <td>small</td>\n",
              "      <td>0.170835</td>\n",
              "      <td>2</td>\n",
              "    </tr>\n",
              "    <tr>\n",
              "      <th>3</th>\n",
              "      <td>6</td>\n",
              "      <td>small</td>\n",
              "      <td>0.427293</td>\n",
              "      <td>9</td>\n",
              "    </tr>\n",
              "    <tr>\n",
              "      <th>4</th>\n",
              "      <td>6</td>\n",
              "      <td>small</td>\n",
              "      <td>0.359395</td>\n",
              "      <td>6</td>\n",
              "    </tr>\n",
              "    <tr>\n",
              "      <th>...</th>\n",
              "      <td>...</td>\n",
              "      <td>...</td>\n",
              "      <td>...</td>\n",
              "      <td>...</td>\n",
              "    </tr>\n",
              "    <tr>\n",
              "      <th>6962336</th>\n",
              "      <td>6</td>\n",
              "      <td>small</td>\n",
              "      <td>0.339233</td>\n",
              "      <td>8</td>\n",
              "    </tr>\n",
              "    <tr>\n",
              "      <th>6962337</th>\n",
              "      <td>12</td>\n",
              "      <td>medium</td>\n",
              "      <td>0.371066</td>\n",
              "      <td>11</td>\n",
              "    </tr>\n",
              "    <tr>\n",
              "      <th>6962338</th>\n",
              "      <td>6</td>\n",
              "      <td>small</td>\n",
              "      <td>0.007640</td>\n",
              "      <td>16</td>\n",
              "    </tr>\n",
              "    <tr>\n",
              "      <th>6962339</th>\n",
              "      <td>6</td>\n",
              "      <td>small</td>\n",
              "      <td>0.066117</td>\n",
              "      <td>23</td>\n",
              "    </tr>\n",
              "    <tr>\n",
              "      <th>6962340</th>\n",
              "      <td>6</td>\n",
              "      <td>small</td>\n",
              "      <td>0.058391</td>\n",
              "      <td>23</td>\n",
              "    </tr>\n",
              "  </tbody>\n",
              "</table>\n",
              "<p>6962341 rows × 4 columns</p>\n",
              "</div>"
            ],
            "text/plain": [
              "         p_num group_size  call_duration  start_hour\n",
              "0            3      small       0.442123           9\n",
              "1            5      small       2.043705          11\n",
              "2            3      small       0.170835           2\n",
              "3            6      small       0.427293           9\n",
              "4            6      small       0.359395           6\n",
              "...        ...        ...            ...         ...\n",
              "6962336      6      small       0.339233           8\n",
              "6962337     12     medium       0.371066          11\n",
              "6962338      6      small       0.007640          16\n",
              "6962339      6      small       0.066117          23\n",
              "6962340      6      small       0.058391          23\n",
              "\n",
              "[6962341 rows x 4 columns]"
            ]
          },
          "metadata": {
            "tags": []
          },
          "execution_count": 135
        }
      ]
    },
    {
      "cell_type": "code",
      "metadata": {
        "id": "DCAucAjlYEdG",
        "colab_type": "code",
        "colab": {
          "base_uri": "https://localhost:8080/",
          "height": 173
        },
        "outputId": "ef1ea0af-a0df-4154-d917-6746074d2795"
      },
      "source": [
        "data[['p_num','group_size','call_duration','start_hour']].groupby('group_size').count()"
      ],
      "execution_count": 136,
      "outputs": [
        {
          "output_type": "execute_result",
          "data": {
            "text/html": [
              "<div>\n",
              "<style scoped>\n",
              "    .dataframe tbody tr th:only-of-type {\n",
              "        vertical-align: middle;\n",
              "    }\n",
              "\n",
              "    .dataframe tbody tr th {\n",
              "        vertical-align: top;\n",
              "    }\n",
              "\n",
              "    .dataframe thead th {\n",
              "        text-align: right;\n",
              "    }\n",
              "</style>\n",
              "<table border=\"1\" class=\"dataframe\">\n",
              "  <thead>\n",
              "    <tr style=\"text-align: right;\">\n",
              "      <th></th>\n",
              "      <th>p_num</th>\n",
              "      <th>call_duration</th>\n",
              "      <th>start_hour</th>\n",
              "    </tr>\n",
              "    <tr>\n",
              "      <th>group_size</th>\n",
              "      <th></th>\n",
              "      <th></th>\n",
              "      <th></th>\n",
              "    </tr>\n",
              "  </thead>\n",
              "  <tbody>\n",
              "    <tr>\n",
              "      <th>large</th>\n",
              "      <td>7474</td>\n",
              "      <td>7474</td>\n",
              "      <td>7474</td>\n",
              "    </tr>\n",
              "    <tr>\n",
              "      <th>medium</th>\n",
              "      <td>424076</td>\n",
              "      <td>424076</td>\n",
              "      <td>424076</td>\n",
              "    </tr>\n",
              "    <tr>\n",
              "      <th>small</th>\n",
              "      <td>6530791</td>\n",
              "      <td>6530791</td>\n",
              "      <td>6530791</td>\n",
              "    </tr>\n",
              "  </tbody>\n",
              "</table>\n",
              "</div>"
            ],
            "text/plain": [
              "              p_num  call_duration  start_hour\n",
              "group_size                                    \n",
              "large          7474           7474        7474\n",
              "medium       424076         424076      424076\n",
              "small       6530791        6530791     6530791"
            ]
          },
          "metadata": {
            "tags": []
          },
          "execution_count": 136
        }
      ]
    },
    {
      "cell_type": "markdown",
      "metadata": {
        "id": "d3UaNV_Kcb43",
        "colab_type": "text"
      },
      "source": [
        "* Small : 6530791개  \n",
        "* Medium : 424076개  \n",
        "* Large : 7474개"
      ]
    },
    {
      "cell_type": "code",
      "metadata": {
        "id": "qNzX9RXgaS6J",
        "colab_type": "code",
        "colab": {
          "base_uri": "https://localhost:8080/",
          "height": 493
        },
        "outputId": "0fb12f0c-fdff-4558-8616-78518a9465c0"
      },
      "source": [
        "ggplot(data[['p_num','group_size','call_duration','start_hour']].groupby('group_size').count().reset_index()) +\\\n",
        "geom_bar(aes(x = \"group_size\", y = \"p_num\"), stat = \"identity\") +\\\n",
        "theme_bw() +\\\n",
        "ggtitle(\"Count by Group size\") +\\\n",
        "ylab(\"Count\")"
      ],
      "execution_count": 160,
      "outputs": [
        {
          "output_type": "display_data",
          "data": {
            "image/png": "[encoded data removed]",
            "text/plain": [
              "<Figure size 640x480 with 1 Axes>"
            ]
          },
          "metadata": {
            "tags": []
          }
        },
        {
          "output_type": "execute_result",
          "data": {
            "text/plain": [
              "<ggplot: (8788798978452)>"
            ]
          },
          "metadata": {
            "tags": []
          },
          "execution_count": 160
        }
      ]
    },
    {
      "cell_type": "markdown",
      "metadata": {
        "id": "Gd4Nt-I4ca6-",
        "colab_type": "text"
      },
      "source": [
        "소그룹 통화가 압도적으로 가장 많이 이루어졌음"
      ]
    },
    {
      "cell_type": "code",
      "metadata": {
        "id": "YpawukifcsAL",
        "colab_type": "code",
        "colab": {
          "base_uri": "https://localhost:8080/",
          "height": 173
        },
        "outputId": "dd81506c-4b7f-41e8-9ce7-b3b834295719"
      },
      "source": [
        "data[['group_size','call_duration','start_hour']].groupby('group_size').mean()"
      ],
      "execution_count": 149,
      "outputs": [
        {
          "output_type": "execute_result",
          "data": {
            "text/html": [
              "<div>\n",
              "<style scoped>\n",
              "    .dataframe tbody tr th:only-of-type {\n",
              "        vertical-align: middle;\n",
              "    }\n",
              "\n",
              "    .dataframe tbody tr th {\n",
              "        vertical-align: top;\n",
              "    }\n",
              "\n",
              "    .dataframe thead th {\n",
              "        text-align: right;\n",
              "    }\n",
              "</style>\n",
              "<table border=\"1\" class=\"dataframe\">\n",
              "  <thead>\n",
              "    <tr style=\"text-align: right;\">\n",
              "      <th></th>\n",
              "      <th>call_duration</th>\n",
              "      <th>start_hour</th>\n",
              "    </tr>\n",
              "    <tr>\n",
              "      <th>group_size</th>\n",
              "      <th></th>\n",
              "      <th></th>\n",
              "    </tr>\n",
              "  </thead>\n",
              "  <tbody>\n",
              "    <tr>\n",
              "      <th>large</th>\n",
              "      <td>0.423341</td>\n",
              "      <td>12.770538</td>\n",
              "    </tr>\n",
              "    <tr>\n",
              "      <th>medium</th>\n",
              "      <td>0.442811</td>\n",
              "      <td>12.708366</td>\n",
              "    </tr>\n",
              "    <tr>\n",
              "      <th>small</th>\n",
              "      <td>0.430763</td>\n",
              "      <td>12.796048</td>\n",
              "    </tr>\n",
              "  </tbody>\n",
              "</table>\n",
              "</div>"
            ],
            "text/plain": [
              "            call_duration  start_hour\n",
              "group_size                           \n",
              "large            0.423341   12.770538\n",
              "medium           0.442811   12.708366\n",
              "small            0.430763   12.796048"
            ]
          },
          "metadata": {
            "tags": []
          },
          "execution_count": 149
        }
      ]
    },
    {
      "cell_type": "code",
      "metadata": {
        "id": "oUTamhJodzy8",
        "colab_type": "code",
        "colab": {
          "base_uri": "https://localhost:8080/",
          "height": 545
        },
        "outputId": "9120c11b-9f02-453f-d94d-5ecb84ff3b39"
      },
      "source": [
        "pd.options.display.float_format = '{:.2f}'.format  # 과학적 표기법(Scientific notation)을 사용하지 않는 경우\n",
        "\n",
        "data[['group_size','call_duration','start_hour']].groupby('group_size').describe().T"
      ],
      "execution_count": 157,
      "outputs": [
        {
          "output_type": "execute_result",
          "data": {
            "text/html": [
              "<div>\n",
              "<style scoped>\n",
              "    .dataframe tbody tr th:only-of-type {\n",
              "        vertical-align: middle;\n",
              "    }\n",
              "\n",
              "    .dataframe tbody tr th {\n",
              "        vertical-align: top;\n",
              "    }\n",
              "\n",
              "    .dataframe thead th {\n",
              "        text-align: right;\n",
              "    }\n",
              "</style>\n",
              "<table border=\"1\" class=\"dataframe\">\n",
              "  <thead>\n",
              "    <tr style=\"text-align: right;\">\n",
              "      <th></th>\n",
              "      <th>group_size</th>\n",
              "      <th>large</th>\n",
              "      <th>medium</th>\n",
              "      <th>small</th>\n",
              "    </tr>\n",
              "  </thead>\n",
              "  <tbody>\n",
              "    <tr>\n",
              "      <th rowspan=\"8\" valign=\"top\">call_duration</th>\n",
              "      <th>count</th>\n",
              "      <td>7474.00</td>\n",
              "      <td>424076.00</td>\n",
              "      <td>6530791.00</td>\n",
              "    </tr>\n",
              "    <tr>\n",
              "      <th>mean</th>\n",
              "      <td>0.42</td>\n",
              "      <td>0.44</td>\n",
              "      <td>0.43</td>\n",
              "    </tr>\n",
              "    <tr>\n",
              "      <th>std</th>\n",
              "      <td>3.00</td>\n",
              "      <td>3.44</td>\n",
              "      <td>3.29</td>\n",
              "    </tr>\n",
              "    <tr>\n",
              "      <th>min</th>\n",
              "      <td>0.00</td>\n",
              "      <td>0.00</td>\n",
              "      <td>0.00</td>\n",
              "    </tr>\n",
              "    <tr>\n",
              "      <th>25%</th>\n",
              "      <td>0.03</td>\n",
              "      <td>0.03</td>\n",
              "      <td>0.03</td>\n",
              "    </tr>\n",
              "    <tr>\n",
              "      <th>50%</th>\n",
              "      <td>0.16</td>\n",
              "      <td>0.16</td>\n",
              "      <td>0.16</td>\n",
              "    </tr>\n",
              "    <tr>\n",
              "      <th>75%</th>\n",
              "      <td>0.32</td>\n",
              "      <td>0.32</td>\n",
              "      <td>0.31</td>\n",
              "    </tr>\n",
              "    <tr>\n",
              "      <th>max</th>\n",
              "      <td>134.19</td>\n",
              "      <td>154.32</td>\n",
              "      <td>161.13</td>\n",
              "    </tr>\n",
              "    <tr>\n",
              "      <th rowspan=\"8\" valign=\"top\">start_hour</th>\n",
              "      <th>count</th>\n",
              "      <td>7474.00</td>\n",
              "      <td>424076.00</td>\n",
              "      <td>6530791.00</td>\n",
              "    </tr>\n",
              "    <tr>\n",
              "      <th>mean</th>\n",
              "      <td>12.77</td>\n",
              "      <td>12.71</td>\n",
              "      <td>12.80</td>\n",
              "    </tr>\n",
              "    <tr>\n",
              "      <th>std</th>\n",
              "      <td>7.30</td>\n",
              "      <td>7.30</td>\n",
              "      <td>7.29</td>\n",
              "    </tr>\n",
              "    <tr>\n",
              "      <th>min</th>\n",
              "      <td>0.00</td>\n",
              "      <td>0.00</td>\n",
              "      <td>0.00</td>\n",
              "    </tr>\n",
              "    <tr>\n",
              "      <th>25%</th>\n",
              "      <td>6.00</td>\n",
              "      <td>6.00</td>\n",
              "      <td>6.00</td>\n",
              "    </tr>\n",
              "    <tr>\n",
              "      <th>50%</th>\n",
              "      <td>14.00</td>\n",
              "      <td>14.00</td>\n",
              "      <td>14.00</td>\n",
              "    </tr>\n",
              "    <tr>\n",
              "      <th>75%</th>\n",
              "      <td>19.00</td>\n",
              "      <td>19.00</td>\n",
              "      <td>19.00</td>\n",
              "    </tr>\n",
              "    <tr>\n",
              "      <th>max</th>\n",
              "      <td>23.00</td>\n",
              "      <td>23.00</td>\n",
              "      <td>23.00</td>\n",
              "    </tr>\n",
              "  </tbody>\n",
              "</table>\n",
              "</div>"
            ],
            "text/plain": [
              "group_size            large    medium      small\n",
              "call_duration count 7474.00 424076.00 6530791.00\n",
              "              mean     0.42      0.44       0.43\n",
              "              std      3.00      3.44       3.29\n",
              "              min      0.00      0.00       0.00\n",
              "              25%      0.03      0.03       0.03\n",
              "              50%      0.16      0.16       0.16\n",
              "              75%      0.32      0.32       0.31\n",
              "              max    134.19    154.32     161.13\n",
              "start_hour    count 7474.00 424076.00 6530791.00\n",
              "              mean    12.77     12.71      12.80\n",
              "              std      7.30      7.30       7.29\n",
              "              min      0.00      0.00       0.00\n",
              "              25%      6.00      6.00       6.00\n",
              "              50%     14.00     14.00      14.00\n",
              "              75%     19.00     19.00      19.00\n",
              "              max     23.00     23.00      23.00"
            ]
          },
          "metadata": {
            "tags": []
          },
          "execution_count": 157
        }
      ]
    },
    {
      "cell_type": "markdown",
      "metadata": {
        "id": "-VYGLyfDhGLe",
        "colab_type": "text"
      },
      "source": [
        "한 통화에 참여하는 사람들을 3부류로 분류했을 때, 통화 연결 시간과 통화 시작 시각에는 차이가 없어 보인다."
      ]
    }
  ]
}