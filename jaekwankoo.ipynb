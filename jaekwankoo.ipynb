{
  "nbformat": 4,
  "nbformat_minor": 0,
  "metadata": {
    "colab": {
      "name": "jaekwankoo.ipynb",
      "provenance": [],
      "collapsed_sections": [],
      "toc_visible": true,
      "authorship_tag": "ABX9TyMfSSf8OeW+e9VtySVji6+O",
      "include_colab_link": true
    },
    "kernelspec": {
      "name": "python3",
      "display_name": "Python 3"
    }
  },
  "cells": [
    {
      "cell_type": "markdown",
      "metadata": {
        "id": "view-in-github",
        "colab_type": "text"
      },
      "source": [
        "<a href=\"https://colab.research.google.com/github/koojaekwan/python_practice/blob/master/jaekwankoo.ipynb\" target=\"_parent\"><img src=\"https://colab.research.google.com/assets/colab-badge.svg\" alt=\"Open In Colab\"/></a>"
      ]
    },
    {
      "cell_type": "markdown",
      "metadata": {
        "id": "mqkBN567OhzB",
        "colab_type": "text"
      },
      "source": [
        "## 1.1 준비단계 - 구글드라이브 연동"
      ]
    },
    {
      "cell_type": "code",
      "metadata": {
        "id": "I9zMJUNZDgD6",
        "colab_type": "code",
        "colab": {
          "base_uri": "https://localhost:8080/",
          "height": 127
        },
        "outputId": "852fdff7-21f3-4b69-adcb-366173ca28bf"
      },
      "source": [
        "from google.colab import drive \n",
        "drive.mount('/content/gdrive/')"
      ],
      "execution_count": 1,
      "outputs": [
        {
          "output_type": "stream",
          "text": [
            "Go to this URL in a browser: https://accounts.google.com/o/oauth2/auth?client_id=947318989803-6bn6qk8qdgf4n4g3pfee6491hc0brc4i.apps.googleusercontent.com&redirect_uri=urn%3aietf%3awg%3aoauth%3a2.0%3aoob&scope=email%20https%3a%2f%2fwww.googleapis.com%2fauth%2fdocs.test%20https%3a%2f%2fwww.googleapis.com%2fauth%2fdrive%20https%3a%2f%2fwww.googleapis.com%2fauth%2fdrive.photos.readonly%20https%3a%2f%2fwww.googleapis.com%2fauth%2fpeopleapi.readonly&response_type=code\n",
            "\n",
            "Enter your authorization code:\n",
            "··········\n",
            "Mounted at /content/gdrive/\n"
          ],
          "name": "stdout"
        }
      ]
    },
    {
      "cell_type": "markdown",
      "metadata": {
        "id": "OrqSd9a5OxvM",
        "colab_type": "text"
      },
      "source": [
        "## 1.2 라이브러리 및 데이터 불러오기"
      ]
    },
    {
      "cell_type": "code",
      "metadata": {
        "id": "wdSC8m9dElRA",
        "colab_type": "code",
        "colab": {}
      },
      "source": [
        "import os\n",
        "import numpy as np\n",
        "import pandas as pd\n",
        "import datetime\n",
        "import matplotlib.pyplot as plt\n",
        "import seaborn as sns\n",
        "import gc"
      ],
      "execution_count": 103,
      "outputs": []
    },
    {
      "cell_type": "code",
      "metadata": {
        "id": "NhYIsNiQElWI",
        "colab_type": "code",
        "colab": {
          "base_uri": "https://localhost:8080/",
          "height": 35
        },
        "outputId": "c7f070a4-64a2-466d-d90d-70b8df11c42a"
      },
      "source": [
        "print(os.getcwd()) # 현재 경로"
      ],
      "execution_count": null,
      "outputs": [
        {
          "output_type": "stream",
          "text": [
            "/content\n"
          ],
          "name": "stdout"
        }
      ]
    },
    {
      "cell_type": "code",
      "metadata": {
        "id": "9fi-k1llElUp",
        "colab_type": "code",
        "colab": {}
      },
      "source": [
        "data = pd.read_csv(\"/content/gdrive/My Drive/coding_test/group_call_HMS.csv\")"
      ],
      "execution_count": 2,
      "outputs": []
    },
    {
      "cell_type": "code",
      "metadata": {
        "id": "ShV92J8kKHI-",
        "colab_type": "code",
        "colab": {
          "base_uri": "https://localhost:8080/",
          "height": 419
        },
        "outputId": "82fc4f1f-9a06-48f1-a6cc-5556915bff21"
      },
      "source": [
        "data"
      ],
      "execution_count": null,
      "outputs": [
        {
          "output_type": "execute_result",
          "data": {
            "text/html": [
              "<div>\n",
              "<style scoped>\n",
              "    .dataframe tbody tr th:only-of-type {\n",
              "        vertical-align: middle;\n",
              "    }\n",
              "\n",
              "    .dataframe tbody tr th {\n",
              "        vertical-align: top;\n",
              "    }\n",
              "\n",
              "    .dataframe thead th {\n",
              "        text-align: right;\n",
              "    }\n",
              "</style>\n",
              "<table border=\"1\" class=\"dataframe\">\n",
              "  <thead>\n",
              "    <tr style=\"text-align: right;\">\n",
              "      <th></th>\n",
              "      <th>call_start_day</th>\n",
              "      <th>call_start_time</th>\n",
              "      <th>call_end_day</th>\n",
              "      <th>call_end_time</th>\n",
              "      <th>hashed</th>\n",
              "    </tr>\n",
              "  </thead>\n",
              "  <tbody>\n",
              "    <tr>\n",
              "      <th>0</th>\n",
              "      <td>1</td>\n",
              "      <td>09:14:58.558</td>\n",
              "      <td>1</td>\n",
              "      <td>09:41:30.200</td>\n",
              "      <td>967393e81d99ce8e577ee130b7ce8e4fd45e3e9cecb560...</td>\n",
              "    </tr>\n",
              "    <tr>\n",
              "      <th>1</th>\n",
              "      <td>17</td>\n",
              "      <td>11:05:05.176</td>\n",
              "      <td>17</td>\n",
              "      <td>13:07:42.515</td>\n",
              "      <td>02181a0c962f34f019bc9d5b582fb0ec79b1441f96aa4d...</td>\n",
              "    </tr>\n",
              "    <tr>\n",
              "      <th>2</th>\n",
              "      <td>20</td>\n",
              "      <td>02:18:43.172</td>\n",
              "      <td>20</td>\n",
              "      <td>02:28:58.177</td>\n",
              "      <td>86022904c5cf72a54978479c94041f4256d6c3c2a1f71c...</td>\n",
              "    </tr>\n",
              "    <tr>\n",
              "      <th>3</th>\n",
              "      <td>22</td>\n",
              "      <td>09:22:01.936</td>\n",
              "      <td>22</td>\n",
              "      <td>09:47:40.192</td>\n",
              "      <td>aafb40d212fe18ff4eafb82fdcf3b53f2161cb3ce59de4...</td>\n",
              "    </tr>\n",
              "    <tr>\n",
              "      <th>4</th>\n",
              "      <td>26</td>\n",
              "      <td>06:29:21.182</td>\n",
              "      <td>26</td>\n",
              "      <td>06:50:55.004</td>\n",
              "      <td>c87c2fad141edf323f3787335b54be22945a02fe052448...</td>\n",
              "    </tr>\n",
              "    <tr>\n",
              "      <th>...</th>\n",
              "      <td>...</td>\n",
              "      <td>...</td>\n",
              "      <td>...</td>\n",
              "      <td>...</td>\n",
              "      <td>...</td>\n",
              "    </tr>\n",
              "    <tr>\n",
              "      <th>6962336</th>\n",
              "      <td>55</td>\n",
              "      <td>08:09:30.086</td>\n",
              "      <td>55</td>\n",
              "      <td>08:29:51.324</td>\n",
              "      <td>a4b6aea6cb58e43911e7cb7d6c0497197db7c4ed16e1c9...</td>\n",
              "    </tr>\n",
              "    <tr>\n",
              "      <th>6962337</th>\n",
              "      <td>35</td>\n",
              "      <td>11:25:25.719</td>\n",
              "      <td>35</td>\n",
              "      <td>11:47:41.557</td>\n",
              "      <td>4ec597c569b92bd0e1bae4e2a06e13b9657fb81795e194...</td>\n",
              "    </tr>\n",
              "    <tr>\n",
              "      <th>6962338</th>\n",
              "      <td>47</td>\n",
              "      <td>16:29:59.882</td>\n",
              "      <td>47</td>\n",
              "      <td>16:30:27.386</td>\n",
              "      <td>8092e194a750aae539862ed4405f67a6dd5b492e7e57e3...</td>\n",
              "    </tr>\n",
              "    <tr>\n",
              "      <th>6962339</th>\n",
              "      <td>48</td>\n",
              "      <td>23:43:52.265</td>\n",
              "      <td>48</td>\n",
              "      <td>23:47:50.285</td>\n",
              "      <td>7176c1516207692857535c30a4650b8e8e586af1fed0fd...</td>\n",
              "    </tr>\n",
              "    <tr>\n",
              "      <th>6962340</th>\n",
              "      <td>40</td>\n",
              "      <td>23:07:31.761</td>\n",
              "      <td>40</td>\n",
              "      <td>23:11:01.968</td>\n",
              "      <td>11fc85879e5ac9d5c83bfba10d73c4c84c154b9f4d9e1d...</td>\n",
              "    </tr>\n",
              "  </tbody>\n",
              "</table>\n",
              "<p>6962341 rows × 5 columns</p>\n",
              "</div>"
            ],
            "text/plain": [
              "         call_start_day  ...                                             hashed\n",
              "0                     1  ...  967393e81d99ce8e577ee130b7ce8e4fd45e3e9cecb560...\n",
              "1                    17  ...  02181a0c962f34f019bc9d5b582fb0ec79b1441f96aa4d...\n",
              "2                    20  ...  86022904c5cf72a54978479c94041f4256d6c3c2a1f71c...\n",
              "3                    22  ...  aafb40d212fe18ff4eafb82fdcf3b53f2161cb3ce59de4...\n",
              "4                    26  ...  c87c2fad141edf323f3787335b54be22945a02fe052448...\n",
              "...                 ...  ...                                                ...\n",
              "6962336              55  ...  a4b6aea6cb58e43911e7cb7d6c0497197db7c4ed16e1c9...\n",
              "6962337              35  ...  4ec597c569b92bd0e1bae4e2a06e13b9657fb81795e194...\n",
              "6962338              47  ...  8092e194a750aae539862ed4405f67a6dd5b492e7e57e3...\n",
              "6962339              48  ...  7176c1516207692857535c30a4650b8e8e586af1fed0fd...\n",
              "6962340              40  ...  11fc85879e5ac9d5c83bfba10d73c4c84c154b9f4d9e1d...\n",
              "\n",
              "[6962341 rows x 5 columns]"
            ]
          },
          "metadata": {
            "tags": []
          },
          "execution_count": 6
        }
      ]
    },
    {
      "cell_type": "markdown",
      "metadata": {
        "id": "45NhcHcGQCXn",
        "colab_type": "text"
      },
      "source": [
        "### 1.2.1 데이터 정보"
      ]
    },
    {
      "cell_type": "code",
      "metadata": {
        "id": "KwLahE8JOAgJ",
        "colab_type": "code",
        "colab": {
          "base_uri": "https://localhost:8080/",
          "height": 125
        },
        "outputId": "5f9ebb70-4ee2-4e8d-996c-383d7ddf858b"
      },
      "source": [
        "data.isnull().sum()"
      ],
      "execution_count": 4,
      "outputs": [
        {
          "output_type": "execute_result",
          "data": {
            "text/plain": [
              "call_start_day     0\n",
              "call_start_time    0\n",
              "call_end_day       0\n",
              "call_end_time      0\n",
              "hashed             0\n",
              "dtype: int64"
            ]
          },
          "metadata": {
            "tags": []
          },
          "execution_count": 4
        }
      ]
    },
    {
      "cell_type": "markdown",
      "metadata": {
        "id": "m57H7TPK2UEr",
        "colab_type": "text"
      },
      "source": [
        "모든 컬럼에 결측값은 존재하지 않는다."
      ]
    },
    {
      "cell_type": "code",
      "metadata": {
        "id": "r6F8nz3AP1Xi",
        "colab_type": "code",
        "colab": {
          "base_uri": "https://localhost:8080/",
          "height": 35
        },
        "outputId": "8e620e29-5a7f-4a6d-b59f-20b3d4928bf0"
      },
      "source": [
        "data.duplicated().sum()"
      ],
      "execution_count": 6,
      "outputs": [
        {
          "output_type": "execute_result",
          "data": {
            "text/plain": [
              "0"
            ]
          },
          "metadata": {
            "tags": []
          },
          "execution_count": 6
        }
      ]
    },
    {
      "cell_type": "code",
      "metadata": {
        "id": "DT_aIPEhTRkM",
        "colab_type": "code",
        "colab": {
          "base_uri": "https://localhost:8080/",
          "height": 233
        },
        "outputId": "3189c0d6-a41c-4aa7-b4d0-6321b5b87f28"
      },
      "source": [
        "data.info()"
      ],
      "execution_count": 3,
      "outputs": [
        {
          "output_type": "stream",
          "text": [
            "<class 'pandas.core.frame.DataFrame'>\n",
            "RangeIndex: 6962341 entries, 0 to 6962340\n",
            "Data columns (total 5 columns):\n",
            " #   Column           Dtype \n",
            "---  ------           ----- \n",
            " 0   call_start_day   int64 \n",
            " 1   call_start_time  object\n",
            " 2   call_end_day     int64 \n",
            " 3   call_end_time    object\n",
            " 4   hashed           object\n",
            "dtypes: int64(2), object(3)\n",
            "memory usage: 265.6+ MB\n"
          ],
          "name": "stdout"
        }
      ]
    },
    {
      "cell_type": "code",
      "metadata": {
        "id": "Fw5wP7aoROYq",
        "colab_type": "code",
        "colab": {
          "base_uri": "https://localhost:8080/",
          "height": 297
        },
        "outputId": "da4e80fe-6342-4e7a-ec4c-9386db9fe597"
      },
      "source": [
        "pd.options.display.float_format = '{:.2f}'.format  # 과학적 표기법(Scientific notation)을 사용하지 않는 경우\n",
        "\n",
        "data.describe()"
      ],
      "execution_count": null,
      "outputs": [
        {
          "output_type": "execute_result",
          "data": {
            "text/html": [
              "<div>\n",
              "<style scoped>\n",
              "    .dataframe tbody tr th:only-of-type {\n",
              "        vertical-align: middle;\n",
              "    }\n",
              "\n",
              "    .dataframe tbody tr th {\n",
              "        vertical-align: top;\n",
              "    }\n",
              "\n",
              "    .dataframe thead th {\n",
              "        text-align: right;\n",
              "    }\n",
              "</style>\n",
              "<table border=\"1\" class=\"dataframe\">\n",
              "  <thead>\n",
              "    <tr style=\"text-align: right;\">\n",
              "      <th></th>\n",
              "      <th>call_start_day</th>\n",
              "      <th>call_end_day</th>\n",
              "    </tr>\n",
              "  </thead>\n",
              "  <tbody>\n",
              "    <tr>\n",
              "      <th>count</th>\n",
              "      <td>6962341.00</td>\n",
              "      <td>6962341.00</td>\n",
              "    </tr>\n",
              "    <tr>\n",
              "      <th>mean</th>\n",
              "      <td>35.83</td>\n",
              "      <td>35.86</td>\n",
              "    </tr>\n",
              "    <tr>\n",
              "      <th>std</th>\n",
              "      <td>16.26</td>\n",
              "      <td>16.25</td>\n",
              "    </tr>\n",
              "    <tr>\n",
              "      <th>min</th>\n",
              "      <td>1.00</td>\n",
              "      <td>1.00</td>\n",
              "    </tr>\n",
              "    <tr>\n",
              "      <th>25%</th>\n",
              "      <td>23.00</td>\n",
              "      <td>23.00</td>\n",
              "    </tr>\n",
              "    <tr>\n",
              "      <th>50%</th>\n",
              "      <td>41.00</td>\n",
              "      <td>41.00</td>\n",
              "    </tr>\n",
              "    <tr>\n",
              "      <th>75%</th>\n",
              "      <td>50.00</td>\n",
              "      <td>50.00</td>\n",
              "    </tr>\n",
              "    <tr>\n",
              "      <th>max</th>\n",
              "      <td>56.00</td>\n",
              "      <td>57.00</td>\n",
              "    </tr>\n",
              "  </tbody>\n",
              "</table>\n",
              "</div>"
            ],
            "text/plain": [
              "       call_start_day  call_end_day\n",
              "count      6962341.00    6962341.00\n",
              "mean            35.83         35.86\n",
              "std             16.26         16.25\n",
              "min              1.00          1.00\n",
              "25%             23.00         23.00\n",
              "50%             41.00         41.00\n",
              "75%             50.00         50.00\n",
              "max             56.00         57.00"
            ]
          },
          "metadata": {
            "tags": []
          },
          "execution_count": 9
        }
      ]
    },
    {
      "cell_type": "code",
      "metadata": {
        "id": "KPfY7DBma1aE",
        "colab_type": "code",
        "colab": {}
      },
      "source": [
        "# temp = pd.Timestamp(data.call_start_time[1])\n",
        "# print(data.call_start_time[1])\n",
        "# print(temp)\n",
        "# print(\"time : \",temp.time())"
      ],
      "execution_count": null,
      "outputs": []
    },
    {
      "cell_type": "markdown",
      "metadata": {
        "id": "s-MmZ_TFC54n",
        "colab_type": "text"
      },
      "source": [
        "## 2.1 통화 & 사람\n"
      ]
    },
    {
      "cell_type": "markdown",
      "metadata": {
        "id": "iVyldHp1BkQh",
        "colab_type": "text"
      },
      "source": [
        "### 2.1.1 약 100만 rows씩 작업 진행"
      ]
    },
    {
      "cell_type": "code",
      "metadata": {
        "id": "lEgzvc6wCzAt",
        "colab_type": "code",
        "colab": {}
      },
      "source": [
        "p = set(np.concatenate(data.loc[0:1000000,\"hashed\"].str.split(\",\").values))\n",
        "p2 = set(np.concatenate(data.loc[1000001:2000000,\"hashed\"].str.split(\",\").values))\n",
        "p3 = set(np.concatenate(data.loc[2000001:3000000,\"hashed\"].str.split(\",\").values))\n",
        "p4 = set(np.concatenate(data.loc[3000001:4000000,\"hashed\"].str.split(\",\").values))\n",
        "p5 = set(np.concatenate(data.loc[4000001:5000000,\"hashed\"].str.split(\",\").values))\n",
        "p6 = set(np.concatenate(data.loc[5000001:6000000,\"hashed\"].str.split(\",\").values))\n",
        "p7 = set(np.concatenate(data.loc[6000001:,\"hashed\"].str.split(\",\").values))"
      ],
      "execution_count": 4,
      "outputs": []
    },
    {
      "cell_type": "markdown",
      "metadata": {
        "id": "wsQuK0QBzHrg",
        "colab_type": "text"
      },
      "source": [
        "한번에 약 700만 개의 행들을 처리하려고 했으나, 램이 부족한 문제로 행들을 구간별로 나눠서 처리하는 방향으로 생각했다.  "
      ]
    },
    {
      "cell_type": "markdown",
      "metadata": {
        "id": "a-LCH-GcwVsj",
        "colab_type": "text"
      },
      "source": [
        "### 2.1.2 데이터에서 온전히 통화에 참여한 인원수(중복이 없음)"
      ]
    },
    {
      "cell_type": "code",
      "metadata": {
        "id": "El6qju1pQTUL",
        "colab_type": "code",
        "colab": {
          "base_uri": "https://localhost:8080/",
          "height": 35
        },
        "outputId": "759ecb5f-5c6a-420f-8fa2-66ccc3776ad8"
      },
      "source": [
        "print(\"총 통화한 인원수 : \", len(set(list(p)+list(p2)+list(p3)+list(p4)+list(p5)+list(p6)+list(p7))), \"명\") # 중복이 없는 데이터에서 순수 통화에 참여한 수"
      ],
      "execution_count": 9,
      "outputs": [
        {
          "output_type": "stream",
          "text": [
            "총 통화 인원 수 :  268148 명\n"
          ],
          "name": "stdout"
        }
      ]
    },
    {
      "cell_type": "markdown",
      "metadata": {
        "id": "DmlfQaZQIj1c",
        "colab_type": "text"
      },
      "source": [
        "약 700만 건의 통화리스트에 참여한 사람들 중 unique한 사람들만 카운트한 것이다."
      ]
    },
    {
      "cell_type": "markdown",
      "metadata": {
        "id": "OsXr8T_wwbc5",
        "colab_type": "text"
      },
      "source": [
        "### 2.1.3 데이터에서 1회 통화에 참여한 평균인원 수"
      ]
    },
    {
      "cell_type": "code",
      "metadata": {
        "id": "fHe1WRYg2xW-",
        "colab_type": "code",
        "colab": {}
      },
      "source": [
        "data['p_num'] = data['hashed'].str.count(pat = \",\") + 1  # 각 통화 건수의 통화한 사람 수"
      ],
      "execution_count": 14,
      "outputs": []
    },
    {
      "cell_type": "markdown",
      "metadata": {
        "id": "GXFTcZ5c18i8",
        "colab_type": "text"
      },
      "source": [
        "사람들은 각 행별로 , 로 구분되어 있다. 따라서 통화가 일어나는 사건을 나타내는  각 행의 통화에 참여하는 사람수를 구하려면 , 갯수에 1을 더하면 된다."
      ]
    },
    {
      "cell_type": "code",
      "metadata": {
        "id": "bxIfrqboxurb",
        "colab_type": "code",
        "colab": {
          "base_uri": "https://localhost:8080/",
          "height": 35
        },
        "outputId": "a5f6f893-c07a-4393-9bbc-9d057fd63fd9"
      },
      "source": [
        "print(\"데이터의 총 통화한 사람 : \",data[\"p_num\"].sum(), \"명\")  # 전체 데이터의 총 통화한 사람 수(사람의 중복이 있음)"
      ],
      "execution_count": 71,
      "outputs": [
        {
          "output_type": "stream",
          "text": [
            "데이터의 총 통화한 사람 :  34284282 명\n"
          ],
          "name": "stdout"
        }
      ]
    },
    {
      "cell_type": "code",
      "metadata": {
        "id": "JxihR2IEvw2p",
        "colab_type": "code",
        "colab": {
          "base_uri": "https://localhost:8080/",
          "height": 35
        },
        "outputId": "60b60c45-a039-4523-daf6-9c0020b5deef"
      },
      "source": [
        "print(\"1회 통화에 참여한 평균인원수 : \", data[\"p_num\"].sum() / len(data), \"명\") # 전체 총 통화한 사람수 / 전체 통화 건수 = 1회 통화 평균인원수"
      ],
      "execution_count": 17,
      "outputs": [
        {
          "output_type": "stream",
          "text": [
            "1회 통화에 참여한 평균인원수 :  4.924246313129449 명\n"
          ],
          "name": "stdout"
        }
      ]
    },
    {
      "cell_type": "markdown",
      "metadata": {
        "id": "Xa_7doQtyvHI",
        "colab_type": "text"
      },
      "source": [
        "평균적으로 4.92명이 각 통화에 참여했다."
      ]
    },
    {
      "cell_type": "code",
      "metadata": {
        "id": "PyV2KMIvw54w",
        "colab_type": "code",
        "colab": {
          "base_uri": "https://localhost:8080/",
          "height": 35
        },
        "outputId": "b1521641-3679-4f65-ae68-7d603b834051"
      },
      "source": [
        "print(\"max : \", data[\"p_num\"].max(), \",  min : \", data[\"p_num\"].min())"
      ],
      "execution_count": 20,
      "outputs": [
        {
          "output_type": "stream",
          "text": [
            "max :  434 ,  min :  1\n"
          ],
          "name": "stdout"
        }
      ]
    },
    {
      "cell_type": "markdown",
      "metadata": {
        "id": "3DpKTy_zyews",
        "colab_type": "text"
      },
      "source": [
        "혼자 통화에 참여한 사람이 있고, 최대 434명이 함께 통화에 참여한 경우를 확인 가능하다."
      ]
    },
    {
      "cell_type": "markdown",
      "metadata": {
        "id": "jGOEkaUx1HXp",
        "colab_type": "text"
      },
      "source": [
        "### 2.1.4 총 통화시간"
      ]
    },
    {
      "cell_type": "markdown",
      "metadata": {
        "id": "oIyjL0_m66vh",
        "colab_type": "text"
      },
      "source": [
        "총 통화시간은 데이터프레임의 "
      ]
    },
    {
      "cell_type": "code",
      "metadata": {
        "id": "_P1UdaNX2buP",
        "colab_type": "code",
        "colab": {
          "base_uri": "https://localhost:8080/",
          "height": 233
        },
        "outputId": "fc5705c2-119b-4697-de83-8ad1c37512de"
      },
      "source": [
        "data[\"call_end_day\"].subtract(data[\"call_start_day\"])"
      ],
      "execution_count": 37,
      "outputs": [
        {
          "output_type": "execute_result",
          "data": {
            "text/plain": [
              "0          0\n",
              "1          0\n",
              "2          0\n",
              "3          0\n",
              "4          0\n",
              "          ..\n",
              "6962336    0\n",
              "6962337    0\n",
              "6962338    0\n",
              "6962339    0\n",
              "6962340    0\n",
              "Length: 6962341, dtype: int64"
            ]
          },
          "metadata": {
            "tags": []
          },
          "execution_count": 37
        }
      ]
    },
    {
      "cell_type": "code",
      "metadata": {
        "id": "9jXz_MWk7MUC",
        "colab_type": "code",
        "colab": {
          "base_uri": "https://localhost:8080/",
          "height": 89
        },
        "outputId": "415b3463-1b4f-4a6b-e372-20319ddf40ac"
      },
      "source": [
        "data[\"call_start_day\"].unique()"
      ],
      "execution_count": 44,
      "outputs": [
        {
          "output_type": "execute_result",
          "data": {
            "text/plain": [
              "array([ 1, 17, 20, 22, 26, 36, 40, 47, 50, 54, 15, 24, 42, 43, 48, 49,  8,\n",
              "       41, 44, 53, 29, 45, 56, 12, 38, 35, 51, 27, 19, 33,  7, 11, 25, 52,\n",
              "        9, 34, 46,  4, 21, 55, 32, 37,  3, 31, 16,  6, 30, 13, 14, 28, 39,\n",
              "       23,  2, 10, 18,  5])"
            ]
          },
          "metadata": {
            "tags": []
          },
          "execution_count": 44
        }
      ]
    },
    {
      "cell_type": "code",
      "metadata": {
        "id": "iLNOLcZu-VMt",
        "colab_type": "code",
        "colab": {
          "base_uri": "https://localhost:8080/",
          "height": 89
        },
        "outputId": "1b39d18f-49ca-45c1-8249-be2bf7e7d3aa"
      },
      "source": [
        "data[\"call_end_day\"].unique()"
      ],
      "execution_count": 46,
      "outputs": [
        {
          "output_type": "execute_result",
          "data": {
            "text/plain": [
              "array([ 1, 17, 20, 22, 26, 36, 40, 47, 50, 54, 15, 24, 42, 43, 48, 49,  8,\n",
              "       41, 44, 53, 29, 46, 56, 12, 38, 35, 51, 27, 16, 19, 33,  7, 11, 25,\n",
              "       52,  9,  4, 21, 55, 32, 37,  3, 31, 45,  6, 30, 13, 14, 28, 39, 23,\n",
              "        2, 34, 10, 18,  5, 57])"
            ]
          },
          "metadata": {
            "tags": []
          },
          "execution_count": 46
        }
      ]
    },
    {
      "cell_type": "code",
      "metadata": {
        "id": "UTpHiOEz-vYp",
        "colab_type": "code",
        "colab": {}
      },
      "source": [
        "temp = [x for x in data[\"hashed\"].str.split(\",\")]"
      ],
      "execution_count": 48,
      "outputs": []
    },
    {
      "cell_type": "markdown",
      "metadata": {
        "id": "4CN6ce8lP7GV",
        "colab_type": "text"
      },
      "source": [
        "### 2.1.5"
      ]
    },
    {
      "cell_type": "code",
      "metadata": {
        "id": "oZ2whpVy_EPF",
        "colab_type": "code",
        "colab": {
          "base_uri": "https://localhost:8080/",
          "height": 35
        },
        "outputId": "1dac4590-763a-4627-c927-e2202b95f9f0"
      },
      "source": [
        "len(temp)"
      ],
      "execution_count": 52,
      "outputs": [
        {
          "output_type": "execute_result",
          "data": {
            "text/plain": [
              "6962341"
            ]
          },
          "metadata": {
            "tags": []
          },
          "execution_count": 52
        }
      ]
    },
    {
      "cell_type": "code",
      "metadata": {
        "id": "Nl_1fe_Z_MjA",
        "colab_type": "code",
        "colab": {
          "base_uri": "https://localhost:8080/",
          "height": 35
        },
        "outputId": "42b89041-644f-4749-c3eb-3e2909cb77c3"
      },
      "source": [
        "len(data['hashed'].unique())"
      ],
      "execution_count": 70,
      "outputs": [
        {
          "output_type": "execute_result",
          "data": {
            "text/plain": [
              "3184944"
            ]
          },
          "metadata": {
            "tags": []
          },
          "execution_count": 70
        }
      ]
    },
    {
      "cell_type": "markdown",
      "metadata": {
        "id": "P7JP98PqCqqp",
        "colab_type": "text"
      },
      "source": [
        "통화리스트 중 duplicated로 중복된 데이터가 없음을 확인했다.  \n",
        "hashed에는 중복된 데이터가 있는 것으로 봐서 몇 그룹들은 한번을 초과하는 전화를 한 것으로 보인다."
      ]
    },
    {
      "cell_type": "markdown",
      "metadata": {
        "id": "RN6yo4aEfbfX",
        "colab_type": "text"
      },
      "source": [
        "### 임시"
      ]
    },
    {
      "cell_type": "code",
      "metadata": {
        "id": "Dpb4luNdgecF",
        "colab_type": "code",
        "colab": {}
      },
      "source": [
        "# temp = pd.Timestamp(data.call_start_time[1])\n",
        "# print(data.call_start_time[1])\n",
        "# print(temp)\n",
        "# print(\"time : \",temp.time())"
      ],
      "execution_count": null,
      "outputs": []
    },
    {
      "cell_type": "code",
      "metadata": {
        "id": "uISzx2XXR3LL",
        "colab_type": "code",
        "colab": {
          "base_uri": "https://localhost:8080/",
          "height": 35
        },
        "outputId": "7e4c019a-fddd-4a0d-b4f9-1431f0004be4"
      },
      "source": [
        "type(data.call_start_time)"
      ],
      "execution_count": 27,
      "outputs": [
        {
          "output_type": "execute_result",
          "data": {
            "text/plain": [
              "pandas.core.series.Series"
            ]
          },
          "metadata": {
            "tags": []
          },
          "execution_count": 27
        }
      ]
    },
    {
      "cell_type": "code",
      "metadata": {
        "id": "bCB8oCvwgPrD",
        "colab_type": "code",
        "colab": {
          "base_uri": "https://localhost:8080/",
          "height": 53
        },
        "outputId": "73b23da5-9e60-4c20-fcc6-800f9f7e818b"
      },
      "source": [
        "print(pd.Timestamp(\"08:09:30.086\"))\n",
        "print(pd.Timestamp(\"08:29:51.324\"))"
      ],
      "execution_count": 41,
      "outputs": [
        {
          "output_type": "stream",
          "text": [
            "2020-08-19 08:09:30.086000\n",
            "2020-08-19 08:29:51.324000\n"
          ],
          "name": "stdout"
        }
      ]
    },
    {
      "cell_type": "code",
      "metadata": {
        "id": "0Omj5b_3g7GX",
        "colab_type": "code",
        "colab": {
          "base_uri": "https://localhost:8080/",
          "height": 35
        },
        "outputId": "17e06f7b-be56-46ba-e11c-1ea8abe478e5"
      },
      "source": [
        "pd.Timestamp(\"08:29:51.324\") - pd.Timestamp(\"08:09:30.086\")"
      ],
      "execution_count": 45,
      "outputs": [
        {
          "output_type": "execute_result",
          "data": {
            "text/plain": [
              "Timedelta('0 days 00:20:21.238000')"
            ]
          },
          "metadata": {
            "tags": []
          },
          "execution_count": 45
        }
      ]
    },
    {
      "cell_type": "code",
      "metadata": {
        "id": "YMOxd5_3hFsS",
        "colab_type": "code",
        "colab": {}
      },
      "source": [
        "data['diff_day'] = data[\"call_end_day\"]-data[\"call_start_day\"]"
      ],
      "execution_count": 59,
      "outputs": []
    },
    {
      "cell_type": "code",
      "metadata": {
        "id": "tadMy3Rei-ig",
        "colab_type": "code",
        "colab": {}
      },
      "source": [
        "# data = data.drop([\"new_end_day\"], axis = 1)"
      ],
      "execution_count": 61,
      "outputs": []
    },
    {
      "cell_type": "code",
      "metadata": {
        "id": "GJ5vMVdVjgbJ",
        "colab_type": "code",
        "colab": {
          "base_uri": "https://localhost:8080/",
          "height": 419
        },
        "outputId": "3527bf22-79fb-4476-b528-a0bb9a2cc041"
      },
      "source": [
        "data"
      ],
      "execution_count": 63,
      "outputs": [
        {
          "output_type": "execute_result",
          "data": {
            "text/html": [
              "<div>\n",
              "<style scoped>\n",
              "    .dataframe tbody tr th:only-of-type {\n",
              "        vertical-align: middle;\n",
              "    }\n",
              "\n",
              "    .dataframe tbody tr th {\n",
              "        vertical-align: top;\n",
              "    }\n",
              "\n",
              "    .dataframe thead th {\n",
              "        text-align: right;\n",
              "    }\n",
              "</style>\n",
              "<table border=\"1\" class=\"dataframe\">\n",
              "  <thead>\n",
              "    <tr style=\"text-align: right;\">\n",
              "      <th></th>\n",
              "      <th>call_start_day</th>\n",
              "      <th>call_start_time</th>\n",
              "      <th>call_end_day</th>\n",
              "      <th>call_end_time</th>\n",
              "      <th>hashed</th>\n",
              "      <th>diff_day</th>\n",
              "    </tr>\n",
              "  </thead>\n",
              "  <tbody>\n",
              "    <tr>\n",
              "      <th>0</th>\n",
              "      <td>1</td>\n",
              "      <td>09:14:58.558</td>\n",
              "      <td>1</td>\n",
              "      <td>09:41:30.200</td>\n",
              "      <td>967393e81d99ce8e577ee130b7ce8e4fd45e3e9cecb560...</td>\n",
              "      <td>0</td>\n",
              "    </tr>\n",
              "    <tr>\n",
              "      <th>1</th>\n",
              "      <td>17</td>\n",
              "      <td>11:05:05.176</td>\n",
              "      <td>17</td>\n",
              "      <td>13:07:42.515</td>\n",
              "      <td>02181a0c962f34f019bc9d5b582fb0ec79b1441f96aa4d...</td>\n",
              "      <td>0</td>\n",
              "    </tr>\n",
              "    <tr>\n",
              "      <th>2</th>\n",
              "      <td>20</td>\n",
              "      <td>02:18:43.172</td>\n",
              "      <td>20</td>\n",
              "      <td>02:28:58.177</td>\n",
              "      <td>86022904c5cf72a54978479c94041f4256d6c3c2a1f71c...</td>\n",
              "      <td>0</td>\n",
              "    </tr>\n",
              "    <tr>\n",
              "      <th>3</th>\n",
              "      <td>22</td>\n",
              "      <td>09:22:01.936</td>\n",
              "      <td>22</td>\n",
              "      <td>09:47:40.192</td>\n",
              "      <td>aafb40d212fe18ff4eafb82fdcf3b53f2161cb3ce59de4...</td>\n",
              "      <td>0</td>\n",
              "    </tr>\n",
              "    <tr>\n",
              "      <th>4</th>\n",
              "      <td>26</td>\n",
              "      <td>06:29:21.182</td>\n",
              "      <td>26</td>\n",
              "      <td>06:50:55.004</td>\n",
              "      <td>c87c2fad141edf323f3787335b54be22945a02fe052448...</td>\n",
              "      <td>0</td>\n",
              "    </tr>\n",
              "    <tr>\n",
              "      <th>...</th>\n",
              "      <td>...</td>\n",
              "      <td>...</td>\n",
              "      <td>...</td>\n",
              "      <td>...</td>\n",
              "      <td>...</td>\n",
              "      <td>...</td>\n",
              "    </tr>\n",
              "    <tr>\n",
              "      <th>6962336</th>\n",
              "      <td>55</td>\n",
              "      <td>08:09:30.086</td>\n",
              "      <td>55</td>\n",
              "      <td>08:29:51.324</td>\n",
              "      <td>a4b6aea6cb58e43911e7cb7d6c0497197db7c4ed16e1c9...</td>\n",
              "      <td>0</td>\n",
              "    </tr>\n",
              "    <tr>\n",
              "      <th>6962337</th>\n",
              "      <td>35</td>\n",
              "      <td>11:25:25.719</td>\n",
              "      <td>35</td>\n",
              "      <td>11:47:41.557</td>\n",
              "      <td>4ec597c569b92bd0e1bae4e2a06e13b9657fb81795e194...</td>\n",
              "      <td>0</td>\n",
              "    </tr>\n",
              "    <tr>\n",
              "      <th>6962338</th>\n",
              "      <td>47</td>\n",
              "      <td>16:29:59.882</td>\n",
              "      <td>47</td>\n",
              "      <td>16:30:27.386</td>\n",
              "      <td>8092e194a750aae539862ed4405f67a6dd5b492e7e57e3...</td>\n",
              "      <td>0</td>\n",
              "    </tr>\n",
              "    <tr>\n",
              "      <th>6962339</th>\n",
              "      <td>48</td>\n",
              "      <td>23:43:52.265</td>\n",
              "      <td>48</td>\n",
              "      <td>23:47:50.285</td>\n",
              "      <td>7176c1516207692857535c30a4650b8e8e586af1fed0fd...</td>\n",
              "      <td>0</td>\n",
              "    </tr>\n",
              "    <tr>\n",
              "      <th>6962340</th>\n",
              "      <td>40</td>\n",
              "      <td>23:07:31.761</td>\n",
              "      <td>40</td>\n",
              "      <td>23:11:01.968</td>\n",
              "      <td>11fc85879e5ac9d5c83bfba10d73c4c84c154b9f4d9e1d...</td>\n",
              "      <td>0</td>\n",
              "    </tr>\n",
              "  </tbody>\n",
              "</table>\n",
              "<p>6962341 rows × 6 columns</p>\n",
              "</div>"
            ],
            "text/plain": [
              "         call_start_day  ... diff_day\n",
              "0                     1  ...        0\n",
              "1                    17  ...        0\n",
              "2                    20  ...        0\n",
              "3                    22  ...        0\n",
              "4                    26  ...        0\n",
              "...                 ...  ...      ...\n",
              "6962336              55  ...        0\n",
              "6962337              35  ...        0\n",
              "6962338              47  ...        0\n",
              "6962339              48  ...        0\n",
              "6962340              40  ...        0\n",
              "\n",
              "[6962341 rows x 6 columns]"
            ]
          },
          "metadata": {
            "tags": []
          },
          "execution_count": 63
        }
      ]
    },
    {
      "cell_type": "code",
      "metadata": {
        "id": "bpwQnCn7kIWx",
        "colab_type": "code",
        "colab": {}
      },
      "source": [
        "data['call_start_time'] = pd.to_datetime(data['call_start_time'], format='%H:%M:%S.%f', errors='raise')\n",
        "data['call_end_time'] = pd.to_datetime(data['call_end_time'], format='%H:%M:%S.%f', errors='raise')"
      ],
      "execution_count": 117,
      "outputs": []
    },
    {
      "cell_type": "code",
      "metadata": {
        "id": "ZqTtxaNzsxsx",
        "colab_type": "code",
        "colab": {
          "base_uri": "https://localhost:8080/",
          "height": 172
        },
        "outputId": "f2ee824a-f4ae-4c82-8f39-e48fc40a536e"
      },
      "source": [
        "# datetime.timedelta(days = data['diff_day'])"
      ],
      "execution_count": 122,
      "outputs": [
        {
          "output_type": "error",
          "ename": "TypeError",
          "evalue": "ignored",
          "traceback": [
            "\u001b[0;31m---------------------------------------------------------------------------\u001b[0m",
            "\u001b[0;31mTypeError\u001b[0m                                 Traceback (most recent call last)",
            "\u001b[0;32m<ipython-input-122-8bdab31af852>\u001b[0m in \u001b[0;36m<module>\u001b[0;34m()\u001b[0m\n\u001b[0;32m----> 1\u001b[0;31m \u001b[0mdatetime\u001b[0m\u001b[0;34m.\u001b[0m\u001b[0mtimedelta\u001b[0m\u001b[0;34m(\u001b[0m\u001b[0mdays\u001b[0m \u001b[0;34m=\u001b[0m \u001b[0mdata\u001b[0m\u001b[0;34m[\u001b[0m\u001b[0;34m'diff_day'\u001b[0m\u001b[0;34m]\u001b[0m\u001b[0;34m)\u001b[0m\u001b[0;34m\u001b[0m\u001b[0;34m\u001b[0m\u001b[0m\n\u001b[0m",
            "\u001b[0;31mTypeError\u001b[0m: unsupported type for timedelta days component: Series"
          ]
        }
      ]
    },
    {
      "cell_type": "code",
      "metadata": {
        "id": "sfh4loSgrpWW",
        "colab_type": "code",
        "colab": {
          "base_uri": "https://localhost:8080/",
          "height": 419
        },
        "outputId": "766f4d66-0808-4bd8-c41a-77a82219ce07"
      },
      "source": [
        "data"
      ],
      "execution_count": 121,
      "outputs": [
        {
          "output_type": "execute_result",
          "data": {
            "text/html": [
              "<div>\n",
              "<style scoped>\n",
              "    .dataframe tbody tr th:only-of-type {\n",
              "        vertical-align: middle;\n",
              "    }\n",
              "\n",
              "    .dataframe tbody tr th {\n",
              "        vertical-align: top;\n",
              "    }\n",
              "\n",
              "    .dataframe thead th {\n",
              "        text-align: right;\n",
              "    }\n",
              "</style>\n",
              "<table border=\"1\" class=\"dataframe\">\n",
              "  <thead>\n",
              "    <tr style=\"text-align: right;\">\n",
              "      <th></th>\n",
              "      <th>call_start_day</th>\n",
              "      <th>call_start_time</th>\n",
              "      <th>call_end_day</th>\n",
              "      <th>call_end_time</th>\n",
              "      <th>hashed</th>\n",
              "      <th>diff_day</th>\n",
              "    </tr>\n",
              "  </thead>\n",
              "  <tbody>\n",
              "    <tr>\n",
              "      <th>0</th>\n",
              "      <td>1</td>\n",
              "      <td>1900-01-01 09:14:58.558</td>\n",
              "      <td>1</td>\n",
              "      <td>1900-01-01 09:41:30.200</td>\n",
              "      <td>967393e81d99ce8e577ee130b7ce8e4fd45e3e9cecb560...</td>\n",
              "      <td>0</td>\n",
              "    </tr>\n",
              "    <tr>\n",
              "      <th>1</th>\n",
              "      <td>17</td>\n",
              "      <td>1900-01-01 11:05:05.176</td>\n",
              "      <td>17</td>\n",
              "      <td>1900-01-01 13:07:42.515</td>\n",
              "      <td>02181a0c962f34f019bc9d5b582fb0ec79b1441f96aa4d...</td>\n",
              "      <td>0</td>\n",
              "    </tr>\n",
              "    <tr>\n",
              "      <th>2</th>\n",
              "      <td>20</td>\n",
              "      <td>1900-01-01 02:18:43.172</td>\n",
              "      <td>20</td>\n",
              "      <td>1900-01-01 02:28:58.177</td>\n",
              "      <td>86022904c5cf72a54978479c94041f4256d6c3c2a1f71c...</td>\n",
              "      <td>0</td>\n",
              "    </tr>\n",
              "    <tr>\n",
              "      <th>3</th>\n",
              "      <td>22</td>\n",
              "      <td>1900-01-01 09:22:01.936</td>\n",
              "      <td>22</td>\n",
              "      <td>1900-01-01 09:47:40.192</td>\n",
              "      <td>aafb40d212fe18ff4eafb82fdcf3b53f2161cb3ce59de4...</td>\n",
              "      <td>0</td>\n",
              "    </tr>\n",
              "    <tr>\n",
              "      <th>4</th>\n",
              "      <td>26</td>\n",
              "      <td>1900-01-01 06:29:21.182</td>\n",
              "      <td>26</td>\n",
              "      <td>1900-01-01 06:50:55.004</td>\n",
              "      <td>c87c2fad141edf323f3787335b54be22945a02fe052448...</td>\n",
              "      <td>0</td>\n",
              "    </tr>\n",
              "    <tr>\n",
              "      <th>...</th>\n",
              "      <td>...</td>\n",
              "      <td>...</td>\n",
              "      <td>...</td>\n",
              "      <td>...</td>\n",
              "      <td>...</td>\n",
              "      <td>...</td>\n",
              "    </tr>\n",
              "    <tr>\n",
              "      <th>6962336</th>\n",
              "      <td>55</td>\n",
              "      <td>1900-01-01 08:09:30.086</td>\n",
              "      <td>55</td>\n",
              "      <td>1900-01-01 08:29:51.324</td>\n",
              "      <td>a4b6aea6cb58e43911e7cb7d6c0497197db7c4ed16e1c9...</td>\n",
              "      <td>0</td>\n",
              "    </tr>\n",
              "    <tr>\n",
              "      <th>6962337</th>\n",
              "      <td>35</td>\n",
              "      <td>1900-01-01 11:25:25.719</td>\n",
              "      <td>35</td>\n",
              "      <td>1900-01-01 11:47:41.557</td>\n",
              "      <td>4ec597c569b92bd0e1bae4e2a06e13b9657fb81795e194...</td>\n",
              "      <td>0</td>\n",
              "    </tr>\n",
              "    <tr>\n",
              "      <th>6962338</th>\n",
              "      <td>47</td>\n",
              "      <td>1900-01-01 16:29:59.882</td>\n",
              "      <td>47</td>\n",
              "      <td>1900-01-01 16:30:27.386</td>\n",
              "      <td>8092e194a750aae539862ed4405f67a6dd5b492e7e57e3...</td>\n",
              "      <td>0</td>\n",
              "    </tr>\n",
              "    <tr>\n",
              "      <th>6962339</th>\n",
              "      <td>48</td>\n",
              "      <td>1900-01-01 23:43:52.265</td>\n",
              "      <td>48</td>\n",
              "      <td>1900-01-01 23:47:50.285</td>\n",
              "      <td>7176c1516207692857535c30a4650b8e8e586af1fed0fd...</td>\n",
              "      <td>0</td>\n",
              "    </tr>\n",
              "    <tr>\n",
              "      <th>6962340</th>\n",
              "      <td>40</td>\n",
              "      <td>1900-01-01 23:07:31.761</td>\n",
              "      <td>40</td>\n",
              "      <td>1900-01-01 23:11:01.968</td>\n",
              "      <td>11fc85879e5ac9d5c83bfba10d73c4c84c154b9f4d9e1d...</td>\n",
              "      <td>0</td>\n",
              "    </tr>\n",
              "  </tbody>\n",
              "</table>\n",
              "<p>6962341 rows × 6 columns</p>\n",
              "</div>"
            ],
            "text/plain": [
              "         call_start_day  ... diff_day\n",
              "0                     1  ...        0\n",
              "1                    17  ...        0\n",
              "2                    20  ...        0\n",
              "3                    22  ...        0\n",
              "4                    26  ...        0\n",
              "...                 ...  ...      ...\n",
              "6962336              55  ...        0\n",
              "6962337              35  ...        0\n",
              "6962338              47  ...        0\n",
              "6962339              48  ...        0\n",
              "6962340              40  ...        0\n",
              "\n",
              "[6962341 rows x 6 columns]"
            ]
          },
          "metadata": {
            "tags": []
          },
          "execution_count": 121
        }
      ]
    },
    {
      "cell_type": "code",
      "metadata": {
        "id": "Zszl6dTT2zZL",
        "colab_type": "code",
        "colab": {}
      },
      "source": [
        "data['new_end_time'] = data['call_end_time'] + pd.to_timedelta(data['diff_day'], unit='d')"
      ],
      "execution_count": 144,
      "outputs": []
    },
    {
      "cell_type": "markdown",
      "metadata": {
        "id": "wMhncbHz4LmH",
        "colab_type": "text"
      },
      "source": [
        "## 각 통화리스트 별 통화시간"
      ]
    },
    {
      "cell_type": "code",
      "metadata": {
        "id": "-W4lODnY34xm",
        "colab_type": "code",
        "colab": {}
      },
      "source": [
        "data['call_duration'] = data['new_end_time'] - data['call_start_time']"
      ],
      "execution_count": 160,
      "outputs": []
    },
    {
      "cell_type": "code",
      "metadata": {
        "id": "EEeZBscZ4Spv",
        "colab_type": "code",
        "colab": {
          "base_uri": "https://localhost:8080/",
          "height": 419
        },
        "outputId": "d7e03d41-75f1-43eb-c711-7c80d9a1635f"
      },
      "source": [
        "data"
      ],
      "execution_count": 161,
      "outputs": [
        {
          "output_type": "execute_result",
          "data": {
            "text/html": [
              "<div>\n",
              "<style scoped>\n",
              "    .dataframe tbody tr th:only-of-type {\n",
              "        vertical-align: middle;\n",
              "    }\n",
              "\n",
              "    .dataframe tbody tr th {\n",
              "        vertical-align: top;\n",
              "    }\n",
              "\n",
              "    .dataframe thead th {\n",
              "        text-align: right;\n",
              "    }\n",
              "</style>\n",
              "<table border=\"1\" class=\"dataframe\">\n",
              "  <thead>\n",
              "    <tr style=\"text-align: right;\">\n",
              "      <th></th>\n",
              "      <th>call_start_day</th>\n",
              "      <th>call_start_time</th>\n",
              "      <th>call_end_day</th>\n",
              "      <th>call_end_time</th>\n",
              "      <th>hashed</th>\n",
              "      <th>diff_day</th>\n",
              "      <th>new_end_time</th>\n",
              "      <th>call_duration</th>\n",
              "    </tr>\n",
              "  </thead>\n",
              "  <tbody>\n",
              "    <tr>\n",
              "      <th>0</th>\n",
              "      <td>1</td>\n",
              "      <td>1900-01-01 09:14:58.558</td>\n",
              "      <td>1</td>\n",
              "      <td>1900-01-01 09:41:30.200</td>\n",
              "      <td>967393e81d99ce8e577ee130b7ce8e4fd45e3e9cecb560...</td>\n",
              "      <td>0</td>\n",
              "      <td>1900-01-01 09:41:30.200</td>\n",
              "      <td>00:26:31.642000</td>\n",
              "    </tr>\n",
              "    <tr>\n",
              "      <th>1</th>\n",
              "      <td>17</td>\n",
              "      <td>1900-01-01 11:05:05.176</td>\n",
              "      <td>17</td>\n",
              "      <td>1900-01-01 13:07:42.515</td>\n",
              "      <td>02181a0c962f34f019bc9d5b582fb0ec79b1441f96aa4d...</td>\n",
              "      <td>0</td>\n",
              "      <td>1900-01-01 13:07:42.515</td>\n",
              "      <td>02:02:37.339000</td>\n",
              "    </tr>\n",
              "    <tr>\n",
              "      <th>2</th>\n",
              "      <td>20</td>\n",
              "      <td>1900-01-01 02:18:43.172</td>\n",
              "      <td>20</td>\n",
              "      <td>1900-01-01 02:28:58.177</td>\n",
              "      <td>86022904c5cf72a54978479c94041f4256d6c3c2a1f71c...</td>\n",
              "      <td>0</td>\n",
              "      <td>1900-01-01 02:28:58.177</td>\n",
              "      <td>00:10:15.005000</td>\n",
              "    </tr>\n",
              "    <tr>\n",
              "      <th>3</th>\n",
              "      <td>22</td>\n",
              "      <td>1900-01-01 09:22:01.936</td>\n",
              "      <td>22</td>\n",
              "      <td>1900-01-01 09:47:40.192</td>\n",
              "      <td>aafb40d212fe18ff4eafb82fdcf3b53f2161cb3ce59de4...</td>\n",
              "      <td>0</td>\n",
              "      <td>1900-01-01 09:47:40.192</td>\n",
              "      <td>00:25:38.256000</td>\n",
              "    </tr>\n",
              "    <tr>\n",
              "      <th>4</th>\n",
              "      <td>26</td>\n",
              "      <td>1900-01-01 06:29:21.182</td>\n",
              "      <td>26</td>\n",
              "      <td>1900-01-01 06:50:55.004</td>\n",
              "      <td>c87c2fad141edf323f3787335b54be22945a02fe052448...</td>\n",
              "      <td>0</td>\n",
              "      <td>1900-01-01 06:50:55.004</td>\n",
              "      <td>00:21:33.822000</td>\n",
              "    </tr>\n",
              "    <tr>\n",
              "      <th>...</th>\n",
              "      <td>...</td>\n",
              "      <td>...</td>\n",
              "      <td>...</td>\n",
              "      <td>...</td>\n",
              "      <td>...</td>\n",
              "      <td>...</td>\n",
              "      <td>...</td>\n",
              "      <td>...</td>\n",
              "    </tr>\n",
              "    <tr>\n",
              "      <th>6962336</th>\n",
              "      <td>55</td>\n",
              "      <td>1900-01-01 08:09:30.086</td>\n",
              "      <td>55</td>\n",
              "      <td>1900-01-01 08:29:51.324</td>\n",
              "      <td>a4b6aea6cb58e43911e7cb7d6c0497197db7c4ed16e1c9...</td>\n",
              "      <td>0</td>\n",
              "      <td>1900-01-01 08:29:51.324</td>\n",
              "      <td>00:20:21.238000</td>\n",
              "    </tr>\n",
              "    <tr>\n",
              "      <th>6962337</th>\n",
              "      <td>35</td>\n",
              "      <td>1900-01-01 11:25:25.719</td>\n",
              "      <td>35</td>\n",
              "      <td>1900-01-01 11:47:41.557</td>\n",
              "      <td>4ec597c569b92bd0e1bae4e2a06e13b9657fb81795e194...</td>\n",
              "      <td>0</td>\n",
              "      <td>1900-01-01 11:47:41.557</td>\n",
              "      <td>00:22:15.838000</td>\n",
              "    </tr>\n",
              "    <tr>\n",
              "      <th>6962338</th>\n",
              "      <td>47</td>\n",
              "      <td>1900-01-01 16:29:59.882</td>\n",
              "      <td>47</td>\n",
              "      <td>1900-01-01 16:30:27.386</td>\n",
              "      <td>8092e194a750aae539862ed4405f67a6dd5b492e7e57e3...</td>\n",
              "      <td>0</td>\n",
              "      <td>1900-01-01 16:30:27.386</td>\n",
              "      <td>00:00:27.504000</td>\n",
              "    </tr>\n",
              "    <tr>\n",
              "      <th>6962339</th>\n",
              "      <td>48</td>\n",
              "      <td>1900-01-01 23:43:52.265</td>\n",
              "      <td>48</td>\n",
              "      <td>1900-01-01 23:47:50.285</td>\n",
              "      <td>7176c1516207692857535c30a4650b8e8e586af1fed0fd...</td>\n",
              "      <td>0</td>\n",
              "      <td>1900-01-01 23:47:50.285</td>\n",
              "      <td>00:03:58.020000</td>\n",
              "    </tr>\n",
              "    <tr>\n",
              "      <th>6962340</th>\n",
              "      <td>40</td>\n",
              "      <td>1900-01-01 23:07:31.761</td>\n",
              "      <td>40</td>\n",
              "      <td>1900-01-01 23:11:01.968</td>\n",
              "      <td>11fc85879e5ac9d5c83bfba10d73c4c84c154b9f4d9e1d...</td>\n",
              "      <td>0</td>\n",
              "      <td>1900-01-01 23:11:01.968</td>\n",
              "      <td>00:03:30.207000</td>\n",
              "    </tr>\n",
              "  </tbody>\n",
              "</table>\n",
              "<p>6962341 rows × 8 columns</p>\n",
              "</div>"
            ],
            "text/plain": [
              "         call_start_day  ...   call_duration\n",
              "0                     1  ... 00:26:31.642000\n",
              "1                    17  ... 02:02:37.339000\n",
              "2                    20  ... 00:10:15.005000\n",
              "3                    22  ... 00:25:38.256000\n",
              "4                    26  ... 00:21:33.822000\n",
              "...                 ...  ...             ...\n",
              "6962336              55  ... 00:20:21.238000\n",
              "6962337              35  ... 00:22:15.838000\n",
              "6962338              47  ... 00:00:27.504000\n",
              "6962339              48  ... 00:03:58.020000\n",
              "6962340              40  ... 00:03:30.207000\n",
              "\n",
              "[6962341 rows x 8 columns]"
            ]
          },
          "metadata": {
            "tags": []
          },
          "execution_count": 161
        }
      ]
    },
    {
      "cell_type": "markdown",
      "metadata": {
        "id": "uW9Bhlf68TzC",
        "colab_type": "text"
      },
      "source": [
        "## 총 통화시간"
      ]
    },
    {
      "cell_type": "code",
      "metadata": {
        "id": "cLQsXA_S8WPj",
        "colab_type": "code",
        "colab": {
          "base_uri": "https://localhost:8080/",
          "height": 35
        },
        "outputId": "19e4378d-7f84-4aa7-ebb8-161a0ed79140"
      },
      "source": [
        "type(data['call_duration'])"
      ],
      "execution_count": 165,
      "outputs": [
        {
          "output_type": "execute_result",
          "data": {
            "text/plain": [
              "pandas.core.series.Series"
            ]
          },
          "metadata": {
            "tags": []
          },
          "execution_count": 165
        }
      ]
    },
    {
      "cell_type": "code",
      "metadata": {
        "id": "qFBMC2ep9QKW",
        "colab_type": "code",
        "colab": {}
      },
      "source": [
        "data['call_duration'] = pd.to_timedelta(data['call_duration'])"
      ],
      "execution_count": 170,
      "outputs": []
    },
    {
      "cell_type": "code",
      "metadata": {
        "id": "lc-S23ID9iRM",
        "colab_type": "code",
        "colab": {
          "base_uri": "https://localhost:8080/",
          "height": 179
        },
        "outputId": "fce223db-fd91-4b69-c1f3-f86b38142d00"
      },
      "source": [
        "print (data.dtypes)"
      ],
      "execution_count": 172,
      "outputs": [
        {
          "output_type": "stream",
          "text": [
            "call_start_day               int64\n",
            "call_start_time     datetime64[ns]\n",
            "call_end_day                 int64\n",
            "call_end_time       datetime64[ns]\n",
            "hashed                      object\n",
            "diff_day                     int64\n",
            "new_end_time        datetime64[ns]\n",
            "call_duration      timedelta64[ns]\n",
            "dtype: object\n"
          ],
          "name": "stdout"
        }
      ]
    },
    {
      "cell_type": "code",
      "metadata": {
        "id": "6sXq8dH790UM",
        "colab_type": "code",
        "colab": {
          "base_uri": "https://localhost:8080/",
          "height": 53
        },
        "outputId": "03535e16-8bca-4d9f-e5f9-17606603e3d5"
      },
      "source": [
        "print(data.call_duration[0:5900000].sum())\n",
        "print(data.call_duration[5900001:].sum())"
      ],
      "execution_count": 234,
      "outputs": [
        {
          "output_type": "stream",
          "text": [
            "106067 days 16:21:12.281008\n",
            "19106 days 01:06:28.455999\n"
          ],
          "name": "stdout"
        }
      ]
    },
    {
      "cell_type": "markdown",
      "metadata": {
        "id": "RJEC9m3nDhWh",
        "colab_type": "text"
      },
      "source": [
        "600만개의 행이 넘어가면 총 통화시간 계산에 에러가 난다. 따라서 초로 바꾼 뒤, 진행을 해보자"
      ]
    },
    {
      "cell_type": "code",
      "metadata": {
        "id": "AoYBRSxJBzRQ",
        "colab_type": "code",
        "colab": {
          "base_uri": "https://localhost:8080/",
          "height": 35
        },
        "outputId": "9a5982dc-2974-46b6-9167-f7751865727e"
      },
      "source": [
        "data.call_duration.dt.total_seconds().sum() / (3600*24)"
      ],
      "execution_count": 260,
      "outputs": [
        {
          "output_type": "execute_result",
          "data": {
            "text/plain": [
              "125173.73817542837"
            ]
          },
          "metadata": {
            "tags": []
          },
          "execution_count": 260
        }
      ]
    },
    {
      "cell_type": "markdown",
      "metadata": {
        "id": "8l1ZENiaD-eC",
        "colab_type": "text"
      },
      "source": [
        "약 125173.74일 정도 전체 통화량이 나타내고 있다."
      ]
    }
  ]
}