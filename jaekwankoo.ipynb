{
  "nbformat": 4,
  "nbformat_minor": 0,
  "metadata": {
    "colab": {
      "name": "jaekwankoo.ipynb",
      "provenance": [],
      "collapsed_sections": [],
      "toc_visible": true,
      "authorship_tag": "ABX9TyPo8385Lrd6s8+fJSy7Dboy",
      "include_colab_link": true
    },
    "kernelspec": {
      "name": "python3",
      "display_name": "Python 3"
    }
  },
  "cells": [
    {
      "cell_type": "markdown",
      "metadata": {
        "id": "view-in-github",
        "colab_type": "text"
      },
      "source": [
        "<a href=\"https://colab.research.google.com/github/koojaekwan/python_practice/blob/master/jaekwankoo.ipynb\" target=\"_parent\"><img src=\"https://colab.research.google.com/assets/colab-badge.svg\" alt=\"Open In Colab\"/></a>"
      ]
    },
    {
      "cell_type": "markdown",
      "metadata": {
        "id": "mqkBN567OhzB",
        "colab_type": "text"
      },
      "source": [
        "## 1.1 준비단계 - 구글드라이브 연동"
      ]
    },
    {
      "cell_type": "code",
      "metadata": {
        "id": "I9zMJUNZDgD6",
        "colab_type": "code",
        "colab": {
          "base_uri": "https://localhost:8080/",
          "height": 127
        },
        "outputId": "852fdff7-21f3-4b69-adcb-366173ca28bf"
      },
      "source": [
        "from google.colab import drive \n",
        "drive.mount('/content/gdrive/')"
      ],
      "execution_count": 1,
      "outputs": [
        {
          "output_type": "stream",
          "text": [
            "Go to this URL in a browser: https://accounts.google.com/o/oauth2/auth?client_id=947318989803-6bn6qk8qdgf4n4g3pfee6491hc0brc4i.apps.googleusercontent.com&redirect_uri=urn%3aietf%3awg%3aoauth%3a2.0%3aoob&scope=email%20https%3a%2f%2fwww.googleapis.com%2fauth%2fdocs.test%20https%3a%2f%2fwww.googleapis.com%2fauth%2fdrive%20https%3a%2f%2fwww.googleapis.com%2fauth%2fdrive.photos.readonly%20https%3a%2f%2fwww.googleapis.com%2fauth%2fpeopleapi.readonly&response_type=code\n",
            "\n",
            "Enter your authorization code:\n",
            "··········\n",
            "Mounted at /content/gdrive/\n"
          ],
          "name": "stdout"
        }
      ]
    },
    {
      "cell_type": "markdown",
      "metadata": {
        "id": "OrqSd9a5OxvM",
        "colab_type": "text"
      },
      "source": [
        "## 1.2 라이브러리 및 데이터 불러오기"
      ]
    },
    {
      "cell_type": "code",
      "metadata": {
        "id": "wdSC8m9dElRA",
        "colab_type": "code",
        "colab": {
          "base_uri": "https://localhost:8080/",
          "height": 53
        },
        "outputId": "04eeb511-012d-4391-81b3-f6d0a1518d37"
      },
      "source": [
        "import os\n",
        "import numpy as np\n",
        "import pandas as pd\n",
        "import datetime as dt\n",
        "import matplotlib.pyplot as plt\n",
        "import seaborn as sns\n",
        "import gc"
      ],
      "execution_count": 2,
      "outputs": [
        {
          "output_type": "stream",
          "text": [
            "/usr/local/lib/python3.6/dist-packages/statsmodels/tools/_testing.py:19: FutureWarning: pandas.util.testing is deprecated. Use the functions in the public API at pandas.testing instead.\n",
            "  import pandas.util.testing as tm\n"
          ],
          "name": "stderr"
        }
      ]
    },
    {
      "cell_type": "code",
      "metadata": {
        "id": "NhYIsNiQElWI",
        "colab_type": "code",
        "colab": {
          "base_uri": "https://localhost:8080/",
          "height": 35
        },
        "outputId": "c7f070a4-64a2-466d-d90d-70b8df11c42a"
      },
      "source": [
        "print(os.getcwd()) # 현재 경로"
      ],
      "execution_count": null,
      "outputs": [
        {
          "output_type": "stream",
          "text": [
            "/content\n"
          ],
          "name": "stdout"
        }
      ]
    },
    {
      "cell_type": "code",
      "metadata": {
        "id": "9fi-k1llElUp",
        "colab_type": "code",
        "colab": {}
      },
      "source": [
        "data = pd.read_csv(\"/content/gdrive/My Drive/coding_test/group_call_HMS.csv\")"
      ],
      "execution_count": 3,
      "outputs": []
    },
    {
      "cell_type": "code",
      "metadata": {
        "id": "ShV92J8kKHI-",
        "colab_type": "code",
        "colab": {
          "base_uri": "https://localhost:8080/",
          "height": 419
        },
        "outputId": "82fc4f1f-9a06-48f1-a6cc-5556915bff21"
      },
      "source": [
        "data"
      ],
      "execution_count": null,
      "outputs": [
        {
          "output_type": "execute_result",
          "data": {
            "text/html": [
              "<div>\n",
              "<style scoped>\n",
              "    .dataframe tbody tr th:only-of-type {\n",
              "        vertical-align: middle;\n",
              "    }\n",
              "\n",
              "    .dataframe tbody tr th {\n",
              "        vertical-align: top;\n",
              "    }\n",
              "\n",
              "    .dataframe thead th {\n",
              "        text-align: right;\n",
              "    }\n",
              "</style>\n",
              "<table border=\"1\" class=\"dataframe\">\n",
              "  <thead>\n",
              "    <tr style=\"text-align: right;\">\n",
              "      <th></th>\n",
              "      <th>call_start_day</th>\n",
              "      <th>call_start_time</th>\n",
              "      <th>call_end_day</th>\n",
              "      <th>call_end_time</th>\n",
              "      <th>hashed</th>\n",
              "    </tr>\n",
              "  </thead>\n",
              "  <tbody>\n",
              "    <tr>\n",
              "      <th>0</th>\n",
              "      <td>1</td>\n",
              "      <td>09:14:58.558</td>\n",
              "      <td>1</td>\n",
              "      <td>09:41:30.200</td>\n",
              "      <td>967393e81d99ce8e577ee130b7ce8e4fd45e3e9cecb560...</td>\n",
              "    </tr>\n",
              "    <tr>\n",
              "      <th>1</th>\n",
              "      <td>17</td>\n",
              "      <td>11:05:05.176</td>\n",
              "      <td>17</td>\n",
              "      <td>13:07:42.515</td>\n",
              "      <td>02181a0c962f34f019bc9d5b582fb0ec79b1441f96aa4d...</td>\n",
              "    </tr>\n",
              "    <tr>\n",
              "      <th>2</th>\n",
              "      <td>20</td>\n",
              "      <td>02:18:43.172</td>\n",
              "      <td>20</td>\n",
              "      <td>02:28:58.177</td>\n",
              "      <td>86022904c5cf72a54978479c94041f4256d6c3c2a1f71c...</td>\n",
              "    </tr>\n",
              "    <tr>\n",
              "      <th>3</th>\n",
              "      <td>22</td>\n",
              "      <td>09:22:01.936</td>\n",
              "      <td>22</td>\n",
              "      <td>09:47:40.192</td>\n",
              "      <td>aafb40d212fe18ff4eafb82fdcf3b53f2161cb3ce59de4...</td>\n",
              "    </tr>\n",
              "    <tr>\n",
              "      <th>4</th>\n",
              "      <td>26</td>\n",
              "      <td>06:29:21.182</td>\n",
              "      <td>26</td>\n",
              "      <td>06:50:55.004</td>\n",
              "      <td>c87c2fad141edf323f3787335b54be22945a02fe052448...</td>\n",
              "    </tr>\n",
              "    <tr>\n",
              "      <th>...</th>\n",
              "      <td>...</td>\n",
              "      <td>...</td>\n",
              "      <td>...</td>\n",
              "      <td>...</td>\n",
              "      <td>...</td>\n",
              "    </tr>\n",
              "    <tr>\n",
              "      <th>6962336</th>\n",
              "      <td>55</td>\n",
              "      <td>08:09:30.086</td>\n",
              "      <td>55</td>\n",
              "      <td>08:29:51.324</td>\n",
              "      <td>a4b6aea6cb58e43911e7cb7d6c0497197db7c4ed16e1c9...</td>\n",
              "    </tr>\n",
              "    <tr>\n",
              "      <th>6962337</th>\n",
              "      <td>35</td>\n",
              "      <td>11:25:25.719</td>\n",
              "      <td>35</td>\n",
              "      <td>11:47:41.557</td>\n",
              "      <td>4ec597c569b92bd0e1bae4e2a06e13b9657fb81795e194...</td>\n",
              "    </tr>\n",
              "    <tr>\n",
              "      <th>6962338</th>\n",
              "      <td>47</td>\n",
              "      <td>16:29:59.882</td>\n",
              "      <td>47</td>\n",
              "      <td>16:30:27.386</td>\n",
              "      <td>8092e194a750aae539862ed4405f67a6dd5b492e7e57e3...</td>\n",
              "    </tr>\n",
              "    <tr>\n",
              "      <th>6962339</th>\n",
              "      <td>48</td>\n",
              "      <td>23:43:52.265</td>\n",
              "      <td>48</td>\n",
              "      <td>23:47:50.285</td>\n",
              "      <td>7176c1516207692857535c30a4650b8e8e586af1fed0fd...</td>\n",
              "    </tr>\n",
              "    <tr>\n",
              "      <th>6962340</th>\n",
              "      <td>40</td>\n",
              "      <td>23:07:31.761</td>\n",
              "      <td>40</td>\n",
              "      <td>23:11:01.968</td>\n",
              "      <td>11fc85879e5ac9d5c83bfba10d73c4c84c154b9f4d9e1d...</td>\n",
              "    </tr>\n",
              "  </tbody>\n",
              "</table>\n",
              "<p>6962341 rows × 5 columns</p>\n",
              "</div>"
            ],
            "text/plain": [
              "         call_start_day  ...                                             hashed\n",
              "0                     1  ...  967393e81d99ce8e577ee130b7ce8e4fd45e3e9cecb560...\n",
              "1                    17  ...  02181a0c962f34f019bc9d5b582fb0ec79b1441f96aa4d...\n",
              "2                    20  ...  86022904c5cf72a54978479c94041f4256d6c3c2a1f71c...\n",
              "3                    22  ...  aafb40d212fe18ff4eafb82fdcf3b53f2161cb3ce59de4...\n",
              "4                    26  ...  c87c2fad141edf323f3787335b54be22945a02fe052448...\n",
              "...                 ...  ...                                                ...\n",
              "6962336              55  ...  a4b6aea6cb58e43911e7cb7d6c0497197db7c4ed16e1c9...\n",
              "6962337              35  ...  4ec597c569b92bd0e1bae4e2a06e13b9657fb81795e194...\n",
              "6962338              47  ...  8092e194a750aae539862ed4405f67a6dd5b492e7e57e3...\n",
              "6962339              48  ...  7176c1516207692857535c30a4650b8e8e586af1fed0fd...\n",
              "6962340              40  ...  11fc85879e5ac9d5c83bfba10d73c4c84c154b9f4d9e1d...\n",
              "\n",
              "[6962341 rows x 5 columns]"
            ]
          },
          "metadata": {
            "tags": []
          },
          "execution_count": 6
        }
      ]
    },
    {
      "cell_type": "code",
      "metadata": {
        "id": "KwLahE8JOAgJ",
        "colab_type": "code",
        "colab": {
          "base_uri": "https://localhost:8080/",
          "height": 125
        },
        "outputId": "da4c457b-b83e-41ce-9696-00a43885ced3"
      },
      "source": [
        "data.isnull().sum()"
      ],
      "execution_count": null,
      "outputs": [
        {
          "output_type": "execute_result",
          "data": {
            "text/plain": [
              "call_start_day     0\n",
              "call_start_time    0\n",
              "call_end_day       0\n",
              "call_end_time      0\n",
              "hashed             0\n",
              "dtype: int64"
            ]
          },
          "metadata": {
            "tags": []
          },
          "execution_count": 7
        }
      ]
    },
    {
      "cell_type": "code",
      "metadata": {
        "id": "DT_aIPEhTRkM",
        "colab_type": "code",
        "colab": {
          "base_uri": "https://localhost:8080/",
          "height": 233
        },
        "outputId": "1defa6b1-dc7b-46b5-bf15-f9509ccb49cd"
      },
      "source": [
        "data.info()"
      ],
      "execution_count": null,
      "outputs": [
        {
          "output_type": "stream",
          "text": [
            "<class 'pandas.core.frame.DataFrame'>\n",
            "RangeIndex: 6962341 entries, 0 to 6962340\n",
            "Data columns (total 5 columns):\n",
            " #   Column           Dtype \n",
            "---  ------           ----- \n",
            " 0   call_start_day   int64 \n",
            " 1   call_start_time  object\n",
            " 2   call_end_day     int64 \n",
            " 3   call_end_time    object\n",
            " 4   hashed           object\n",
            "dtypes: int64(2), object(3)\n",
            "memory usage: 265.6+ MB\n"
          ],
          "name": "stdout"
        }
      ]
    },
    {
      "cell_type": "code",
      "metadata": {
        "id": "Fw5wP7aoROYq",
        "colab_type": "code",
        "colab": {
          "base_uri": "https://localhost:8080/",
          "height": 297
        },
        "outputId": "da4e80fe-6342-4e7a-ec4c-9386db9fe597"
      },
      "source": [
        "pd.options.display.float_format = '{:.2f}'.format  # 과학적 표기법(Scientific notation)을 사용하지 않는 경우\n",
        "\n",
        "data.describe()"
      ],
      "execution_count": null,
      "outputs": [
        {
          "output_type": "execute_result",
          "data": {
            "text/html": [
              "<div>\n",
              "<style scoped>\n",
              "    .dataframe tbody tr th:only-of-type {\n",
              "        vertical-align: middle;\n",
              "    }\n",
              "\n",
              "    .dataframe tbody tr th {\n",
              "        vertical-align: top;\n",
              "    }\n",
              "\n",
              "    .dataframe thead th {\n",
              "        text-align: right;\n",
              "    }\n",
              "</style>\n",
              "<table border=\"1\" class=\"dataframe\">\n",
              "  <thead>\n",
              "    <tr style=\"text-align: right;\">\n",
              "      <th></th>\n",
              "      <th>call_start_day</th>\n",
              "      <th>call_end_day</th>\n",
              "    </tr>\n",
              "  </thead>\n",
              "  <tbody>\n",
              "    <tr>\n",
              "      <th>count</th>\n",
              "      <td>6962341.00</td>\n",
              "      <td>6962341.00</td>\n",
              "    </tr>\n",
              "    <tr>\n",
              "      <th>mean</th>\n",
              "      <td>35.83</td>\n",
              "      <td>35.86</td>\n",
              "    </tr>\n",
              "    <tr>\n",
              "      <th>std</th>\n",
              "      <td>16.26</td>\n",
              "      <td>16.25</td>\n",
              "    </tr>\n",
              "    <tr>\n",
              "      <th>min</th>\n",
              "      <td>1.00</td>\n",
              "      <td>1.00</td>\n",
              "    </tr>\n",
              "    <tr>\n",
              "      <th>25%</th>\n",
              "      <td>23.00</td>\n",
              "      <td>23.00</td>\n",
              "    </tr>\n",
              "    <tr>\n",
              "      <th>50%</th>\n",
              "      <td>41.00</td>\n",
              "      <td>41.00</td>\n",
              "    </tr>\n",
              "    <tr>\n",
              "      <th>75%</th>\n",
              "      <td>50.00</td>\n",
              "      <td>50.00</td>\n",
              "    </tr>\n",
              "    <tr>\n",
              "      <th>max</th>\n",
              "      <td>56.00</td>\n",
              "      <td>57.00</td>\n",
              "    </tr>\n",
              "  </tbody>\n",
              "</table>\n",
              "</div>"
            ],
            "text/plain": [
              "       call_start_day  call_end_day\n",
              "count      6962341.00    6962341.00\n",
              "mean            35.83         35.86\n",
              "std             16.26         16.25\n",
              "min              1.00          1.00\n",
              "25%             23.00         23.00\n",
              "50%             41.00         41.00\n",
              "75%             50.00         50.00\n",
              "max             56.00         57.00"
            ]
          },
          "metadata": {
            "tags": []
          },
          "execution_count": 9
        }
      ]
    },
    {
      "cell_type": "markdown",
      "metadata": {
        "id": "eI_oqXpCRw4R",
        "colab_type": "text"
      },
      "source": [
        "## hash"
      ]
    },
    {
      "cell_type": "code",
      "metadata": {
        "id": "KPfY7DBma1aE",
        "colab_type": "code",
        "colab": {}
      },
      "source": [
        "# temp = pd.Timestamp(data.call_start_time[1])\n",
        "# print(data.call_start_time[1])\n",
        "# print(temp)\n",
        "# print(\"time : \",temp.time())"
      ],
      "execution_count": null,
      "outputs": []
    },
    {
      "cell_type": "code",
      "metadata": {
        "id": "4a7OGuRgq1Bc",
        "colab_type": "code",
        "colab": {}
      },
      "source": [
        "# temp"
      ],
      "execution_count": null,
      "outputs": []
    },
    {
      "cell_type": "code",
      "metadata": {
        "id": "RSsl-8cn2FW9",
        "colab_type": "code",
        "colab": {
          "base_uri": "https://localhost:8080/",
          "height": 419
        },
        "outputId": "e952a4ac-bcfa-4760-878f-30c13701f098"
      },
      "source": [
        "data[[\"hashed\"]]"
      ],
      "execution_count": 6,
      "outputs": [
        {
          "output_type": "execute_result",
          "data": {
            "text/html": [
              "<div>\n",
              "<style scoped>\n",
              "    .dataframe tbody tr th:only-of-type {\n",
              "        vertical-align: middle;\n",
              "    }\n",
              "\n",
              "    .dataframe tbody tr th {\n",
              "        vertical-align: top;\n",
              "    }\n",
              "\n",
              "    .dataframe thead th {\n",
              "        text-align: right;\n",
              "    }\n",
              "</style>\n",
              "<table border=\"1\" class=\"dataframe\">\n",
              "  <thead>\n",
              "    <tr style=\"text-align: right;\">\n",
              "      <th></th>\n",
              "      <th>hashed</th>\n",
              "    </tr>\n",
              "  </thead>\n",
              "  <tbody>\n",
              "    <tr>\n",
              "      <th>0</th>\n",
              "      <td>967393e81d99ce8e577ee130b7ce8e4fd45e3e9cecb560...</td>\n",
              "    </tr>\n",
              "    <tr>\n",
              "      <th>1</th>\n",
              "      <td>02181a0c962f34f019bc9d5b582fb0ec79b1441f96aa4d...</td>\n",
              "    </tr>\n",
              "    <tr>\n",
              "      <th>2</th>\n",
              "      <td>86022904c5cf72a54978479c94041f4256d6c3c2a1f71c...</td>\n",
              "    </tr>\n",
              "    <tr>\n",
              "      <th>3</th>\n",
              "      <td>aafb40d212fe18ff4eafb82fdcf3b53f2161cb3ce59de4...</td>\n",
              "    </tr>\n",
              "    <tr>\n",
              "      <th>4</th>\n",
              "      <td>c87c2fad141edf323f3787335b54be22945a02fe052448...</td>\n",
              "    </tr>\n",
              "    <tr>\n",
              "      <th>...</th>\n",
              "      <td>...</td>\n",
              "    </tr>\n",
              "    <tr>\n",
              "      <th>6962336</th>\n",
              "      <td>a4b6aea6cb58e43911e7cb7d6c0497197db7c4ed16e1c9...</td>\n",
              "    </tr>\n",
              "    <tr>\n",
              "      <th>6962337</th>\n",
              "      <td>4ec597c569b92bd0e1bae4e2a06e13b9657fb81795e194...</td>\n",
              "    </tr>\n",
              "    <tr>\n",
              "      <th>6962338</th>\n",
              "      <td>8092e194a750aae539862ed4405f67a6dd5b492e7e57e3...</td>\n",
              "    </tr>\n",
              "    <tr>\n",
              "      <th>6962339</th>\n",
              "      <td>7176c1516207692857535c30a4650b8e8e586af1fed0fd...</td>\n",
              "    </tr>\n",
              "    <tr>\n",
              "      <th>6962340</th>\n",
              "      <td>11fc85879e5ac9d5c83bfba10d73c4c84c154b9f4d9e1d...</td>\n",
              "    </tr>\n",
              "  </tbody>\n",
              "</table>\n",
              "<p>6962341 rows × 1 columns</p>\n",
              "</div>"
            ],
            "text/plain": [
              "                                                    hashed\n",
              "0        967393e81d99ce8e577ee130b7ce8e4fd45e3e9cecb560...\n",
              "1        02181a0c962f34f019bc9d5b582fb0ec79b1441f96aa4d...\n",
              "2        86022904c5cf72a54978479c94041f4256d6c3c2a1f71c...\n",
              "3        aafb40d212fe18ff4eafb82fdcf3b53f2161cb3ce59de4...\n",
              "4        c87c2fad141edf323f3787335b54be22945a02fe052448...\n",
              "...                                                    ...\n",
              "6962336  a4b6aea6cb58e43911e7cb7d6c0497197db7c4ed16e1c9...\n",
              "6962337  4ec597c569b92bd0e1bae4e2a06e13b9657fb81795e194...\n",
              "6962338  8092e194a750aae539862ed4405f67a6dd5b492e7e57e3...\n",
              "6962339  7176c1516207692857535c30a4650b8e8e586af1fed0fd...\n",
              "6962340  11fc85879e5ac9d5c83bfba10d73c4c84c154b9f4d9e1d...\n",
              "\n",
              "[6962341 rows x 1 columns]"
            ]
          },
          "metadata": {
            "tags": []
          },
          "execution_count": 6
        }
      ]
    },
    {
      "cell_type": "markdown",
      "metadata": {
        "id": "s-MmZ_TFC54n",
        "colab_type": "text"
      },
      "source": [
        "## 2.1 통화 & 사람\n"
      ]
    },
    {
      "cell_type": "markdown",
      "metadata": {
        "id": "iVyldHp1BkQh",
        "colab_type": "text"
      },
      "source": [
        "### 2.2 약 100만 rows씩 작업 진행"
      ]
    },
    {
      "cell_type": "code",
      "metadata": {
        "id": "lEgzvc6wCzAt",
        "colab_type": "code",
        "colab": {}
      },
      "source": [
        "p = set(np.concatenate(data.loc[0:1000000,\"hashed\"].str.split(\",\").values))\n",
        "p2 = set(np.concatenate(data.loc[1000001:2000000,\"hashed\"].str.split(\",\").values))\n",
        "p3 = set(np.concatenate(data.loc[2000001:3000000,\"hashed\"].str.split(\",\").values))\n",
        "p4 = set(np.concatenate(data.loc[3000001:4000000,\"hashed\"].str.split(\",\").values))\n",
        "p5 = set(np.concatenate(data.loc[4000001:5000000,\"hashed\"].str.split(\",\").values))\n",
        "p6 = set(np.concatenate(data.loc[5000001:6000000,\"hashed\"].str.split(\",\").values))\n",
        "p7 = set(np.concatenate(data.loc[6000001:,\"hashed\"].str.split(\",\").values))"
      ],
      "execution_count": 4,
      "outputs": []
    },
    {
      "cell_type": "markdown",
      "metadata": {
        "id": "wsQuK0QBzHrg",
        "colab_type": "text"
      },
      "source": [
        "한번에 약 700만 개의 행들을 처리하려고 했으나, 램이 부족한 문제로 행들을 구간별로 나눠서 처리하는 방향으로 생각했다.  "
      ]
    },
    {
      "cell_type": "markdown",
      "metadata": {
        "id": "a-LCH-GcwVsj",
        "colab_type": "text"
      },
      "source": [
        "### 2.3 데이터에서 온전히 통화에 참여한 인원수(중복이 없음)"
      ]
    },
    {
      "cell_type": "code",
      "metadata": {
        "id": "El6qju1pQTUL",
        "colab_type": "code",
        "colab": {
          "base_uri": "https://localhost:8080/",
          "height": 35
        },
        "outputId": "759ecb5f-5c6a-420f-8fa2-66ccc3776ad8"
      },
      "source": [
        "print(\"총 통화한 인원수 : \", len(set(list(p)+list(p2)+list(p3)+list(p4)+list(p5)+list(p6)+list(p7))), \"명\") # 중복이 없는 데이터에서 순수 통화에 참여한 수"
      ],
      "execution_count": 9,
      "outputs": [
        {
          "output_type": "stream",
          "text": [
            "총 통화 인원 수 :  268148 명\n"
          ],
          "name": "stdout"
        }
      ]
    },
    {
      "cell_type": "markdown",
      "metadata": {
        "id": "OsXr8T_wwbc5",
        "colab_type": "text"
      },
      "source": [
        "### 2.4 데이터에서 1회 통화에 참여한 평균인원 수"
      ]
    },
    {
      "cell_type": "code",
      "metadata": {
        "id": "fHe1WRYg2xW-",
        "colab_type": "code",
        "colab": {}
      },
      "source": [
        "data['p_num'] = data['hashed'].str.count(pat = \",\") + 1  # 각 통화 건수의 통화한 사람 수"
      ],
      "execution_count": 14,
      "outputs": []
    },
    {
      "cell_type": "code",
      "metadata": {
        "id": "bxIfrqboxurb",
        "colab_type": "code",
        "colab": {
          "base_uri": "https://localhost:8080/",
          "height": 35
        },
        "outputId": "996425a8-f664-43ca-e617-ee5a12cb9b0a"
      },
      "source": [
        "print(\"데이터의 총 통화한 사람 : \",data[\"p_num\"].sum())  # 전체 데이터의 총 통화한 사람 수(사람의 중복이 있음)"
      ],
      "execution_count": 18,
      "outputs": [
        {
          "output_type": "stream",
          "text": [
            "데이터의 총 통화한 사람 :  34284282\n"
          ],
          "name": "stdout"
        }
      ]
    },
    {
      "cell_type": "code",
      "metadata": {
        "id": "JxihR2IEvw2p",
        "colab_type": "code",
        "colab": {
          "base_uri": "https://localhost:8080/",
          "height": 35
        },
        "outputId": "60b60c45-a039-4523-daf6-9c0020b5deef"
      },
      "source": [
        "print(\"1회 통화에 참여한 평균인원수 : \", data[\"p_num\"].sum() / len(data), \"명\") # 전체 총 통화한 사람수 / 전체 통화 건수 = 1회 통화 평균인원수"
      ],
      "execution_count": 17,
      "outputs": [
        {
          "output_type": "stream",
          "text": [
            "1회 통화에 참여한 평균인원수 :  4.924246313129449 명\n"
          ],
          "name": "stdout"
        }
      ]
    },
    {
      "cell_type": "markdown",
      "metadata": {
        "id": "Xa_7doQtyvHI",
        "colab_type": "text"
      },
      "source": [
        "평균적으로 4.92명이 각 통화에 참여했다."
      ]
    },
    {
      "cell_type": "code",
      "metadata": {
        "id": "PyV2KMIvw54w",
        "colab_type": "code",
        "colab": {
          "base_uri": "https://localhost:8080/",
          "height": 35
        },
        "outputId": "b1521641-3679-4f65-ae68-7d603b834051"
      },
      "source": [
        "print(\"max : \", data[\"p_num\"].max(), \",  min : \", data[\"p_num\"].min())"
      ],
      "execution_count": 20,
      "outputs": [
        {
          "output_type": "stream",
          "text": [
            "max :  434 ,  min :  1\n"
          ],
          "name": "stdout"
        }
      ]
    },
    {
      "cell_type": "markdown",
      "metadata": {
        "id": "3DpKTy_zyews",
        "colab_type": "text"
      },
      "source": [
        "혼자 통화에 참여한 사람이 있고, 최대 434명이 함께 통화에 참여한 경우를 확인 가능하다."
      ]
    },
    {
      "cell_type": "markdown",
      "metadata": {
        "id": "6yZE693kynku",
        "colab_type": "text"
      },
      "source": [
        "\n"
      ]
    },
    {
      "cell_type": "code",
      "metadata": {
        "id": "jGOEkaUx1HXp",
        "colab_type": "code",
        "colab": {}
      },
      "source": [
        ""
      ],
      "execution_count": null,
      "outputs": []
    }
  ]
}