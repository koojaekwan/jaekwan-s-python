{
 "cells": [
  {
   "cell_type": "markdown",
   "metadata": {},
   "source": [
    "### 조건문"
   ]
  },
  {
   "cell_type": "code",
   "execution_count": 1,
   "metadata": {},
   "outputs": [],
   "source": [
    "import random as r\n",
    "\n",
    "lst = list(r.sample(range(1, 100),10))"
   ]
  },
  {
   "cell_type": "code",
   "execution_count": 2,
   "metadata": {},
   "outputs": [
    {
     "name": "stdout",
     "output_type": "stream",
     "text": [
      "[15, 30, 39, 43, 56, 36, 18, 11, 94, 66]\n"
     ]
    }
   ],
   "source": [
    "print(lst)"
   ]
  },
  {
   "cell_type": "code",
   "execution_count": 3,
   "metadata": {},
   "outputs": [
    {
     "name": "stdout",
     "output_type": "stream",
     "text": [
      "짝수입니다. :  [30, 56, 36, 18, 94, 66]\n",
      "홀수입니다. :  [15, 39, 43, 11]\n"
     ]
    }
   ],
   "source": [
    "even = []\n",
    "odd=[]\n",
    "for i in lst : \n",
    "    if i%2==0 :\n",
    "        even.append(i)\n",
    "    else : \n",
    "        odd.append(i)\n",
    "        \n",
    "print('짝수입니다. : ',even)\n",
    "print('홀수입니다. : ',odd)"
   ]
  },
  {
   "cell_type": "code",
   "execution_count": 4,
   "metadata": {},
   "outputs": [
    {
     "name": "stdout",
     "output_type": "stream",
     "text": [
      "['fail', 'fail', 'fail', 'fail', 'retest', 'fail', 'fail', 'fail', 'pass', 'retest']\n"
     ]
    }
   ],
   "source": [
    "result = []\n",
    "\n",
    "for i in lst :\n",
    "    if i>=70: result.append(\"pass\")\n",
    "    elif i>=50: result.append(\"retest\")\n",
    "    else : result.append(\"fail\")\n",
    "        \n",
    "print(result)"
   ]
  },
  {
   "cell_type": "code",
   "execution_count": 5,
   "metadata": {},
   "outputs": [
    {
     "name": "stdout",
     "output_type": "stream",
     "text": [
      "pass한 사람의 수 :  1\n",
      "retest인 사람의 수 :  2\n",
      "fail인 사람의 수 :  7\n"
     ]
    }
   ],
   "source": [
    "print(\"pass한 사람의 수 : \",result.count(\"pass\"))\n",
    "print(\"retest인 사람의 수 : \",result.count(\"retest\"))\n",
    "print(\"fail인 사람의 수 : \",result.count(\"fail\"))"
   ]
  },
  {
   "cell_type": "markdown",
   "metadata": {},
   "source": [
    "### 반복문과 if문을 이용한 리스트 추출"
   ]
  },
  {
   "cell_type": "code",
   "execution_count": 6,
   "metadata": {},
   "outputs": [
    {
     "name": "stdout",
     "output_type": "stream",
     "text": [
      "[94]\n",
      "1\n",
      "[56, 66]\n",
      "2\n",
      "[15, 30, 39, 43, 36, 18, 11]\n",
      "7\n"
     ]
    }
   ],
   "source": [
    "plist = [i for i in lst if i>=70]\n",
    "print(plist)\n",
    "print(len(plist))\n",
    "\n",
    "relist = [i for i in lst if i>=50 and i<70]\n",
    "print(relist)\n",
    "print(len(relist))\n",
    "\n",
    "flist = [i for i in lst if i<50]\n",
    "print(flist)\n",
    "print(len(flist))"
   ]
  },
  {
   "cell_type": "markdown",
   "metadata": {},
   "source": [
    "### 반복문"
   ]
  },
  {
   "cell_type": "code",
   "execution_count": 7,
   "metadata": {},
   "outputs": [
    {
     "name": "stdout",
     "output_type": "stream",
     "text": [
      "1\n",
      "3\n"
     ]
    }
   ],
   "source": [
    "i = 0\n",
    "while i<5 :\n",
    "    i=i+1\n",
    "    if i % 2 == 0 : continue     #continue를 만나면 밑으로 못내려가고 다시위로 올라감\n",
    "    if i >= 4 : break            #break만나면 그 시점에서 탈출하고 5는 찍히지 않음\n",
    "    print(i)\n",
    "    \n",
    "#항목 중 원하는 것만 출력하고 싶을 때 사용"
   ]
  },
  {
   "cell_type": "markdown",
   "metadata": {},
   "source": [
    "### 리스트를 결합해서 딕션너리 만들기"
   ]
  },
  {
   "cell_type": "code",
   "execution_count": 8,
   "metadata": {},
   "outputs": [
    {
     "name": "stdout",
     "output_type": "stream",
     "text": [
      "[15, 30, 39, 43, 56, 36, 18, 11, 94, 66]\n"
     ]
    }
   ],
   "source": [
    "print(lst)"
   ]
  },
  {
   "cell_type": "code",
   "execution_count": 9,
   "metadata": {},
   "outputs": [
    {
     "name": "stdout",
     "output_type": "stream",
     "text": [
      "['fail', 'fail', 'fail', 'fail', 'retest', 'fail', 'fail', 'fail', 'pass', 'retest']\n"
     ]
    }
   ],
   "source": [
    "print(result)"
   ]
  },
  {
   "cell_type": "code",
   "execution_count": 10,
   "metadata": {},
   "outputs": [
    {
     "name": "stdout",
     "output_type": "stream",
     "text": [
      "{15: 'fail', 30: 'fail', 39: 'fail', 43: 'fail', 56: 'retest', 36: 'fail', 18: 'fail', 11: 'fail', 94: 'pass', 66: 'retest'}\n"
     ]
    }
   ],
   "source": [
    "score = dict(zip(lst,result))   #dict는 dictionary를 만드는 함수\n",
    "print(score)"
   ]
  },
  {
   "cell_type": "code",
   "execution_count": 12,
   "metadata": {},
   "outputs": [
    {
     "name": "stdout",
     "output_type": "stream",
     "text": [
      "retest\n"
     ]
    }
   ],
   "source": [
    "print(score[66])     #key로 value를 반환"
   ]
  },
  {
   "cell_type": "code",
   "execution_count": 14,
   "metadata": {},
   "outputs": [
    {
     "name": "stdout",
     "output_type": "stream",
     "text": [
      "94\n"
     ]
    }
   ],
   "source": [
    "print(max(score.keys()))   #점수가 '키'이므로 점수에 대해서 최대값을 구해봄"
   ]
  },
  {
   "cell_type": "code",
   "execution_count": 15,
   "metadata": {},
   "outputs": [
    {
     "name": "stdout",
     "output_type": "stream",
     "text": [
      "pass\n",
      "pass\n"
     ]
    }
   ],
   "source": [
    "tpl = max(zip(score.keys() , score.values() ))\n",
    "print(tpl[1])\n",
    "\n",
    "tpl = max(zip(score.keys() , score.values() ))[1]\n",
    "print(tpl)"
   ]
  }
 ],
 "metadata": {
  "kernelspec": {
   "display_name": "Python 3",
   "language": "python",
   "name": "python3"
  },
  "language_info": {
   "codemirror_mode": {
    "name": "ipython",
    "version": 3
   },
   "file_extension": ".py",
   "mimetype": "text/x-python",
   "name": "python",
   "nbconvert_exporter": "python",
   "pygments_lexer": "ipython3",
   "version": "3.6.5"
  }
 },
 "nbformat": 4,
 "nbformat_minor": 2
}
