{
 "cells": [
  {
   "cell_type": "markdown",
   "metadata": {},
   "source": [
    "# 파이썬 표준입출력 \n",
    "## 표준출력 "
   ]
  },
  {
   "cell_type": "code",
   "execution_count": 11,
   "metadata": {},
   "outputs": [
    {
     "name": "stdout",
     "output_type": "stream",
     "text": [
      "jae kwan koo 안녕하세요.\n"
     ]
    }
   ],
   "source": [
    "#표준출력\n",
    "print('jae kwan koo 안녕하세요.')"
   ]
  },
  {
   "cell_type": "code",
   "execution_count": 8,
   "metadata": {},
   "outputs": [
    {
     "name": "stdout",
     "output_type": "stream",
     "text": [
      "안녕,하세요\n",
      "안녕하세요\n"
     ]
    }
   ],
   "source": [
    "print('안녕', end=',')\n",
    "print('하세요')\n",
    "\n",
    "print('안녕', end='')\n",
    "print('하세요')"
   ]
  },
  {
   "cell_type": "code",
   "execution_count": 14,
   "metadata": {},
   "outputs": [
    {
     "name": "stdout",
     "output_type": "stream",
     "text": [
      "10\n",
      "10\n"
     ]
    }
   ],
   "source": [
    "#표준입력\n",
    "x=input()\n",
    "print(x)"
   ]
  },
  {
   "cell_type": "code",
   "execution_count": 1,
   "metadata": {},
   "outputs": [
    {
     "name": "stdout",
     "output_type": "stream",
     "text": [
      "숫자를 입력하세요 : 10\n",
      "입력된 숫자는 10 입니다.\n"
     ]
    }
   ],
   "source": [
    "x=input('숫자를 입력하세요 : ')\n",
    "print('입력된 숫자는',x, '입니다.')"
   ]
  },
  {
   "cell_type": "code",
   "execution_count": 20,
   "metadata": {},
   "outputs": [
    {
     "name": "stdout",
     "output_type": "stream",
     "text": [
      "x 숫자를 입력하세요 : 10\n",
      "y 숫자를 입력하세요 : 20\n",
      "10 + 20 = 30\n",
      "10 - 20 = -10\n",
      "10 / 20 = 0.5\n",
      "10 * 20 = 200\n"
     ]
    }
   ],
   "source": [
    "#문자를 숫자로 변환 => int(), float()\n",
    "x=int(input('x 숫자를 입력하세요 : '))\n",
    "y=int(input('y 숫자를 입력하세요 : '))\n",
    "print(x,'+',y,'=',x+y)\n",
    "print(x,'-',y,'=',x-y)\n",
    "print(x,'/',y,'=',x/y)\n",
    "print(x,'*',y,'=',x*y)"
   ]
  },
  {
   "cell_type": "code",
   "execution_count": 22,
   "metadata": {},
   "outputs": [
    {
     "name": "stdout",
     "output_type": "stream",
     "text": [
      "10+20=30\n"
     ]
    }
   ],
   "source": [
    "#연결연산자 (+)\n",
    "#숫자를 문자로 변환하는 함수 : str()\n",
    "print(str(x) + '+' + str(y) + '=' + str(x+y))"
   ]
  },
  {
   "cell_type": "code",
   "execution_count": 24,
   "metadata": {},
   "outputs": [
    {
     "data": {
      "text/plain": [
       "int"
      ]
     },
     "execution_count": 24,
     "metadata": {},
     "output_type": "execute_result"
    }
   ],
   "source": [
    "#데이터 타입확인\n",
    "type(x)   #데이터 타입을 확인하기 위한 함수"
   ]
  },
  {
   "cell_type": "code",
   "execution_count": 25,
   "metadata": {},
   "outputs": [
    {
     "data": {
      "text/plain": [
       "float"
      ]
     },
     "execution_count": 25,
     "metadata": {},
     "output_type": "execute_result"
    }
   ],
   "source": [
    "type(x/y)"
   ]
  },
  {
   "cell_type": "code",
   "execution_count": 27,
   "metadata": {},
   "outputs": [
    {
     "name": "stdout",
     "output_type": "stream",
     "text": [
      "[1, 2, 0, '3']\n"
     ]
    }
   ],
   "source": [
    "#리스트  - 동일한 데이터 타입이 안들어가도 된다.\n",
    "lst=[1,2,0,'3']\n",
    "print(lst)"
   ]
  },
  {
   "cell_type": "code",
   "execution_count": 28,
   "metadata": {},
   "outputs": [
    {
     "name": "stdout",
     "output_type": "stream",
     "text": [
      "(1, 2.0, '3')\n"
     ]
    }
   ],
   "source": [
    "#튜플 - 소괄호냐 대괄호를 쓸거냐 차이. 또한, 변형을 할 수 있냐의 차이 (튜플에서는 바꿀 수가 없다.)\n",
    "t=(1,2.0,'3')\n",
    "print(t)"
   ]
  },
  {
   "cell_type": "code",
   "execution_count": 31,
   "metadata": {},
   "outputs": [
    {
     "name": "stdout",
     "output_type": "stream",
     "text": [
      "{'a': 1, 'b': 2}\n"
     ]
    }
   ],
   "source": [
    "#딕션너리  - 중괄호,  순서가 없다. 단지 키에 의해서 찾게 된다.\n",
    "dic={'a':1,'b':2}\n",
    "print(dic)"
   ]
  }
 ],
 "metadata": {
  "kernelspec": {
   "display_name": "Python 3",
   "language": "python",
   "name": "python3"
  },
  "language_info": {
   "codemirror_mode": {
    "name": "ipython",
    "version": 3
   },
   "file_extension": ".py",
   "mimetype": "text/x-python",
   "name": "python",
   "nbconvert_exporter": "python",
   "pygments_lexer": "ipython3",
   "version": "3.6.5"
  }
 },
 "nbformat": 4,
 "nbformat_minor": 2
}
