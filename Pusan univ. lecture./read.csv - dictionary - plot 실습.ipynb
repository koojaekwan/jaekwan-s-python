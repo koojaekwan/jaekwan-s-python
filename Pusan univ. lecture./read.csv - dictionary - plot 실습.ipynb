{
 "cells": [
  {
   "cell_type": "markdown",
   "metadata": {},
   "source": [
    "### 파일입출력"
   ]
  },
  {
   "cell_type": "code",
   "execution_count": 1,
   "metadata": {},
   "outputs": [
    {
     "name": "stdout",
     "output_type": "stream",
     "text": [
      "서울,20\n",
      "부산,26\n",
      "대구,24\n",
      "인천,24\n",
      "광주,25\n",
      "대전,22\n",
      "울산,26\n",
      "세종,23\n",
      "경기,24\n",
      "강원,23\n",
      "충북,26\n",
      "충남,22\n",
      "전북,24\n",
      "전남,23\n",
      "경북,28\n",
      "경남,29\n",
      "제주,26\n",
      "\n"
     ]
    }
   ],
   "source": [
    "f = open(\"./도별미세먼지.csv\",'r') #r은 read한다는 것, w은 쓴다는 뜻\n",
    "data = f.read()\n",
    "f.close()\n",
    "\n",
    "print(data)"
   ]
  },
  {
   "cell_type": "code",
   "execution_count": 2,
   "metadata": {},
   "outputs": [
    {
     "data": {
      "text/plain": [
       "str"
      ]
     },
     "execution_count": 2,
     "metadata": {},
     "output_type": "execute_result"
    }
   ],
   "source": [
    "type(data)  #read로 읽으면 한꺼번에 읽어 문자열로 만듦.\n",
    "#문자열이므로 리스트화 시키기 위해 split을 사용"
   ]
  },
  {
   "cell_type": "code",
   "execution_count": 3,
   "metadata": {},
   "outputs": [
    {
     "name": "stdout",
     "output_type": "stream",
     "text": [
      "['서울,20', '부산,26', '대구,24', '인천,24', '광주,25', '대전,22', '울산,26', '세종,23', '경기,24', '강원,23', '충북,26', '충남,22', '전북,24', '전남,23', '경북,28', '경남,29', '제주,26']\n"
     ]
    }
   ],
   "source": [
    "data_list = data.split('\\n')\n",
    "data_list.pop()\n",
    "print(data_list)"
   ]
  },
  {
   "cell_type": "code",
   "execution_count": 4,
   "metadata": {},
   "outputs": [
    {
     "name": "stdout",
     "output_type": "stream",
     "text": [
      "{'서울': 20, '부산': 26, '대구': 24, '인천': 24, '광주': 25, '대전': 22, '울산': 26, '세종': 23, '경기': 24, '강원': 23, '충북': 26, '충남': 22, '전북': 24, '전남': 23, '경북': 28, '경남': 29, '제주': 26}\n"
     ]
    }
   ],
   "source": [
    "data_dic = {}\n",
    "\n",
    "for i in data_list :\n",
    "    line = i.split(',')\n",
    "    data_dic[line[0]] = int(line[1])\n",
    "    \n",
    "print(data_dic)"
   ]
  },
  {
   "cell_type": "code",
   "execution_count": 5,
   "metadata": {},
   "outputs": [
    {
     "name": "stdout",
     "output_type": "stream",
     "text": [
      "최고 미세먼지 농도를 가진 도시 :  경남 ( 29 )\n"
     ]
    }
   ],
   "source": [
    "koo = max(zip(data_dic.values(), data_dic.keys()))\n",
    "\n",
    "print('최고 미세먼지 농도를 가진 도시 : ',koo[1], '(',koo[0],')')"
   ]
  },
  {
   "cell_type": "code",
   "execution_count": 6,
   "metadata": {},
   "outputs": [
    {
     "name": "stdout",
     "output_type": "stream",
     "text": [
      "최소 미세먼지 농도를 가진 도시 :  서울 ( 20 )\n"
     ]
    }
   ],
   "source": [
    "koo = min(zip(data_dic.values(), data_dic.keys()))\n",
    "\n",
    "print('최소 미세먼지 농도를 가진 도시 : ',koo[1], '(',koo[0],')')"
   ]
  },
  {
   "cell_type": "code",
   "execution_count": 7,
   "metadata": {},
   "outputs": [
    {
     "data": {
      "text/plain": [
       "list"
      ]
     },
     "execution_count": 7,
     "metadata": {},
     "output_type": "execute_result"
    }
   ],
   "source": [
    "f = open(\"./도별미세먼지.csv\",'r')\n",
    "data = f.readlines()    #한줄씩읽어 데이터라는 리스트로 만들어 준다.\n",
    "f.close\n",
    "\n",
    "type(data)"
   ]
  },
  {
   "cell_type": "code",
   "execution_count": 8,
   "metadata": {},
   "outputs": [
    {
     "name": "stdout",
     "output_type": "stream",
     "text": [
      "['서울,20\\n', '부산,26\\n', '대구,24\\n', '인천,24\\n', '광주,25\\n', '대전,22\\n', '울산,26\\n', '세종,23\\n', '경기,24\\n', '강원,23\\n', '충북,26\\n', '충남,22\\n', '전북,24\\n', '전남,23\\n', '경북,28\\n', '경남,29\\n', '제주,26\\n']\n"
     ]
    }
   ],
   "source": [
    "print(data)"
   ]
  },
  {
   "cell_type": "code",
   "execution_count": 9,
   "metadata": {},
   "outputs": [
    {
     "name": "stdout",
     "output_type": "stream",
     "text": [
      "{'서울': 20, '부산': 26, '대구': 24, '인천': 24, '광주': 25, '대전': 22, '울산': 26, '세종': 23, '경기': 24, '강원': 23, '충북': 26, '충남': 22, '전북': 24, '전남': 23, '경북': 28, '경남': 29, '제주': 26}\n"
     ]
    }
   ],
   "source": [
    "data_dic = {}\n",
    "\n",
    "for i in data_list :\n",
    "    i = i.replace('\\n',\"\")     #  \\n을 없애기 위해 replace로 아무것도 없도록 대체\n",
    "    line = i.split(',')\n",
    "    data_dic[line[0]] = int(line[1])\n",
    "    \n",
    "print(data_dic)"
   ]
  },
  {
   "cell_type": "markdown",
   "metadata": {},
   "source": [
    "### matplotlib.pyplot"
   ]
  },
  {
   "cell_type": "code",
   "execution_count": 10,
   "metadata": {},
   "outputs": [],
   "source": [
    "import matplotlib.pyplot as plt\n",
    "\n",
    "#한글 폰트 사용\n",
    "from matplotlib import font_manager, rc\n",
    "font_name =font_manager.FontProperties(fname=\"c:/Windows/Fonts/malgun.ttf\").get_name()\n",
    "rc('font', family=font_name)"
   ]
  },
  {
   "cell_type": "code",
   "execution_count": 11,
   "metadata": {},
   "outputs": [
    {
     "data": {
      "image/png": "[encoded data removed]",
      "text/plain": [
       "<Figure size 432x288 with 1 Axes>"
      ]
     },
     "metadata": {},
     "output_type": "display_data"
    }
   ],
   "source": [
    "y = data_dic.values()\n",
    "\n",
    "plt.plot(y)\n",
    "plt.show()"
   ]
  },
  {
   "cell_type": "code",
   "execution_count": 12,
   "metadata": {},
   "outputs": [
    {
     "data": {
      "text/plain": [
       "([<matplotlib.axis.XTick at 0x2eabb600630>,\n",
       "  <matplotlib.axis.XTick at 0x2eabb5f2e80>,\n",
       "  <matplotlib.axis.XTick at 0x2eabb5f2be0>,\n",
       "  <matplotlib.axis.XTick at 0x2eabb38c6a0>,\n",
       "  <matplotlib.axis.XTick at 0x2eabb38cac8>,\n",
       "  <matplotlib.axis.XTick at 0x2eabb38ccc0>,\n",
       "  <matplotlib.axis.XTick at 0x2eabb3c90b8>,\n",
       "  <matplotlib.axis.XTick at 0x2eabb3c9898>,\n",
       "  <matplotlib.axis.XTick at 0x2eabb374630>,\n",
       "  <matplotlib.axis.XTick at 0x2eabb374278>,\n",
       "  <matplotlib.axis.XTick at 0x2eabb374cc0>,\n",
       "  <matplotlib.axis.XTick at 0x2eabb374320>,\n",
       "  <matplotlib.axis.XTick at 0x2eabb38cb70>,\n",
       "  <matplotlib.axis.XTick at 0x2eabb5e44e0>,\n",
       "  <matplotlib.axis.XTick at 0x2eabb5e46d8>,\n",
       "  <matplotlib.axis.XTick at 0x2eabb2bc7f0>,\n",
       "  <matplotlib.axis.XTick at 0x2eabb2bca90>],\n",
       " <a list of 17 Text xticklabel objects>)"
      ]
     },
     "execution_count": 12,
     "metadata": {},
     "output_type": "execute_result"
    },
    {
     "data": {
      "image/png": "[encoded data removed]",
      "text/plain": [
       "<Figure size 432x288 with 1 Axes>"
      ]
     },
     "metadata": {},
     "output_type": "display_data"
    }
   ],
   "source": [
    "x = range(len(y))\n",
    "x2 = data_dic.keys()\n",
    "\n",
    "plt.plot(y)\n",
    "plt.xticks(x, x2)"
   ]
  }
 ],
 "metadata": {
  "kernelspec": {
   "display_name": "Python 3",
   "language": "python",
   "name": "python3"
  },
  "language_info": {
   "codemirror_mode": {
    "name": "ipython",
    "version": 3
   },
   "file_extension": ".py",
   "mimetype": "text/x-python",
   "name": "python",
   "nbconvert_exporter": "python",
   "pygments_lexer": "ipython3",
   "version": "3.6.5"
  }
 },
 "nbformat": 4,
 "nbformat_minor": 2
}
