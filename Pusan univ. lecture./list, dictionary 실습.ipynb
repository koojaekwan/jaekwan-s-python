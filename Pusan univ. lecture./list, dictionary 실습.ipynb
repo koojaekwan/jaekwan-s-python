{
 "cells": [
  {
   "cell_type": "markdown",
   "metadata": {},
   "source": [
    "### 실습"
   ]
  },
  {
   "cell_type": "code",
   "execution_count": 2,
   "metadata": {},
   "outputs": [
    {
     "name": "stdout",
     "output_type": "stream",
     "text": [
      "['삼성전자', '남영비비안', 'sk하이닉스', '후석', '플리토', '메지온', '삼륭물산', '이아이디', '삼성전기', '헬릭스미스']\n",
      "[47450, 9170, 79900, 10400, 37850, 103300, 9330, 422, 97700, 218700]\n"
     ]
    }
   ],
   "source": [
    "stock=['삼성전자', '남영비비안', 'sk하이닉스', '후석', '플리토', '메지온', '삼륭물산', '이아이디', '삼성전기', '헬릭스미스']\n",
    "\n",
    "price=[47450,9170,79900,10400,37850,103300,9330,422,97700,218700]\n",
    "\n",
    "print(stock)\n",
    "print(price)"
   ]
  },
  {
   "cell_type": "code",
   "execution_count": 3,
   "metadata": {},
   "outputs": [
    {
     "name": "stdout",
     "output_type": "stream",
     "text": [
      "최대 현재가 : 218700 ( 헬릭스미스 )\n"
     ]
    }
   ],
   "source": [
    "koo=price.index(max(price))\n",
    "print('최대 현재가 :',max(price),'(', stock[koo], ')')"
   ]
  },
  {
   "cell_type": "code",
   "execution_count": 4,
   "metadata": {},
   "outputs": [
    {
     "name": "stdout",
     "output_type": "stream",
     "text": [
      "플리토의 현재가 :  37850\n"
     ]
    }
   ],
   "source": [
    "#플리토의 위치 찾기\n",
    "idx = stock.index('플리토')\n",
    "print('플리토의 현재가 : ', price[idx])"
   ]
  },
  {
   "cell_type": "markdown",
   "metadata": {},
   "source": [
    "### 딕션너리로 해결"
   ]
  },
  {
   "cell_type": "code",
   "execution_count": 6,
   "metadata": {},
   "outputs": [
    {
     "name": "stdout",
     "output_type": "stream",
     "text": [
      "{'삼성전자': 47450, '남영비비안': 9170, 'sk하이닉스': 79900, '후석': 10400, '플리토': 37850, '메지온': 103300, '삼륭물산': 9330, '이아이디': 422, '삼성전기': 97700, '헬릭스미스': 218700}\n"
     ]
    }
   ],
   "source": [
    "stockprice = dict(zip(stock, price))\n",
    "print(stockprice)"
   ]
  },
  {
   "cell_type": "code",
   "execution_count": 7,
   "metadata": {},
   "outputs": [
    {
     "name": "stdout",
     "output_type": "stream",
     "text": [
      "(218700, '헬릭스미스')\n",
      "최대 현재가 :  218700 ( 헬릭스미스 )\n"
     ]
    }
   ],
   "source": [
    "koo = max(zip(stockprice.values(), stockprice.keys()))\n",
    "print(koo)\n",
    "print('최대 현재가 : ',koo[0], '(',koo[1],')')"
   ]
  },
  {
   "cell_type": "code",
   "execution_count": 8,
   "metadata": {},
   "outputs": [
    {
     "name": "stdout",
     "output_type": "stream",
     "text": [
      "플리토 현재가 : 37850\n"
     ]
    }
   ],
   "source": [
    "print('플리토 현재가 :', stockprice['플리토'])"
   ]
  }
 ],
 "metadata": {
  "kernelspec": {
   "display_name": "Python 3",
   "language": "python",
   "name": "python3"
  },
  "language_info": {
   "codemirror_mode": {
    "name": "ipython",
    "version": 3
   },
   "file_extension": ".py",
   "mimetype": "text/x-python",
   "name": "python",
   "nbconvert_exporter": "python",
   "pygments_lexer": "ipython3",
   "version": "3.6.5"
  }
 },
 "nbformat": 4,
 "nbformat_minor": 2
}
