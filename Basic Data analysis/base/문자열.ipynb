{
 "cells": [
  {
   "cell_type": "markdown",
   "metadata": {},
   "source": [
    "## 문자열"
   ]
  },
  {
   "cell_type": "code",
   "execution_count": 1,
   "metadata": {},
   "outputs": [],
   "source": [
    "str = 'no pain, no gain.'"
   ]
  },
  {
   "cell_type": "code",
   "execution_count": 2,
   "metadata": {},
   "outputs": [
    {
     "name": "stdout",
     "output_type": "stream",
     "text": [
      "no pain, no gain.\n"
     ]
    }
   ],
   "source": [
    "print(str)"
   ]
  },
  {
   "cell_type": "code",
   "execution_count": 6,
   "metadata": {},
   "outputs": [
    {
     "name": "stdout",
     "output_type": "stream",
     "text": [
      "no \t pain, \n",
      " no gain.\n"
     ]
    }
   ],
   "source": [
    "str = 'no \\t pain, \\n no gain.'\n",
    "print(str)"
   ]
  },
  {
   "cell_type": "code",
   "execution_count": 39,
   "metadata": {},
   "outputs": [],
   "source": [
    "str = 'no pain no gain.'"
   ]
  },
  {
   "cell_type": "code",
   "execution_count": 21,
   "metadata": {},
   "outputs": [
    {
     "name": "stdout",
     "output_type": "stream",
     "text": [
      "문자열 길이 :  16\n"
     ]
    }
   ],
   "source": [
    "#문자열길이\n",
    "print(\"문자열 길이 : \",len(str))"
   ]
  },
  {
   "cell_type": "code",
   "execution_count": 22,
   "metadata": {},
   "outputs": [
    {
     "name": "stdout",
     "output_type": "stream",
     "text": [
      "첫번 째 문자 :  n\n",
      "마지막 문자 :  .\n",
      "마지막 문자 :  .\n",
      "마지막 문자 :  .\n"
     ]
    }
   ],
   "source": [
    "#문자열 인덱싱\n",
    "print('첫번 째 문자 : ', str[0])\n",
    "print('마지막 문자 : ', str[len(str)-1])\n",
    "print('마지막 문자 : ', str[15])\n",
    "print('마지막 문자 : ', str[-1])"
   ]
  },
  {
   "cell_type": "code",
   "execution_count": 25,
   "metadata": {},
   "outputs": [
    {
     "name": "stdout",
     "output_type": "stream",
     "text": [
      "문자 :  no pa\n",
      "문자 :  no pa\n",
      "문자 :  o pain no gai\n"
     ]
    }
   ],
   "source": [
    "#문자 슬라이싱\n",
    "print('문자 : ', str[0:5])  #마지막은 들어가지 않음.\n",
    "print('문자 : ', str[:5])   #적지 않으면 처음부터 시작\n",
    "print('문자 : ', str[1:-2])"
   ]
  },
  {
   "cell_type": "code",
   "execution_count": 27,
   "metadata": {},
   "outputs": [
    {
     "name": "stdout",
     "output_type": "stream",
     "text": [
      "a 문자 갯수 :  2\n"
     ]
    }
   ],
   "source": [
    "print('a 문자 갯수 : ', str.count('a'))"
   ]
  },
  {
   "cell_type": "code",
   "execution_count": 28,
   "metadata": {},
   "outputs": [
    {
     "name": "stdout",
     "output_type": "stream",
     "text": [
      "a 문자 갯수 :  2\n"
     ]
    }
   ],
   "source": [
    "print('a 문자 갯수 : ', str.count('ai'))"
   ]
  },
  {
   "cell_type": "code",
   "execution_count": 29,
   "metadata": {},
   "outputs": [
    {
     "name": "stdout",
     "output_type": "stream",
     "text": [
      "a 문자 위치 :  4\n"
     ]
    }
   ],
   "source": [
    "print('a 문자 위치 : ', str.find('a'))  #처음 나타나는 a의 위치를 알려줌."
   ]
  },
  {
   "cell_type": "code",
   "execution_count": 30,
   "metadata": {},
   "outputs": [
    {
     "name": "stdout",
     "output_type": "stream",
     "text": [
      "a 문자 위치 :  4\n"
     ]
    }
   ],
   "source": [
    "print('a 문자 위치 : ', str.index('a'))  #find와 쓰임새는 같다."
   ]
  },
  {
   "cell_type": "code",
   "execution_count": 33,
   "metadata": {},
   "outputs": [
    {
     "name": "stdout",
     "output_type": "stream",
     "text": [
      "a 문자 위치 :  -1\n"
     ]
    },
    {
     "ename": "ValueError",
     "evalue": "substring not found",
     "output_type": "error",
     "traceback": [
      "\u001b[1;31m---------------------------------------------------------------------------\u001b[0m",
      "\u001b[1;31mValueError\u001b[0m                                Traceback (most recent call last)",
      "\u001b[1;32m<ipython-input-33-a6d0b54e6e8c>\u001b[0m in \u001b[0;36m<module>\u001b[1;34m\u001b[0m\n\u001b[0;32m      1\u001b[0m \u001b[0mprint\u001b[0m\u001b[1;33m(\u001b[0m\u001b[1;34m'a 문자 위치 : '\u001b[0m\u001b[1;33m,\u001b[0m \u001b[0mstr\u001b[0m\u001b[1;33m.\u001b[0m\u001b[0mfind\u001b[0m\u001b[1;33m(\u001b[0m\u001b[1;34m'!'\u001b[0m\u001b[1;33m)\u001b[0m\u001b[1;33m)\u001b[0m\u001b[1;33m\u001b[0m\u001b[1;33m\u001b[0m\u001b[0m\n\u001b[1;32m----> 2\u001b[1;33m \u001b[0mprint\u001b[0m\u001b[1;33m(\u001b[0m\u001b[1;34m'a 문자 위치 : '\u001b[0m\u001b[1;33m,\u001b[0m \u001b[0mstr\u001b[0m\u001b[1;33m.\u001b[0m\u001b[0mindex\u001b[0m\u001b[1;33m(\u001b[0m\u001b[1;34m'!'\u001b[0m\u001b[1;33m)\u001b[0m\u001b[1;33m)\u001b[0m\u001b[1;33m\u001b[0m\u001b[1;33m\u001b[0m\u001b[0m\n\u001b[0m",
      "\u001b[1;31mValueError\u001b[0m: substring not found"
     ]
    }
   ],
   "source": [
    "print('a 문자 위치 : ', str.find('!'))  #없는 문자면 -1을 반환\n",
    "print('a 문자 위치 : ', str.index('!')) #없는 문자면 에러발생"
   ]
  },
  {
   "cell_type": "code",
   "execution_count": 36,
   "metadata": {},
   "outputs": [
    {
     "name": "stdout",
     "output_type": "stream",
     "text": [
      "NO PAIN NO GAIN.\n"
     ]
    }
   ],
   "source": [
    "print(str.upper())   #upper 같은 경우 객체에 바로 반영되지 않으므로 넣어준 뒤 다시 프린트 해야함."
   ]
  },
  {
   "cell_type": "code",
   "execution_count": 40,
   "metadata": {},
   "outputs": [
    {
     "name": "stdout",
     "output_type": "stream",
     "text": [
      "no pain no gain.\n",
      "NO PAIN NO GAIN.\n"
     ]
    }
   ],
   "source": [
    "print(str)\n",
    "str = str.upper()\n",
    "print(str)"
   ]
  },
  {
   "cell_type": "code",
   "execution_count": 43,
   "metadata": {},
   "outputs": [
    {
     "name": "stdout",
     "output_type": "stream",
     "text": [
      "NO  : 3\n"
     ]
    }
   ],
   "source": [
    "str1 = str[:3]   #공백까지 3개의 문자가 추출  \n",
    "print(str1,\":\",len(str1))"
   ]
  },
  {
   "cell_type": "code",
   "execution_count": 44,
   "metadata": {},
   "outputs": [
    {
     "name": "stdout",
     "output_type": "stream",
     "text": [
      "NO : 2\n"
     ]
    }
   ],
   "source": [
    "#공백을 자르고 싶을 때 strip 사용\n",
    "str1 = str[:3] \n",
    "str1 = str1.strip()        #rstrip , lstrip은 우 좌 공백만 제거\n",
    "print(str1,\":\",len(str1))"
   ]
  },
  {
   "cell_type": "code",
   "execution_count": 45,
   "metadata": {},
   "outputs": [
    {
     "name": "stdout",
     "output_type": "stream",
     "text": [
      "NO PAIN NO GAIN.\n"
     ]
    }
   ],
   "source": [
    "print(str)"
   ]
  },
  {
   "cell_type": "code",
   "execution_count": 46,
   "metadata": {},
   "outputs": [
    {
     "name": "stdout",
     "output_type": "stream",
     "text": [
      "NO PAIN NO GAIN\n"
     ]
    }
   ],
   "source": [
    "str2=str.strip('.')   #마침표만 제거\n",
    "print(str2)"
   ]
  },
  {
   "cell_type": "code",
   "execution_count": 47,
   "metadata": {},
   "outputs": [
    {
     "name": "stdout",
     "output_type": "stream",
     "text": [
      "NO PAIN NO GAIN\n"
     ]
    }
   ],
   "source": [
    "str3=str.replace('.','')   #마침표를 공백으로 대체\n",
    "print(str3)"
   ]
  },
  {
   "cell_type": "code",
   "execution_count": 48,
   "metadata": {},
   "outputs": [
    {
     "name": "stdout",
     "output_type": "stream",
     "text": [
      "N!O! !P!A!I!N! !N!O! !G!A!I!N\n"
     ]
    }
   ],
   "source": [
    "str4 = '!'.join(str2)\n",
    "print(str4)"
   ]
  },
  {
   "cell_type": "code",
   "execution_count": 50,
   "metadata": {},
   "outputs": [
    {
     "name": "stdout",
     "output_type": "stream",
     "text": [
      "N-O- -P-A-I-N- -N-O- -G-A-I-N\n"
     ]
    }
   ],
   "source": [
    "str4 = str4.replace('!','-')\n",
    "print(str4)"
   ]
  },
  {
   "cell_type": "code",
   "execution_count": 51,
   "metadata": {},
   "outputs": [
    {
     "name": "stdout",
     "output_type": "stream",
     "text": [
      "N-O--P-A-I-N--N-O--G-A-I-N\n"
     ]
    }
   ],
   "source": [
    "str4 = str4.replace(' ','')\n",
    "print(str4)"
   ]
  },
  {
   "cell_type": "code",
   "execution_count": 61,
   "metadata": {},
   "outputs": [
    {
     "name": "stdout",
     "output_type": "stream",
     "text": [
      "찾고자 하는 단어를 입력하세요.대한민국\n",
      "대한민국 은(는) 2 번 사용되었습니다.\n"
     ]
    }
   ],
   "source": [
    "str5 ='국민 여러분의 위대한 선택에 머리 숙여 깊이 감사드립니다. 저는 오늘 대한민국 제19대 대통령으로서 새로운 대한민국을 향해 첫걸음을 내딛습니다. 지금 제 두 어깨 는 국민 여러분으로부터 부여받은 막중한 소명감으로 무겁습니다. 지금 제 가슴은 한번도 경험하지 못한 나라를 만들겠다는 열정으로 뜨겁습니다. 그리고 지금 제 머리는 통합과 공존의 새로운 세상을 열어갈 청사진으로 가득 차 있습니다.'\n",
    "\n",
    "w = input('찾고자 하는 단어를 입력하세요.')\n",
    "print(w, '은(는)', str5.count(w), '번 사용되었습니다.')"
   ]
  },
  {
   "cell_type": "code",
   "execution_count": null,
   "metadata": {},
   "outputs": [],
   "source": []
  }
 ],
 "metadata": {
  "kernelspec": {
   "display_name": "Python 3",
   "language": "python",
   "name": "python3"
  },
  "language_info": {
   "codemirror_mode": {
    "name": "ipython",
    "version": 3
   },
   "file_extension": ".py",
   "mimetype": "text/x-python",
   "name": "python",
   "nbconvert_exporter": "python",
   "pygments_lexer": "ipython3",
   "version": "3.6.5"
  }
 },
 "nbformat": 4,
 "nbformat_minor": 2
}
